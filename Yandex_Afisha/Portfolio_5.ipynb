{
 "cells": [
  {
   "cell_type": "markdown",
   "metadata": {
    "id": "LMuaGIE3lGcr"
   },
   "source": [
    "# Исследовательский анализ данных сервиса Яндекс Афиша и проверка гипотез\n",
    "- Автор: Захаров А.С.\n",
    "- Дата: 07.05.2025"
   ]
  },
  {
   "cell_type": "markdown",
   "metadata": {},
   "source": [
    "## Цели и задачи проекта\n",
    "\n",
    "<font color='#777778'>Цель проекта, провести исследовательский анализ данных в Python, чтобы выявить инсайты об изменении пользовательских предпочтений и популярности событий осенью 2024 года, а также проверить гипотезы о разнице в поведении пользователей с мобильными и стационарными устройствами.</font>"
   ]
  },
  {
   "cell_type": "markdown",
   "metadata": {},
   "source": [
    "## Описание данных\n",
    "\n",
    "<font color='#777778'>Данные содержат информацию о бронировании билетов на сервисе Яндекс Афиша за период с 1 июня по 30 октября 2024 года. \n",
    "Данные представлены тремя датасетами: final_tickets_orders_df.csv, final_tickets_events_df.csv и final_tickets_tenge_df.csv.\n",
    "    \n",
    "final_tickets_orders_df.csv включает информацию обо всех заказах билетов, совершённых с двух типов устройств — мобильных и стационарных. \n",
    "\n",
    "Датасет содержит такие поля:    \n",
    "- order_id — уникальный идентификатор заказа.\n",
    "- user_id — уникальный идентификатор пользователя.\n",
    "- created_dt_msk — дата создания заказа (московское время).\n",
    "- created_ts_msk — дата и время создания заказа (московское время).\n",
    "- event_id — идентификатор мероприятия из таблицы events.\n",
    "- cinema_circuit — сеть кинотеатров. Если не применимо, то здесь будет значение 'нет'.\n",
    "- age_limit — возрастное ограничение мероприятия.\n",
    "- currency_code — валюта оплаты, например rub для российских рублей.\n",
    "- device_type_canonical — тип устройства, с которого был оформлен заказ, например mobile для мобильных устройств, desktop для стационарных.\n",
    "- revenue — выручка от заказа.\n",
    "- service_name — название билетного оператора.\n",
    "- tickets_count — количество купленных билетов.\n",
    "- total — общая сумма заказа.\n",
    "- days_since_prev - количество дней с предыдущей покупки для каждого пользователя. Если покупки не было, то данные содержат пропуск. \n",
    "\n",
    "final_tickets_events_df.csv содержит информацию о событиях, включая город и регион события, а также информацию о площадке проведения мероприятия.\n",
    "    \n",
    "Датасет содержит такие поля:\n",
    "- event_id — уникальный идентификатор мероприятия.\n",
    "- event_name — название мероприятия. Аналог поля event_name_code из исходной базы данных.\n",
    "- event_type_description — описание типа мероприятия.\n",
    "- event_type_main — основной тип мероприятия: театральная постановка, концерт и так далее.\n",
    "- organizers — организаторы мероприятия.\n",
    "- region_name — название региона.\n",
    "- city_name — название города.\n",
    "- venue_id — уникальный идентификатор площадки.\n",
    "- venue_name — название площадки.\n",
    "- venue_address — адрес площадки.\n",
    "    \n",
    "final_tickets_tenge_df.csv с информацией о курсе тенге к российскому рублю за 2024 год. Значения в рублях представлено для 100 тенге. \n",
    "    \n",
    "Датасет содержит такие поля:\n",
    "- nominal — номинал (100 тенге).\n",
    "- data — дата.\n",
    "- curs — курс тенге к рублю.\n",
    "- cdx — обозначение валюты (kzt).\n",
    "</font>"
   ]
  },
  {
   "cell_type": "markdown",
   "metadata": {},
   "source": [
    "## Содержимое проекта\n",
    "\n",
    "<font color='#777778'>Основные шаги проекта:\n",
    "1. Загрузка данных и знакомство с ними.\n",
    "2. Предобработка данных и подготовка их к исследованию.\n",
    "- 2.1 Проверка данных на пропуски.\n",
    "- 2.2 Изучение значений в ключевых столбцах.\n",
    "- 2.3 Проверка на явные и неявные дубликаты.\n",
    "- 2.4 Проверка соответствия типов данных.\n",
    "- 2.5 Создание дополнительных столбцов.\n",
    "3. Исследовательский анализ данных.\n",
    "- 3.1 Анализ распределения заказов по сегментам и их сезонные изменения.\n",
    "- 3.2 Осенняя активность пользователей.\n",
    "- 3.3 Популярные события и партнёры.\n",
    "4. Статистический анализ данных.\n",
    "5. Общий вывод и рекомендации\n",
    "</font>\n",
    "---"
   ]
  },
  {
   "cell_type": "markdown",
   "metadata": {},
   "source": [
    "## 1. Загрузка данных и знакомство с ними"
   ]
  },
  {
   "cell_type": "code",
   "execution_count": 1,
   "metadata": {},
   "outputs": [],
   "source": [
    "#Импорт библиотек\n",
    "import pandas as pd\n",
    "import matplotlib.pyplot as plt\n",
    "import seaborn as sns\n",
    "import numpy as np\n",
    "import scipy.stats as stats"
   ]
  },
  {
   "cell_type": "code",
   "execution_count": 2,
   "metadata": {},
   "outputs": [],
   "source": [
    "#Загрузка данных\n",
    "orders = pd.read_csv('https://code.s3.yandex.net/datasets/final_tickets_orders_df.csv')\n",
    "events = pd.read_csv('https://code.s3.yandex.net/datasets/final_tickets_events_df.csv')\n",
    "tenge = pd.read_csv('https://code.s3.yandex.net/datasets/final_tickets_tenge_df.csv')"
   ]
  },
  {
   "cell_type": "code",
   "execution_count": 3,
   "metadata": {
    "scrolled": true
   },
   "outputs": [
    {
     "data": {
      "text/html": [
       "<div>\n",
       "<style scoped>\n",
       "    .dataframe tbody tr th:only-of-type {\n",
       "        vertical-align: middle;\n",
       "    }\n",
       "\n",
       "    .dataframe tbody tr th {\n",
       "        vertical-align: top;\n",
       "    }\n",
       "\n",
       "    .dataframe thead th {\n",
       "        text-align: right;\n",
       "    }\n",
       "</style>\n",
       "<table border=\"1\" class=\"dataframe\">\n",
       "  <thead>\n",
       "    <tr style=\"text-align: right;\">\n",
       "      <th></th>\n",
       "      <th>order_id</th>\n",
       "      <th>user_id</th>\n",
       "      <th>created_dt_msk</th>\n",
       "      <th>created_ts_msk</th>\n",
       "      <th>event_id</th>\n",
       "      <th>cinema_circuit</th>\n",
       "      <th>age_limit</th>\n",
       "      <th>currency_code</th>\n",
       "      <th>device_type_canonical</th>\n",
       "      <th>revenue</th>\n",
       "      <th>service_name</th>\n",
       "      <th>tickets_count</th>\n",
       "      <th>total</th>\n",
       "      <th>days_since_prev</th>\n",
       "    </tr>\n",
       "  </thead>\n",
       "  <tbody>\n",
       "    <tr>\n",
       "      <th>0</th>\n",
       "      <td>4359165</td>\n",
       "      <td>0002849b70a3ce2</td>\n",
       "      <td>2024-08-20</td>\n",
       "      <td>2024-08-20 16:08:03</td>\n",
       "      <td>169230</td>\n",
       "      <td>нет</td>\n",
       "      <td>16</td>\n",
       "      <td>rub</td>\n",
       "      <td>mobile</td>\n",
       "      <td>1521.94</td>\n",
       "      <td>Край билетов</td>\n",
       "      <td>4</td>\n",
       "      <td>10870.99</td>\n",
       "      <td>NaN</td>\n",
       "    </tr>\n",
       "    <tr>\n",
       "      <th>1</th>\n",
       "      <td>7965605</td>\n",
       "      <td>0005ca5e93f2cf4</td>\n",
       "      <td>2024-07-23</td>\n",
       "      <td>2024-07-23 18:36:24</td>\n",
       "      <td>237325</td>\n",
       "      <td>нет</td>\n",
       "      <td>0</td>\n",
       "      <td>rub</td>\n",
       "      <td>mobile</td>\n",
       "      <td>289.45</td>\n",
       "      <td>Мой билет</td>\n",
       "      <td>2</td>\n",
       "      <td>2067.51</td>\n",
       "      <td>NaN</td>\n",
       "    </tr>\n",
       "    <tr>\n",
       "      <th>2</th>\n",
       "      <td>7292370</td>\n",
       "      <td>0005ca5e93f2cf4</td>\n",
       "      <td>2024-10-06</td>\n",
       "      <td>2024-10-06 13:56:02</td>\n",
       "      <td>578454</td>\n",
       "      <td>нет</td>\n",
       "      <td>0</td>\n",
       "      <td>rub</td>\n",
       "      <td>mobile</td>\n",
       "      <td>1258.57</td>\n",
       "      <td>За билетом!</td>\n",
       "      <td>4</td>\n",
       "      <td>13984.16</td>\n",
       "      <td>75.0</td>\n",
       "    </tr>\n",
       "    <tr>\n",
       "      <th>3</th>\n",
       "      <td>1139875</td>\n",
       "      <td>000898990054619</td>\n",
       "      <td>2024-07-13</td>\n",
       "      <td>2024-07-13 19:40:48</td>\n",
       "      <td>387271</td>\n",
       "      <td>нет</td>\n",
       "      <td>0</td>\n",
       "      <td>rub</td>\n",
       "      <td>mobile</td>\n",
       "      <td>8.49</td>\n",
       "      <td>Лови билет!</td>\n",
       "      <td>2</td>\n",
       "      <td>212.28</td>\n",
       "      <td>NaN</td>\n",
       "    </tr>\n",
       "    <tr>\n",
       "      <th>4</th>\n",
       "      <td>972400</td>\n",
       "      <td>000898990054619</td>\n",
       "      <td>2024-10-04</td>\n",
       "      <td>2024-10-04 22:33:15</td>\n",
       "      <td>509453</td>\n",
       "      <td>нет</td>\n",
       "      <td>18</td>\n",
       "      <td>rub</td>\n",
       "      <td>mobile</td>\n",
       "      <td>1390.41</td>\n",
       "      <td>Билеты без проблем</td>\n",
       "      <td>3</td>\n",
       "      <td>10695.43</td>\n",
       "      <td>83.0</td>\n",
       "    </tr>\n",
       "    <tr>\n",
       "      <th>5</th>\n",
       "      <td>2613713</td>\n",
       "      <td>000898990054619</td>\n",
       "      <td>2024-10-23</td>\n",
       "      <td>2024-10-23 15:12:00</td>\n",
       "      <td>500862</td>\n",
       "      <td>нет</td>\n",
       "      <td>12</td>\n",
       "      <td>rub</td>\n",
       "      <td>mobile</td>\n",
       "      <td>902.74</td>\n",
       "      <td>Облачко</td>\n",
       "      <td>3</td>\n",
       "      <td>8206.70</td>\n",
       "      <td>19.0</td>\n",
       "    </tr>\n",
       "    <tr>\n",
       "      <th>6</th>\n",
       "      <td>6636941</td>\n",
       "      <td>00096d1f542ab2b</td>\n",
       "      <td>2024-08-15</td>\n",
       "      <td>2024-08-15 16:48:48</td>\n",
       "      <td>201953</td>\n",
       "      <td>нет</td>\n",
       "      <td>16</td>\n",
       "      <td>rub</td>\n",
       "      <td>desktop</td>\n",
       "      <td>917.83</td>\n",
       "      <td>Край билетов</td>\n",
       "      <td>4</td>\n",
       "      <td>9178.26</td>\n",
       "      <td>NaN</td>\n",
       "    </tr>\n",
       "    <tr>\n",
       "      <th>7</th>\n",
       "      <td>4657981</td>\n",
       "      <td>000a55a418c128c</td>\n",
       "      <td>2024-09-29</td>\n",
       "      <td>2024-09-29 19:39:12</td>\n",
       "      <td>265857</td>\n",
       "      <td>нет</td>\n",
       "      <td>12</td>\n",
       "      <td>rub</td>\n",
       "      <td>mobile</td>\n",
       "      <td>47.78</td>\n",
       "      <td>Лучшие билеты</td>\n",
       "      <td>1</td>\n",
       "      <td>955.52</td>\n",
       "      <td>NaN</td>\n",
       "    </tr>\n",
       "    <tr>\n",
       "      <th>8</th>\n",
       "      <td>4657952</td>\n",
       "      <td>000a55a418c128c</td>\n",
       "      <td>2024-10-15</td>\n",
       "      <td>2024-10-15 10:29:04</td>\n",
       "      <td>271579</td>\n",
       "      <td>нет</td>\n",
       "      <td>12</td>\n",
       "      <td>rub</td>\n",
       "      <td>mobile</td>\n",
       "      <td>74.84</td>\n",
       "      <td>Лучшие билеты</td>\n",
       "      <td>2</td>\n",
       "      <td>2494.73</td>\n",
       "      <td>16.0</td>\n",
       "    </tr>\n",
       "    <tr>\n",
       "      <th>9</th>\n",
       "      <td>6818017</td>\n",
       "      <td>000cf0659a9f40f</td>\n",
       "      <td>2024-06-20</td>\n",
       "      <td>2024-06-20 10:35:26</td>\n",
       "      <td>516728</td>\n",
       "      <td>нет</td>\n",
       "      <td>12</td>\n",
       "      <td>rub</td>\n",
       "      <td>mobile</td>\n",
       "      <td>1421.91</td>\n",
       "      <td>Лови билет!</td>\n",
       "      <td>4</td>\n",
       "      <td>17773.87</td>\n",
       "      <td>NaN</td>\n",
       "    </tr>\n",
       "  </tbody>\n",
       "</table>\n",
       "</div>"
      ],
      "text/plain": [
       "   order_id          user_id created_dt_msk       created_ts_msk  event_id  \\\n",
       "0   4359165  0002849b70a3ce2     2024-08-20  2024-08-20 16:08:03    169230   \n",
       "1   7965605  0005ca5e93f2cf4     2024-07-23  2024-07-23 18:36:24    237325   \n",
       "2   7292370  0005ca5e93f2cf4     2024-10-06  2024-10-06 13:56:02    578454   \n",
       "3   1139875  000898990054619     2024-07-13  2024-07-13 19:40:48    387271   \n",
       "4    972400  000898990054619     2024-10-04  2024-10-04 22:33:15    509453   \n",
       "5   2613713  000898990054619     2024-10-23  2024-10-23 15:12:00    500862   \n",
       "6   6636941  00096d1f542ab2b     2024-08-15  2024-08-15 16:48:48    201953   \n",
       "7   4657981  000a55a418c128c     2024-09-29  2024-09-29 19:39:12    265857   \n",
       "8   4657952  000a55a418c128c     2024-10-15  2024-10-15 10:29:04    271579   \n",
       "9   6818017  000cf0659a9f40f     2024-06-20  2024-06-20 10:35:26    516728   \n",
       "\n",
       "  cinema_circuit  age_limit currency_code device_type_canonical  revenue  \\\n",
       "0            нет         16           rub                mobile  1521.94   \n",
       "1            нет          0           rub                mobile   289.45   \n",
       "2            нет          0           rub                mobile  1258.57   \n",
       "3            нет          0           rub                mobile     8.49   \n",
       "4            нет         18           rub                mobile  1390.41   \n",
       "5            нет         12           rub                mobile   902.74   \n",
       "6            нет         16           rub               desktop   917.83   \n",
       "7            нет         12           rub                mobile    47.78   \n",
       "8            нет         12           rub                mobile    74.84   \n",
       "9            нет         12           rub                mobile  1421.91   \n",
       "\n",
       "         service_name  tickets_count     total  days_since_prev  \n",
       "0        Край билетов              4  10870.99              NaN  \n",
       "1           Мой билет              2   2067.51              NaN  \n",
       "2         За билетом!              4  13984.16             75.0  \n",
       "3         Лови билет!              2    212.28              NaN  \n",
       "4  Билеты без проблем              3  10695.43             83.0  \n",
       "5             Облачко              3   8206.70             19.0  \n",
       "6        Край билетов              4   9178.26              NaN  \n",
       "7       Лучшие билеты              1    955.52              NaN  \n",
       "8       Лучшие билеты              2   2494.73             16.0  \n",
       "9         Лови билет!              4  17773.87              NaN  "
      ]
     },
     "metadata": {},
     "output_type": "display_data"
    }
   ],
   "source": [
    "# Просмотр первых строк датафрейма orders \n",
    "display(orders.head(10))"
   ]
  },
  {
   "cell_type": "code",
   "execution_count": 4,
   "metadata": {},
   "outputs": [
    {
     "name": "stdout",
     "output_type": "stream",
     "text": [
      "<class 'pandas.core.frame.DataFrame'>\n",
      "RangeIndex: 290849 entries, 0 to 290848\n",
      "Data columns (total 14 columns):\n",
      " #   Column                 Non-Null Count   Dtype  \n",
      "---  ------                 --------------   -----  \n",
      " 0   order_id               290849 non-null  int64  \n",
      " 1   user_id                290849 non-null  object \n",
      " 2   created_dt_msk         290849 non-null  object \n",
      " 3   created_ts_msk         290849 non-null  object \n",
      " 4   event_id               290849 non-null  int64  \n",
      " 5   cinema_circuit         290849 non-null  object \n",
      " 6   age_limit              290849 non-null  int64  \n",
      " 7   currency_code          290849 non-null  object \n",
      " 8   device_type_canonical  290849 non-null  object \n",
      " 9   revenue                290849 non-null  float64\n",
      " 10  service_name           290849 non-null  object \n",
      " 11  tickets_count          290849 non-null  int64  \n",
      " 12  total                  290849 non-null  float64\n",
      " 13  days_since_prev        268909 non-null  float64\n",
      "dtypes: float64(3), int64(4), object(7)\n",
      "memory usage: 31.1+ MB\n"
     ]
    }
   ],
   "source": [
    "# Вывод информации о датафрейме\n",
    "orders.info()"
   ]
  },
  {
   "cell_type": "markdown",
   "metadata": {},
   "source": [
    "<font color='#777778'>Датасет 'final_tickets_orders_df.csv' содержит 14 столбцов и 290849 строк.\n",
    "\n",
    "- Тип данных `float64`имеют три столбца. Это `revenue`, `total`, `days_since_prev`.\n",
    "    Для всех столбцов, кроме `days_since_prev`, тип `float64` корректен, однако можно уменьшить разрядность до `float32` или `float16`, если значения достаточно малы и это не повлияет на точность.\n",
    "    Для столбца `days_since_prev`, содержащего информацию о количестве дней с предыдущей покупки для каждого пользователя, следует использовать тип `int64`.\n",
    "    \n",
    "- Тип данных `object` имеют семь столбцов: \n",
    "    - `user_id`, `cinema_circuit`, `currency_code`, `device_type_canonical` и `service_name` содержат строковую информацию, что логично для текстовых данных. Здесь тип данных `object` подходит.\n",
    "    - `created_dt_msk`, `created_ts_msk` хранят информацию о дате и времени заказа. Для таких данных рекомендуется использовать тип `datetime64`.\n",
    " \n",
    "- Тип данных `int64`имеют четыре столбца. Это `order_id`, `event_id`, `age_limit` и `tickets_count`.\n",
    "    Для всех столбцов тип `int64` корректен, однако можно уменьшить разрядность, если значения достаточно малы и это не повлияет на точность.\n",
    "    \n",
    "После анализа типов данных видно, что большинстов столбцов корректно представлены. Однако для оптимизации можно использовать числовые значения с уменьшенной разрядностью, преобразовать данные столбцов `created_dt_msk`, `created_ts_msk` в тип `datetime64`. \n",
    "\n",
    "В ходе анализа пропущенных значений были выявлены пропуски в столбце `days_since_prev`."
   ]
  },
  {
   "cell_type": "code",
   "execution_count": 5,
   "metadata": {
    "scrolled": true
   },
   "outputs": [
    {
     "data": {
      "text/html": [
       "<div>\n",
       "<style scoped>\n",
       "    .dataframe tbody tr th:only-of-type {\n",
       "        vertical-align: middle;\n",
       "    }\n",
       "\n",
       "    .dataframe tbody tr th {\n",
       "        vertical-align: top;\n",
       "    }\n",
       "\n",
       "    .dataframe thead th {\n",
       "        text-align: right;\n",
       "    }\n",
       "</style>\n",
       "<table border=\"1\" class=\"dataframe\">\n",
       "  <thead>\n",
       "    <tr style=\"text-align: right;\">\n",
       "      <th></th>\n",
       "      <th>event_id</th>\n",
       "      <th>event_name</th>\n",
       "      <th>event_type_description</th>\n",
       "      <th>event_type_main</th>\n",
       "      <th>organizers</th>\n",
       "      <th>region_name</th>\n",
       "      <th>city_name</th>\n",
       "      <th>city_id</th>\n",
       "      <th>venue_id</th>\n",
       "      <th>venue_name</th>\n",
       "      <th>venue_address</th>\n",
       "    </tr>\n",
       "  </thead>\n",
       "  <tbody>\n",
       "    <tr>\n",
       "      <th>0</th>\n",
       "      <td>4436</td>\n",
       "      <td>e4f26fba-da77-4c61-928a-6c3e434d793f</td>\n",
       "      <td>спектакль</td>\n",
       "      <td>театр</td>\n",
       "      <td>№4893</td>\n",
       "      <td>Североярская область</td>\n",
       "      <td>Озёрск</td>\n",
       "      <td>2</td>\n",
       "      <td>1600</td>\n",
       "      <td>Кладбище искусств \"Проблема\" и партнеры</td>\n",
       "      <td>наб. Загородная, д. 785</td>\n",
       "    </tr>\n",
       "    <tr>\n",
       "      <th>1</th>\n",
       "      <td>5785</td>\n",
       "      <td>5cc08a60-fdea-4186-9bb2-bffc3603fb77</td>\n",
       "      <td>спектакль</td>\n",
       "      <td>театр</td>\n",
       "      <td>№1931</td>\n",
       "      <td>Светополянский округ</td>\n",
       "      <td>Глиноград</td>\n",
       "      <td>54</td>\n",
       "      <td>2196</td>\n",
       "      <td>Лекции по искусству \"Свет\" Групп</td>\n",
       "      <td>ул. Ягодная, д. 942</td>\n",
       "    </tr>\n",
       "    <tr>\n",
       "      <th>2</th>\n",
       "      <td>8817</td>\n",
       "      <td>8e379a89-3a10-4811-ba06-ec22ebebe989</td>\n",
       "      <td>спектакль</td>\n",
       "      <td>театр</td>\n",
       "      <td>№4896</td>\n",
       "      <td>Североярская область</td>\n",
       "      <td>Озёрск</td>\n",
       "      <td>2</td>\n",
       "      <td>4043</td>\n",
       "      <td>Кинокомитет \"Золотая\" Инк</td>\n",
       "      <td>ш. Коммуны, д. 92 стр. 6</td>\n",
       "    </tr>\n",
       "    <tr>\n",
       "      <th>3</th>\n",
       "      <td>8849</td>\n",
       "      <td>682e3129-6a32-4952-9d8a-ef7f60d4c247</td>\n",
       "      <td>спектакль</td>\n",
       "      <td>театр</td>\n",
       "      <td>№4960</td>\n",
       "      <td>Каменевский регион</td>\n",
       "      <td>Глиногорск</td>\n",
       "      <td>213</td>\n",
       "      <td>1987</td>\n",
       "      <td>Выставка ремесел \"Свет\" Лтд</td>\n",
       "      <td>пер. Набережный, д. 35</td>\n",
       "    </tr>\n",
       "    <tr>\n",
       "      <th>4</th>\n",
       "      <td>8850</td>\n",
       "      <td>d6e99176-c77f-4af0-9222-07c571f6c624</td>\n",
       "      <td>спектакль</td>\n",
       "      <td>театр</td>\n",
       "      <td>№4770</td>\n",
       "      <td>Лесодальний край</td>\n",
       "      <td>Родниковец</td>\n",
       "      <td>55</td>\n",
       "      <td>4230</td>\n",
       "      <td>Фестивальный проект \"Листья\" Групп</td>\n",
       "      <td>пер. Проезжий, д. 9</td>\n",
       "    </tr>\n",
       "    <tr>\n",
       "      <th>5</th>\n",
       "      <td>8858</td>\n",
       "      <td>08008ffd-331c-4d77-8aad-c91691f87388</td>\n",
       "      <td>спектакль</td>\n",
       "      <td>театр</td>\n",
       "      <td>№896</td>\n",
       "      <td>Каменевский регион</td>\n",
       "      <td>Глиногорск</td>\n",
       "      <td>213</td>\n",
       "      <td>2148</td>\n",
       "      <td>Лекции по искусству \"Хоровод\" и партнеры</td>\n",
       "      <td>пер. 50 лет Победы, д. 21 к. 90</td>\n",
       "    </tr>\n",
       "    <tr>\n",
       "      <th>6</th>\n",
       "      <td>8863</td>\n",
       "      <td>2dc56536-e5ae-4d3a-9f00-f39c0ebe5b65</td>\n",
       "      <td>спектакль</td>\n",
       "      <td>театр</td>\n",
       "      <td>№3977</td>\n",
       "      <td>Медовская область</td>\n",
       "      <td>Радужсвет</td>\n",
       "      <td>47</td>\n",
       "      <td>2897</td>\n",
       "      <td>Фестиваль уличного искусства \"Начало\" Инкорпор...</td>\n",
       "      <td>алл. Урицкого, д. 4/5 к. 1/3</td>\n",
       "    </tr>\n",
       "    <tr>\n",
       "      <th>7</th>\n",
       "      <td>9041</td>\n",
       "      <td>1ab79186-41a8-420e-b618-dea51afd2c6f</td>\n",
       "      <td>спектакль</td>\n",
       "      <td>театр</td>\n",
       "      <td>№3582</td>\n",
       "      <td>Светополянский округ</td>\n",
       "      <td>Глиноград</td>\n",
       "      <td>54</td>\n",
       "      <td>3922</td>\n",
       "      <td>Творческое агентство \"Симфония\" Лтд</td>\n",
       "      <td>бул. К.Маркса, д. 8/6</td>\n",
       "    </tr>\n",
       "    <tr>\n",
       "      <th>8</th>\n",
       "      <td>9942</td>\n",
       "      <td>474ca8f8-3525-4ac0-9a98-4c1045e2fa6d</td>\n",
       "      <td>спектакль</td>\n",
       "      <td>театр</td>\n",
       "      <td>№1797</td>\n",
       "      <td>Широковская область</td>\n",
       "      <td>Радужнополье</td>\n",
       "      <td>35</td>\n",
       "      <td>3975</td>\n",
       "      <td>Кабинет Искусств \"История\" и партнеры</td>\n",
       "      <td>пр. Гайдара, д. 4 к. 7/1</td>\n",
       "    </tr>\n",
       "    <tr>\n",
       "      <th>9</th>\n",
       "      <td>9992</td>\n",
       "      <td>e36939d8-ef42-4f64-bd72-5a4199dd98f5</td>\n",
       "      <td>спектакль</td>\n",
       "      <td>театр</td>\n",
       "      <td>№1774</td>\n",
       "      <td>Тепляковская область</td>\n",
       "      <td>Горнодолинск</td>\n",
       "      <td>43</td>\n",
       "      <td>3959</td>\n",
       "      <td>Эстетика \"Rhythm\" Инкорпорэйтед</td>\n",
       "      <td>ш. Вахитова, д. 7/8</td>\n",
       "    </tr>\n",
       "  </tbody>\n",
       "</table>\n",
       "</div>"
      ],
      "text/plain": [
       "   event_id                            event_name event_type_description  \\\n",
       "0      4436  e4f26fba-da77-4c61-928a-6c3e434d793f              спектакль   \n",
       "1      5785  5cc08a60-fdea-4186-9bb2-bffc3603fb77              спектакль   \n",
       "2      8817  8e379a89-3a10-4811-ba06-ec22ebebe989              спектакль   \n",
       "3      8849  682e3129-6a32-4952-9d8a-ef7f60d4c247              спектакль   \n",
       "4      8850  d6e99176-c77f-4af0-9222-07c571f6c624              спектакль   \n",
       "5      8858  08008ffd-331c-4d77-8aad-c91691f87388              спектакль   \n",
       "6      8863  2dc56536-e5ae-4d3a-9f00-f39c0ebe5b65              спектакль   \n",
       "7      9041  1ab79186-41a8-420e-b618-dea51afd2c6f              спектакль   \n",
       "8      9942  474ca8f8-3525-4ac0-9a98-4c1045e2fa6d              спектакль   \n",
       "9      9992  e36939d8-ef42-4f64-bd72-5a4199dd98f5              спектакль   \n",
       "\n",
       "  event_type_main organizers           region_name     city_name  city_id  \\\n",
       "0           театр      №4893  Североярская область        Озёрск        2   \n",
       "1           театр      №1931  Светополянский округ     Глиноград       54   \n",
       "2           театр      №4896  Североярская область        Озёрск        2   \n",
       "3           театр      №4960    Каменевский регион    Глиногорск      213   \n",
       "4           театр      №4770      Лесодальний край    Родниковец       55   \n",
       "5           театр       №896    Каменевский регион    Глиногорск      213   \n",
       "6           театр      №3977     Медовская область     Радужсвет       47   \n",
       "7           театр      №3582  Светополянский округ     Глиноград       54   \n",
       "8           театр      №1797   Широковская область  Радужнополье       35   \n",
       "9           театр      №1774  Тепляковская область  Горнодолинск       43   \n",
       "\n",
       "   venue_id                                         venue_name  \\\n",
       "0      1600            Кладбище искусств \"Проблема\" и партнеры   \n",
       "1      2196                   Лекции по искусству \"Свет\" Групп   \n",
       "2      4043                          Кинокомитет \"Золотая\" Инк   \n",
       "3      1987                        Выставка ремесел \"Свет\" Лтд   \n",
       "4      4230                 Фестивальный проект \"Листья\" Групп   \n",
       "5      2148           Лекции по искусству \"Хоровод\" и партнеры   \n",
       "6      2897  Фестиваль уличного искусства \"Начало\" Инкорпор...   \n",
       "7      3922                Творческое агентство \"Симфония\" Лтд   \n",
       "8      3975              Кабинет Искусств \"История\" и партнеры   \n",
       "9      3959                    Эстетика \"Rhythm\" Инкорпорэйтед   \n",
       "\n",
       "                     venue_address  \n",
       "0          наб. Загородная, д. 785  \n",
       "1              ул. Ягодная, д. 942  \n",
       "2         ш. Коммуны, д. 92 стр. 6  \n",
       "3           пер. Набережный, д. 35  \n",
       "4              пер. Проезжий, д. 9  \n",
       "5  пер. 50 лет Победы, д. 21 к. 90  \n",
       "6     алл. Урицкого, д. 4/5 к. 1/3  \n",
       "7            бул. К.Маркса, д. 8/6  \n",
       "8         пр. Гайдара, д. 4 к. 7/1  \n",
       "9              ш. Вахитова, д. 7/8  "
      ]
     },
     "metadata": {},
     "output_type": "display_data"
    }
   ],
   "source": [
    "# Просмотр первых строк датафрейма events\n",
    "display(events.head(10))"
   ]
  },
  {
   "cell_type": "code",
   "execution_count": 6,
   "metadata": {
    "scrolled": false
   },
   "outputs": [
    {
     "name": "stdout",
     "output_type": "stream",
     "text": [
      "<class 'pandas.core.frame.DataFrame'>\n",
      "RangeIndex: 22427 entries, 0 to 22426\n",
      "Data columns (total 11 columns):\n",
      " #   Column                  Non-Null Count  Dtype \n",
      "---  ------                  --------------  ----- \n",
      " 0   event_id                22427 non-null  int64 \n",
      " 1   event_name              22427 non-null  object\n",
      " 2   event_type_description  22427 non-null  object\n",
      " 3   event_type_main         22427 non-null  object\n",
      " 4   organizers              22427 non-null  object\n",
      " 5   region_name             22427 non-null  object\n",
      " 6   city_name               22427 non-null  object\n",
      " 7   city_id                 22427 non-null  int64 \n",
      " 8   venue_id                22427 non-null  int64 \n",
      " 9   venue_name              22427 non-null  object\n",
      " 10  venue_address           22427 non-null  object\n",
      "dtypes: int64(3), object(8)\n",
      "memory usage: 1.9+ MB\n"
     ]
    }
   ],
   "source": [
    "# Вывод информации о датафрейме\n",
    "events.info()"
   ]
  },
  {
   "cell_type": "markdown",
   "metadata": {},
   "source": [
    "<font color='#777778'>\n",
    "    <font color='#777778'>Датасет 'final_tickets_events_df.csv' содержит 11 столбцов и 22427 строк.\n",
    "    \n",
    "- Тип данных `object` имеют восемь столбцов: \n",
    "    - `event_name`, `event_type_description`, `event_type_main`, `organizers`, `region_name`, `city_name`, `venue_name`, `venue_address`содержат строковую информацию, что логично для текстовых данных. Здесь тип данных `object` подходит.\n",
    "        \n",
    "- Тип данных `int64`имеют три столбца. Это `event_id`, `city_id`, `venue_id`.\n",
    "    Для всех столбцов тип `int64` корректен, однако можно уменьшить разрядность, если значения достаточно малы и это не повлияет на точность.\n",
    "    \n",
    "После анализа типов данных видно, что все столбцы корректно представлены. Однако для оптимизации можно использовать числовые значения с уменьшенной разрядностью. \n",
    "\n",
    "В ходе анализа пропущенных значений были выявлены пропусков не обнаружено.\n",
    "В датафрейме  final_tickets_events_df присутствует столбец city_id, отсутствующий в описании. "
   ]
  },
  {
   "cell_type": "code",
   "execution_count": 7,
   "metadata": {
    "scrolled": false
   },
   "outputs": [
    {
     "data": {
      "text/html": [
       "<div>\n",
       "<style scoped>\n",
       "    .dataframe tbody tr th:only-of-type {\n",
       "        vertical-align: middle;\n",
       "    }\n",
       "\n",
       "    .dataframe tbody tr th {\n",
       "        vertical-align: top;\n",
       "    }\n",
       "\n",
       "    .dataframe thead th {\n",
       "        text-align: right;\n",
       "    }\n",
       "</style>\n",
       "<table border=\"1\" class=\"dataframe\">\n",
       "  <thead>\n",
       "    <tr style=\"text-align: right;\">\n",
       "      <th></th>\n",
       "      <th>data</th>\n",
       "      <th>nominal</th>\n",
       "      <th>curs</th>\n",
       "      <th>cdx</th>\n",
       "    </tr>\n",
       "  </thead>\n",
       "  <tbody>\n",
       "    <tr>\n",
       "      <th>0</th>\n",
       "      <td>2024-01-10</td>\n",
       "      <td>100</td>\n",
       "      <td>19.9391</td>\n",
       "      <td>kzt</td>\n",
       "    </tr>\n",
       "    <tr>\n",
       "      <th>1</th>\n",
       "      <td>2024-01-11</td>\n",
       "      <td>100</td>\n",
       "      <td>19.7255</td>\n",
       "      <td>kzt</td>\n",
       "    </tr>\n",
       "    <tr>\n",
       "      <th>2</th>\n",
       "      <td>2024-01-12</td>\n",
       "      <td>100</td>\n",
       "      <td>19.5839</td>\n",
       "      <td>kzt</td>\n",
       "    </tr>\n",
       "    <tr>\n",
       "      <th>3</th>\n",
       "      <td>2024-01-13</td>\n",
       "      <td>100</td>\n",
       "      <td>19.4501</td>\n",
       "      <td>kzt</td>\n",
       "    </tr>\n",
       "    <tr>\n",
       "      <th>4</th>\n",
       "      <td>2024-01-14</td>\n",
       "      <td>100</td>\n",
       "      <td>19.4501</td>\n",
       "      <td>kzt</td>\n",
       "    </tr>\n",
       "    <tr>\n",
       "      <th>5</th>\n",
       "      <td>2024-01-15</td>\n",
       "      <td>100</td>\n",
       "      <td>19.4501</td>\n",
       "      <td>kzt</td>\n",
       "    </tr>\n",
       "    <tr>\n",
       "      <th>6</th>\n",
       "      <td>2024-01-16</td>\n",
       "      <td>100</td>\n",
       "      <td>19.4264</td>\n",
       "      <td>kzt</td>\n",
       "    </tr>\n",
       "    <tr>\n",
       "      <th>7</th>\n",
       "      <td>2024-01-17</td>\n",
       "      <td>100</td>\n",
       "      <td>19.4177</td>\n",
       "      <td>kzt</td>\n",
       "    </tr>\n",
       "    <tr>\n",
       "      <th>8</th>\n",
       "      <td>2024-01-18</td>\n",
       "      <td>100</td>\n",
       "      <td>19.5798</td>\n",
       "      <td>kzt</td>\n",
       "    </tr>\n",
       "    <tr>\n",
       "      <th>9</th>\n",
       "      <td>2024-01-19</td>\n",
       "      <td>100</td>\n",
       "      <td>19.5741</td>\n",
       "      <td>kzt</td>\n",
       "    </tr>\n",
       "  </tbody>\n",
       "</table>\n",
       "</div>"
      ],
      "text/plain": [
       "         data  nominal     curs  cdx\n",
       "0  2024-01-10      100  19.9391  kzt\n",
       "1  2024-01-11      100  19.7255  kzt\n",
       "2  2024-01-12      100  19.5839  kzt\n",
       "3  2024-01-13      100  19.4501  kzt\n",
       "4  2024-01-14      100  19.4501  kzt\n",
       "5  2024-01-15      100  19.4501  kzt\n",
       "6  2024-01-16      100  19.4264  kzt\n",
       "7  2024-01-17      100  19.4177  kzt\n",
       "8  2024-01-18      100  19.5798  kzt\n",
       "9  2024-01-19      100  19.5741  kzt"
      ]
     },
     "metadata": {},
     "output_type": "display_data"
    }
   ],
   "source": [
    "# Просмотр первых строк датафрейма tenge\n",
    "display(tenge.head(10))"
   ]
  },
  {
   "cell_type": "code",
   "execution_count": 8,
   "metadata": {},
   "outputs": [
    {
     "name": "stdout",
     "output_type": "stream",
     "text": [
      "<class 'pandas.core.frame.DataFrame'>\n",
      "RangeIndex: 357 entries, 0 to 356\n",
      "Data columns (total 4 columns):\n",
      " #   Column   Non-Null Count  Dtype  \n",
      "---  ------   --------------  -----  \n",
      " 0   data     357 non-null    object \n",
      " 1   nominal  357 non-null    int64  \n",
      " 2   curs     357 non-null    float64\n",
      " 3   cdx      357 non-null    object \n",
      "dtypes: float64(1), int64(1), object(2)\n",
      "memory usage: 11.3+ KB\n"
     ]
    }
   ],
   "source": [
    "# Вывод информации о датафрейме\n",
    "tenge.info()"
   ]
  },
  {
   "cell_type": "markdown",
   "metadata": {},
   "source": [
    "<font color='#777778'>\n",
    "    <font color='#777778'>Датасет 'final_tickets_tenge_df.csv' содержит 4 столбца и 357 строк.\n",
    "    \n",
    "- Тип данных `object` имеют два столбца: \n",
    "    - `cdx`содержит строковую информацию, что логично для текстовых данных. Здесь тип данных `object` подходит.\n",
    "    - `data`содержит информацию о дате заказа. Для таких данных рекомендуется использовать тип `datetime64`.\n",
    "        \n",
    "- Тип данных `int64`имеет столбец `nominal`.\n",
    "    Тип `int64` корректен, однако можно уменьшить разрядность, если значения достаточно малы и это не повлияет на точность.\n",
    "\n",
    "- Тип данных `float64`имеет столбец `curs`.\n",
    "    Тип `float64` корректен, однако можно уменьшить разрядность, если значения достаточно малы и это не повлияет на точность.\n",
    "        \n",
    "После анализа типов данных видно, что все столбцы корректно представлены. Однако для оптимизации можно использовать числовые значения с уменьшенной разрядностью.\n",
    "        \n",
    "В ходе анализа пропущенных значений были выявлены пропусков не обнаружено."
   ]
  },
  {
   "cell_type": "markdown",
   "metadata": {},
   "source": [
    "<font color='#777778'>\n",
    "    На этапе предобработки данных следует:\n",
    "\n",
    "- Преобразовать данные столбцов `created_dt_msk`, `created_ts_msk` датасета 'final_tickets_orders_df.csv'и столбец `data`датасета `final_tickets_tenge_df.csv` к типу `datetime64`.\n",
    "- Объединить датафреймы для удобства в один датасет.\n",
    "- Оптимизировать разрядность числовых данных.\n"
   ]
  },
  {
   "cell_type": "markdown",
   "metadata": {},
   "source": [
    "## 2. Предобработка данных и подготовка их к исследованию."
   ]
  },
  {
   "cell_type": "markdown",
   "metadata": {},
   "source": [
    "### 2.1 Проверка данных на пропуски."
   ]
  },
  {
   "cell_type": "code",
   "execution_count": 9,
   "metadata": {},
   "outputs": [
    {
     "data": {
      "text/html": [
       "<div>\n",
       "<style scoped>\n",
       "    .dataframe tbody tr th:only-of-type {\n",
       "        vertical-align: middle;\n",
       "    }\n",
       "\n",
       "    .dataframe tbody tr th {\n",
       "        vertical-align: top;\n",
       "    }\n",
       "\n",
       "    .dataframe thead th {\n",
       "        text-align: right;\n",
       "    }\n",
       "</style>\n",
       "<table border=\"1\" class=\"dataframe\">\n",
       "  <thead>\n",
       "    <tr style=\"text-align: right;\">\n",
       "      <th></th>\n",
       "      <th>order_id</th>\n",
       "      <th>user_id</th>\n",
       "      <th>created_dt_msk</th>\n",
       "      <th>created_ts_msk</th>\n",
       "      <th>event_id</th>\n",
       "      <th>cinema_circuit</th>\n",
       "      <th>age_limit</th>\n",
       "      <th>currency_code</th>\n",
       "      <th>device_type_canonical</th>\n",
       "      <th>revenue</th>\n",
       "      <th>...</th>\n",
       "      <th>event_type_main</th>\n",
       "      <th>organizers</th>\n",
       "      <th>region_name</th>\n",
       "      <th>city_name</th>\n",
       "      <th>city_id</th>\n",
       "      <th>venue_id</th>\n",
       "      <th>venue_name</th>\n",
       "      <th>venue_address</th>\n",
       "      <th>curs</th>\n",
       "      <th>cdx</th>\n",
       "    </tr>\n",
       "  </thead>\n",
       "  <tbody>\n",
       "    <tr>\n",
       "      <th>0</th>\n",
       "      <td>4359165</td>\n",
       "      <td>0002849b70a3ce2</td>\n",
       "      <td>2024-08-20</td>\n",
       "      <td>2024-08-20 16:08:03</td>\n",
       "      <td>169230</td>\n",
       "      <td>нет</td>\n",
       "      <td>16</td>\n",
       "      <td>rub</td>\n",
       "      <td>mobile</td>\n",
       "      <td>1521.94</td>\n",
       "      <td>...</td>\n",
       "      <td>театр</td>\n",
       "      <td>№3322</td>\n",
       "      <td>Каменевский регион</td>\n",
       "      <td>Глиногорск</td>\n",
       "      <td>213.0</td>\n",
       "      <td>3972.0</td>\n",
       "      <td>Сценический центр \"Деталь\" Групп</td>\n",
       "      <td>алл. Машиностроителей, д. 19 стр. 6</td>\n",
       "      <td>18.6972</td>\n",
       "      <td>kzt</td>\n",
       "    </tr>\n",
       "    <tr>\n",
       "      <th>1</th>\n",
       "      <td>7965605</td>\n",
       "      <td>0005ca5e93f2cf4</td>\n",
       "      <td>2024-07-23</td>\n",
       "      <td>2024-07-23 18:36:24</td>\n",
       "      <td>237325</td>\n",
       "      <td>нет</td>\n",
       "      <td>0</td>\n",
       "      <td>rub</td>\n",
       "      <td>mobile</td>\n",
       "      <td>289.45</td>\n",
       "      <td>...</td>\n",
       "      <td>выставки</td>\n",
       "      <td>№4850</td>\n",
       "      <td>Каменевский регион</td>\n",
       "      <td>Глиногорск</td>\n",
       "      <td>213.0</td>\n",
       "      <td>2941.0</td>\n",
       "      <td>Музыкальная школа для детей \"Аккаунт\" Лтд</td>\n",
       "      <td>алл. Шмидта, д. 9 стр. 4</td>\n",
       "      <td>18.3419</td>\n",
       "      <td>kzt</td>\n",
       "    </tr>\n",
       "    <tr>\n",
       "      <th>2</th>\n",
       "      <td>7292370</td>\n",
       "      <td>0005ca5e93f2cf4</td>\n",
       "      <td>2024-10-06</td>\n",
       "      <td>2024-10-06 13:56:02</td>\n",
       "      <td>578454</td>\n",
       "      <td>нет</td>\n",
       "      <td>0</td>\n",
       "      <td>rub</td>\n",
       "      <td>mobile</td>\n",
       "      <td>1258.57</td>\n",
       "      <td>...</td>\n",
       "      <td>другое</td>\n",
       "      <td>№1540</td>\n",
       "      <td>Каменевский регион</td>\n",
       "      <td>Глиногорск</td>\n",
       "      <td>213.0</td>\n",
       "      <td>4507.0</td>\n",
       "      <td>Училище искусств \"Нирвана\" Инк</td>\n",
       "      <td>алл. Юбилейная, д. 5/6</td>\n",
       "      <td>19.6475</td>\n",
       "      <td>kzt</td>\n",
       "    </tr>\n",
       "    <tr>\n",
       "      <th>3</th>\n",
       "      <td>1139875</td>\n",
       "      <td>000898990054619</td>\n",
       "      <td>2024-07-13</td>\n",
       "      <td>2024-07-13 19:40:48</td>\n",
       "      <td>387271</td>\n",
       "      <td>нет</td>\n",
       "      <td>0</td>\n",
       "      <td>rub</td>\n",
       "      <td>mobile</td>\n",
       "      <td>8.49</td>\n",
       "      <td>...</td>\n",
       "      <td>другое</td>\n",
       "      <td>№5049</td>\n",
       "      <td>Североярская область</td>\n",
       "      <td>Озёрск</td>\n",
       "      <td>2.0</td>\n",
       "      <td>3574.0</td>\n",
       "      <td>Театр альтернативного искусства \"Ода\" Лимитед</td>\n",
       "      <td>алл. Есенина, д. 243 к. 3/8</td>\n",
       "      <td>18.5010</td>\n",
       "      <td>kzt</td>\n",
       "    </tr>\n",
       "    <tr>\n",
       "      <th>4</th>\n",
       "      <td>972400</td>\n",
       "      <td>000898990054619</td>\n",
       "      <td>2024-10-04</td>\n",
       "      <td>2024-10-04 22:33:15</td>\n",
       "      <td>509453</td>\n",
       "      <td>нет</td>\n",
       "      <td>18</td>\n",
       "      <td>rub</td>\n",
       "      <td>mobile</td>\n",
       "      <td>1390.41</td>\n",
       "      <td>...</td>\n",
       "      <td>стендап</td>\n",
       "      <td>№832</td>\n",
       "      <td>Озернинский край</td>\n",
       "      <td>Родниковецк</td>\n",
       "      <td>240.0</td>\n",
       "      <td>1896.0</td>\n",
       "      <td>Театр кукол \"Огни\" Инкорпорэйтед</td>\n",
       "      <td>ш. Набережное, д. 595 стр. 8</td>\n",
       "      <td>19.6648</td>\n",
       "      <td>kzt</td>\n",
       "    </tr>\n",
       "    <tr>\n",
       "      <th>5</th>\n",
       "      <td>2613713</td>\n",
       "      <td>000898990054619</td>\n",
       "      <td>2024-10-23</td>\n",
       "      <td>2024-10-23 15:12:00</td>\n",
       "      <td>500862</td>\n",
       "      <td>нет</td>\n",
       "      <td>12</td>\n",
       "      <td>rub</td>\n",
       "      <td>mobile</td>\n",
       "      <td>902.74</td>\n",
       "      <td>...</td>\n",
       "      <td>концерты</td>\n",
       "      <td>№1020</td>\n",
       "      <td>Лугоградская область</td>\n",
       "      <td>Кристалевск</td>\n",
       "      <td>193.0</td>\n",
       "      <td>930.0</td>\n",
       "      <td>Школа живописи \"Солнце\" Групп</td>\n",
       "      <td>бул. Отрадный, д. 4 стр. 1</td>\n",
       "      <td>20.0531</td>\n",
       "      <td>kzt</td>\n",
       "    </tr>\n",
       "    <tr>\n",
       "      <th>6</th>\n",
       "      <td>6636941</td>\n",
       "      <td>00096d1f542ab2b</td>\n",
       "      <td>2024-08-15</td>\n",
       "      <td>2024-08-15 16:48:48</td>\n",
       "      <td>201953</td>\n",
       "      <td>нет</td>\n",
       "      <td>16</td>\n",
       "      <td>rub</td>\n",
       "      <td>desktop</td>\n",
       "      <td>917.83</td>\n",
       "      <td>...</td>\n",
       "      <td>театр</td>\n",
       "      <td>№1825</td>\n",
       "      <td>Каменевский регион</td>\n",
       "      <td>Глиногорск</td>\n",
       "      <td>213.0</td>\n",
       "      <td>4035.0</td>\n",
       "      <td>Выставка ремесел \"Платформа\" Групп</td>\n",
       "      <td>алл. Горняцкая, д. 573</td>\n",
       "      <td>18.7730</td>\n",
       "      <td>kzt</td>\n",
       "    </tr>\n",
       "    <tr>\n",
       "      <th>7</th>\n",
       "      <td>4657981</td>\n",
       "      <td>000a55a418c128c</td>\n",
       "      <td>2024-09-29</td>\n",
       "      <td>2024-09-29 19:39:12</td>\n",
       "      <td>265857</td>\n",
       "      <td>нет</td>\n",
       "      <td>12</td>\n",
       "      <td>rub</td>\n",
       "      <td>mobile</td>\n",
       "      <td>47.78</td>\n",
       "      <td>...</td>\n",
       "      <td>театр</td>\n",
       "      <td>№1637</td>\n",
       "      <td>Поленовский край</td>\n",
       "      <td>Дальнозолотск</td>\n",
       "      <td>18.0</td>\n",
       "      <td>3159.0</td>\n",
       "      <td>Клуб начинающих писателей \"Таблицы\" Групп</td>\n",
       "      <td>ул. О.Кошевого, д. 7</td>\n",
       "      <td>19.3741</td>\n",
       "      <td>kzt</td>\n",
       "    </tr>\n",
       "    <tr>\n",
       "      <th>8</th>\n",
       "      <td>4657952</td>\n",
       "      <td>000a55a418c128c</td>\n",
       "      <td>2024-10-15</td>\n",
       "      <td>2024-10-15 10:29:04</td>\n",
       "      <td>271579</td>\n",
       "      <td>нет</td>\n",
       "      <td>12</td>\n",
       "      <td>rub</td>\n",
       "      <td>mobile</td>\n",
       "      <td>74.84</td>\n",
       "      <td>...</td>\n",
       "      <td>театр</td>\n",
       "      <td>№1637</td>\n",
       "      <td>Поленовский край</td>\n",
       "      <td>Дальнозолотск</td>\n",
       "      <td>18.0</td>\n",
       "      <td>3159.0</td>\n",
       "      <td>Клуб начинающих писателей \"Таблицы\" Групп</td>\n",
       "      <td>ул. О.Кошевого, д. 7</td>\n",
       "      <td>19.7185</td>\n",
       "      <td>kzt</td>\n",
       "    </tr>\n",
       "    <tr>\n",
       "      <th>9</th>\n",
       "      <td>6818017</td>\n",
       "      <td>000cf0659a9f40f</td>\n",
       "      <td>2024-06-20</td>\n",
       "      <td>2024-06-20 10:35:26</td>\n",
       "      <td>516728</td>\n",
       "      <td>нет</td>\n",
       "      <td>12</td>\n",
       "      <td>rub</td>\n",
       "      <td>mobile</td>\n",
       "      <td>1421.91</td>\n",
       "      <td>...</td>\n",
       "      <td>концерты</td>\n",
       "      <td>№1756</td>\n",
       "      <td>Широковская область</td>\n",
       "      <td>Радужнополье</td>\n",
       "      <td>35.0</td>\n",
       "      <td>4471.0</td>\n",
       "      <td>Киновидеостудия \"Тон\" и партнеры</td>\n",
       "      <td>ул. Тихая, д. 69 стр. 669</td>\n",
       "      <td>18.0419</td>\n",
       "      <td>kzt</td>\n",
       "    </tr>\n",
       "  </tbody>\n",
       "</table>\n",
       "<p>10 rows × 26 columns</p>\n",
       "</div>"
      ],
      "text/plain": [
       "   order_id          user_id created_dt_msk       created_ts_msk  event_id  \\\n",
       "0   4359165  0002849b70a3ce2     2024-08-20  2024-08-20 16:08:03    169230   \n",
       "1   7965605  0005ca5e93f2cf4     2024-07-23  2024-07-23 18:36:24    237325   \n",
       "2   7292370  0005ca5e93f2cf4     2024-10-06  2024-10-06 13:56:02    578454   \n",
       "3   1139875  000898990054619     2024-07-13  2024-07-13 19:40:48    387271   \n",
       "4    972400  000898990054619     2024-10-04  2024-10-04 22:33:15    509453   \n",
       "5   2613713  000898990054619     2024-10-23  2024-10-23 15:12:00    500862   \n",
       "6   6636941  00096d1f542ab2b     2024-08-15  2024-08-15 16:48:48    201953   \n",
       "7   4657981  000a55a418c128c     2024-09-29  2024-09-29 19:39:12    265857   \n",
       "8   4657952  000a55a418c128c     2024-10-15  2024-10-15 10:29:04    271579   \n",
       "9   6818017  000cf0659a9f40f     2024-06-20  2024-06-20 10:35:26    516728   \n",
       "\n",
       "  cinema_circuit  age_limit currency_code device_type_canonical  revenue  ...  \\\n",
       "0            нет         16           rub                mobile  1521.94  ...   \n",
       "1            нет          0           rub                mobile   289.45  ...   \n",
       "2            нет          0           rub                mobile  1258.57  ...   \n",
       "3            нет          0           rub                mobile     8.49  ...   \n",
       "4            нет         18           rub                mobile  1390.41  ...   \n",
       "5            нет         12           rub                mobile   902.74  ...   \n",
       "6            нет         16           rub               desktop   917.83  ...   \n",
       "7            нет         12           rub                mobile    47.78  ...   \n",
       "8            нет         12           rub                mobile    74.84  ...   \n",
       "9            нет         12           rub                mobile  1421.91  ...   \n",
       "\n",
       "  event_type_main  organizers           region_name      city_name city_id  \\\n",
       "0           театр       №3322    Каменевский регион     Глиногорск   213.0   \n",
       "1        выставки       №4850    Каменевский регион     Глиногорск   213.0   \n",
       "2          другое       №1540    Каменевский регион     Глиногорск   213.0   \n",
       "3          другое       №5049  Североярская область         Озёрск     2.0   \n",
       "4         стендап        №832      Озернинский край    Родниковецк   240.0   \n",
       "5        концерты       №1020  Лугоградская область    Кристалевск   193.0   \n",
       "6           театр       №1825    Каменевский регион     Глиногорск   213.0   \n",
       "7           театр       №1637      Поленовский край  Дальнозолотск    18.0   \n",
       "8           театр       №1637      Поленовский край  Дальнозолотск    18.0   \n",
       "9        концерты       №1756   Широковская область   Радужнополье    35.0   \n",
       "\n",
       "  venue_id                                     venue_name  \\\n",
       "0   3972.0               Сценический центр \"Деталь\" Групп   \n",
       "1   2941.0      Музыкальная школа для детей \"Аккаунт\" Лтд   \n",
       "2   4507.0                 Училище искусств \"Нирвана\" Инк   \n",
       "3   3574.0  Театр альтернативного искусства \"Ода\" Лимитед   \n",
       "4   1896.0               Театр кукол \"Огни\" Инкорпорэйтед   \n",
       "5    930.0                  Школа живописи \"Солнце\" Групп   \n",
       "6   4035.0             Выставка ремесел \"Платформа\" Групп   \n",
       "7   3159.0      Клуб начинающих писателей \"Таблицы\" Групп   \n",
       "8   3159.0      Клуб начинающих писателей \"Таблицы\" Групп   \n",
       "9   4471.0               Киновидеостудия \"Тон\" и партнеры   \n",
       "\n",
       "                         venue_address     curs  cdx  \n",
       "0  алл. Машиностроителей, д. 19 стр. 6  18.6972  kzt  \n",
       "1             алл. Шмидта, д. 9 стр. 4  18.3419  kzt  \n",
       "2               алл. Юбилейная, д. 5/6  19.6475  kzt  \n",
       "3          алл. Есенина, д. 243 к. 3/8  18.5010  kzt  \n",
       "4         ш. Набережное, д. 595 стр. 8  19.6648  kzt  \n",
       "5           бул. Отрадный, д. 4 стр. 1  20.0531  kzt  \n",
       "6               алл. Горняцкая, д. 573  18.7730  kzt  \n",
       "7                 ул. О.Кошевого, д. 7  19.3741  kzt  \n",
       "8                 ул. О.Кошевого, д. 7  19.7185  kzt  \n",
       "9            ул. Тихая, д. 69 стр. 669  18.0419  kzt  \n",
       "\n",
       "[10 rows x 26 columns]"
      ]
     },
     "metadata": {},
     "output_type": "display_data"
    }
   ],
   "source": [
    "# Приведение дат к единому формату\n",
    "orders[\"created_dt_msk\"] = pd.to_datetime(orders[\"created_dt_msk\"])\n",
    "tenge[\"data\"] = pd.to_datetime(tenge[\"data\"])\n",
    "\n",
    "# Объединение orders и events по event_id\n",
    "merged_df = orders.merge(events, on=\"event_id\", how=\"left\")\n",
    "\n",
    "# Объединение с курсом валют по дате заказа\n",
    "merged_df = merged_df.merge(\n",
    "    tenge[[\"data\", \"curs\", \"cdx\"]],\n",
    "    left_on=merged_df[\"created_dt_msk\"].dt.date,\n",
    "    right_on=tenge[\"data\"].dt.date,\n",
    "    how=\"left\"\n",
    ")\n",
    "\n",
    "# Удаление лишних колонок после объединения\n",
    "merged_df.drop(columns=[\"key_0\", \"data\"], inplace=True)\n",
    "\n",
    "# Проверка изменений\n",
    "display(merged_df.head(10))"
   ]
  },
  {
   "cell_type": "code",
   "execution_count": 10,
   "metadata": {
    "scrolled": true
   },
   "outputs": [
    {
     "name": "stdout",
     "output_type": "stream",
     "text": [
      "Пропущенные значения в merged_df:\n",
      "order_id                      0\n",
      "user_id                       0\n",
      "created_dt_msk                0\n",
      "created_ts_msk                0\n",
      "event_id                      0\n",
      "cinema_circuit                0\n",
      "age_limit                     0\n",
      "currency_code                 0\n",
      "device_type_canonical         0\n",
      "revenue                       0\n",
      "service_name                  0\n",
      "tickets_count                 0\n",
      "total                         0\n",
      "days_since_prev           21940\n",
      "event_name                  238\n",
      "event_type_description      238\n",
      "event_type_main             238\n",
      "organizers                  238\n",
      "region_name                 238\n",
      "city_name                   238\n",
      "city_id                     238\n",
      "venue_id                    238\n",
      "venue_name                  238\n",
      "venue_address               238\n",
      "curs                          0\n",
      "cdx                           0\n",
      "dtype: int64\n"
     ]
    }
   ],
   "source": [
    "# Проверка наличия пропущенных значений\n",
    "print(\"Пропущенные значения в merged_df:\")\n",
    "print(merged_df.isnull().sum())"
   ]
  },
  {
   "cell_type": "markdown",
   "metadata": {},
   "source": [
    "<font color='#777778'>В датафрейие merged_df выявлены 238 пропусков, т.к при создании датасета 'final_tickets_orders_df.csv' из данных не исключили фильмы. В  'final_tickets_events_df' эти данные были исключены. Следует исключить пропуски из датафрейие merged_df."
   ]
  },
  {
   "cell_type": "code",
   "execution_count": 11,
   "metadata": {},
   "outputs": [
    {
     "name": "stdout",
     "output_type": "stream",
     "text": [
      "order_id                      0\n",
      "user_id                       0\n",
      "created_dt_msk                0\n",
      "created_ts_msk                0\n",
      "event_id                      0\n",
      "cinema_circuit                0\n",
      "age_limit                     0\n",
      "currency_code                 0\n",
      "device_type_canonical         0\n",
      "revenue                       0\n",
      "service_name                  0\n",
      "tickets_count                 0\n",
      "total                         0\n",
      "days_since_prev           21913\n",
      "event_name                    0\n",
      "event_type_description        0\n",
      "event_type_main               0\n",
      "organizers                    0\n",
      "region_name                   0\n",
      "city_name                     0\n",
      "city_id                       0\n",
      "venue_id                      0\n",
      "venue_name                    0\n",
      "venue_address                 0\n",
      "curs                          0\n",
      "cdx                           0\n",
      "dtype: int64\n"
     ]
    }
   ],
   "source": [
    "# Исключение пропущенных значений за исключением столбца days_since_prev\n",
    "merged_df = merged_df.dropna(subset=[col for col in merged_df.columns if col != \"days_since_prev\"])\n",
    "# Проверка изменений\n",
    "print(merged_df.isna().sum())  "
   ]
  },
  {
   "cell_type": "markdown",
   "metadata": {},
   "source": [
    "### 2.2 Изучение значений в ключевых столбцах."
   ]
  },
  {
   "cell_type": "code",
   "execution_count": 12,
   "metadata": {},
   "outputs": [
    {
     "name": "stdout",
     "output_type": "stream",
     "text": [
      "Уникальные значения в device_type_canonical:\n",
      "['mobile' 'desktop']\n",
      "----------------------------------------\n",
      "Уникальные значения в age_limit:\n",
      "[16  0 18 12  6]\n",
      "----------------------------------------\n",
      "Уникальные значения в currency_code:\n",
      "['rub' 'kzt']\n",
      "----------------------------------------\n",
      "Уникальные значения в event_type_main:\n",
      "['театр' 'выставки' 'другое' 'стендап' 'концерты' 'спорт' 'ёлки']\n",
      "----------------------------------------\n",
      "Уникальные значения в service_name:\n",
      "['Край билетов' 'Мой билет' 'За билетом!' 'Лови билет!'\n",
      " 'Билеты без проблем' 'Облачко' 'Лучшие билеты' 'Прачечная' 'Быстробилет'\n",
      " 'Дом культуры' 'Весь в билетах' 'Билеты в руки' 'Тебе билет!'\n",
      " 'Show_ticket' 'Городской дом культуры' 'Яблоко' 'Билет по телефону'\n",
      " 'Выступления.ру' 'Росбилет' 'Шоу начинается!' 'Мир касс' 'Восьмёрка'\n",
      " 'Телебилет' 'Crazy ticket!' 'Реестр' 'Быстрый кассир' 'КарандашРУ'\n",
      " 'Радио ticket' 'Дырокол' 'Вперёд!' 'Кино билет' 'Цвет и билет' 'Зе Бест!'\n",
      " 'Тех билет' 'Лимоны' 'Билеты в интернете']\n",
      "----------------------------------------\n",
      "Уникальные значения в event_type_description:\n",
      "['спектакль' 'событие' 'цирковое шоу' 'выставка' 'шоу' 'концерт' 'спорт'\n",
      " 'мюзикл' 'фестиваль' 'ёлка' 'балет' 'спортивное мероприятие' 'опера'\n",
      " 'музыкальный спектакль' 'кукольный спектакль' 'оперетта' 'снегурочка'\n",
      " 'рок-мюзикл' 'экскурсия' 'подарок']\n",
      "----------------------------------------\n"
     ]
    }
   ],
   "source": [
    "# Вывод уникальных значений для категориальных данных\n",
    "categorical_columns = [\"device_type_canonical\", \"age_limit\", \"currency_code\", \"event_type_main\", \"service_name\", \"event_type_description\"]\n",
    "for col in categorical_columns:\n",
    "    print(f\"Уникальные значения в {col}:\")\n",
    "    print(merged_df[col].unique())\n",
    "    print(\"-\" * 40)"
   ]
  },
  {
   "cell_type": "markdown",
   "metadata": {},
   "source": [
    "<font color='#777778'>В датафрейие merged_df не встречаются значения, которые могут обозначать пропуски в данных или отсутствие информации."
   ]
  },
  {
   "cell_type": "code",
   "execution_count": 13,
   "metadata": {
    "scrolled": true
   },
   "outputs": [
    {
     "data": {
      "text/html": [
       "<div>\n",
       "<style scoped>\n",
       "    .dataframe tbody tr th:only-of-type {\n",
       "        vertical-align: middle;\n",
       "    }\n",
       "\n",
       "    .dataframe tbody tr th {\n",
       "        vertical-align: top;\n",
       "    }\n",
       "\n",
       "    .dataframe thead th {\n",
       "        text-align: right;\n",
       "    }\n",
       "</style>\n",
       "<table border=\"1\" class=\"dataframe\">\n",
       "  <thead>\n",
       "    <tr style=\"text-align: right;\">\n",
       "      <th></th>\n",
       "      <th>count</th>\n",
       "      <th>mean</th>\n",
       "      <th>std</th>\n",
       "      <th>min</th>\n",
       "      <th>25%</th>\n",
       "      <th>50%</th>\n",
       "      <th>75%</th>\n",
       "      <th>max</th>\n",
       "    </tr>\n",
       "    <tr>\n",
       "      <th>currency_code</th>\n",
       "      <th></th>\n",
       "      <th></th>\n",
       "      <th></th>\n",
       "      <th></th>\n",
       "      <th></th>\n",
       "      <th></th>\n",
       "      <th></th>\n",
       "      <th></th>\n",
       "    </tr>\n",
       "  </thead>\n",
       "  <tbody>\n",
       "    <tr>\n",
       "      <th>kzt</th>\n",
       "      <td>5069.0</td>\n",
       "      <td>2.762872</td>\n",
       "      <td>1.115558</td>\n",
       "      <td>1.0</td>\n",
       "      <td>2.0</td>\n",
       "      <td>3.0</td>\n",
       "      <td>4.0</td>\n",
       "      <td>6.0</td>\n",
       "    </tr>\n",
       "    <tr>\n",
       "      <th>rub</th>\n",
       "      <td>285542.0</td>\n",
       "      <td>2.754159</td>\n",
       "      <td>1.171575</td>\n",
       "      <td>1.0</td>\n",
       "      <td>2.0</td>\n",
       "      <td>3.0</td>\n",
       "      <td>4.0</td>\n",
       "      <td>57.0</td>\n",
       "    </tr>\n",
       "  </tbody>\n",
       "</table>\n",
       "</div>"
      ],
      "text/plain": [
       "                  count      mean       std  min  25%  50%  75%   max\n",
       "currency_code                                                        \n",
       "kzt              5069.0  2.762872  1.115558  1.0  2.0  3.0  4.0   6.0\n",
       "rub            285542.0  2.754159  1.171575  1.0  2.0  3.0  4.0  57.0"
      ]
     },
     "metadata": {},
     "output_type": "display_data"
    }
   ],
   "source": [
    "# Вычисление основных статистик по столбцу tickets_count\n",
    "stat = merged_df.groupby(\"currency_code\")[\"tickets_count\"].describe()\n",
    "display(stat)"
   ]
  },
  {
   "cell_type": "code",
   "execution_count": 14,
   "metadata": {},
   "outputs": [
    {
     "data": {
      "image/png": "[encoded data removed]",
      "text/plain": [
       "<Figure size 720x360 with 1 Axes>"
      ]
     },
     "metadata": {
      "needs_background": "light"
     },
     "output_type": "display_data"
    }
   ],
   "source": [
    "# Диаграммы размаха кол-ва билетов в заказе\n",
    "plt.figure(figsize=(10, 5))\n",
    "sns.boxplot(data=merged_df, x=\"currency_code\", y=\"tickets_count\")\n",
    "plt.title(\"Диаграмма размаха для кол-ва билетов\")\n",
    "plt.show()"
   ]
  },
  {
   "cell_type": "markdown",
   "metadata": {},
   "source": [
    "<font color='#777778'>\n",
    "Анализ выбросов по кол-ву билетов:\n",
    "\n",
    "- Средние значения близки друг к другу (2.76 билета для KZT и 2.75 - для RUB).\n",
    "- Медианное значение для KZT и RUB равно 3,0 билета, что близко к средним значениям, что говорит об отсутствии выбросов в данных.\n",
    "- Стандартное отклонение не слишком велико (1.11 билета для KZT и 1.17 - для RUB), что также говорит об отсутствии выбросов.\n",
    "- Верхние границы (75-й перцентиль) вполне логичны: 4 билета в заказе для большинства случаев.\n",
    "- Максимальное значение для KZT 6.0 билетов, для RUB - 57.0 билетов. Значения превышающие верхний квартиль диаграммы количества заказов скорее всего относятся к корпоративным покупкам и их не стоит относить к выбросам."
   ]
  },
  {
   "cell_type": "code",
   "execution_count": 15,
   "metadata": {},
   "outputs": [
    {
     "data": {
      "text/html": [
       "<div>\n",
       "<style scoped>\n",
       "    .dataframe tbody tr th:only-of-type {\n",
       "        vertical-align: middle;\n",
       "    }\n",
       "\n",
       "    .dataframe tbody tr th {\n",
       "        vertical-align: top;\n",
       "    }\n",
       "\n",
       "    .dataframe thead th {\n",
       "        text-align: right;\n",
       "    }\n",
       "</style>\n",
       "<table border=\"1\" class=\"dataframe\">\n",
       "  <thead>\n",
       "    <tr style=\"text-align: right;\">\n",
       "      <th></th>\n",
       "      <th>count</th>\n",
       "      <th>mean</th>\n",
       "      <th>std</th>\n",
       "      <th>min</th>\n",
       "      <th>25%</th>\n",
       "      <th>50%</th>\n",
       "      <th>75%</th>\n",
       "      <th>max</th>\n",
       "    </tr>\n",
       "    <tr>\n",
       "      <th>currency_code</th>\n",
       "      <th></th>\n",
       "      <th></th>\n",
       "      <th></th>\n",
       "      <th></th>\n",
       "      <th></th>\n",
       "      <th></th>\n",
       "      <th></th>\n",
       "      <th></th>\n",
       "    </tr>\n",
       "  </thead>\n",
       "  <tbody>\n",
       "    <tr>\n",
       "      <th>kzt</th>\n",
       "      <td>5069.0</td>\n",
       "      <td>4995.206767</td>\n",
       "      <td>4916.752776</td>\n",
       "      <td>0.00</td>\n",
       "      <td>518.10</td>\n",
       "      <td>3698.83</td>\n",
       "      <td>7397.66</td>\n",
       "      <td>26425.86</td>\n",
       "    </tr>\n",
       "    <tr>\n",
       "      <th>rub</th>\n",
       "      <td>285542.0</td>\n",
       "      <td>548.013929</td>\n",
       "      <td>871.750181</td>\n",
       "      <td>-90.76</td>\n",
       "      <td>114.17</td>\n",
       "      <td>346.63</td>\n",
       "      <td>793.32</td>\n",
       "      <td>81174.54</td>\n",
       "    </tr>\n",
       "  </tbody>\n",
       "</table>\n",
       "</div>"
      ],
      "text/plain": [
       "                  count         mean          std    min     25%      50%  \\\n",
       "currency_code                                                               \n",
       "kzt              5069.0  4995.206767  4916.752776   0.00  518.10  3698.83   \n",
       "rub            285542.0   548.013929   871.750181 -90.76  114.17   346.63   \n",
       "\n",
       "                   75%       max  \n",
       "currency_code                     \n",
       "kzt            7397.66  26425.86  \n",
       "rub             793.32  81174.54  "
      ]
     },
     "metadata": {},
     "output_type": "display_data"
    }
   ],
   "source": [
    "# Вычисление основных статистик по столбцу revenue\n",
    "stat = merged_df.groupby(\"currency_code\")[\"revenue\"].describe()\n",
    "display(stat)"
   ]
  },
  {
   "cell_type": "code",
   "execution_count": 16,
   "metadata": {},
   "outputs": [
    {
     "data": {
      "image/png": "[encoded data removed]",
      "text/plain": [
       "<Figure size 720x360 with 1 Axes>"
      ]
     },
     "metadata": {
      "needs_background": "light"
     },
     "output_type": "display_data"
    }
   ],
   "source": [
    "# Диаграммы размаха выручки для RUB и KZT\n",
    "plt.figure(figsize=(10, 5))\n",
    "sns.boxplot(data=merged_df, x=\"currency_code\", y=\"revenue\")\n",
    "plt.title(\"Диаграмма размаха для выручки\")\n",
    "plt.show()\n"
   ]
  },
  {
   "cell_type": "markdown",
   "metadata": {},
   "source": [
    "<font color='#777778'>\n",
    "Анализ выбросов по выручке:\n",
    "    \n",
    "- Для KZT:\n",
    "Средняя выручка 4995 тенге, но максимальное значение 26425 тенге, что может быть выбросом.\n",
    "- Для RUB:\n",
    "Средняя выручка 548 рублей, но максимальное значение 81174 рублей — выглядит как явный выброс.\n",
    "- Стандартное отклонение слишком высокие (4995.21 для KZT и 548.01 для RUB), что также указывает на наличие выбросов."
   ]
  },
  {
   "cell_type": "code",
   "execution_count": 17,
   "metadata": {},
   "outputs": [],
   "source": [
    "# Определяем 99-й процентиль для каждой валюты отдельно\n",
    "percentile_99_rub = merged_df[merged_df[\"currency_code\"] == \"rub\"][\"revenue\"].quantile(0.99)\n",
    "percentile_99_kzt = merged_df[merged_df[\"currency_code\"] == \"kzt\"][\"revenue\"].quantile(0.99)\n",
    "\n",
    "# Фильтруем данные раздельно\n",
    "filtered_rub = merged_df[(merged_df[\"currency_code\"] == \"rub\") & (merged_df[\"revenue\"] <= percentile_99_rub)]\n",
    "filtered_kzt = merged_df[(merged_df[\"currency_code\"] == \"kzt\") & (merged_df[\"revenue\"] <= percentile_99_kzt)]\n",
    "\n",
    "# Объединяем обратно\n",
    "filtered_df = pd.concat([filtered_rub, filtered_kzt])"
   ]
  },
  {
   "cell_type": "markdown",
   "metadata": {},
   "source": [
    "### 2.3 Проверка на явные и неявные дубликаты."
   ]
  },
  {
   "cell_type": "code",
   "execution_count": 18,
   "metadata": {},
   "outputs": [
    {
     "name": "stdout",
     "output_type": "stream",
     "text": [
      "Количество явных дубликатов: 0\n"
     ]
    }
   ],
   "source": [
    "# Проверка на явные дубликаты\n",
    "duplicates_count = filtered_df.duplicated().sum()\n",
    "print(f\"Количество явных дубликатов: {duplicates_count}\")"
   ]
  },
  {
   "cell_type": "code",
   "execution_count": 19,
   "metadata": {},
   "outputs": [
    {
     "name": "stdout",
     "output_type": "stream",
     "text": [
      "Найдено возможных неявных дубликатов (без order_id): 58\n"
     ]
    }
   ],
   "source": [
    "# Определение списка столбцов для проверки дубликатов (исключаем order_id)\n",
    "columns_to_check = filtered_df.columns.difference([\"order_id\"])\n",
    "\n",
    "# Поиск повторяющихся записей по всем параметрам, кроме `order_id`\n",
    "duplicate_mask = filtered_df.duplicated(subset=columns_to_check, keep=False)\n",
    "\n",
    "# Отбор строк с возможными дубликатами\n",
    "duplicates_df = filtered_df[duplicate_mask]\n",
    "\n",
    "# Вывод количества найденных дубликатов\n",
    "print(f\"Найдено возможных неявных дубликатов (без order_id): {duplicates_df.shape[0]}\")\n"
   ]
  },
  {
   "cell_type": "markdown",
   "metadata": {},
   "source": [
    "<font color='#777778'>\n",
    "Следует исключить данные неявные дубликаты, т.к вероятность, что один и тот же пользователь оформил заказ в тот же промежуток времени отсутствует. Вероятно, мы имеем дело с дубликатами заказов или ошибками данных."
   ]
  },
  {
   "cell_type": "code",
   "execution_count": 20,
   "metadata": {},
   "outputs": [
    {
     "name": "stdout",
     "output_type": "stream",
     "text": [
      "Размер до удаления дубликатов: 287782\n",
      "Размер после удаления дубликатов: 287752\n"
     ]
    }
   ],
   "source": [
    "# Удаление неявных дублмкатов\n",
    "filtered_df_cleaned = filtered_df.drop_duplicates(subset=columns_to_check, keep=\"first\").copy()\n",
    "\n",
    "# Вывод размера датасета до и после очистки\n",
    "print(f\"Размер до удаления дубликатов: {filtered_df.shape[0]}\")\n",
    "print(f\"Размер после удаления дубликатов: {filtered_df_cleaned.shape[0]}\")"
   ]
  },
  {
   "cell_type": "markdown",
   "metadata": {},
   "source": [
    "### 2.4 Проверка соответствия типов данных."
   ]
  },
  {
   "cell_type": "code",
   "execution_count": 21,
   "metadata": {},
   "outputs": [
    {
     "name": "stdout",
     "output_type": "stream",
     "text": [
      "order_id                           int32\n",
      "user_id                           object\n",
      "created_dt_msk            datetime64[ns]\n",
      "created_ts_msk            datetime64[ns]\n",
      "event_id                           int32\n",
      "cinema_circuit                    object\n",
      "age_limit                           int8\n",
      "currency_code                     object\n",
      "device_type_canonical             object\n",
      "revenue                          float32\n",
      "service_name                      object\n",
      "tickets_count                       int8\n",
      "total                            float32\n",
      "days_since_prev                  float64\n",
      "event_name                        object\n",
      "event_type_description            object\n",
      "event_type_main                   object\n",
      "organizers                        object\n",
      "region_name                       object\n",
      "city_name                         object\n",
      "city_id                          float32\n",
      "venue_id                         float32\n",
      "venue_name                        object\n",
      "venue_address                     object\n",
      "curs                             float32\n",
      "cdx                               object\n",
      "dtype: object\n"
     ]
    }
   ],
   "source": [
    "# Преобразование created_ts_msk в datetime\n",
    "filtered_df_cleaned[\"created_ts_msk\"] = pd.to_datetime(filtered_df_cleaned[\"created_ts_msk\"], errors=\"coerce\")\n",
    "\n",
    "# Понижение разрядности числовых данных\n",
    "numeric_columns = [\"order_id\", \"event_id\", \"age_limit\", \"tickets_count\", \"city_id\", \"venue_id\", \"revenue\", \"total\", \"curs\"]\n",
    "for col in numeric_columns:\n",
    "    filtered_df_cleaned[col] = pd.to_numeric(filtered_df_cleaned[col], downcast=\"integer\") if filtered_df_cleaned[col].dtype == \"int64\" else pd.to_numeric(filtered_df_cleaned[col], downcast=\"float\")\n",
    "\n",
    "# Проверка изменений\n",
    "print(filtered_df_cleaned.dtypes)\n"
   ]
  },
  {
   "cell_type": "markdown",
   "metadata": {},
   "source": [
    "### 2.5 Создание дополнительных столбцов."
   ]
  },
  {
   "cell_type": "code",
   "execution_count": 22,
   "metadata": {},
   "outputs": [],
   "source": [
    "# Создаем новый столбец revenue_rub\n",
    "filtered_df_cleaned[\"revenue_rub\"] = filtered_df_cleaned[\"revenue\"]\n",
    "\n",
    "# Конвертация тенге в рубли\n",
    "filtered_df_cleaned.loc[filtered_df_cleaned[\"currency_code\"] == \"kzt\", \"revenue_rub\"] = (\n",
    "    filtered_df_cleaned[\"revenue\"] / 100\n",
    ") * filtered_df_cleaned[\"curs\"]"
   ]
  },
  {
   "cell_type": "code",
   "execution_count": 23,
   "metadata": {},
   "outputs": [],
   "source": [
    "# Выручка с одного билета\n",
    "filtered_df_cleaned[\"one_ticket_revenue_rub\"] = filtered_df_cleaned[\"revenue_rub\"] / filtered_df_cleaned[\"tickets_count\"]"
   ]
  },
  {
   "cell_type": "code",
   "execution_count": 24,
   "metadata": {},
   "outputs": [],
   "source": [
    "# Выделение месяца из даты оформления заказа\n",
    "filtered_df_cleaned[\"month\"] = filtered_df_cleaned[\"created_dt_msk\"].dt.month"
   ]
  },
  {
   "cell_type": "code",
   "execution_count": 25,
   "metadata": {},
   "outputs": [],
   "source": [
    "# Создание нового столбца season\n",
    "filtered_df_cleaned[\"season\"] = \"\"\n",
    "\n",
    "# Используем цикл для установки значения сезона по месяцу\n",
    "for index, row in filtered_df_cleaned.iterrows():\n",
    "    month = row[\"month\"]\n",
    "    \n",
    "    if month in [12, 1, 2]:\n",
    "        filtered_df_cleaned.at[index, \"season\"] = \"зима\"\n",
    "    elif month in [3, 4, 5]:\n",
    "        filtered_df_cleaned.at[index, \"season\"] = \"весна\"\n",
    "    elif month in [6, 7, 8]:\n",
    "        filtered_df_cleaned.at[index, \"season\"] = \"лето\"\n",
    "    elif month in [9, 10, 11]:\n",
    "        filtered_df_cleaned.at[index, \"season\"] = \"осень\""
   ]
  },
  {
   "cell_type": "code",
   "execution_count": 26,
   "metadata": {},
   "outputs": [
    {
     "data": {
      "text/html": [
       "<div>\n",
       "<style scoped>\n",
       "    .dataframe tbody tr th:only-of-type {\n",
       "        vertical-align: middle;\n",
       "    }\n",
       "\n",
       "    .dataframe tbody tr th {\n",
       "        vertical-align: top;\n",
       "    }\n",
       "\n",
       "    .dataframe thead th {\n",
       "        text-align: right;\n",
       "    }\n",
       "</style>\n",
       "<table border=\"1\" class=\"dataframe\">\n",
       "  <thead>\n",
       "    <tr style=\"text-align: right;\">\n",
       "      <th></th>\n",
       "      <th>order_id</th>\n",
       "      <th>user_id</th>\n",
       "      <th>created_dt_msk</th>\n",
       "      <th>created_ts_msk</th>\n",
       "      <th>event_id</th>\n",
       "      <th>cinema_circuit</th>\n",
       "      <th>age_limit</th>\n",
       "      <th>currency_code</th>\n",
       "      <th>device_type_canonical</th>\n",
       "      <th>revenue</th>\n",
       "      <th>...</th>\n",
       "      <th>city_id</th>\n",
       "      <th>venue_id</th>\n",
       "      <th>venue_name</th>\n",
       "      <th>venue_address</th>\n",
       "      <th>curs</th>\n",
       "      <th>cdx</th>\n",
       "      <th>revenue_rub</th>\n",
       "      <th>one_ticket_revenue_rub</th>\n",
       "      <th>month</th>\n",
       "      <th>season</th>\n",
       "    </tr>\n",
       "  </thead>\n",
       "  <tbody>\n",
       "    <tr>\n",
       "      <th>0</th>\n",
       "      <td>4359165</td>\n",
       "      <td>0002849b70a3ce2</td>\n",
       "      <td>2024-08-20</td>\n",
       "      <td>2024-08-20 16:08:03</td>\n",
       "      <td>169230</td>\n",
       "      <td>нет</td>\n",
       "      <td>16</td>\n",
       "      <td>rub</td>\n",
       "      <td>mobile</td>\n",
       "      <td>1521.939941</td>\n",
       "      <td>...</td>\n",
       "      <td>213.0</td>\n",
       "      <td>3972.0</td>\n",
       "      <td>Сценический центр \"Деталь\" Групп</td>\n",
       "      <td>алл. Машиностроителей, д. 19 стр. 6</td>\n",
       "      <td>18.697201</td>\n",
       "      <td>kzt</td>\n",
       "      <td>1521.939941</td>\n",
       "      <td>380.484985</td>\n",
       "      <td>8</td>\n",
       "      <td>лето</td>\n",
       "    </tr>\n",
       "    <tr>\n",
       "      <th>1</th>\n",
       "      <td>7965605</td>\n",
       "      <td>0005ca5e93f2cf4</td>\n",
       "      <td>2024-07-23</td>\n",
       "      <td>2024-07-23 18:36:24</td>\n",
       "      <td>237325</td>\n",
       "      <td>нет</td>\n",
       "      <td>0</td>\n",
       "      <td>rub</td>\n",
       "      <td>mobile</td>\n",
       "      <td>289.450012</td>\n",
       "      <td>...</td>\n",
       "      <td>213.0</td>\n",
       "      <td>2941.0</td>\n",
       "      <td>Музыкальная школа для детей \"Аккаунт\" Лтд</td>\n",
       "      <td>алл. Шмидта, д. 9 стр. 4</td>\n",
       "      <td>18.341900</td>\n",
       "      <td>kzt</td>\n",
       "      <td>289.450012</td>\n",
       "      <td>144.725006</td>\n",
       "      <td>7</td>\n",
       "      <td>лето</td>\n",
       "    </tr>\n",
       "    <tr>\n",
       "      <th>2</th>\n",
       "      <td>7292370</td>\n",
       "      <td>0005ca5e93f2cf4</td>\n",
       "      <td>2024-10-06</td>\n",
       "      <td>2024-10-06 13:56:02</td>\n",
       "      <td>578454</td>\n",
       "      <td>нет</td>\n",
       "      <td>0</td>\n",
       "      <td>rub</td>\n",
       "      <td>mobile</td>\n",
       "      <td>1258.569946</td>\n",
       "      <td>...</td>\n",
       "      <td>213.0</td>\n",
       "      <td>4507.0</td>\n",
       "      <td>Училище искусств \"Нирвана\" Инк</td>\n",
       "      <td>алл. Юбилейная, д. 5/6</td>\n",
       "      <td>19.647499</td>\n",
       "      <td>kzt</td>\n",
       "      <td>1258.569946</td>\n",
       "      <td>314.642487</td>\n",
       "      <td>10</td>\n",
       "      <td>осень</td>\n",
       "    </tr>\n",
       "    <tr>\n",
       "      <th>3</th>\n",
       "      <td>1139875</td>\n",
       "      <td>000898990054619</td>\n",
       "      <td>2024-07-13</td>\n",
       "      <td>2024-07-13 19:40:48</td>\n",
       "      <td>387271</td>\n",
       "      <td>нет</td>\n",
       "      <td>0</td>\n",
       "      <td>rub</td>\n",
       "      <td>mobile</td>\n",
       "      <td>8.490000</td>\n",
       "      <td>...</td>\n",
       "      <td>2.0</td>\n",
       "      <td>3574.0</td>\n",
       "      <td>Театр альтернативного искусства \"Ода\" Лимитед</td>\n",
       "      <td>алл. Есенина, д. 243 к. 3/8</td>\n",
       "      <td>18.500999</td>\n",
       "      <td>kzt</td>\n",
       "      <td>8.490000</td>\n",
       "      <td>4.245000</td>\n",
       "      <td>7</td>\n",
       "      <td>лето</td>\n",
       "    </tr>\n",
       "    <tr>\n",
       "      <th>4</th>\n",
       "      <td>972400</td>\n",
       "      <td>000898990054619</td>\n",
       "      <td>2024-10-04</td>\n",
       "      <td>2024-10-04 22:33:15</td>\n",
       "      <td>509453</td>\n",
       "      <td>нет</td>\n",
       "      <td>18</td>\n",
       "      <td>rub</td>\n",
       "      <td>mobile</td>\n",
       "      <td>1390.410034</td>\n",
       "      <td>...</td>\n",
       "      <td>240.0</td>\n",
       "      <td>1896.0</td>\n",
       "      <td>Театр кукол \"Огни\" Инкорпорэйтед</td>\n",
       "      <td>ш. Набережное, д. 595 стр. 8</td>\n",
       "      <td>19.664801</td>\n",
       "      <td>kzt</td>\n",
       "      <td>1390.410034</td>\n",
       "      <td>463.470001</td>\n",
       "      <td>10</td>\n",
       "      <td>осень</td>\n",
       "    </tr>\n",
       "  </tbody>\n",
       "</table>\n",
       "<p>5 rows × 30 columns</p>\n",
       "</div>"
      ],
      "text/plain": [
       "   order_id          user_id created_dt_msk      created_ts_msk  event_id  \\\n",
       "0   4359165  0002849b70a3ce2     2024-08-20 2024-08-20 16:08:03    169230   \n",
       "1   7965605  0005ca5e93f2cf4     2024-07-23 2024-07-23 18:36:24    237325   \n",
       "2   7292370  0005ca5e93f2cf4     2024-10-06 2024-10-06 13:56:02    578454   \n",
       "3   1139875  000898990054619     2024-07-13 2024-07-13 19:40:48    387271   \n",
       "4    972400  000898990054619     2024-10-04 2024-10-04 22:33:15    509453   \n",
       "\n",
       "  cinema_circuit  age_limit currency_code device_type_canonical      revenue  \\\n",
       "0            нет         16           rub                mobile  1521.939941   \n",
       "1            нет          0           rub                mobile   289.450012   \n",
       "2            нет          0           rub                mobile  1258.569946   \n",
       "3            нет          0           rub                mobile     8.490000   \n",
       "4            нет         18           rub                mobile  1390.410034   \n",
       "\n",
       "   ... city_id  venue_id                                     venue_name  \\\n",
       "0  ...   213.0    3972.0               Сценический центр \"Деталь\" Групп   \n",
       "1  ...   213.0    2941.0      Музыкальная школа для детей \"Аккаунт\" Лтд   \n",
       "2  ...   213.0    4507.0                 Училище искусств \"Нирвана\" Инк   \n",
       "3  ...     2.0    3574.0  Театр альтернативного искусства \"Ода\" Лимитед   \n",
       "4  ...   240.0    1896.0               Театр кукол \"Огни\" Инкорпорэйтед   \n",
       "\n",
       "                         venue_address       curs  cdx  revenue_rub  \\\n",
       "0  алл. Машиностроителей, д. 19 стр. 6  18.697201  kzt  1521.939941   \n",
       "1             алл. Шмидта, д. 9 стр. 4  18.341900  kzt   289.450012   \n",
       "2               алл. Юбилейная, д. 5/6  19.647499  kzt  1258.569946   \n",
       "3          алл. Есенина, д. 243 к. 3/8  18.500999  kzt     8.490000   \n",
       "4         ш. Набережное, д. 595 стр. 8  19.664801  kzt  1390.410034   \n",
       "\n",
       "  one_ticket_revenue_rub month season  \n",
       "0             380.484985     8   лето  \n",
       "1             144.725006     7   лето  \n",
       "2             314.642487    10  осень  \n",
       "3               4.245000     7   лето  \n",
       "4             463.470001    10  осень  \n",
       "\n",
       "[5 rows x 30 columns]"
      ]
     },
     "metadata": {},
     "output_type": "display_data"
    }
   ],
   "source": [
    "# Проверка изменений\n",
    "display(filtered_df_cleaned.head())"
   ]
  },
  {
   "cell_type": "code",
   "execution_count": 27,
   "metadata": {},
   "outputs": [
    {
     "name": "stdout",
     "output_type": "stream",
     "text": [
      "Исходное количество строк: 290611\n",
      "Количество строк после фильтрации и очистки: 287752\n",
      "Процент удаленных данных: 0.98%\n"
     ]
    }
   ],
   "source": [
    "# Определение кол-ва строк до и после фильтрации \n",
    "print(f\"Исходное количество строк: {merged_df.shape[0]}\")\n",
    "print(f\"Количество строк после фильтрации и очистки: {filtered_df_cleaned.shape[0]}\")\n",
    "# Подсчёт процента удаленных строк\n",
    "deleted_percentage = ((merged_df.shape[0] - filtered_df_cleaned.shape[0]) / merged_df.shape[0]) * 100\n",
    "\n",
    "# Вывод результата\n",
    "print(f\"Процент удаленных данных: {deleted_percentage:.2f}%\")"
   ]
  },
  {
   "cell_type": "markdown",
   "metadata": {},
   "source": [
    "<font color='#777778'> В ходе предобработки данных, было выполнено следующее: \n",
    "    \n",
    "- Очистка пропущенных значений (удаление NaN, кроме days_since_prev). \n",
    "- Удаление явных и неявных дубликатов (по ключевым характеристикам заказа, исключая order_id).\n",
    "- Фильтрация выбросов по revenue (отбор значений ниже 99-го процентиля). \n",
    "- Приведение типов данных (created_ts_msk и created_dt_msk в datetime64[ns], days_since_prev в Int64, оптимизация разрядности числовых колонок). \n",
    "- Создание новых столбцов:\n",
    " - revenue_rub - перевод выручки в рубли по курсу.\n",
    " - one_ticket_revenue_rub - расчет выручки за один билет.\n",
    " - month - выделение месяца оформления заказа.\n",
    " - season - определение сезона заказа через цикл."
   ]
  },
  {
   "cell_type": "markdown",
   "metadata": {},
   "source": [
    "## 3. Исследовательский анализ данных."
   ]
  },
  {
   "cell_type": "markdown",
   "metadata": {},
   "source": [
    "### 3.1 Анализ распределения заказов по сегментам и их сезонные изменения."
   ]
  },
  {
   "cell_type": "code",
   "execution_count": 28,
   "metadata": {},
   "outputs": [
    {
     "data": {
      "text/plain": [
       "month\n",
       "6     34164\n",
       "7     40407\n",
       "8     44550\n",
       "9     69352\n",
       "10    99279\n",
       "Name: order_id, dtype: int64"
      ]
     },
     "metadata": {},
     "output_type": "display_data"
    },
    {
     "data": {
      "image/png": "[encoded data removed]",
      "text/plain": [
       "<Figure size 720x432 with 1 Axes>"
      ]
     },
     "metadata": {
      "needs_background": "light"
     },
     "output_type": "display_data"
    }
   ],
   "source": [
    "# Группировка данных по месяцам\n",
    "monthly_orders = filtered_df_cleaned.groupby(\"month\")[\"order_id\"].count()\n",
    "# Вывод результатов\n",
    "display(monthly_orders)\n",
    "\n",
    "# Визуализация динамики заказов по месяцам\n",
    "plt.figure(figsize=(10, 6))\n",
    "plt.plot(monthly_orders.index, monthly_orders.values, marker=\"o\", linestyle=\"-\", color=\"blue\")\n",
    "plt.xlabel(\"Месяц\")\n",
    "plt.ylabel(\"Количество заказов\")\n",
    "plt.title(\"Динамика заказов по месяцам (2024)\")\n",
    "plt.xticks(range(6, 12))\n",
    "plt.grid(True)\n",
    "plt.show()\n"
   ]
  },
  {
   "cell_type": "markdown",
   "metadata": {},
   "source": [
    "<font color='#777778'> На графике заметен рост более чем в 3 раза кол-ва заказов от июня к ноябрю (32659 заказов в июне и 99891 в октябре)."
   ]
  },
  {
   "cell_type": "code",
   "execution_count": 29,
   "metadata": {},
   "outputs": [
    {
     "data": {
      "image/png": "[encoded data removed]",
      "text/plain": [
       "<Figure size 720x432 with 1 Axes>"
      ]
     },
     "metadata": {
      "needs_background": "light"
     },
     "output_type": "display_data"
    },
    {
     "data": {
      "image/png": "[encoded data removed]",
      "text/plain": [
       "<Figure size 720x432 with 1 Axes>"
      ]
     },
     "metadata": {
      "needs_background": "light"
     },
     "output_type": "display_data"
    },
    {
     "data": {
      "image/png": "[encoded data removed]",
      "text/plain": [
       "<Figure size 720x432 with 1 Axes>"
      ]
     },
     "metadata": {
      "needs_background": "light"
     },
     "output_type": "display_data"
    }
   ],
   "source": [
    "# Определяем лето и осень\n",
    "summer_df = filtered_df_cleaned[filtered_df_cleaned[\"season\"] == \"лето\"]\n",
    "autumn_df = filtered_df_cleaned[filtered_df_cleaned[\"season\"] == \"осень\"]\n",
    "\n",
    "# Категории для анализа\n",
    "categories = [\"event_type_main\", \"device_type_canonical\", \"age_limit\"]\n",
    "\n",
    "# Построение графиков\n",
    "for category in categories:\n",
    "    comp_df = pd.DataFrame({\n",
    "        \"Лето\": summer_df[category].value_counts(normalize=True),\n",
    "        \"Осень\": autumn_df[category].value_counts(normalize=True)\n",
    "    }).fillna(0)\n",
    "    \n",
    "    ax = comp_df.plot(kind=\"bar\", figsize=(10, 6), color=[\"blue\", \"orange\"], width=0.8)\n",
    "    plt.title(f\"Распределение по {category}: Лето vs Осень\")\n",
    "    plt.ylabel(\"Доля заказов\")\n",
    "    plt.xticks(rotation=45)\n",
    "    plt.grid(axis=\"y\", linestyle=\"--\")\n",
    "\n",
    "# Добавление подписей значений\n",
    "    for p in ax.patches:\n",
    "        ax.text(p.get_x() + p.get_width() / 2, p.get_height(), f\"{p.get_height():.2f}\", \n",
    "                ha=\"center\", va=\"bottom\", fontsize=10, color=\"black\")\n",
    "\n",
    "    plt.show()\n"
   ]
  },
  {
   "cell_type": "code",
   "execution_count": 30,
   "metadata": {},
   "outputs": [
    {
     "data": {
      "image/png": "[encoded data removed]",
      "text/plain": [
       "<Figure size 864x432 with 1 Axes>"
      ]
     },
     "metadata": {
      "needs_background": "light"
     },
     "output_type": "display_data"
    }
   ],
   "source": [
    "# Рассчитываем среднюю выручку с одного билета для каждого типа мероприятия\n",
    "summer_avg_price = summer_df.groupby(\"event_type_main\")[\"one_ticket_revenue_rub\"].mean()\n",
    "autumn_avg_price = autumn_df.groupby(\"event_type_main\")[\"one_ticket_revenue_rub\"].mean()\n",
    "\n",
    "# Создаем DataFrame для сравнения\n",
    "avg_price_comparison = pd.DataFrame({\"Лето\": summer_avg_price, \"Осень\": autumn_avg_price})\n",
    "\n",
    "# Рассчитываем относительное изменение\n",
    "avg_price_comparison[\"Изменение (%)\"] = (avg_price_comparison[\"Осень\"] / avg_price_comparison[\"Лето\"] - 1) * 100\n",
    "\n",
    "# Построение графика изменений\n",
    "fig, ax = plt.subplots(figsize=(12, 6))\n",
    "avg_price_comparison[\"Изменение (%)\"].plot(kind=\"bar\", ax=ax, color=\"orange\", width=0.8)\n",
    "ax.set_ylabel(\"Изменение средней выручки (%)\")\n",
    "ax.set_title(\"Изменение средней выручки с билета по типу мероприятия: Осень vs Лето\")\n",
    "plt.xticks(rotation=45)\n",
    "ax.grid(axis=\"y\", linestyle=\"--\")\n",
    "\n",
    "# Добавление подписей значений\n",
    "for p in ax.patches:\n",
    "    ax.text(p.get_x() + p.get_width() / 2, p.get_height(), f\"{p.get_height():.2f}%\", \n",
    "            ha=\"center\", va=\"bottom\", fontsize=10, color=\"black\")\n",
    "\n",
    "plt.show()\n"
   ]
  },
  {
   "cell_type": "markdown",
   "metadata": {},
   "source": [
    "<font color='#777778'> В зависимости от типа мероприятий от лета к осени заметно:\n",
    "- падение доли выставок (с 0,02 до 0,01), другого (с 0,28 до 0,20), концертов (с 0,42 до 0,37), стендапа (с 0,05 до 0,04), \n",
    "- рост доли спорта (с 0,03 до 0,11), театра (с 0,20 до 0,25), ёлок (с 0,00 до 0,01).\n",
    "    \n",
    "Доли мобильных устройств от лета к осени стабильны от 0,81 до 0,80 от общего числа устройств, для десктопных устройств –от 0,19 до 0,20. \n",
    "\n",
    "В зависимости от возрастного ограничения мероприятия от лета к осени заметно:\n",
    "- падение доли для возраста 6 (с 0,19 до 0,18), 16 лет (с 0,28 до 0,26), 18 лет (с 0,15 до 0,10).\n",
    "- рост доли для возраста 0 (с 0,18 до 0,24), 12 лет (с 0,20 до 0,22).\n",
    "\n",
    "В зависимости от типа мероприятий от лета к осени заметно:\n",
    "- рост средней выручки с одного билета для выставок на 5,38%, стендапа на 5,13%, \n",
    "- падение средней выручки с одного билета для другого на 4,53%, спорта на 3,82%, концертов на 7,91%, театра на 17,82%, ёлок на 14,75%."
   ]
  },
  {
   "cell_type": "markdown",
   "metadata": {},
   "source": [
    "### 3.2 Осенняя активность пользователей."
   ]
  },
  {
   "cell_type": "code",
   "execution_count": 31,
   "metadata": {},
   "outputs": [
    {
     "data": {
      "image/png": "[encoded data removed]",
      "text/plain": [
       "<Figure size 864x576 with 4 Axes>"
      ]
     },
     "metadata": {
      "needs_background": "light"
     },
     "output_type": "display_data"
    }
   ],
   "source": [
    "# Фильтруем данные только за осенние месяцы (сентябрь и октябрь)\n",
    "autumn_df = filtered_df_cleaned[filtered_df_cleaned[\"season\"] == \"осень\"]\n",
    "\n",
    "# Группировка данных по дням\n",
    "daily_orders = autumn_df.groupby(\"created_dt_msk\")[\"order_id\"].count()\n",
    "daily_users = autumn_df.groupby(\"created_dt_msk\")[\"user_id\"].nunique()\n",
    "\n",
    "# Создание сводной таблицы\n",
    "daily_stat = pd.DataFrame({\n",
    "    \"total_orders\": daily_orders,\n",
    "    \"dau\": daily_users,\n",
    "    \"avg_orders_per_user\": daily_orders / daily_users,  \n",
    "    \"avg_ticket_price\": autumn_df.groupby(\"created_dt_msk\")[\"one_ticket_revenue_rub\"].mean()\n",
    "}).reset_index()\n",
    "\n",
    "# Определяем метрики и заголовки\n",
    "metrics = [\"total_orders\", \"dau\", \"avg_orders_per_user\", \"avg_ticket_price\"]\n",
    "titles = [\n",
    "    \"Общее число заказов\",\n",
    "    \"Количество активных пользователей (DAU)\",\n",
    "    \"Среднее число заказов на пользователя\",\n",
    "    \"Средняя стоимость одного билета\"\n",
    "]\n",
    "y_labels = [\n",
    "    \"Количество заказов\",\n",
    "    \"Число пользователей\",\n",
    "    \"Заказы на пользователя\",\n",
    "    \"Цена билета (руб.)\"\n",
    "]\n",
    "\n",
    "# Построение графиков\n",
    "plt.figure(figsize=(12, 8))\n",
    "\n",
    "for i, metric in enumerate(metrics):\n",
    "    plt.subplot(2, 2, i + 1)\n",
    "    plt.plot(daily_stat[\"created_dt_msk\"], daily_stat[metric], marker=\"o\", linestyle=\"-\", color=\"blue\")\n",
    "    plt.title(titles[i])\n",
    "    plt.xlabel(\"Дата\")\n",
    "    plt.ylabel(y_labels[i]) \n",
    "    plt.xticks(rotation=45)\n",
    "    plt.grid(True)\n",
    "\n",
    "plt.tight_layout()\n",
    "plt.show()"
   ]
  },
  {
   "cell_type": "code",
   "execution_count": 32,
   "metadata": {
    "scrolled": true
   },
   "outputs": [
    {
     "data": {
      "text/html": [
       "<div>\n",
       "<style scoped>\n",
       "    .dataframe tbody tr th:only-of-type {\n",
       "        vertical-align: middle;\n",
       "    }\n",
       "\n",
       "    .dataframe tbody tr th {\n",
       "        vertical-align: top;\n",
       "    }\n",
       "\n",
       "    .dataframe thead th {\n",
       "        text-align: right;\n",
       "    }\n",
       "</style>\n",
       "<table border=\"1\" class=\"dataframe\">\n",
       "  <thead>\n",
       "    <tr style=\"text-align: right;\">\n",
       "      <th></th>\n",
       "      <th>weekday</th>\n",
       "      <th>total_orders</th>\n",
       "      <th>dau</th>\n",
       "      <th>avg_orders_per_user</th>\n",
       "    </tr>\n",
       "  </thead>\n",
       "  <tbody>\n",
       "    <tr>\n",
       "      <th>0</th>\n",
       "      <td>Понедельник</td>\n",
       "      <td>21515</td>\n",
       "      <td>4446</td>\n",
       "      <td>4.839181</td>\n",
       "    </tr>\n",
       "    <tr>\n",
       "      <th>1</th>\n",
       "      <td>Вторник</td>\n",
       "      <td>31490</td>\n",
       "      <td>4794</td>\n",
       "      <td>6.568627</td>\n",
       "    </tr>\n",
       "    <tr>\n",
       "      <th>2</th>\n",
       "      <td>Среда</td>\n",
       "      <td>22891</td>\n",
       "      <td>4815</td>\n",
       "      <td>4.754102</td>\n",
       "    </tr>\n",
       "    <tr>\n",
       "      <th>3</th>\n",
       "      <td>Четверг</td>\n",
       "      <td>27167</td>\n",
       "      <td>4970</td>\n",
       "      <td>5.466197</td>\n",
       "    </tr>\n",
       "    <tr>\n",
       "      <th>4</th>\n",
       "      <td>Пятница</td>\n",
       "      <td>24835</td>\n",
       "      <td>4870</td>\n",
       "      <td>5.099589</td>\n",
       "    </tr>\n",
       "    <tr>\n",
       "      <th>5</th>\n",
       "      <td>Суббота</td>\n",
       "      <td>21342</td>\n",
       "      <td>4574</td>\n",
       "      <td>4.665938</td>\n",
       "    </tr>\n",
       "    <tr>\n",
       "      <th>6</th>\n",
       "      <td>Воскресенье</td>\n",
       "      <td>19391</td>\n",
       "      <td>4395</td>\n",
       "      <td>4.412059</td>\n",
       "    </tr>\n",
       "  </tbody>\n",
       "</table>\n",
       "</div>"
      ],
      "text/plain": [
       "       weekday  total_orders   dau  avg_orders_per_user\n",
       "0  Понедельник         21515  4446             4.839181\n",
       "1      Вторник         31490  4794             6.568627\n",
       "2        Среда         22891  4815             4.754102\n",
       "3      Четверг         27167  4970             5.466197\n",
       "4      Пятница         24835  4870             5.099589\n",
       "5      Суббота         21342  4574             4.665938\n",
       "6  Воскресенье         19391  4395             4.412059"
      ]
     },
     "metadata": {},
     "output_type": "display_data"
    }
   ],
   "source": [
    "# Делаем копию данных, чтобы избежать предупреждения\n",
    "autumn_df = filtered_df_cleaned[filtered_df_cleaned[\"season\"] == \"осень\"].copy()\n",
    "\n",
    "# Добавляем числовой день недели\n",
    "autumn_df[\"weekday\"] = pd.to_datetime(autumn_df[\"created_dt_msk\"]).dt.weekday\n",
    "\n",
    "# Группировка данных по дням недели\n",
    "daily_orders = autumn_df.groupby(\"weekday\")[\"order_id\"].count()\n",
    "daily_users = autumn_df.groupby(\"weekday\")[\"user_id\"].nunique()\n",
    "\n",
    "# Создание таблицы\n",
    "weekly_stats = pd.DataFrame({\n",
    "    \"weekday\": daily_orders.index,  \n",
    "    \"total_orders\": daily_orders.values,\n",
    "    \"dau\": daily_users.values,\n",
    "    \"avg_orders_per_user\": daily_orders.values / daily_users.values \n",
    "}).reset_index(drop=True)\n",
    "\n",
    "# Замена числа на названия дней недели\n",
    "weekly_stats[\"weekday\"] = weekly_stats[\"weekday\"].replace({\n",
    "    0: \"Понедельник\", 1: \"Вторник\", 2: \"Среда\", 3: \"Четверг\", \n",
    "    4: \"Пятница\", 5: \"Суббота\", 6: \"Воскресенье\"\n",
    "})\n",
    "\n",
    "# Вывод изменений\n",
    "display(weekly_stats)"
   ]
  },
  {
   "cell_type": "code",
   "execution_count": 33,
   "metadata": {},
   "outputs": [
    {
     "data": {
      "image/png": "[encoded data removed]",
      "text/plain": [
       "<Figure size 720x360 with 1 Axes>"
      ]
     },
     "metadata": {
      "needs_background": "light"
     },
     "output_type": "display_data"
    }
   ],
   "source": [
    "# Визуализация активности по дням недели\n",
    "plt.figure(figsize=(10, 5))\n",
    "plt.bar(weekly_stats[\"weekday\"], weekly_stats[\"total_orders\"], color=\"blue\")\n",
    "plt.xlabel(\"День недели (0-Пн, 6-Вс)\")\n",
    "plt.ylabel(\"Число заказов\")\n",
    "plt.title(\"Общее количество заказов по дням недели\")\n",
    "plt.xticks(range(7), labels=[\"Пн\", \"Вт\", \"Ср\", \"Чт\", \"Пт\", \"Сб\", \"Вс\"])\n",
    "plt.grid(axis=\"y\", linestyle=\"--\")\n",
    "plt.show()"
   ]
  },
  {
   "cell_type": "markdown",
   "metadata": {},
   "source": [
    "<font color='#777778'> \n",
    "Количество заказов показывает существенные колебания, но явно заметен рост кол-ва заказов и DAU в течение осени. Среднее число заказов на пользователя остается стабильным, но иногда резко возрастает. Средняя стоимость билета снижается в периоды роста заказов.\n",
    "\n",
    "Выявленный тренд:\n",
    "3 сентября резкий скачок заказов (5112), но снижение стоимости билета (80.95 руб.).\n",
    "1 октября резкий скачок заказов (7307), но снижение стоимости билета (96.82 руб.).\n",
    "31 октября снова высокий рост заказов (5982), но снижение средней стоимости билета (152.56 руб.).\n",
    "\n",
    "Периоды высокой активности могут быть связаны с акциями, скидками или массовыми событиями. Снижение цены билетов в моменты роста заказов может говорить о стратегии ценообразования (например, скидки для привлечения большего числа покупателей). \n",
    "    \n",
    "Наибольшее количество заказов приходится на вторник (31490) и четверг (27167). Среднее число активных пользователей (DAU) стабильно в течение недели, но немного выше в будние дни. Среднее число заказов на пользователя максимально во вторник (6.57) и минимально в воскресенье (4.41). Выходные (суббота и воскресенье) показывают снижение активности по всем метрикам.\n",
    "\n",
    "Вторник и четверг могут быть днями повышенного спроса, возможно, из-за скидок или регулярных событий. Выходные показывают снижение заказов, что может говорить о других предпочтениях пользователей в эти дни."
   ]
  },
  {
   "cell_type": "markdown",
   "metadata": {},
   "source": [
    "### 3.3. Популярные события и партнёры"
   ]
  },
  {
   "cell_type": "code",
   "execution_count": 34,
   "metadata": {},
   "outputs": [
    {
     "data": {
      "text/html": [
       "<div>\n",
       "<style scoped>\n",
       "    .dataframe tbody tr th:only-of-type {\n",
       "        vertical-align: middle;\n",
       "    }\n",
       "\n",
       "    .dataframe tbody tr th {\n",
       "        vertical-align: top;\n",
       "    }\n",
       "\n",
       "    .dataframe thead th {\n",
       "        text-align: right;\n",
       "    }\n",
       "</style>\n",
       "<table border=\"1\" class=\"dataframe\">\n",
       "  <thead>\n",
       "    <tr style=\"text-align: right;\">\n",
       "      <th></th>\n",
       "      <th>region_name</th>\n",
       "      <th>unique_events</th>\n",
       "      <th>total_orders</th>\n",
       "      <th>events_share</th>\n",
       "      <th>order_share</th>\n",
       "    </tr>\n",
       "  </thead>\n",
       "  <tbody>\n",
       "    <tr>\n",
       "      <th>23</th>\n",
       "      <td>Каменевский регион</td>\n",
       "      <td>3910</td>\n",
       "      <td>46684</td>\n",
       "      <td>0.246284</td>\n",
       "      <td>0.276841</td>\n",
       "    </tr>\n",
       "    <tr>\n",
       "      <th>59</th>\n",
       "      <td>Североярская область</td>\n",
       "      <td>2613</td>\n",
       "      <td>20718</td>\n",
       "      <td>0.164588</td>\n",
       "      <td>0.122860</td>\n",
       "    </tr>\n",
       "    <tr>\n",
       "      <th>41</th>\n",
       "      <td>Медовская область</td>\n",
       "      <td>369</td>\n",
       "      <td>12044</td>\n",
       "      <td>0.023243</td>\n",
       "      <td>0.071422</td>\n",
       "    </tr>\n",
       "    <tr>\n",
       "      <th>75</th>\n",
       "      <td>Широковская область</td>\n",
       "      <td>803</td>\n",
       "      <td>8715</td>\n",
       "      <td>0.050579</td>\n",
       "      <td>0.051681</td>\n",
       "    </tr>\n",
       "    <tr>\n",
       "      <th>44</th>\n",
       "      <td>Озернинский край</td>\n",
       "      <td>296</td>\n",
       "      <td>7526</td>\n",
       "      <td>0.018644</td>\n",
       "      <td>0.044630</td>\n",
       "    </tr>\n",
       "    <tr>\n",
       "      <th>...</th>\n",
       "      <td>...</td>\n",
       "      <td>...</td>\n",
       "      <td>...</td>\n",
       "      <td>...</td>\n",
       "      <td>...</td>\n",
       "    </tr>\n",
       "    <tr>\n",
       "      <th>47</th>\n",
       "      <td>Островогорский округ</td>\n",
       "      <td>4</td>\n",
       "      <td>18</td>\n",
       "      <td>0.000252</td>\n",
       "      <td>0.000107</td>\n",
       "    </tr>\n",
       "    <tr>\n",
       "      <th>78</th>\n",
       "      <td>Яснопольский округ</td>\n",
       "      <td>5</td>\n",
       "      <td>18</td>\n",
       "      <td>0.000315</td>\n",
       "      <td>0.000107</td>\n",
       "    </tr>\n",
       "    <tr>\n",
       "      <th>32</th>\n",
       "      <td>Крутоводский регион</td>\n",
       "      <td>5</td>\n",
       "      <td>14</td>\n",
       "      <td>0.000315</td>\n",
       "      <td>0.000083</td>\n",
       "    </tr>\n",
       "    <tr>\n",
       "      <th>5</th>\n",
       "      <td>Верхозёрский край</td>\n",
       "      <td>2</td>\n",
       "      <td>11</td>\n",
       "      <td>0.000126</td>\n",
       "      <td>0.000065</td>\n",
       "    </tr>\n",
       "    <tr>\n",
       "      <th>65</th>\n",
       "      <td>Сосноводолинская область</td>\n",
       "      <td>1</td>\n",
       "      <td>9</td>\n",
       "      <td>0.000063</td>\n",
       "      <td>0.000053</td>\n",
       "    </tr>\n",
       "  </tbody>\n",
       "</table>\n",
       "<p>79 rows × 5 columns</p>\n",
       "</div>"
      ],
      "text/plain": [
       "                 region_name  unique_events  total_orders  events_share  \\\n",
       "23        Каменевский регион           3910         46684      0.246284   \n",
       "59      Североярская область           2613         20718      0.164588   \n",
       "41         Медовская область            369         12044      0.023243   \n",
       "75       Широковская область            803          8715      0.050579   \n",
       "44          Озернинский край            296          7526      0.018644   \n",
       "..                       ...            ...           ...           ...   \n",
       "47      Островогорский округ              4            18      0.000252   \n",
       "78        Яснопольский округ              5            18      0.000315   \n",
       "32       Крутоводский регион              5            14      0.000315   \n",
       "5          Верхозёрский край              2            11      0.000126   \n",
       "65  Сосноводолинская область              1             9      0.000063   \n",
       "\n",
       "    order_share  \n",
       "23     0.276841  \n",
       "59     0.122860  \n",
       "41     0.071422  \n",
       "75     0.051681  \n",
       "44     0.044630  \n",
       "..          ...  \n",
       "47     0.000107  \n",
       "78     0.000107  \n",
       "32     0.000083  \n",
       "5      0.000065  \n",
       "65     0.000053  \n",
       "\n",
       "[79 rows x 5 columns]"
      ]
     },
     "metadata": {},
     "output_type": "display_data"
    }
   ],
   "source": [
    "# Группировка данных по регионам\n",
    "region_stats = autumn_df.groupby(\"region_name\").agg(\n",
    "    unique_events=(\"event_id\", \"nunique\"),  # Количество уникальных мероприятий\n",
    "    total_orders=(\"order_id\", \"count\")  # Общее количество заказов\n",
    ").reset_index()\n",
    "\n",
    "# Добавление расчётов доли для метрик\n",
    "region_stats[\"events_share\"] = region_stats[\"unique_events\"] / region_stats[\"unique_events\"].sum() \n",
    "region_stats[\"order_share\"] = region_stats[\"total_orders\"] / region_stats[\"total_orders\"].sum()  \n",
    "\n",
    "\n",
    "# Сортировка по доле заказов\n",
    "region_stats = region_stats.sort_values(by=\"order_share\", ascending=False)\n",
    "\n",
    "# Вывод изменений\n",
    "display(region_stats)"
   ]
  },
  {
   "cell_type": "code",
   "execution_count": 35,
   "metadata": {
    "scrolled": true
   },
   "outputs": [
    {
     "data": {
      "text/html": [
       "<div>\n",
       "<style scoped>\n",
       "    .dataframe tbody tr th:only-of-type {\n",
       "        vertical-align: middle;\n",
       "    }\n",
       "\n",
       "    .dataframe tbody tr th {\n",
       "        vertical-align: top;\n",
       "    }\n",
       "\n",
       "    .dataframe thead th {\n",
       "        text-align: right;\n",
       "    }\n",
       "</style>\n",
       "<table border=\"1\" class=\"dataframe\">\n",
       "  <thead>\n",
       "    <tr style=\"text-align: right;\">\n",
       "      <th></th>\n",
       "      <th>service_name</th>\n",
       "      <th>unique_events</th>\n",
       "      <th>total_orders</th>\n",
       "      <th>total_revenue</th>\n",
       "      <th>events_share</th>\n",
       "      <th>order_share</th>\n",
       "      <th>revenue_share</th>\n",
       "    </tr>\n",
       "  </thead>\n",
       "  <tbody>\n",
       "    <tr>\n",
       "      <th>3</th>\n",
       "      <td>Билеты без проблем</td>\n",
       "      <td>2847</td>\n",
       "      <td>32405</td>\n",
       "      <td>12172563.0</td>\n",
       "      <td>0.004787</td>\n",
       "      <td>0.192165</td>\n",
       "      <td>0.148643</td>\n",
       "    </tr>\n",
       "    <tr>\n",
       "      <th>21</th>\n",
       "      <td>Лови билет!</td>\n",
       "      <td>3616</td>\n",
       "      <td>25794</td>\n",
       "      <td>10381935.0</td>\n",
       "      <td>0.008755</td>\n",
       "      <td>0.152961</td>\n",
       "      <td>0.126777</td>\n",
       "    </tr>\n",
       "    <tr>\n",
       "      <th>5</th>\n",
       "      <td>Билеты в руки</td>\n",
       "      <td>2469</td>\n",
       "      <td>25728</td>\n",
       "      <td>7613384.0</td>\n",
       "      <td>0.000126</td>\n",
       "      <td>0.152570</td>\n",
       "      <td>0.092969</td>\n",
       "    </tr>\n",
       "    <tr>\n",
       "      <th>24</th>\n",
       "      <td>Мой билет</td>\n",
       "      <td>1005</td>\n",
       "      <td>19416</td>\n",
       "      <td>10850676.0</td>\n",
       "      <td>0.001638</td>\n",
       "      <td>0.115139</td>\n",
       "      <td>0.132501</td>\n",
       "    </tr>\n",
       "    <tr>\n",
       "      <th>25</th>\n",
       "      <td>Облачко</td>\n",
       "      <td>1409</td>\n",
       "      <td>15478</td>\n",
       "      <td>10611052.0</td>\n",
       "      <td>0.011023</td>\n",
       "      <td>0.091786</td>\n",
       "      <td>0.129575</td>\n",
       "    </tr>\n",
       "    <tr>\n",
       "      <th>22</th>\n",
       "      <td>Лучшие билеты</td>\n",
       "      <td>1396</td>\n",
       "      <td>12432</td>\n",
       "      <td>1676010.0</td>\n",
       "      <td>0.018959</td>\n",
       "      <td>0.073723</td>\n",
       "      <td>0.020466</td>\n",
       "    </tr>\n",
       "    <tr>\n",
       "      <th>8</th>\n",
       "      <td>Весь в билетах</td>\n",
       "      <td>599</td>\n",
       "      <td>9416</td>\n",
       "      <td>9351279.0</td>\n",
       "      <td>0.002079</td>\n",
       "      <td>0.055838</td>\n",
       "      <td>0.114191</td>\n",
       "    </tr>\n",
       "    <tr>\n",
       "      <th>26</th>\n",
       "      <td>Прачечная</td>\n",
       "      <td>728</td>\n",
       "      <td>5798</td>\n",
       "      <td>2548310.0</td>\n",
       "      <td>0.003086</td>\n",
       "      <td>0.034383</td>\n",
       "      <td>0.031118</td>\n",
       "    </tr>\n",
       "    <tr>\n",
       "      <th>30</th>\n",
       "      <td>Тебе билет!</td>\n",
       "      <td>859</td>\n",
       "      <td>3760</td>\n",
       "      <td>2166179.0</td>\n",
       "      <td>0.000315</td>\n",
       "      <td>0.022297</td>\n",
       "      <td>0.026452</td>\n",
       "    </tr>\n",
       "    <tr>\n",
       "      <th>34</th>\n",
       "      <td>Яблоко</td>\n",
       "      <td>537</td>\n",
       "      <td>3473</td>\n",
       "      <td>2763332.0</td>\n",
       "      <td>0.000882</td>\n",
       "      <td>0.020595</td>\n",
       "      <td>0.033744</td>\n",
       "    </tr>\n",
       "    <tr>\n",
       "      <th>19</th>\n",
       "      <td>Край билетов</td>\n",
       "      <td>193</td>\n",
       "      <td>2997</td>\n",
       "      <td>3018372.0</td>\n",
       "      <td>0.007748</td>\n",
       "      <td>0.017773</td>\n",
       "      <td>0.036858</td>\n",
       "    </tr>\n",
       "    <tr>\n",
       "      <th>12</th>\n",
       "      <td>Городской дом культуры</td>\n",
       "      <td>289</td>\n",
       "      <td>1738</td>\n",
       "      <td>1054293.0</td>\n",
       "      <td>0.000882</td>\n",
       "      <td>0.010307</td>\n",
       "      <td>0.012874</td>\n",
       "    </tr>\n",
       "    <tr>\n",
       "      <th>15</th>\n",
       "      <td>За билетом!</td>\n",
       "      <td>200</td>\n",
       "      <td>1738</td>\n",
       "      <td>1200925.0</td>\n",
       "      <td>0.005354</td>\n",
       "      <td>0.010307</td>\n",
       "      <td>0.014665</td>\n",
       "    </tr>\n",
       "    <tr>\n",
       "      <th>13</th>\n",
       "      <td>Дом культуры</td>\n",
       "      <td>191</td>\n",
       "      <td>1737</td>\n",
       "      <td>1633088.0</td>\n",
       "      <td>0.009007</td>\n",
       "      <td>0.010301</td>\n",
       "      <td>0.019942</td>\n",
       "    </tr>\n",
       "    <tr>\n",
       "      <th>1</th>\n",
       "      <td>Show_ticket</td>\n",
       "      <td>204</td>\n",
       "      <td>1300</td>\n",
       "      <td>906167.0</td>\n",
       "      <td>0.001575</td>\n",
       "      <td>0.007709</td>\n",
       "      <td>0.011065</td>\n",
       "    </tr>\n",
       "    <tr>\n",
       "      <th>6</th>\n",
       "      <td>Быстробилет</td>\n",
       "      <td>133</td>\n",
       "      <td>1162</td>\n",
       "      <td>929493.0</td>\n",
       "      <td>0.002331</td>\n",
       "      <td>0.006891</td>\n",
       "      <td>0.011350</td>\n",
       "    </tr>\n",
       "    <tr>\n",
       "      <th>23</th>\n",
       "      <td>Мир касс</td>\n",
       "      <td>131</td>\n",
       "      <td>984</td>\n",
       "      <td>824336.0</td>\n",
       "      <td>0.246284</td>\n",
       "      <td>0.005835</td>\n",
       "      <td>0.010066</td>\n",
       "    </tr>\n",
       "    <tr>\n",
       "      <th>11</th>\n",
       "      <td>Выступления.ру</td>\n",
       "      <td>79</td>\n",
       "      <td>917</td>\n",
       "      <td>606630.0</td>\n",
       "      <td>0.025573</td>\n",
       "      <td>0.005438</td>\n",
       "      <td>0.007408</td>\n",
       "    </tr>\n",
       "    <tr>\n",
       "      <th>0</th>\n",
       "      <td>Crazy ticket!</td>\n",
       "      <td>178</td>\n",
       "      <td>550</td>\n",
       "      <td>319452.0</td>\n",
       "      <td>0.002771</td>\n",
       "      <td>0.003262</td>\n",
       "      <td>0.003901</td>\n",
       "    </tr>\n",
       "    <tr>\n",
       "      <th>33</th>\n",
       "      <td>Шоу начинается!</td>\n",
       "      <td>11</td>\n",
       "      <td>406</td>\n",
       "      <td>405148.0</td>\n",
       "      <td>0.010960</td>\n",
       "      <td>0.002408</td>\n",
       "      <td>0.004947</td>\n",
       "    </tr>\n",
       "    <tr>\n",
       "      <th>9</th>\n",
       "      <td>Восьмёрка</td>\n",
       "      <td>92</td>\n",
       "      <td>390</td>\n",
       "      <td>238422.0</td>\n",
       "      <td>0.008944</td>\n",
       "      <td>0.002313</td>\n",
       "      <td>0.002911</td>\n",
       "    </tr>\n",
       "    <tr>\n",
       "      <th>27</th>\n",
       "      <td>Радио ticket</td>\n",
       "      <td>7</td>\n",
       "      <td>322</td>\n",
       "      <td>44720.0</td>\n",
       "      <td>0.001260</td>\n",
       "      <td>0.001909</td>\n",
       "      <td>0.000546</td>\n",
       "    </tr>\n",
       "    <tr>\n",
       "      <th>31</th>\n",
       "      <td>Телебилет</td>\n",
       "      <td>12</td>\n",
       "      <td>206</td>\n",
       "      <td>113377.0</td>\n",
       "      <td>0.004094</td>\n",
       "      <td>0.001222</td>\n",
       "      <td>0.001384</td>\n",
       "    </tr>\n",
       "    <tr>\n",
       "      <th>29</th>\n",
       "      <td>Росбилет</td>\n",
       "      <td>41</td>\n",
       "      <td>182</td>\n",
       "      <td>268650.0</td>\n",
       "      <td>0.001323</td>\n",
       "      <td>0.001079</td>\n",
       "      <td>0.003281</td>\n",
       "    </tr>\n",
       "    <tr>\n",
       "      <th>17</th>\n",
       "      <td>КарандашРУ</td>\n",
       "      <td>28</td>\n",
       "      <td>69</td>\n",
       "      <td>13690.0</td>\n",
       "      <td>0.000252</td>\n",
       "      <td>0.000409</td>\n",
       "      <td>0.000167</td>\n",
       "    </tr>\n",
       "    <tr>\n",
       "      <th>14</th>\n",
       "      <td>Дырокол</td>\n",
       "      <td>2</td>\n",
       "      <td>62</td>\n",
       "      <td>88889.0</td>\n",
       "      <td>0.007055</td>\n",
       "      <td>0.000368</td>\n",
       "      <td>0.001085</td>\n",
       "    </tr>\n",
       "    <tr>\n",
       "      <th>2</th>\n",
       "      <td>Билет по телефону</td>\n",
       "      <td>10</td>\n",
       "      <td>50</td>\n",
       "      <td>37808.0</td>\n",
       "      <td>0.002646</td>\n",
       "      <td>0.000297</td>\n",
       "      <td>0.000462</td>\n",
       "    </tr>\n",
       "    <tr>\n",
       "      <th>18</th>\n",
       "      <td>Кино билет</td>\n",
       "      <td>1</td>\n",
       "      <td>48</td>\n",
       "      <td>15872.0</td>\n",
       "      <td>0.004724</td>\n",
       "      <td>0.000285</td>\n",
       "      <td>0.000194</td>\n",
       "    </tr>\n",
       "    <tr>\n",
       "      <th>10</th>\n",
       "      <td>Вперёд!</td>\n",
       "      <td>21</td>\n",
       "      <td>38</td>\n",
       "      <td>14540.0</td>\n",
       "      <td>0.003653</td>\n",
       "      <td>0.000225</td>\n",
       "      <td>0.000178</td>\n",
       "    </tr>\n",
       "    <tr>\n",
       "      <th>28</th>\n",
       "      <td>Реестр</td>\n",
       "      <td>4</td>\n",
       "      <td>15</td>\n",
       "      <td>12696.0</td>\n",
       "      <td>0.005165</td>\n",
       "      <td>0.000089</td>\n",
       "      <td>0.000155</td>\n",
       "    </tr>\n",
       "    <tr>\n",
       "      <th>7</th>\n",
       "      <td>Быстрый кассир</td>\n",
       "      <td>1</td>\n",
       "      <td>8</td>\n",
       "      <td>7781.0</td>\n",
       "      <td>0.000882</td>\n",
       "      <td>0.000047</td>\n",
       "      <td>0.000095</td>\n",
       "    </tr>\n",
       "    <tr>\n",
       "      <th>32</th>\n",
       "      <td>Тех билет</td>\n",
       "      <td>2</td>\n",
       "      <td>5</td>\n",
       "      <td>1723.0</td>\n",
       "      <td>0.000315</td>\n",
       "      <td>0.000030</td>\n",
       "      <td>0.000021</td>\n",
       "    </tr>\n",
       "    <tr>\n",
       "      <th>4</th>\n",
       "      <td>Билеты в интернете</td>\n",
       "      <td>1</td>\n",
       "      <td>4</td>\n",
       "      <td>548.0</td>\n",
       "      <td>0.000378</td>\n",
       "      <td>0.000024</td>\n",
       "      <td>0.000007</td>\n",
       "    </tr>\n",
       "    <tr>\n",
       "      <th>16</th>\n",
       "      <td>Зе Бест!</td>\n",
       "      <td>1</td>\n",
       "      <td>2</td>\n",
       "      <td>30.0</td>\n",
       "      <td>0.000819</td>\n",
       "      <td>0.000012</td>\n",
       "      <td>0.000000</td>\n",
       "    </tr>\n",
       "    <tr>\n",
       "      <th>20</th>\n",
       "      <td>Лимоны</td>\n",
       "      <td>1</td>\n",
       "      <td>1</td>\n",
       "      <td>120.0</td>\n",
       "      <td>0.002583</td>\n",
       "      <td>0.000006</td>\n",
       "      <td>0.000001</td>\n",
       "    </tr>\n",
       "  </tbody>\n",
       "</table>\n",
       "</div>"
      ],
      "text/plain": [
       "              service_name  unique_events  total_orders  total_revenue  \\\n",
       "3       Билеты без проблем           2847         32405     12172563.0   \n",
       "21             Лови билет!           3616         25794     10381935.0   \n",
       "5            Билеты в руки           2469         25728      7613384.0   \n",
       "24               Мой билет           1005         19416     10850676.0   \n",
       "25                 Облачко           1409         15478     10611052.0   \n",
       "22           Лучшие билеты           1396         12432      1676010.0   \n",
       "8           Весь в билетах            599          9416      9351279.0   \n",
       "26               Прачечная            728          5798      2548310.0   \n",
       "30             Тебе билет!            859          3760      2166179.0   \n",
       "34                  Яблоко            537          3473      2763332.0   \n",
       "19            Край билетов            193          2997      3018372.0   \n",
       "12  Городской дом культуры            289          1738      1054293.0   \n",
       "15             За билетом!            200          1738      1200925.0   \n",
       "13            Дом культуры            191          1737      1633088.0   \n",
       "1              Show_ticket            204          1300       906167.0   \n",
       "6              Быстробилет            133          1162       929493.0   \n",
       "23                Мир касс            131           984       824336.0   \n",
       "11          Выступления.ру             79           917       606630.0   \n",
       "0            Crazy ticket!            178           550       319452.0   \n",
       "33         Шоу начинается!             11           406       405148.0   \n",
       "9                Восьмёрка             92           390       238422.0   \n",
       "27            Радио ticket              7           322        44720.0   \n",
       "31               Телебилет             12           206       113377.0   \n",
       "29                Росбилет             41           182       268650.0   \n",
       "17              КарандашРУ             28            69        13690.0   \n",
       "14                 Дырокол              2            62        88889.0   \n",
       "2        Билет по телефону             10            50        37808.0   \n",
       "18              Кино билет              1            48        15872.0   \n",
       "10                 Вперёд!             21            38        14540.0   \n",
       "28                  Реестр              4            15        12696.0   \n",
       "7           Быстрый кассир              1             8         7781.0   \n",
       "32               Тех билет              2             5         1723.0   \n",
       "4       Билеты в интернете              1             4          548.0   \n",
       "16                Зе Бест!              1             2           30.0   \n",
       "20                  Лимоны              1             1          120.0   \n",
       "\n",
       "    events_share  order_share  revenue_share  \n",
       "3       0.004787     0.192165       0.148643  \n",
       "21      0.008755     0.152961       0.126777  \n",
       "5       0.000126     0.152570       0.092969  \n",
       "24      0.001638     0.115139       0.132501  \n",
       "25      0.011023     0.091786       0.129575  \n",
       "22      0.018959     0.073723       0.020466  \n",
       "8       0.002079     0.055838       0.114191  \n",
       "26      0.003086     0.034383       0.031118  \n",
       "30      0.000315     0.022297       0.026452  \n",
       "34      0.000882     0.020595       0.033744  \n",
       "19      0.007748     0.017773       0.036858  \n",
       "12      0.000882     0.010307       0.012874  \n",
       "15      0.005354     0.010307       0.014665  \n",
       "13      0.009007     0.010301       0.019942  \n",
       "1       0.001575     0.007709       0.011065  \n",
       "6       0.002331     0.006891       0.011350  \n",
       "23      0.246284     0.005835       0.010066  \n",
       "11      0.025573     0.005438       0.007408  \n",
       "0       0.002771     0.003262       0.003901  \n",
       "33      0.010960     0.002408       0.004947  \n",
       "9       0.008944     0.002313       0.002911  \n",
       "27      0.001260     0.001909       0.000546  \n",
       "31      0.004094     0.001222       0.001384  \n",
       "29      0.001323     0.001079       0.003281  \n",
       "17      0.000252     0.000409       0.000167  \n",
       "14      0.007055     0.000368       0.001085  \n",
       "2       0.002646     0.000297       0.000462  \n",
       "18      0.004724     0.000285       0.000194  \n",
       "10      0.003653     0.000225       0.000178  \n",
       "28      0.005165     0.000089       0.000155  \n",
       "7       0.000882     0.000047       0.000095  \n",
       "32      0.000315     0.000030       0.000021  \n",
       "4       0.000378     0.000024       0.000007  \n",
       "16      0.000819     0.000012       0.000000  \n",
       "20      0.002583     0.000006       0.000001  "
      ]
     },
     "metadata": {},
     "output_type": "display_data"
    }
   ],
   "source": [
    "# Группируем данные по билетному оператору\n",
    "operator_stats = autumn_df.groupby(\"service_name\").agg(\n",
    "    unique_events=(\"event_id\", \"nunique\"),  # Количество уникальных мероприятий\n",
    "    total_orders=(\"order_id\", \"count\"),  # Количество обработанных заказов\n",
    "    total_revenue=(\"revenue_rub\", \"sum\")  # Суммарная выручка с заказов\n",
    ").reset_index()\n",
    "\n",
    "# Округляем значения выручки\n",
    "operator_stats[\"total_revenue\"] = operator_stats[\"total_revenue\"].round(0)\n",
    "\n",
    "# Добавление расчётов доли для метрик\n",
    "operator_stats[\"events_share\"] = region_stats[\"unique_events\"] / region_stats[\"unique_events\"].sum() \n",
    "operator_stats[\"order_share\"] = operator_stats[\"total_orders\"] / operator_stats[\"total_orders\"].sum() \n",
    "operator_stats[\"revenue_share\"] = operator_stats[\"total_revenue\"] / operator_stats[\"total_revenue\"].sum()\n",
    "\n",
    "# Округляем значения доли выручки\n",
    "operator_stats[\"revenue_share\"] = operator_stats[\"revenue_share\"].round(6)\n",
    "\n",
    "# Сортируем по доле заказов\n",
    "operator_stats = operator_stats.sort_values(by=\"order_share\", ascending=False)\n",
    "\n",
    "# Отображаем таблицу\n",
    "display(operator_stats)"
   ]
  },
  {
   "cell_type": "markdown",
   "metadata": {},
   "source": [
    "<font color='#777778'> \n",
    "\n",
    "Явные лидеры по количеству мероприятий и заказов среди регионов:\n",
    "\n",
    "- Каменевский регион — 3910 мероприятий (24.6%), 46 684 заказов (27.7% всех заказов)\n",
    "\n",
    "- Североярская область — 2613 мероприятий (16.4%), 20 718 заказов (12.3%)\n",
    "\n",
    "- Медовская область — 369 мероприятий (2.3%), 12 044 заказов (7.1%)\n",
    "\n",
    "Эти регионы значительно опережают остальные по числу заказов и событий. Каменевский регион особенно выделяется — он генерирует более четверти всех заказов.\n",
    "\n",
    "Регионы с низкой активностью:\n",
    "\n",
    "- Сосноводолинская область — 1 мероприятие (0.006%), 9 заказов (0.005%)\n",
    "\n",
    "- Верхозёрский край — 2 мероприятия (0.03%), 11 заказов (0.006%)\n",
    "\n",
    "- Крутоводский регион — 5 мероприятий (0.01%), 14 заказов (0.008%)\n",
    "\n",
    "Эти регионы почти не участвуют в билетных продажах, их вклад минимален.\n",
    "\n",
    "    \n",
    "Лидеры по количеству заказов и выручке среди билетных операторов:\n",
    "\n",
    "- Билеты без проблем — 32 405 заказов (19.2%), 12.18 млн руб (14.9%).\n",
    "\n",
    "- Лови билет! — 25 794 заказов (15.3%), 10.38 млн руб (12.7%).\n",
    "\n",
    "- Билеты в руки — 25 728 заказов (15.2%), 7.61 млн руб (9.3%).\n",
    "\n",
    "Эти три оператора обрабатывают почти половину всех заказов и обеспечивают основную часть выручки.\n",
    "\n",
    "Операторы с низкой активностью:\n",
    "\n",
    "- Лимоны — 1 заказ (0.0006%), 120 руб (0.0001%). \n",
    "\n",
    "- Зе Бест! — 2 заказа (0.0012%), 30 руб. (0.00001%)\n",
    "\n",
    "- Билеты в интернете — 4 заказа (0.0024%), 548 руб. (0.0007%)\n",
    "\n",
    "Эти операторы почти не участвуют в продажах, их доля менее 0.01%."
   ]
  },
  {
   "cell_type": "markdown",
   "metadata": {},
   "source": [
    "### 4. Статистический анализ данных."
   ]
  },
  {
   "cell_type": "markdown",
   "metadata": {},
   "source": [
    "#### Гипотеза о среднем количестве заказов"
   ]
  },
  {
   "cell_type": "code",
   "execution_count": 36,
   "metadata": {
    "scrolled": true
   },
   "outputs": [
    {
     "name": "stdout",
     "output_type": "stream",
     "text": [
      "\n",
      "Статистика заказов на пользователя для мобильных устройств:\n",
      "count    14192.000000\n",
      "mean         9.465051\n",
      "std         68.048019\n",
      "min          1.000000\n",
      "25%          1.000000\n",
      "50%          2.000000\n",
      "75%          5.000000\n",
      "max       4333.000000\n",
      "Name: user_order_count, dtype: float64\n",
      "\n",
      "Статистика заказов на пользователя для стационарных устройств:\n",
      "count    4868.000000\n",
      "mean        7.046631\n",
      "std        35.987323\n",
      "min         1.000000\n",
      "25%         1.000000\n",
      "50%         2.000000\n",
      "75%         4.000000\n",
      "max      1502.000000\n",
      "Name: user_order_count, dtype: float64\n"
     ]
    }
   ],
   "source": [
    "# Группируем данные на уровне пользователя, считая количество заказов отдельно по платформам\n",
    "user_orders = autumn_df.groupby([\"device_type_canonical\", \"user_id\"])[\"order_id\"].count().reset_index()\n",
    "\n",
    "# Переименовываем столбец `order_id` → `user_order_count`\n",
    "user_orders.rename(columns={\"order_id\": \"user_order_count\"}, inplace=True)\n",
    "\n",
    "# Разделяем данные по платформам\n",
    "mobile_orders = user_orders[user_orders[\"device_type_canonical\"] == \"mobile\"][\"user_order_count\"]\n",
    "desktop_orders = user_orders[user_orders[\"device_type_canonical\"] == \"desktop\"][\"user_order_count\"]\n",
    "\n",
    "# Выводим статистику по количеству заказов на пользователя\n",
    "print(\"\\nСтатистика заказов на пользователя для мобильных устройств:\")\n",
    "print(mobile_orders.describe())\n",
    "\n",
    "print(\"\\nСтатистика заказов на пользователя для стационарных устройств:\")\n",
    "print(desktop_orders.describe())\n"
   ]
  },
  {
   "cell_type": "markdown",
   "metadata": {},
   "source": [
    "<font color='#777778'>\n",
    "ОБщее количество мобильных пользователей составляет 14192 против 4868 у стационарных пользователей (в 2,9 раз больше). \n",
    "Среднее число заказов на пользователя выше у мобильных - 9.47 против 7.05 у стационарных пользователей.\n",
    "Медианное значение для обеих групп - 2 заказа на пользователя, но разница между средним и медианным значением говорит о наличии выбросов в данных.\n",
    "Высокое стандартное отклонение у мобильных пользователей 68.05 против 35.99 у стационарных пользователей также говорит о выбросах в данных. \n",
    "Максимальное число заказов у мобильных пользователей - 4333, против 1502 у стационарных пользователей. Такие высокие максимальные значения могут говорить о наличии корпоративных клиентов. "
   ]
  },
  {
   "cell_type": "code",
   "execution_count": 37,
   "metadata": {},
   "outputs": [
    {
     "data": {
      "image/png": "[encoded data removed]",
      "text/plain": [
       "<Figure size 576x432 with 1 Axes>"
      ]
     },
     "metadata": {
      "needs_background": "light"
     },
     "output_type": "display_data"
    }
   ],
   "source": [
    "# Создаем график для определения выбросов в данных\n",
    "plt.figure(figsize=(8, 6))\n",
    "\n",
    "# Строим boxplot для мобильных и стационарных пользователей\n",
    "sns.boxplot(data=[mobile_orders, desktop_orders], palette=[\"blue\", \"orange\"])\n",
    "\n",
    "# Настройки графика\n",
    "plt.xticks([0, 1], [\"Мобильные\", \"Стационарные\"])  # Подписи оси X\n",
    "plt.ylabel(\"Количество заказов на пользователя\")  # Подпись оси Y\n",
    "plt.title(\"Распределение количества заказов на пользователя по платформам\")  # Заголовок\n",
    "plt.grid(axis=\"y\", linestyle=\"--\", alpha=0.7)  # Горизонтальная сетка\n",
    "\n",
    "# Показываем график\n",
    "plt.show()"
   ]
  },
  {
   "cell_type": "markdown",
   "metadata": {},
   "source": [
    "<font color='#777778'> \n",
    "Согласно графиков, данные для мобильных и стационарных устройств имеют левостороннее распределение и длинные правосторонние хвосты. Для проверки гипотезы оптимальным выбором является U-тест Манна-Уитни, т.к. проверяет различие между распределениями двух независимых выборок, не требует нормального распределения и устойчив к выбросам."
   ]
  },
  {
   "cell_type": "markdown",
   "metadata": {},
   "source": [
    "<font color='#777778'> \n",
    "Формулировка гипотез:\n",
    "    \n",
    "- Нулевая гипотеза (H₀): Среднее количество заказов на пользователя у мобильных пользователей не выше, чем у стационарных пользователей.\n",
    "\n",
    "- Альтернативная гипотеза (H₁): Среднее количество заказов на пользователя выше у мобильных пользователей."
   ]
  },
  {
   "cell_type": "code",
   "execution_count": 38,
   "metadata": {},
   "outputs": [],
   "source": [
    "# Проведение U-теста Манна-Уитни\n",
    "u_test_result = stats.mannwhitneyu(\n",
    "    mobile_orders, \n",
    "    desktop_orders, \n",
    "    alternative=\"greater\")"
   ]
  },
  {
   "cell_type": "code",
   "execution_count": 39,
   "metadata": {
    "scrolled": false
   },
   "outputs": [
    {
     "name": "stdout",
     "output_type": "stream",
     "text": [
      "\n",
      "Результат U-теста Манна-Уитни для числа заказов на пользователя: MannwhitneyuResult(statistic=36111903.0, pvalue=3.824199223903784e-07)\n",
      "p-value < 0.05. Отвергаем H₀. Среднее число заказов на пользователя у мобильных значимо больше.\n"
     ]
    }
   ],
   "source": [
    "print(\"\\nРезультат U-теста Манна-Уитни для числа заказов на пользователя:\", u_test_result)\n",
    "if u_test_result.pvalue < 0.05:\n",
    "    print(\"p-value < 0.05. Отвергаем H₀. Среднее число заказов на пользователя у мобильных значимо больше.\")\n",
    "else:\n",
    "    print(\"p-value > 0.05. Не отвергаем H₀. Различия незначимы.\")"
   ]
  },
  {
   "cell_type": "markdown",
   "metadata": {},
   "source": [
    "#### Гипотеза о среднем времени между заказами"
   ]
  },
  {
   "cell_type": "code",
   "execution_count": 40,
   "metadata": {},
   "outputs": [
    {
     "name": "stdout",
     "output_type": "stream",
     "text": [
      "\n",
      "Статистика времени между заказами для мобильных пользователей:\n",
      "count    127340.000000\n",
      "mean          3.778577\n",
      "std          13.381619\n",
      "min           0.000000\n",
      "25%           0.000000\n",
      "50%           0.000000\n",
      "75%           1.000000\n",
      "max         148.000000\n",
      "Name: days_since_prev, dtype: float64\n",
      "\n",
      "Статистика времени между заказами для стационарных пользователей:\n",
      "count    32945.000000\n",
      "mean         3.025254\n",
      "std         12.095335\n",
      "min          0.000000\n",
      "25%          0.000000\n",
      "50%          0.000000\n",
      "75%          1.000000\n",
      "max        146.000000\n",
      "Name: days_since_prev, dtype: float64\n"
     ]
    }
   ],
   "source": [
    "# Выводим статистику по количеству заказов для каждой группы\n",
    "print(\"\\nСтатистика времени между заказами для мобильных пользователей:\")\n",
    "print(autumn_df[autumn_df[\"device_type_canonical\"] == \"mobile\"][\"days_since_prev\"].describe())\n",
    "\n",
    "print(\"\\nСтатистика времени между заказами для стационарных пользователей:\")\n",
    "print(autumn_df[autumn_df[\"device_type_canonical\"] == \"desktop\"][\"days_since_prev\"].describe())"
   ]
  },
  {
   "cell_type": "markdown",
   "metadata": {},
   "source": [
    "<font color='#777778'> \n",
    "Среднее время между заказами выше у мобильных пользователей - 3.78 против 3.02 дней у стационарных пользователей. \n",
    "Стандартное отколонение высокое, что говорит о большом разбросе данных.\n",
    "Максимальные значения схожи - 148 дней (мобильные) против 146 дней (стационарные), что говорит о наличии пользователей с очень редкими заказами."
   ]
  },
  {
   "cell_type": "code",
   "execution_count": 41,
   "metadata": {},
   "outputs": [
    {
     "data": {
      "image/png": "[encoded data removed]",
      "text/plain": [
       "<Figure size 576x432 with 1 Axes>"
      ]
     },
     "metadata": {
      "needs_background": "light"
     },
     "output_type": "display_data"
    }
   ],
   "source": [
    "# Создаем график для определения выбросов в данных\n",
    "plt.figure(figsize=(8, 6))\n",
    "\n",
    "# Строим boxplot для сравнения времени между заказами по типу устройства\n",
    "sns.boxplot(x=autumn_df[\"device_type_canonical\"], y=autumn_df[\"days_since_prev\"], palette=[\"blue\", \"green\"])\n",
    "\n",
    "# Настройки графика\n",
    "plt.title(\"Распределение времени между заказами по типу устройства\")\n",
    "plt.xlabel(\"Тип устройства\")\n",
    "plt.ylabel(\"Количество заказов\")\n",
    "plt.grid(True)\n",
    "\n",
    "# Показываем график\n",
    "plt.show()\n"
   ]
  },
  {
   "cell_type": "markdown",
   "metadata": {},
   "source": [
    "<font color='#777778'> Согласно графиков, данные для мобильных и стационарных устройств имеют левостороннее распределение и длинные правосторонние хвосты. Для проверки гипотезы оптимальным выбором является U-тест Манна-Уитни, т.к. проверяет различие между распределениями двух независимых выборок, не требует нормального распределения и устойчив к выбросам."
   ]
  },
  {
   "cell_type": "markdown",
   "metadata": {},
   "source": [
    "<font color='#777778'> \n",
    "Формулировка гипотез для среднего времени между заказами выше у пользователей мобильных приложений:\n",
    "    \n",
    "- Нулевая гипотеза (H₀): Средний интервал между заказами одинаковый для мобильных пользователей не выше, чем у стационарных устройств.\n",
    "\n",
    "- Альтернативная гипотеза (H₁): Средний интервал между заказами больше у мобильных пользователей."
   ]
  },
  {
   "cell_type": "code",
   "execution_count": 42,
   "metadata": {},
   "outputs": [
    {
     "name": "stdout",
     "output_type": "stream",
     "text": [
      "Результат U-теста Манна-Уитни: MannwhitneyuResult(statistic=2220608137.0, pvalue=3.4995259314748344e-92)\n",
      "p-value < 0.05. Отвергаем H₀. Среднее время между заказами у мобильных пользователей значимо больше.\n"
     ]
    }
   ],
   "source": [
    "# Односторонний U-тест Манна-Уитни\n",
    "u_test_result = stats.mannwhitneyu(\n",
    "    autumn_df[autumn_df[\"device_type_canonical\"] == \"mobile\"][\"days_since_prev\"].dropna(),\n",
    "    autumn_df[autumn_df[\"device_type_canonical\"] == \"desktop\"][\"days_since_prev\"].dropna(),\n",
    "    alternative=\"greater\" \n",
    ")\n",
    "\n",
    "print(\"Результат U-теста Манна-Уитни:\", u_test_result)\n",
    "if u_test_result.pvalue < 0.05:\n",
    "    print(\"p-value < 0.05. Отвергаем H₀. Среднее время между заказами у мобильных пользователей значимо больше.\")\n",
    "else:\n",
    "    print(\"p-value > 0.05. Не отвергаем H₀. Различия незначимы.\")\n"
   ]
  },
  {
   "cell_type": "markdown",
   "metadata": {},
   "source": [
    "\n",
    "### 5. Общий вывод и рекомендации"
   ]
  },
  {
   "cell_type": "markdown",
   "metadata": {},
   "source": [
    " <font color='#777778'>\n",
    "    В данном проекте мы работали с данными, содержащими информацию о бронировании билетов на сервисе Яндекс Афиша за период с 1 июня по 30 октября 2024 года. \n",
    "    На этапе предобработки данных понизили разрядность числовых данных, исключили пропущенные значения, явные и неявные дубликаты, создали новые столбцы для удобства расчётов. \n",
    "    На этапе исследовательского анализа данных определили, что наиболее востребованы концертные мероприятия. Их доля составляет около 40%.\n",
    "    \n",
    " В зависимости от типа мероприятий от лета к осени заметно:\n",
    "- падение доли выставок, другого, концертов, стендапа, \n",
    "- рост доли спорта, театра, ёлок.\n",
    "    \n",
    "Доли мобильных устройств от лета к осени стабильны около 0,80 от общего числа устройств, для десктопных устройств – около 0,20. \n",
    "    \n",
    "В зависимости от типа мероприятий от лета к осени заметно:\n",
    "- рост средней выручки с одного билета для выставок на 5,38%, стендапа на 5,13%, \n",
    "- падение средней выручки с одного билета для другого на 4,53%, спорта на 3,82%, концертов на 7,91%, театра на 17,82%, ёлок на 14,75%.\n",
    "\n",
    "Количество заказов показывает существенные колебания, но явно заметен рост кол-ва заказов и DAU в течение осени. Среднее число заказов на пользователя остается стабильным, но иногда резко возрастает. Средняя стоимость билета снижается в периоды роста заказов.\n",
    "    \n",
    "Периоды высокой активности могут быть связаны с акциями, скидками или массовыми событиями. Снижение цены билетов в моменты роста заказов может говорить о стратегии ценообразования (например, скидки для привлечения большего числа покупателей).\n",
    "    \n",
    "Вторник и четверг могут быть днями повышенного спроса, возможно, из-за скидок или регулярных событий.\n",
    "\n",
    "Рынок сильно сконцентрирован вокруг нескольких ключевых регионов и операторов.\n",
    "    Каменевский регион, Североярская область и Медовская область  — главные регионы продаж. \n",
    "    Билеты без проблем, Лови билет!, Билеты в руки - главные операторы продаж.\n",
    "\n",
    "На этапе статистического анализа данных проверили две гипотезы:\n",
    "    \n",
    "1.Среднее количество заказов на одного пользователя мобильного приложения выше по сравнению с пользователями стационарных устройств.\n",
    "    U-теста Манна-Уитни для количества заказов определили pvalue=3.824199223903784e-07\n",
    "p-value < 0.05. Следовательно, отвергли нулевую гипотезу, и подтвердили гипотезу, что пользователи мобильных устройств совершают большее кол-во заказов, чем стационарные пользователи. \n",
    "               \n",
    "2.Среднее время между заказами пользователей мобильных приложений выше по сравнению с пользователями стационарных устройств.\n",
    "    По результатам U-теста Манна-Уитни для среднего времени между заказами определили pvalue=1.7191361665268777e-94\n",
    "p-value < 0.05. Следовательно, отвергли нулевую гипотезу, и подтвердили гипотезу, что среднее время между заказами у мобильных пользователей значимо больше, чем у стационарных пользователей."
   ]
  },
  {
   "cell_type": "markdown",
   "metadata": {},
   "source": [
    " <font color='#777778'> \n",
    "    Рекомендации:\n",
    "    \n",
    " 1. Использовать акции и скидки в периоды высокой активности пользователей. \n",
    " 2. Акцентировать внимание на вторник и четверг - эти дни показывают повышенный спрос, возможно, из-за скидок или регулярных событий.\n",
    " 3. Стоит оптимизировать мобильное приложение, улучшить интерфейс и удобство оплаты. \n",
    " 4. Среднее время между заказами у мобильных пользователей выше - можно увеличить вовлеченность, предлагая персонализированные рекомендации и уведомления о скидках.\n",
    " 5.Падение средней выручки с билетов на концерты и театр - стоит пересмотреть ценообразование и анализировать причины снижения спроса. \n",
    " 6. Сконцентрировать усилия на ключевых регионах - Каменевский регион, Североярская область и Медовская область. \n",
    " 7. Усилить сотрудничество с ведущими операторами - \"Билеты без проблем\", \"Лови билет!\", \"Билеты в руки\"."
   ]
  }
 ],
 "metadata": {
  "ExecuteTimeLog": [
   {
    "duration": 143,
    "start_time": "2025-05-04T12:37:11.560Z"
   },
   {
    "duration": 1496,
    "start_time": "2025-05-04T13:13:09.735Z"
   },
   {
    "duration": 133,
    "start_time": "2025-05-04T13:18:26.224Z"
   },
   {
    "duration": 2152,
    "start_time": "2025-05-04T13:18:33.363Z"
   },
   {
    "duration": 20,
    "start_time": "2025-05-04T13:18:35.517Z"
   },
   {
    "duration": 14,
    "start_time": "2025-05-04T13:18:54.307Z"
   },
   {
    "duration": 9,
    "start_time": "2025-05-04T13:19:00.991Z"
   },
   {
    "duration": 12,
    "start_time": "2025-05-04T13:23:16.120Z"
   },
   {
    "duration": 11,
    "start_time": "2025-05-04T13:59:37.789Z"
   },
   {
    "duration": 12,
    "start_time": "2025-05-04T13:59:53.368Z"
   },
   {
    "duration": 493,
    "start_time": "2025-05-04T13:59:58.709Z"
   },
   {
    "duration": 18,
    "start_time": "2025-05-04T14:03:20.287Z"
   },
   {
    "duration": 19,
    "start_time": "2025-05-04T14:03:32.946Z"
   },
   {
    "duration": 24,
    "start_time": "2025-05-04T14:03:50.063Z"
   },
   {
    "duration": 13,
    "start_time": "2025-05-04T14:04:10.519Z"
   },
   {
    "duration": 9,
    "start_time": "2025-05-04T14:04:19.875Z"
   },
   {
    "duration": 58,
    "start_time": "2025-05-04T14:04:28.792Z"
   },
   {
    "duration": 116,
    "start_time": "2025-05-04T14:05:03.936Z"
   },
   {
    "duration": 4929,
    "start_time": "2025-05-04T14:05:15.885Z"
   },
   {
    "duration": 719,
    "start_time": "2025-05-04T14:07:08.016Z"
   },
   {
    "duration": 228,
    "start_time": "2025-05-04T14:18:27.189Z"
   },
   {
    "duration": 1234,
    "start_time": "2025-05-04T14:18:58.849Z"
   },
   {
    "duration": 1765,
    "start_time": "2025-05-04T14:19:00.085Z"
   },
   {
    "duration": 22,
    "start_time": "2025-05-04T14:19:01.852Z"
   },
   {
    "duration": 14,
    "start_time": "2025-05-04T14:19:01.876Z"
   },
   {
    "duration": 29,
    "start_time": "2025-05-04T14:19:01.892Z"
   },
   {
    "duration": 482,
    "start_time": "2025-05-04T14:19:01.923Z"
   },
   {
    "duration": 204,
    "start_time": "2025-05-04T14:19:02.406Z"
   },
   {
    "duration": 1267,
    "start_time": "2025-05-04T14:24:17.231Z"
   },
   {
    "duration": 1888,
    "start_time": "2025-05-04T14:24:18.501Z"
   },
   {
    "duration": 22,
    "start_time": "2025-05-04T14:24:20.391Z"
   },
   {
    "duration": 15,
    "start_time": "2025-05-04T14:24:20.414Z"
   },
   {
    "duration": 23,
    "start_time": "2025-05-04T14:24:20.431Z"
   },
   {
    "duration": 120,
    "start_time": "2025-05-04T14:24:20.456Z"
   },
   {
    "duration": 0,
    "start_time": "2025-05-04T14:24:20.578Z"
   },
   {
    "duration": 0,
    "start_time": "2025-05-04T14:24:20.579Z"
   },
   {
    "duration": 20,
    "start_time": "2025-05-04T14:24:26.584Z"
   },
   {
    "duration": 456,
    "start_time": "2025-05-04T14:25:43.446Z"
   },
   {
    "duration": 194,
    "start_time": "2025-05-04T14:25:48.672Z"
   },
   {
    "duration": 92,
    "start_time": "2025-05-04T14:29:07.528Z"
   },
   {
    "duration": 13,
    "start_time": "2025-05-04T14:29:34.226Z"
   },
   {
    "duration": 6,
    "start_time": "2025-05-04T14:29:36.824Z"
   },
   {
    "duration": 340,
    "start_time": "2025-05-04T14:45:13.971Z"
   },
   {
    "duration": 230,
    "start_time": "2025-05-04T14:45:35.705Z"
   },
   {
    "duration": 1197,
    "start_time": "2025-05-04T14:45:59.199Z"
   },
   {
    "duration": 1799,
    "start_time": "2025-05-04T14:46:00.398Z"
   },
   {
    "duration": 27,
    "start_time": "2025-05-04T14:46:02.199Z"
   },
   {
    "duration": 22,
    "start_time": "2025-05-04T14:46:02.227Z"
   },
   {
    "duration": 15,
    "start_time": "2025-05-04T14:46:02.251Z"
   },
   {
    "duration": 412,
    "start_time": "2025-05-04T14:46:02.268Z"
   },
   {
    "duration": 0,
    "start_time": "2025-05-04T14:46:02.681Z"
   },
   {
    "duration": 0,
    "start_time": "2025-05-04T14:46:02.683Z"
   },
   {
    "duration": 0,
    "start_time": "2025-05-04T14:46:02.684Z"
   },
   {
    "duration": 784,
    "start_time": "2025-05-04T14:48:02.627Z"
   },
   {
    "duration": 742,
    "start_time": "2025-05-04T14:48:24.258Z"
   },
   {
    "duration": 743,
    "start_time": "2025-05-04T14:48:38.486Z"
   },
   {
    "duration": 213,
    "start_time": "2025-05-04T14:49:34.363Z"
   },
   {
    "duration": 1216,
    "start_time": "2025-05-04T14:52:22.484Z"
   },
   {
    "duration": 1859,
    "start_time": "2025-05-04T14:52:23.702Z"
   },
   {
    "duration": 19,
    "start_time": "2025-05-04T14:52:25.562Z"
   },
   {
    "duration": 117,
    "start_time": "2025-05-04T14:52:25.583Z"
   },
   {
    "duration": 13,
    "start_time": "2025-05-04T14:52:25.702Z"
   },
   {
    "duration": 29,
    "start_time": "2025-05-04T14:52:25.716Z"
   },
   {
    "duration": 17,
    "start_time": "2025-05-04T14:52:25.746Z"
   },
   {
    "duration": 10,
    "start_time": "2025-05-04T14:52:25.765Z"
   },
   {
    "duration": 838,
    "start_time": "2025-05-04T14:52:25.776Z"
   },
   {
    "duration": 214,
    "start_time": "2025-05-04T14:52:26.616Z"
   },
   {
    "duration": 16,
    "start_time": "2025-05-04T15:58:06.460Z"
   },
   {
    "duration": 102,
    "start_time": "2025-05-04T15:59:37.951Z"
   },
   {
    "duration": 17,
    "start_time": "2025-05-04T16:00:15.370Z"
   },
   {
    "duration": 21,
    "start_time": "2025-05-04T16:01:10.470Z"
   },
   {
    "duration": 20,
    "start_time": "2025-05-04T16:01:20.234Z"
   },
   {
    "duration": 17,
    "start_time": "2025-05-04T16:03:30.364Z"
   },
   {
    "duration": 725,
    "start_time": "2025-05-04T16:06:03.656Z"
   },
   {
    "duration": 718,
    "start_time": "2025-05-04T16:06:40.492Z"
   },
   {
    "duration": 192,
    "start_time": "2025-05-04T16:06:58.038Z"
   },
   {
    "duration": 88,
    "start_time": "2025-05-04T16:11:41.583Z"
   },
   {
    "duration": 1198,
    "start_time": "2025-05-04T16:12:44.394Z"
   },
   {
    "duration": 1995,
    "start_time": "2025-05-04T16:12:45.594Z"
   },
   {
    "duration": 21,
    "start_time": "2025-05-04T16:12:47.591Z"
   },
   {
    "duration": 104,
    "start_time": "2025-05-04T16:12:47.614Z"
   },
   {
    "duration": 13,
    "start_time": "2025-05-04T16:12:47.720Z"
   },
   {
    "duration": 31,
    "start_time": "2025-05-04T16:12:47.735Z"
   },
   {
    "duration": 9,
    "start_time": "2025-05-04T16:12:47.767Z"
   },
   {
    "duration": 14,
    "start_time": "2025-05-04T16:12:47.778Z"
   },
   {
    "duration": 870,
    "start_time": "2025-05-04T16:12:47.794Z"
   },
   {
    "duration": 208,
    "start_time": "2025-05-04T16:12:48.666Z"
   },
   {
    "duration": 321,
    "start_time": "2025-05-04T17:13:08.689Z"
   },
   {
    "duration": 503,
    "start_time": "2025-05-04T17:13:22.738Z"
   },
   {
    "duration": 524,
    "start_time": "2025-05-04T17:14:00.492Z"
   },
   {
    "duration": 93,
    "start_time": "2025-05-04T17:38:19.549Z"
   },
   {
    "duration": 91,
    "start_time": "2025-05-04T17:38:46.484Z"
   },
   {
    "duration": 92,
    "start_time": "2025-05-04T17:38:52.473Z"
   },
   {
    "duration": 86,
    "start_time": "2025-05-04T17:43:18.810Z"
   },
   {
    "duration": 69,
    "start_time": "2025-05-04T17:55:01.571Z"
   },
   {
    "duration": 101,
    "start_time": "2025-05-04T17:55:16.838Z"
   },
   {
    "duration": 502,
    "start_time": "2025-05-04T17:57:08.244Z"
   },
   {
    "duration": 267,
    "start_time": "2025-05-04T17:58:08.497Z"
   },
   {
    "duration": 49,
    "start_time": "2025-05-04T17:59:31.640Z"
   },
   {
    "duration": 45,
    "start_time": "2025-05-04T17:59:50.591Z"
   },
   {
    "duration": 221,
    "start_time": "2025-05-04T18:02:58.984Z"
   },
   {
    "duration": 231,
    "start_time": "2025-05-04T18:08:49.716Z"
   },
   {
    "duration": 63,
    "start_time": "2025-05-04T18:35:05.757Z"
   },
   {
    "duration": 77,
    "start_time": "2025-05-04T18:35:14.972Z"
   },
   {
    "duration": 1308,
    "start_time": "2025-05-04T18:37:05.764Z"
   },
   {
    "duration": 673,
    "start_time": "2025-05-04T18:37:16.883Z"
   },
   {
    "duration": 82,
    "start_time": "2025-05-04T18:37:43.245Z"
   },
   {
    "duration": 106,
    "start_time": "2025-05-04T18:40:47.510Z"
   },
   {
    "duration": 1168,
    "start_time": "2025-05-04T18:41:13.430Z"
   },
   {
    "duration": 1918,
    "start_time": "2025-05-04T18:41:14.600Z"
   },
   {
    "duration": 20,
    "start_time": "2025-05-04T18:41:16.519Z"
   },
   {
    "duration": 109,
    "start_time": "2025-05-04T18:41:16.541Z"
   },
   {
    "duration": 12,
    "start_time": "2025-05-04T18:41:16.652Z"
   },
   {
    "duration": 19,
    "start_time": "2025-05-04T18:41:16.666Z"
   },
   {
    "duration": 13,
    "start_time": "2025-05-04T18:41:16.686Z"
   },
   {
    "duration": 10,
    "start_time": "2025-05-04T18:41:16.701Z"
   },
   {
    "duration": 904,
    "start_time": "2025-05-04T18:41:16.712Z"
   },
   {
    "duration": 203,
    "start_time": "2025-05-04T18:41:17.617Z"
   },
   {
    "duration": 540,
    "start_time": "2025-05-04T18:41:17.822Z"
   },
   {
    "duration": 99,
    "start_time": "2025-05-04T18:41:18.364Z"
   },
   {
    "duration": 43,
    "start_time": "2025-05-04T18:41:18.466Z"
   },
   {
    "duration": 262,
    "start_time": "2025-05-04T18:41:18.513Z"
   },
   {
    "duration": 50,
    "start_time": "2025-05-04T18:41:18.777Z"
   },
   {
    "duration": 280,
    "start_time": "2025-05-04T18:41:18.829Z"
   },
   {
    "duration": 57,
    "start_time": "2025-05-04T18:41:19.111Z"
   },
   {
    "duration": 566,
    "start_time": "2025-05-04T18:41:19.169Z"
   },
   {
    "duration": 109,
    "start_time": "2025-05-04T18:41:19.736Z"
   },
   {
    "duration": 9,
    "start_time": "2025-05-04T18:41:45.460Z"
   },
   {
    "duration": 87,
    "start_time": "2025-05-04T18:42:32.441Z"
   },
   {
    "duration": 1253,
    "start_time": "2025-05-04T18:42:45.441Z"
   },
   {
    "duration": 1715,
    "start_time": "2025-05-04T18:42:46.696Z"
   },
   {
    "duration": 20,
    "start_time": "2025-05-04T18:42:48.413Z"
   },
   {
    "duration": 104,
    "start_time": "2025-05-04T18:42:48.435Z"
   },
   {
    "duration": 23,
    "start_time": "2025-05-04T18:42:48.541Z"
   },
   {
    "duration": 25,
    "start_time": "2025-05-04T18:42:48.565Z"
   },
   {
    "duration": 8,
    "start_time": "2025-05-04T18:42:48.592Z"
   },
   {
    "duration": 34,
    "start_time": "2025-05-04T18:42:48.602Z"
   },
   {
    "duration": 863,
    "start_time": "2025-05-04T18:42:48.638Z"
   },
   {
    "duration": 203,
    "start_time": "2025-05-04T18:42:49.504Z"
   },
   {
    "duration": 533,
    "start_time": "2025-05-04T18:42:49.710Z"
   },
   {
    "duration": 97,
    "start_time": "2025-05-04T18:42:50.245Z"
   },
   {
    "duration": 57,
    "start_time": "2025-05-04T18:42:50.344Z"
   },
   {
    "duration": 265,
    "start_time": "2025-05-04T18:42:50.403Z"
   },
   {
    "duration": 50,
    "start_time": "2025-05-04T18:42:50.670Z"
   },
   {
    "duration": 283,
    "start_time": "2025-05-04T18:42:50.722Z"
   },
   {
    "duration": 56,
    "start_time": "2025-05-04T18:42:51.007Z"
   },
   {
    "duration": 576,
    "start_time": "2025-05-04T18:42:51.064Z"
   },
   {
    "duration": 89,
    "start_time": "2025-05-04T18:42:51.642Z"
   },
   {
    "duration": 121,
    "start_time": "2025-05-04T18:45:10.586Z"
   },
   {
    "duration": 537,
    "start_time": "2025-05-04T18:49:57.980Z"
   },
   {
    "duration": 1500,
    "start_time": "2025-05-05T04:58:59.836Z"
   },
   {
    "duration": 2307,
    "start_time": "2025-05-05T04:59:01.338Z"
   },
   {
    "duration": 32,
    "start_time": "2025-05-05T04:59:03.646Z"
   },
   {
    "duration": 135,
    "start_time": "2025-05-05T04:59:03.681Z"
   },
   {
    "duration": 13,
    "start_time": "2025-05-05T04:59:03.817Z"
   },
   {
    "duration": 56,
    "start_time": "2025-05-05T04:59:03.832Z"
   },
   {
    "duration": 11,
    "start_time": "2025-05-05T04:59:03.890Z"
   },
   {
    "duration": 44,
    "start_time": "2025-05-05T04:59:03.903Z"
   },
   {
    "duration": 1126,
    "start_time": "2025-05-05T04:59:03.948Z"
   },
   {
    "duration": 240,
    "start_time": "2025-05-05T04:59:05.077Z"
   },
   {
    "duration": 623,
    "start_time": "2025-05-05T04:59:05.320Z"
   },
   {
    "duration": 113,
    "start_time": "2025-05-05T04:59:05.945Z"
   },
   {
    "duration": 58,
    "start_time": "2025-05-05T04:59:06.060Z"
   },
   {
    "duration": 302,
    "start_time": "2025-05-05T04:59:06.120Z"
   },
   {
    "duration": 64,
    "start_time": "2025-05-05T04:59:06.424Z"
   },
   {
    "duration": 407,
    "start_time": "2025-05-05T04:59:06.491Z"
   },
   {
    "duration": 46,
    "start_time": "2025-05-05T04:59:06.900Z"
   },
   {
    "duration": 697,
    "start_time": "2025-05-05T04:59:06.948Z"
   },
   {
    "duration": 632,
    "start_time": "2025-05-05T04:59:07.647Z"
   },
   {
    "duration": 553,
    "start_time": "2025-05-05T08:01:08.789Z"
   },
   {
    "duration": 654,
    "start_time": "2025-05-05T08:01:10.338Z"
   },
   {
    "duration": 5,
    "start_time": "2025-05-05T08:08:57.919Z"
   },
   {
    "duration": 256,
    "start_time": "2025-05-05T08:16:06.663Z"
   },
   {
    "duration": 1283,
    "start_time": "2025-05-05T08:16:39.733Z"
   },
   {
    "duration": 1848,
    "start_time": "2025-05-05T08:16:41.018Z"
   },
   {
    "duration": 22,
    "start_time": "2025-05-05T08:16:42.868Z"
   },
   {
    "duration": 119,
    "start_time": "2025-05-05T08:16:42.891Z"
   },
   {
    "duration": 14,
    "start_time": "2025-05-05T08:16:43.013Z"
   },
   {
    "duration": 96,
    "start_time": "2025-05-05T08:16:43.029Z"
   },
   {
    "duration": 190,
    "start_time": "2025-05-05T08:16:43.127Z"
   },
   {
    "duration": 34,
    "start_time": "2025-05-05T08:16:43.319Z"
   },
   {
    "duration": 908,
    "start_time": "2025-05-05T08:16:43.356Z"
   },
   {
    "duration": 213,
    "start_time": "2025-05-05T08:16:44.266Z"
   },
   {
    "duration": 627,
    "start_time": "2025-05-05T08:16:44.481Z"
   },
   {
    "duration": 119,
    "start_time": "2025-05-05T08:16:45.110Z"
   },
   {
    "duration": 146,
    "start_time": "2025-05-05T08:16:45.231Z"
   },
   {
    "duration": 288,
    "start_time": "2025-05-05T08:16:45.380Z"
   },
   {
    "duration": 53,
    "start_time": "2025-05-05T08:16:45.670Z"
   },
   {
    "duration": 317,
    "start_time": "2025-05-05T08:16:45.725Z"
   },
   {
    "duration": 55,
    "start_time": "2025-05-05T08:16:46.045Z"
   },
   {
    "duration": 632,
    "start_time": "2025-05-05T08:16:46.102Z"
   },
   {
    "duration": 599,
    "start_time": "2025-05-05T08:16:46.737Z"
   },
   {
    "duration": 735,
    "start_time": "2025-05-05T08:16:47.338Z"
   },
   {
    "duration": 194,
    "start_time": "2025-05-05T08:16:48.075Z"
   },
   {
    "duration": 5,
    "start_time": "2025-05-05T08:16:48.270Z"
   },
   {
    "duration": 24,
    "start_time": "2025-05-05T08:17:40.734Z"
   },
   {
    "duration": 23,
    "start_time": "2025-05-05T08:19:28.999Z"
   },
   {
    "duration": 26,
    "start_time": "2025-05-05T08:19:57.911Z"
   },
   {
    "duration": 25,
    "start_time": "2025-05-05T08:22:27.688Z"
   },
   {
    "duration": 24,
    "start_time": "2025-05-05T08:23:00.308Z"
   },
   {
    "duration": 103,
    "start_time": "2025-05-05T08:24:12.480Z"
   },
   {
    "duration": 23,
    "start_time": "2025-05-05T08:25:38.752Z"
   },
   {
    "duration": 33,
    "start_time": "2025-05-05T08:42:07.435Z"
   },
   {
    "duration": 6,
    "start_time": "2025-05-05T08:42:07.867Z"
   },
   {
    "duration": 39,
    "start_time": "2025-05-05T08:42:08.274Z"
   },
   {
    "duration": 1252,
    "start_time": "2025-05-05T08:42:32.988Z"
   },
   {
    "duration": 1967,
    "start_time": "2025-05-05T08:42:34.243Z"
   },
   {
    "duration": 22,
    "start_time": "2025-05-05T08:42:36.211Z"
   },
   {
    "duration": 345,
    "start_time": "2025-05-05T08:42:36.234Z"
   },
   {
    "duration": 15,
    "start_time": "2025-05-05T08:42:36.581Z"
   },
   {
    "duration": 72,
    "start_time": "2025-05-05T08:42:36.598Z"
   },
   {
    "duration": 127,
    "start_time": "2025-05-05T08:42:36.671Z"
   },
   {
    "duration": 229,
    "start_time": "2025-05-05T08:42:36.800Z"
   },
   {
    "duration": 992,
    "start_time": "2025-05-05T08:42:37.031Z"
   },
   {
    "duration": 212,
    "start_time": "2025-05-05T08:42:38.025Z"
   },
   {
    "duration": 555,
    "start_time": "2025-05-05T08:42:38.240Z"
   },
   {
    "duration": 101,
    "start_time": "2025-05-05T08:42:38.797Z"
   },
   {
    "duration": 144,
    "start_time": "2025-05-05T08:42:38.900Z"
   },
   {
    "duration": 261,
    "start_time": "2025-05-05T08:42:39.048Z"
   },
   {
    "duration": 59,
    "start_time": "2025-05-05T08:42:39.311Z"
   },
   {
    "duration": 344,
    "start_time": "2025-05-05T08:42:39.372Z"
   },
   {
    "duration": 56,
    "start_time": "2025-05-05T08:42:39.718Z"
   },
   {
    "duration": 621,
    "start_time": "2025-05-05T08:42:39.776Z"
   },
   {
    "duration": 570,
    "start_time": "2025-05-05T08:42:40.399Z"
   },
   {
    "duration": 729,
    "start_time": "2025-05-05T08:42:40.971Z"
   },
   {
    "duration": 184,
    "start_time": "2025-05-05T08:42:41.702Z"
   },
   {
    "duration": 87,
    "start_time": "2025-05-05T08:42:41.888Z"
   },
   {
    "duration": 6,
    "start_time": "2025-05-05T08:42:41.976Z"
   },
   {
    "duration": 48,
    "start_time": "2025-05-05T08:42:41.983Z"
   },
   {
    "duration": 24193,
    "start_time": "2025-05-05T08:42:42.033Z"
   },
   {
    "duration": 11,
    "start_time": "2025-05-05T08:43:06.228Z"
   },
   {
    "duration": 16,
    "start_time": "2025-05-05T08:43:28.451Z"
   },
   {
    "duration": 27,
    "start_time": "2025-05-05T08:43:43.763Z"
   },
   {
    "duration": 4,
    "start_time": "2025-05-05T08:59:30.314Z"
   },
   {
    "duration": 7,
    "start_time": "2025-05-05T09:00:35.661Z"
   },
   {
    "duration": 182,
    "start_time": "2025-05-05T09:12:30.106Z"
   },
   {
    "duration": 159,
    "start_time": "2025-05-05T09:13:35.250Z"
   },
   {
    "duration": 769,
    "start_time": "2025-05-05T09:15:11.014Z"
   },
   {
    "duration": 94,
    "start_time": "2025-05-05T09:15:39.816Z"
   },
   {
    "duration": 157,
    "start_time": "2025-05-05T09:15:52.518Z"
   },
   {
    "duration": 154,
    "start_time": "2025-05-05T09:16:40.404Z"
   },
   {
    "duration": 761,
    "start_time": "2025-05-05T09:16:44.125Z"
   },
   {
    "duration": 447,
    "start_time": "2025-05-05T09:26:58.675Z"
   },
   {
    "duration": 681,
    "start_time": "2025-05-05T10:49:38.266Z"
   },
   {
    "duration": 245,
    "start_time": "2025-05-05T11:02:00.416Z"
   },
   {
    "duration": 1473,
    "start_time": "2025-05-05T15:16:19.377Z"
   },
   {
    "duration": 3107,
    "start_time": "2025-05-05T15:16:20.852Z"
   },
   {
    "duration": 21,
    "start_time": "2025-05-05T15:16:23.961Z"
   },
   {
    "duration": 148,
    "start_time": "2025-05-05T15:16:23.984Z"
   },
   {
    "duration": 14,
    "start_time": "2025-05-05T15:16:24.133Z"
   },
   {
    "duration": 29,
    "start_time": "2025-05-05T15:16:24.149Z"
   },
   {
    "duration": 16,
    "start_time": "2025-05-05T15:16:24.180Z"
   },
   {
    "duration": 23,
    "start_time": "2025-05-05T15:16:24.198Z"
   },
   {
    "duration": 922,
    "start_time": "2025-05-05T15:16:24.224Z"
   },
   {
    "duration": 277,
    "start_time": "2025-05-05T15:16:25.151Z"
   },
   {
    "duration": 665,
    "start_time": "2025-05-05T15:16:25.430Z"
   },
   {
    "duration": 105,
    "start_time": "2025-05-05T15:16:26.098Z"
   },
   {
    "duration": 65,
    "start_time": "2025-05-05T15:16:26.206Z"
   },
   {
    "duration": 289,
    "start_time": "2025-05-05T15:16:26.274Z"
   },
   {
    "duration": 55,
    "start_time": "2025-05-05T15:16:26.565Z"
   },
   {
    "duration": 354,
    "start_time": "2025-05-05T15:16:26.622Z"
   },
   {
    "duration": 48,
    "start_time": "2025-05-05T15:16:26.978Z"
   },
   {
    "duration": 893,
    "start_time": "2025-05-05T15:16:27.028Z"
   },
   {
    "duration": 588,
    "start_time": "2025-05-05T15:16:27.923Z"
   },
   {
    "duration": 722,
    "start_time": "2025-05-05T15:16:28.513Z"
   },
   {
    "duration": 147,
    "start_time": "2025-05-05T15:16:29.236Z"
   },
   {
    "duration": 37,
    "start_time": "2025-05-05T15:16:29.384Z"
   },
   {
    "duration": 95,
    "start_time": "2025-05-05T15:16:29.423Z"
   },
   {
    "duration": 115,
    "start_time": "2025-05-05T15:16:29.520Z"
   },
   {
    "duration": 25576,
    "start_time": "2025-05-05T15:16:29.637Z"
   },
   {
    "duration": 50,
    "start_time": "2025-05-05T15:16:55.216Z"
   },
   {
    "duration": 37,
    "start_time": "2025-05-05T15:16:55.268Z"
   },
   {
    "duration": 280,
    "start_time": "2025-05-05T15:16:55.310Z"
   },
   {
    "duration": 957,
    "start_time": "2025-05-05T15:16:55.592Z"
   },
   {
    "duration": 309,
    "start_time": "2025-05-05T15:16:56.551Z"
   },
   {
    "duration": 715,
    "start_time": "2025-05-05T15:37:43.429Z"
   },
   {
    "duration": 866,
    "start_time": "2025-05-05T15:37:50.746Z"
   },
   {
    "duration": 702,
    "start_time": "2025-05-05T15:38:01.970Z"
   },
   {
    "duration": 696,
    "start_time": "2025-05-05T15:38:20.151Z"
   },
   {
    "duration": 456,
    "start_time": "2025-05-05T15:40:13.205Z"
   },
   {
    "duration": 333,
    "start_time": "2025-05-05T15:40:32.233Z"
   },
   {
    "duration": 795,
    "start_time": "2025-05-05T15:41:04.927Z"
   },
   {
    "duration": 363,
    "start_time": "2025-05-05T15:46:37.563Z"
   },
   {
    "duration": 244,
    "start_time": "2025-05-05T15:50:15.829Z"
   },
   {
    "duration": 244,
    "start_time": "2025-05-05T15:51:12.447Z"
   },
   {
    "duration": 719,
    "start_time": "2025-05-05T15:54:21.305Z"
   },
   {
    "duration": 908,
    "start_time": "2025-05-05T15:54:27.603Z"
   },
   {
    "duration": 841,
    "start_time": "2025-05-05T15:54:41.512Z"
   },
   {
    "duration": 876,
    "start_time": "2025-05-05T15:54:53.634Z"
   },
   {
    "duration": 237,
    "start_time": "2025-05-05T15:55:03.419Z"
   },
   {
    "duration": 857,
    "start_time": "2025-05-05T15:55:16.868Z"
   },
   {
    "duration": 852,
    "start_time": "2025-05-05T15:55:27.742Z"
   },
   {
    "duration": 182,
    "start_time": "2025-05-05T15:55:34.569Z"
   },
   {
    "duration": 285,
    "start_time": "2025-05-05T15:57:05.340Z"
   },
   {
    "duration": 290,
    "start_time": "2025-05-05T15:57:38.903Z"
   },
   {
    "duration": 346,
    "start_time": "2025-05-05T15:57:46.740Z"
   },
   {
    "duration": 1151,
    "start_time": "2025-05-05T15:58:18.173Z"
   },
   {
    "duration": 278,
    "start_time": "2025-05-05T16:00:48.172Z"
   },
   {
    "duration": 304,
    "start_time": "2025-05-05T16:00:54.120Z"
   },
   {
    "duration": 286,
    "start_time": "2025-05-05T16:02:08.888Z"
   },
   {
    "duration": 292,
    "start_time": "2025-05-05T16:03:37.020Z"
   },
   {
    "duration": 279,
    "start_time": "2025-05-05T16:04:21.938Z"
   },
   {
    "duration": 270,
    "start_time": "2025-05-05T16:04:29.169Z"
   },
   {
    "duration": 277,
    "start_time": "2025-05-05T16:04:40.419Z"
   },
   {
    "duration": 291,
    "start_time": "2025-05-05T16:05:51.723Z"
   },
   {
    "duration": 290,
    "start_time": "2025-05-05T16:06:33.919Z"
   },
   {
    "duration": 296,
    "start_time": "2025-05-05T16:06:40.122Z"
   },
   {
    "duration": 300,
    "start_time": "2025-05-05T16:06:46.928Z"
   },
   {
    "duration": 333,
    "start_time": "2025-05-05T16:06:56.720Z"
   },
   {
    "duration": 949,
    "start_time": "2025-05-05T16:33:49.020Z"
   },
   {
    "duration": 901,
    "start_time": "2025-05-05T16:34:05.127Z"
   },
   {
    "duration": 327,
    "start_time": "2025-05-05T16:35:00.707Z"
   },
   {
    "duration": 94,
    "start_time": "2025-05-05T16:47:18.026Z"
   },
   {
    "duration": 89,
    "start_time": "2025-05-05T16:49:10.103Z"
   },
   {
    "duration": 79,
    "start_time": "2025-05-05T16:49:25.036Z"
   },
   {
    "duration": 126,
    "start_time": "2025-05-05T16:49:42.068Z"
   },
   {
    "duration": 118,
    "start_time": "2025-05-05T16:52:18.148Z"
   },
   {
    "duration": 1147,
    "start_time": "2025-05-05T16:53:32.711Z"
   },
   {
    "duration": 990,
    "start_time": "2025-05-05T16:58:33.983Z"
   },
   {
    "duration": 159,
    "start_time": "2025-05-05T17:04:06.717Z"
   },
   {
    "duration": 297,
    "start_time": "2025-05-05T17:05:18.385Z"
   },
   {
    "duration": 308,
    "start_time": "2025-05-05T17:06:30.349Z"
   },
   {
    "duration": 1245,
    "start_time": "2025-05-05T17:11:45.231Z"
   },
   {
    "duration": 371,
    "start_time": "2025-05-05T17:11:56.498Z"
   },
   {
    "duration": 632,
    "start_time": "2025-05-05T17:12:02.276Z"
   },
   {
    "duration": 116,
    "start_time": "2025-05-05T17:13:55.096Z"
   },
   {
    "duration": 289,
    "start_time": "2025-05-05T17:14:28.038Z"
   },
   {
    "duration": 268,
    "start_time": "2025-05-05T17:14:46.247Z"
   },
   {
    "duration": 265,
    "start_time": "2025-05-05T17:18:05.588Z"
   },
   {
    "duration": 250,
    "start_time": "2025-05-05T17:22:36.567Z"
   },
   {
    "duration": 228,
    "start_time": "2025-05-05T17:22:55.139Z"
   },
   {
    "duration": 218,
    "start_time": "2025-05-05T17:24:33.687Z"
   },
   {
    "duration": 162,
    "start_time": "2025-05-05T17:26:33.262Z"
   },
   {
    "duration": 127,
    "start_time": "2025-05-05T17:26:51.486Z"
   },
   {
    "duration": 157,
    "start_time": "2025-05-05T17:27:00.365Z"
   },
   {
    "duration": 144,
    "start_time": "2025-05-05T17:28:13.098Z"
   },
   {
    "duration": 167,
    "start_time": "2025-05-05T17:28:16.732Z"
   },
   {
    "duration": 15,
    "start_time": "2025-05-05T17:31:30.146Z"
   },
   {
    "duration": 64,
    "start_time": "2025-05-05T17:31:55.571Z"
   },
   {
    "duration": 65,
    "start_time": "2025-05-05T17:35:21.466Z"
   },
   {
    "duration": 24,
    "start_time": "2025-05-05T17:38:34.780Z"
   },
   {
    "duration": 88,
    "start_time": "2025-05-05T17:39:15.293Z"
   },
   {
    "duration": 65,
    "start_time": "2025-05-05T17:41:49.448Z"
   },
   {
    "duration": 72,
    "start_time": "2025-05-05T17:41:53.942Z"
   },
   {
    "duration": 74,
    "start_time": "2025-05-05T17:42:07.500Z"
   },
   {
    "duration": 69,
    "start_time": "2025-05-05T17:43:44.220Z"
   },
   {
    "duration": 93,
    "start_time": "2025-05-05T17:43:59.189Z"
   },
   {
    "duration": 1423,
    "start_time": "2025-05-06T10:13:23.777Z"
   },
   {
    "duration": 2092,
    "start_time": "2025-05-06T10:13:25.202Z"
   },
   {
    "duration": 20,
    "start_time": "2025-05-06T10:13:27.296Z"
   },
   {
    "duration": 103,
    "start_time": "2025-05-06T10:13:27.318Z"
   },
   {
    "duration": 13,
    "start_time": "2025-05-06T10:13:27.422Z"
   },
   {
    "duration": 32,
    "start_time": "2025-05-06T10:13:27.437Z"
   },
   {
    "duration": 9,
    "start_time": "2025-05-06T10:13:27.471Z"
   },
   {
    "duration": 21,
    "start_time": "2025-05-06T10:13:27.481Z"
   },
   {
    "duration": 885,
    "start_time": "2025-05-06T10:13:27.503Z"
   },
   {
    "duration": 203,
    "start_time": "2025-05-06T10:13:28.391Z"
   },
   {
    "duration": 543,
    "start_time": "2025-05-06T10:13:28.596Z"
   },
   {
    "duration": 113,
    "start_time": "2025-05-06T10:13:29.141Z"
   },
   {
    "duration": 45,
    "start_time": "2025-05-06T10:13:29.256Z"
   },
   {
    "duration": 284,
    "start_time": "2025-05-06T10:13:29.303Z"
   },
   {
    "duration": 68,
    "start_time": "2025-05-06T10:13:29.589Z"
   },
   {
    "duration": 283,
    "start_time": "2025-05-06T10:13:29.659Z"
   },
   {
    "duration": 51,
    "start_time": "2025-05-06T10:13:29.944Z"
   },
   {
    "duration": 620,
    "start_time": "2025-05-06T10:13:29.997Z"
   },
   {
    "duration": 605,
    "start_time": "2025-05-06T10:13:30.619Z"
   },
   {
    "duration": 718,
    "start_time": "2025-05-06T10:13:31.226Z"
   },
   {
    "duration": 178,
    "start_time": "2025-05-06T10:13:31.946Z"
   },
   {
    "duration": 51,
    "start_time": "2025-05-06T10:13:32.126Z"
   },
   {
    "duration": 3,
    "start_time": "2025-05-06T10:13:32.179Z"
   },
   {
    "duration": 75,
    "start_time": "2025-05-06T10:13:32.184Z"
   },
   {
    "duration": 23322,
    "start_time": "2025-05-06T10:13:32.261Z"
   },
   {
    "duration": 26,
    "start_time": "2025-05-06T10:13:55.585Z"
   },
   {
    "duration": 33,
    "start_time": "2025-05-06T10:13:55.613Z"
   },
   {
    "duration": 160,
    "start_time": "2025-05-06T10:13:55.650Z"
   },
   {
    "duration": 763,
    "start_time": "2025-05-06T10:13:55.812Z"
   },
   {
    "duration": 277,
    "start_time": "2025-05-06T10:13:56.577Z"
   },
   {
    "duration": 1056,
    "start_time": "2025-05-06T10:13:56.856Z"
   },
   {
    "duration": 300,
    "start_time": "2025-05-06T10:13:57.913Z"
   },
   {
    "duration": 154,
    "start_time": "2025-05-06T10:13:58.214Z"
   },
   {
    "duration": 70,
    "start_time": "2025-05-06T10:13:58.370Z"
   },
   {
    "duration": 61,
    "start_time": "2025-05-06T10:13:58.442Z"
   },
   {
    "duration": 1413,
    "start_time": "2025-05-07T04:28:32.218Z"
   },
   {
    "duration": 2113,
    "start_time": "2025-05-07T04:28:33.633Z"
   },
   {
    "duration": 19,
    "start_time": "2025-05-07T04:28:35.753Z"
   },
   {
    "duration": 110,
    "start_time": "2025-05-07T04:28:35.774Z"
   },
   {
    "duration": 15,
    "start_time": "2025-05-07T04:28:35.886Z"
   },
   {
    "duration": 73,
    "start_time": "2025-05-07T04:28:35.902Z"
   },
   {
    "duration": 30,
    "start_time": "2025-05-07T04:28:35.976Z"
   },
   {
    "duration": 38,
    "start_time": "2025-05-07T04:28:36.008Z"
   },
   {
    "duration": 909,
    "start_time": "2025-05-07T04:28:36.048Z"
   },
   {
    "duration": 247,
    "start_time": "2025-05-07T04:28:36.959Z"
   },
   {
    "duration": 561,
    "start_time": "2025-05-07T04:28:37.208Z"
   },
   {
    "duration": 102,
    "start_time": "2025-05-07T04:28:37.771Z"
   },
   {
    "duration": 41,
    "start_time": "2025-05-07T04:28:37.874Z"
   },
   {
    "duration": 278,
    "start_time": "2025-05-07T04:28:37.918Z"
   },
   {
    "duration": 60,
    "start_time": "2025-05-07T04:28:38.197Z"
   },
   {
    "duration": 308,
    "start_time": "2025-05-07T04:28:38.259Z"
   },
   {
    "duration": 44,
    "start_time": "2025-05-07T04:28:38.568Z"
   },
   {
    "duration": 604,
    "start_time": "2025-05-07T04:28:38.614Z"
   },
   {
    "duration": 571,
    "start_time": "2025-05-07T04:28:39.220Z"
   },
   {
    "duration": 693,
    "start_time": "2025-05-07T04:28:39.793Z"
   },
   {
    "duration": 194,
    "start_time": "2025-05-07T04:28:40.488Z"
   },
   {
    "duration": 31,
    "start_time": "2025-05-07T04:28:40.683Z"
   },
   {
    "duration": 29,
    "start_time": "2025-05-07T04:28:40.715Z"
   },
   {
    "duration": 30,
    "start_time": "2025-05-07T04:28:40.746Z"
   },
   {
    "duration": 24138,
    "start_time": "2025-05-07T04:28:40.778Z"
   },
   {
    "duration": 39,
    "start_time": "2025-05-07T04:29:04.917Z"
   },
   {
    "duration": 11,
    "start_time": "2025-05-07T04:29:04.957Z"
   },
   {
    "duration": 189,
    "start_time": "2025-05-07T04:29:04.970Z"
   },
   {
    "duration": 803,
    "start_time": "2025-05-07T04:29:05.161Z"
   },
   {
    "duration": 301,
    "start_time": "2025-05-07T04:29:05.966Z"
   },
   {
    "duration": 1107,
    "start_time": "2025-05-07T04:29:06.269Z"
   },
   {
    "duration": 327,
    "start_time": "2025-05-07T04:29:07.378Z"
   },
   {
    "duration": 164,
    "start_time": "2025-05-07T04:29:07.707Z"
   },
   {
    "duration": 76,
    "start_time": "2025-05-07T04:29:07.872Z"
   },
   {
    "duration": 57,
    "start_time": "2025-05-07T04:29:07.956Z"
   },
   {
    "duration": 690,
    "start_time": "2025-05-07T04:38:22.786Z"
   },
   {
    "duration": 713,
    "start_time": "2025-05-07T04:40:48.407Z"
   },
   {
    "duration": 743,
    "start_time": "2025-05-07T04:41:25.316Z"
   },
   {
    "duration": 135,
    "start_time": "2025-05-07T04:50:01.891Z"
   },
   {
    "duration": 1181,
    "start_time": "2025-05-07T04:50:20.865Z"
   },
   {
    "duration": 1826,
    "start_time": "2025-05-07T04:50:22.054Z"
   },
   {
    "duration": 19,
    "start_time": "2025-05-07T04:50:23.882Z"
   },
   {
    "duration": 118,
    "start_time": "2025-05-07T04:50:23.903Z"
   },
   {
    "duration": 18,
    "start_time": "2025-05-07T04:50:24.023Z"
   },
   {
    "duration": 31,
    "start_time": "2025-05-07T04:50:24.043Z"
   },
   {
    "duration": 9,
    "start_time": "2025-05-07T04:50:24.075Z"
   },
   {
    "duration": 21,
    "start_time": "2025-05-07T04:50:24.085Z"
   },
   {
    "duration": 890,
    "start_time": "2025-05-07T04:50:24.108Z"
   },
   {
    "duration": 221,
    "start_time": "2025-05-07T04:50:24.999Z"
   },
   {
    "duration": 589,
    "start_time": "2025-05-07T04:50:25.222Z"
   },
   {
    "duration": 107,
    "start_time": "2025-05-07T04:50:25.812Z"
   },
   {
    "duration": 62,
    "start_time": "2025-05-07T04:50:25.921Z"
   },
   {
    "duration": 283,
    "start_time": "2025-05-07T04:50:25.987Z"
   },
   {
    "duration": 47,
    "start_time": "2025-05-07T04:50:26.272Z"
   },
   {
    "duration": 348,
    "start_time": "2025-05-07T04:50:26.320Z"
   },
   {
    "duration": 44,
    "start_time": "2025-05-07T04:50:26.670Z"
   },
   {
    "duration": 736,
    "start_time": "2025-05-07T04:50:26.716Z"
   },
   {
    "duration": 564,
    "start_time": "2025-05-07T04:50:27.461Z"
   },
   {
    "duration": 730,
    "start_time": "2025-05-07T04:50:28.027Z"
   },
   {
    "duration": 160,
    "start_time": "2025-05-07T04:50:28.762Z"
   },
   {
    "duration": 51,
    "start_time": "2025-05-07T04:50:28.924Z"
   },
   {
    "duration": 5,
    "start_time": "2025-05-07T04:50:28.977Z"
   },
   {
    "duration": 29,
    "start_time": "2025-05-07T04:50:28.984Z"
   },
   {
    "duration": 24676,
    "start_time": "2025-05-07T04:50:29.015Z"
   },
   {
    "duration": 24,
    "start_time": "2025-05-07T04:50:53.692Z"
   },
   {
    "duration": 30,
    "start_time": "2025-05-07T04:50:53.717Z"
   },
   {
    "duration": 163,
    "start_time": "2025-05-07T04:50:53.751Z"
   },
   {
    "duration": 860,
    "start_time": "2025-05-07T04:50:53.916Z"
   },
   {
    "duration": 304,
    "start_time": "2025-05-07T04:50:54.777Z"
   },
   {
    "duration": 1078,
    "start_time": "2025-05-07T04:50:55.082Z"
   },
   {
    "duration": 333,
    "start_time": "2025-05-07T04:50:56.166Z"
   },
   {
    "duration": 205,
    "start_time": "2025-05-07T04:50:56.502Z"
   },
   {
    "duration": 78,
    "start_time": "2025-05-07T04:50:56.709Z"
   },
   {
    "duration": 89,
    "start_time": "2025-05-07T04:50:56.789Z"
   },
   {
    "duration": 169,
    "start_time": "2025-05-07T04:51:15.955Z"
   },
   {
    "duration": 1473,
    "start_time": "2025-05-07T06:22:08.895Z"
   },
   {
    "duration": 1153,
    "start_time": "2025-05-07T06:22:17.301Z"
   },
   {
    "duration": 1749,
    "start_time": "2025-05-07T06:22:18.456Z"
   },
   {
    "duration": 18,
    "start_time": "2025-05-07T06:22:20.207Z"
   },
   {
    "duration": 136,
    "start_time": "2025-05-07T06:22:20.227Z"
   },
   {
    "duration": 11,
    "start_time": "2025-05-07T06:22:20.365Z"
   },
   {
    "duration": 20,
    "start_time": "2025-05-07T06:22:20.377Z"
   },
   {
    "duration": 10,
    "start_time": "2025-05-07T06:22:20.398Z"
   },
   {
    "duration": 23,
    "start_time": "2025-05-07T06:22:20.409Z"
   },
   {
    "duration": 863,
    "start_time": "2025-05-07T06:22:20.434Z"
   },
   {
    "duration": 196,
    "start_time": "2025-05-07T06:22:21.299Z"
   },
   {
    "duration": 555,
    "start_time": "2025-05-07T06:22:21.497Z"
   },
   {
    "duration": 94,
    "start_time": "2025-05-07T06:22:22.053Z"
   },
   {
    "duration": 44,
    "start_time": "2025-05-07T06:22:22.149Z"
   },
   {
    "duration": 312,
    "start_time": "2025-05-07T06:22:22.195Z"
   },
   {
    "duration": 68,
    "start_time": "2025-05-07T06:22:22.510Z"
   },
   {
    "duration": 292,
    "start_time": "2025-05-07T06:22:22.580Z"
   },
   {
    "duration": 45,
    "start_time": "2025-05-07T06:22:22.874Z"
   },
   {
    "duration": 580,
    "start_time": "2025-05-07T06:22:22.920Z"
   },
   {
    "duration": 507,
    "start_time": "2025-05-07T06:22:23.501Z"
   },
   {
    "duration": 667,
    "start_time": "2025-05-07T06:22:24.010Z"
   },
   {
    "duration": 169,
    "start_time": "2025-05-07T06:22:24.678Z"
   },
   {
    "duration": 29,
    "start_time": "2025-05-07T06:22:24.848Z"
   },
   {
    "duration": 3,
    "start_time": "2025-05-07T06:22:24.879Z"
   },
   {
    "duration": 27,
    "start_time": "2025-05-07T06:22:24.883Z"
   },
   {
    "duration": 22532,
    "start_time": "2025-05-07T06:22:24.912Z"
   },
   {
    "duration": 26,
    "start_time": "2025-05-07T06:22:47.446Z"
   },
   {
    "duration": 5,
    "start_time": "2025-05-07T06:22:47.474Z"
   },
   {
    "duration": 185,
    "start_time": "2025-05-07T06:22:47.482Z"
   },
   {
    "duration": 731,
    "start_time": "2025-05-07T06:22:47.669Z"
   },
   {
    "duration": 267,
    "start_time": "2025-05-07T06:22:48.401Z"
   },
   {
    "duration": 962,
    "start_time": "2025-05-07T06:22:48.670Z"
   },
   {
    "duration": 301,
    "start_time": "2025-05-07T06:22:49.634Z"
   },
   {
    "duration": 143,
    "start_time": "2025-05-07T06:22:49.937Z"
   },
   {
    "duration": 67,
    "start_time": "2025-05-07T06:22:50.082Z"
   },
   {
    "duration": 61,
    "start_time": "2025-05-07T06:22:50.151Z"
   },
   {
    "duration": 1399,
    "start_time": "2025-05-07T06:22:50.213Z"
   },
   {
    "duration": 147,
    "start_time": "2025-05-07T06:23:22.110Z"
   },
   {
    "duration": 3852,
    "start_time": "2025-05-07T06:35:59.476Z"
   },
   {
    "duration": 992,
    "start_time": "2025-05-07T07:39:44.009Z"
   },
   {
    "duration": 1000,
    "start_time": "2025-05-07T07:39:51.980Z"
   },
   {
    "duration": 1018,
    "start_time": "2025-05-07T07:44:15.622Z"
   },
   {
    "duration": 1011,
    "start_time": "2025-05-07T08:04:07.769Z"
   },
   {
    "duration": 1334,
    "start_time": "2025-05-07T08:04:48.956Z"
   },
   {
    "duration": 2164,
    "start_time": "2025-05-07T08:04:50.292Z"
   },
   {
    "duration": 32,
    "start_time": "2025-05-07T08:04:52.458Z"
   },
   {
    "duration": 130,
    "start_time": "2025-05-07T08:04:52.492Z"
   },
   {
    "duration": 21,
    "start_time": "2025-05-07T08:04:52.625Z"
   },
   {
    "duration": 29,
    "start_time": "2025-05-07T08:04:52.648Z"
   },
   {
    "duration": 10,
    "start_time": "2025-05-07T08:04:52.679Z"
   },
   {
    "duration": 48,
    "start_time": "2025-05-07T08:04:52.691Z"
   },
   {
    "duration": 955,
    "start_time": "2025-05-07T08:04:52.742Z"
   },
   {
    "duration": 260,
    "start_time": "2025-05-07T08:04:53.699Z"
   },
   {
    "duration": 634,
    "start_time": "2025-05-07T08:04:53.962Z"
   },
   {
    "duration": 128,
    "start_time": "2025-05-07T08:04:54.598Z"
   },
   {
    "duration": 54,
    "start_time": "2025-05-07T08:04:54.736Z"
   },
   {
    "duration": 300,
    "start_time": "2025-05-07T08:04:54.793Z"
   },
   {
    "duration": 78,
    "start_time": "2025-05-07T08:04:55.095Z"
   },
   {
    "duration": 278,
    "start_time": "2025-05-07T08:04:55.175Z"
   },
   {
    "duration": 49,
    "start_time": "2025-05-07T08:04:55.455Z"
   },
   {
    "duration": 669,
    "start_time": "2025-05-07T08:04:55.506Z"
   },
   {
    "duration": 658,
    "start_time": "2025-05-07T08:04:56.177Z"
   },
   {
    "duration": 798,
    "start_time": "2025-05-07T08:04:56.838Z"
   },
   {
    "duration": 203,
    "start_time": "2025-05-07T08:04:57.638Z"
   },
   {
    "duration": 34,
    "start_time": "2025-05-07T08:04:57.844Z"
   },
   {
    "duration": 23,
    "start_time": "2025-05-07T08:04:57.880Z"
   },
   {
    "duration": 30,
    "start_time": "2025-05-07T08:04:57.905Z"
   },
   {
    "duration": 27178,
    "start_time": "2025-05-07T08:04:57.938Z"
   },
   {
    "duration": 32,
    "start_time": "2025-05-07T08:05:25.117Z"
   },
   {
    "duration": 12,
    "start_time": "2025-05-07T08:05:25.151Z"
   },
   {
    "duration": 176,
    "start_time": "2025-05-07T08:05:25.166Z"
   },
   {
    "duration": 787,
    "start_time": "2025-05-07T08:05:25.344Z"
   },
   {
    "duration": 289,
    "start_time": "2025-05-07T08:05:26.135Z"
   },
   {
    "duration": 1109,
    "start_time": "2025-05-07T08:05:26.427Z"
   },
   {
    "duration": 325,
    "start_time": "2025-05-07T08:05:27.539Z"
   },
   {
    "duration": 170,
    "start_time": "2025-05-07T08:05:27.867Z"
   },
   {
    "duration": 75,
    "start_time": "2025-05-07T08:05:28.039Z"
   },
   {
    "duration": 89,
    "start_time": "2025-05-07T08:05:28.116Z"
   },
   {
    "duration": 161,
    "start_time": "2025-05-07T08:05:28.206Z"
   },
   {
    "duration": 3749,
    "start_time": "2025-05-07T08:05:28.369Z"
   },
   {
    "duration": 1161,
    "start_time": "2025-05-07T09:39:10.999Z"
   },
   {
    "duration": 1841,
    "start_time": "2025-05-07T09:39:12.161Z"
   },
   {
    "duration": 20,
    "start_time": "2025-05-07T09:39:14.004Z"
   },
   {
    "duration": 115,
    "start_time": "2025-05-07T09:39:14.026Z"
   },
   {
    "duration": 23,
    "start_time": "2025-05-07T09:39:14.145Z"
   },
   {
    "duration": 29,
    "start_time": "2025-05-07T09:39:14.170Z"
   },
   {
    "duration": 10,
    "start_time": "2025-05-07T09:39:14.201Z"
   },
   {
    "duration": 30,
    "start_time": "2025-05-07T09:39:14.212Z"
   },
   {
    "duration": 875,
    "start_time": "2025-05-07T09:39:14.244Z"
   },
   {
    "duration": 220,
    "start_time": "2025-05-07T09:39:15.121Z"
   },
   {
    "duration": 537,
    "start_time": "2025-05-07T09:39:15.343Z"
   },
   {
    "duration": 104,
    "start_time": "2025-05-07T09:39:15.881Z"
   },
   {
    "duration": 42,
    "start_time": "2025-05-07T09:39:15.987Z"
   },
   {
    "duration": 260,
    "start_time": "2025-05-07T09:39:16.039Z"
   },
   {
    "duration": 61,
    "start_time": "2025-05-07T09:39:16.301Z"
   },
   {
    "duration": 309,
    "start_time": "2025-05-07T09:39:16.364Z"
   },
   {
    "duration": 47,
    "start_time": "2025-05-07T09:39:16.675Z"
   },
   {
    "duration": 618,
    "start_time": "2025-05-07T09:39:16.735Z"
   },
   {
    "duration": 551,
    "start_time": "2025-05-07T09:39:17.354Z"
   },
   {
    "duration": 690,
    "start_time": "2025-05-07T09:39:17.906Z"
   },
   {
    "duration": 180,
    "start_time": "2025-05-07T09:39:18.598Z"
   },
   {
    "duration": 30,
    "start_time": "2025-05-07T09:39:18.780Z"
   },
   {
    "duration": 4,
    "start_time": "2025-05-07T09:39:18.811Z"
   },
   {
    "duration": 57,
    "start_time": "2025-05-07T09:39:18.816Z"
   },
   {
    "duration": 23372,
    "start_time": "2025-05-07T09:39:18.875Z"
   },
   {
    "duration": 35,
    "start_time": "2025-05-07T09:39:42.249Z"
   },
   {
    "duration": 5,
    "start_time": "2025-05-07T09:39:42.286Z"
   },
   {
    "duration": 184,
    "start_time": "2025-05-07T09:39:42.293Z"
   },
   {
    "duration": 791,
    "start_time": "2025-05-07T09:39:42.479Z"
   },
   {
    "duration": 290,
    "start_time": "2025-05-07T09:39:43.271Z"
   },
   {
    "duration": 1033,
    "start_time": "2025-05-07T09:39:43.563Z"
   },
   {
    "duration": 300,
    "start_time": "2025-05-07T09:39:44.598Z"
   },
   {
    "duration": 166,
    "start_time": "2025-05-07T09:39:44.899Z"
   },
   {
    "duration": 73,
    "start_time": "2025-05-07T09:39:45.067Z"
   },
   {
    "duration": 74,
    "start_time": "2025-05-07T09:39:45.145Z"
   },
   {
    "duration": 107,
    "start_time": "2025-05-07T09:42:54.960Z"
   },
   {
    "duration": 114,
    "start_time": "2025-05-07T09:43:16.545Z"
   },
   {
    "duration": 108,
    "start_time": "2025-05-07T09:43:37.194Z"
   },
   {
    "duration": 1685,
    "start_time": "2025-05-07T09:48:52.412Z"
   },
   {
    "duration": 1335,
    "start_time": "2025-05-07T09:49:44.854Z"
   },
   {
    "duration": 256,
    "start_time": "2025-05-07T09:56:52.051Z"
   },
   {
    "duration": 133,
    "start_time": "2025-05-07T10:08:17.134Z"
   },
   {
    "duration": 78,
    "start_time": "2025-05-07T10:14:41.918Z"
   },
   {
    "duration": 71,
    "start_time": "2025-05-07T10:19:15.102Z"
   },
   {
    "duration": 13,
    "start_time": "2025-05-07T10:23:20.261Z"
   },
   {
    "duration": 57,
    "start_time": "2025-05-07T10:28:01.488Z"
   },
   {
    "duration": 1320,
    "start_time": "2025-05-07T10:32:58.072Z"
   },
   {
    "duration": 99,
    "start_time": "2025-05-07T10:40:09.278Z"
   },
   {
    "duration": 148,
    "start_time": "2025-05-07T10:41:08.718Z"
   },
   {
    "duration": 355,
    "start_time": "2025-05-07T10:41:48.902Z"
   },
   {
    "duration": 154,
    "start_time": "2025-05-07T10:46:59.204Z"
   },
   {
    "duration": 76,
    "start_time": "2025-05-07T10:57:44.812Z"
   },
   {
    "duration": 73,
    "start_time": "2025-05-07T11:01:27.959Z"
   },
   {
    "duration": 1207,
    "start_time": "2025-05-07T11:03:49.490Z"
   },
   {
    "duration": 1928,
    "start_time": "2025-05-07T11:03:50.699Z"
   },
   {
    "duration": 27,
    "start_time": "2025-05-07T11:03:52.629Z"
   },
   {
    "duration": 139,
    "start_time": "2025-05-07T11:03:52.659Z"
   },
   {
    "duration": 12,
    "start_time": "2025-05-07T11:03:52.800Z"
   },
   {
    "duration": 33,
    "start_time": "2025-05-07T11:03:52.814Z"
   },
   {
    "duration": 12,
    "start_time": "2025-05-07T11:03:52.850Z"
   },
   {
    "duration": 14,
    "start_time": "2025-05-07T11:03:52.864Z"
   },
   {
    "duration": 957,
    "start_time": "2025-05-07T11:03:52.880Z"
   },
   {
    "duration": 213,
    "start_time": "2025-05-07T11:03:53.842Z"
   },
   {
    "duration": 553,
    "start_time": "2025-05-07T11:03:54.056Z"
   },
   {
    "duration": 96,
    "start_time": "2025-05-07T11:03:54.611Z"
   },
   {
    "duration": 58,
    "start_time": "2025-05-07T11:03:54.709Z"
   },
   {
    "duration": 258,
    "start_time": "2025-05-07T11:03:54.768Z"
   },
   {
    "duration": 57,
    "start_time": "2025-05-07T11:03:55.028Z"
   },
   {
    "duration": 270,
    "start_time": "2025-05-07T11:03:55.087Z"
   },
   {
    "duration": 46,
    "start_time": "2025-05-07T11:03:55.360Z"
   },
   {
    "duration": 648,
    "start_time": "2025-05-07T11:03:55.408Z"
   },
   {
    "duration": 583,
    "start_time": "2025-05-07T11:03:56.059Z"
   },
   {
    "duration": 679,
    "start_time": "2025-05-07T11:03:56.644Z"
   },
   {
    "duration": 147,
    "start_time": "2025-05-07T11:03:57.325Z"
   },
   {
    "duration": 45,
    "start_time": "2025-05-07T11:03:57.475Z"
   },
   {
    "duration": 19,
    "start_time": "2025-05-07T11:03:57.522Z"
   },
   {
    "duration": 32,
    "start_time": "2025-05-07T11:03:57.543Z"
   },
   {
    "duration": 25192,
    "start_time": "2025-05-07T11:03:57.577Z"
   },
   {
    "duration": 26,
    "start_time": "2025-05-07T11:04:22.770Z"
   },
   {
    "duration": 10,
    "start_time": "2025-05-07T11:04:22.797Z"
   },
   {
    "duration": 203,
    "start_time": "2025-05-07T11:04:22.810Z"
   },
   {
    "duration": 726,
    "start_time": "2025-05-07T11:04:23.015Z"
   },
   {
    "duration": 279,
    "start_time": "2025-05-07T11:04:23.747Z"
   },
   {
    "duration": 1014,
    "start_time": "2025-05-07T11:04:24.035Z"
   },
   {
    "duration": 301,
    "start_time": "2025-05-07T11:04:25.052Z"
   },
   {
    "duration": 158,
    "start_time": "2025-05-07T11:04:25.355Z"
   },
   {
    "duration": 69,
    "start_time": "2025-05-07T11:04:25.514Z"
   },
   {
    "duration": 72,
    "start_time": "2025-05-07T11:04:25.585Z"
   },
   {
    "duration": 118,
    "start_time": "2025-05-07T11:04:25.659Z"
   },
   {
    "duration": 218,
    "start_time": "2025-05-07T11:04:25.779Z"
   },
   {
    "duration": 109,
    "start_time": "2025-05-07T11:04:25.999Z"
   },
   {
    "duration": 0,
    "start_time": "2025-05-07T11:04:26.110Z"
   },
   {
    "duration": 0,
    "start_time": "2025-05-07T11:04:26.111Z"
   },
   {
    "duration": 0,
    "start_time": "2025-05-07T11:04:26.112Z"
   },
   {
    "duration": 71,
    "start_time": "2025-05-07T11:05:55.828Z"
   },
   {
    "duration": 81,
    "start_time": "2025-05-07T11:06:00.035Z"
   },
   {
    "duration": 275,
    "start_time": "2025-05-07T11:06:03.787Z"
   },
   {
    "duration": 171,
    "start_time": "2025-05-07T11:06:07.319Z"
   },
   {
    "duration": 1391,
    "start_time": "2025-05-09T07:57:42.449Z"
   },
   {
    "duration": 2167,
    "start_time": "2025-05-09T07:57:43.844Z"
   },
   {
    "duration": 21,
    "start_time": "2025-05-09T07:57:46.013Z"
   },
   {
    "duration": 153,
    "start_time": "2025-05-09T07:57:46.036Z"
   },
   {
    "duration": 17,
    "start_time": "2025-05-09T07:57:46.191Z"
   },
   {
    "duration": 29,
    "start_time": "2025-05-09T07:57:46.211Z"
   },
   {
    "duration": 11,
    "start_time": "2025-05-09T07:57:46.242Z"
   },
   {
    "duration": 13,
    "start_time": "2025-05-09T07:57:46.255Z"
   },
   {
    "duration": 880,
    "start_time": "2025-05-09T07:57:46.270Z"
   },
   {
    "duration": 211,
    "start_time": "2025-05-09T07:57:47.152Z"
   },
   {
    "duration": 617,
    "start_time": "2025-05-09T07:57:47.364Z"
   },
   {
    "duration": 101,
    "start_time": "2025-05-09T07:57:47.982Z"
   },
   {
    "duration": 58,
    "start_time": "2025-05-09T07:57:48.084Z"
   },
   {
    "duration": 295,
    "start_time": "2025-05-09T07:57:48.146Z"
   },
   {
    "duration": 48,
    "start_time": "2025-05-09T07:57:48.443Z"
   },
   {
    "duration": 289,
    "start_time": "2025-05-09T07:57:48.493Z"
   },
   {
    "duration": 52,
    "start_time": "2025-05-09T07:57:48.784Z"
   },
   {
    "duration": 590,
    "start_time": "2025-05-09T07:57:48.837Z"
   },
   {
    "duration": 558,
    "start_time": "2025-05-09T07:57:49.429Z"
   },
   {
    "duration": 679,
    "start_time": "2025-05-09T07:57:49.989Z"
   },
   {
    "duration": 174,
    "start_time": "2025-05-09T07:57:50.670Z"
   },
   {
    "duration": 36,
    "start_time": "2025-05-09T07:57:50.846Z"
   },
   {
    "duration": 13,
    "start_time": "2025-05-09T07:57:50.884Z"
   },
   {
    "duration": 28,
    "start_time": "2025-05-09T07:57:50.905Z"
   },
   {
    "duration": 24470,
    "start_time": "2025-05-09T07:57:50.935Z"
   },
   {
    "duration": 26,
    "start_time": "2025-05-09T07:58:15.407Z"
   },
   {
    "duration": 100,
    "start_time": "2025-05-09T07:58:15.435Z"
   },
   {
    "duration": 210,
    "start_time": "2025-05-09T07:58:15.537Z"
   },
   {
    "duration": 816,
    "start_time": "2025-05-09T07:58:15.749Z"
   },
   {
    "duration": 294,
    "start_time": "2025-05-09T07:58:16.566Z"
   },
   {
    "duration": 1109,
    "start_time": "2025-05-09T07:58:16.861Z"
   },
   {
    "duration": 294,
    "start_time": "2025-05-09T07:58:17.971Z"
   },
   {
    "duration": 165,
    "start_time": "2025-05-09T07:58:18.266Z"
   },
   {
    "duration": 76,
    "start_time": "2025-05-09T07:58:18.433Z"
   },
   {
    "duration": 63,
    "start_time": "2025-05-09T07:58:18.511Z"
   },
   {
    "duration": 145,
    "start_time": "2025-05-09T07:58:18.576Z"
   },
   {
    "duration": 212,
    "start_time": "2025-05-09T07:58:18.723Z"
   },
   {
    "duration": 75,
    "start_time": "2025-05-09T07:58:18.937Z"
   },
   {
    "duration": 122,
    "start_time": "2025-05-09T07:58:25.606Z"
   },
   {
    "duration": 74,
    "start_time": "2025-05-09T11:19:29.793Z"
   },
   {
    "duration": 70,
    "start_time": "2025-05-09T11:19:48.828Z"
   },
   {
    "duration": 47,
    "start_time": "2025-05-09T11:41:46.204Z"
   },
   {
    "duration": 1306,
    "start_time": "2025-05-09T11:41:57.609Z"
   },
   {
    "duration": 1708,
    "start_time": "2025-05-09T11:41:58.917Z"
   },
   {
    "duration": 19,
    "start_time": "2025-05-09T11:42:00.627Z"
   },
   {
    "duration": 138,
    "start_time": "2025-05-09T11:42:00.648Z"
   },
   {
    "duration": 13,
    "start_time": "2025-05-09T11:42:00.789Z"
   },
   {
    "duration": 30,
    "start_time": "2025-05-09T11:42:00.804Z"
   },
   {
    "duration": 21,
    "start_time": "2025-05-09T11:42:00.836Z"
   },
   {
    "duration": 22,
    "start_time": "2025-05-09T11:42:00.858Z"
   },
   {
    "duration": 814,
    "start_time": "2025-05-09T11:42:00.882Z"
   },
   {
    "duration": 221,
    "start_time": "2025-05-09T11:42:01.698Z"
   },
   {
    "duration": 569,
    "start_time": "2025-05-09T11:42:01.921Z"
   },
   {
    "duration": 102,
    "start_time": "2025-05-09T11:42:02.494Z"
   },
   {
    "duration": 85,
    "start_time": "2025-05-09T11:42:02.598Z"
   },
   {
    "duration": 314,
    "start_time": "2025-05-09T11:42:02.687Z"
   },
   {
    "duration": 110,
    "start_time": "2025-05-09T11:42:03.003Z"
   },
   {
    "duration": 0,
    "start_time": "2025-05-09T11:42:03.115Z"
   },
   {
    "duration": 0,
    "start_time": "2025-05-09T11:42:03.116Z"
   },
   {
    "duration": 0,
    "start_time": "2025-05-09T11:42:03.118Z"
   },
   {
    "duration": 0,
    "start_time": "2025-05-09T11:42:03.118Z"
   },
   {
    "duration": 0,
    "start_time": "2025-05-09T11:42:03.120Z"
   },
   {
    "duration": 0,
    "start_time": "2025-05-09T11:42:03.121Z"
   },
   {
    "duration": 0,
    "start_time": "2025-05-09T11:42:03.122Z"
   },
   {
    "duration": 0,
    "start_time": "2025-05-09T11:42:03.123Z"
   },
   {
    "duration": 0,
    "start_time": "2025-05-09T11:42:03.125Z"
   },
   {
    "duration": 0,
    "start_time": "2025-05-09T11:42:03.127Z"
   },
   {
    "duration": 0,
    "start_time": "2025-05-09T11:42:03.128Z"
   },
   {
    "duration": 0,
    "start_time": "2025-05-09T11:42:03.130Z"
   },
   {
    "duration": 0,
    "start_time": "2025-05-09T11:42:03.131Z"
   },
   {
    "duration": 0,
    "start_time": "2025-05-09T11:42:03.133Z"
   },
   {
    "duration": 0,
    "start_time": "2025-05-09T11:42:03.134Z"
   },
   {
    "duration": 0,
    "start_time": "2025-05-09T11:42:03.134Z"
   },
   {
    "duration": 0,
    "start_time": "2025-05-09T11:42:03.135Z"
   },
   {
    "duration": 0,
    "start_time": "2025-05-09T11:42:03.137Z"
   },
   {
    "duration": 0,
    "start_time": "2025-05-09T11:42:03.138Z"
   },
   {
    "duration": 0,
    "start_time": "2025-05-09T11:42:03.139Z"
   },
   {
    "duration": 0,
    "start_time": "2025-05-09T11:42:03.176Z"
   },
   {
    "duration": 0,
    "start_time": "2025-05-09T11:42:03.177Z"
   },
   {
    "duration": 0,
    "start_time": "2025-05-09T11:42:03.179Z"
   },
   {
    "duration": 0,
    "start_time": "2025-05-09T11:42:03.180Z"
   },
   {
    "duration": 0,
    "start_time": "2025-05-09T11:42:03.181Z"
   },
   {
    "duration": 0,
    "start_time": "2025-05-09T11:42:03.182Z"
   },
   {
    "duration": 0,
    "start_time": "2025-05-09T11:42:03.183Z"
   },
   {
    "duration": 1193,
    "start_time": "2025-05-09T11:43:57.409Z"
   },
   {
    "duration": 1713,
    "start_time": "2025-05-09T11:43:58.605Z"
   },
   {
    "duration": 18,
    "start_time": "2025-05-09T11:44:00.320Z"
   },
   {
    "duration": 127,
    "start_time": "2025-05-09T11:44:00.340Z"
   },
   {
    "duration": 13,
    "start_time": "2025-05-09T11:44:00.468Z"
   },
   {
    "duration": 29,
    "start_time": "2025-05-09T11:44:00.483Z"
   },
   {
    "duration": 11,
    "start_time": "2025-05-09T11:44:00.514Z"
   },
   {
    "duration": 134,
    "start_time": "2025-05-09T11:44:00.527Z"
   },
   {
    "duration": 841,
    "start_time": "2025-05-09T11:44:00.662Z"
   },
   {
    "duration": 230,
    "start_time": "2025-05-09T11:44:01.508Z"
   },
   {
    "duration": 640,
    "start_time": "2025-05-09T11:44:01.740Z"
   },
   {
    "duration": 103,
    "start_time": "2025-05-09T11:44:02.382Z"
   },
   {
    "duration": 48,
    "start_time": "2025-05-09T11:44:02.487Z"
   },
   {
    "duration": 281,
    "start_time": "2025-05-09T11:44:02.537Z"
   },
   {
    "duration": 44,
    "start_time": "2025-05-09T11:44:02.820Z"
   },
   {
    "duration": 278,
    "start_time": "2025-05-09T11:44:02.877Z"
   },
   {
    "duration": 74,
    "start_time": "2025-05-09T11:44:03.157Z"
   },
   {
    "duration": 615,
    "start_time": "2025-05-09T11:44:03.232Z"
   },
   {
    "duration": 576,
    "start_time": "2025-05-09T11:44:03.849Z"
   },
   {
    "duration": 687,
    "start_time": "2025-05-09T11:44:04.426Z"
   },
   {
    "duration": 166,
    "start_time": "2025-05-09T11:44:05.115Z"
   },
   {
    "duration": 4,
    "start_time": "2025-05-09T11:44:05.283Z"
   },
   {
    "duration": 36,
    "start_time": "2025-05-09T11:44:05.289Z"
   },
   {
    "duration": 23822,
    "start_time": "2025-05-09T11:44:05.326Z"
   },
   {
    "duration": 29,
    "start_time": "2025-05-09T11:44:29.149Z"
   },
   {
    "duration": 80,
    "start_time": "2025-05-09T11:44:29.180Z"
   },
   {
    "duration": 174,
    "start_time": "2025-05-09T11:44:29.262Z"
   },
   {
    "duration": 814,
    "start_time": "2025-05-09T11:44:29.439Z"
   },
   {
    "duration": 299,
    "start_time": "2025-05-09T11:44:30.255Z"
   },
   {
    "duration": 1078,
    "start_time": "2025-05-09T11:44:30.555Z"
   },
   {
    "duration": 334,
    "start_time": "2025-05-09T11:44:31.635Z"
   },
   {
    "duration": 195,
    "start_time": "2025-05-09T11:44:31.971Z"
   },
   {
    "duration": 73,
    "start_time": "2025-05-09T11:44:32.168Z"
   },
   {
    "duration": 84,
    "start_time": "2025-05-09T11:44:32.242Z"
   },
   {
    "duration": 113,
    "start_time": "2025-05-09T11:44:32.328Z"
   },
   {
    "duration": 222,
    "start_time": "2025-05-09T11:44:32.442Z"
   },
   {
    "duration": 11,
    "start_time": "2025-05-09T11:44:32.666Z"
   },
   {
    "duration": 58,
    "start_time": "2025-05-09T11:44:32.679Z"
   },
   {
    "duration": 4,
    "start_time": "2025-05-09T11:44:32.738Z"
   },
   {
    "duration": 84,
    "start_time": "2025-05-09T11:44:32.743Z"
   },
   {
    "duration": 257,
    "start_time": "2025-05-09T11:44:32.829Z"
   },
   {
    "duration": 151,
    "start_time": "2025-05-09T11:44:33.088Z"
   },
   {
    "duration": 266,
    "start_time": "2025-05-09T11:44:36.634Z"
   },
   {
    "duration": 159,
    "start_time": "2025-05-09T11:47:37.574Z"
   },
   {
    "duration": 1290,
    "start_time": "2025-05-09T11:55:06.375Z"
   },
   {
    "duration": 1788,
    "start_time": "2025-05-09T11:55:07.667Z"
   },
   {
    "duration": 22,
    "start_time": "2025-05-09T11:55:09.457Z"
   },
   {
    "duration": 136,
    "start_time": "2025-05-09T11:55:09.491Z"
   },
   {
    "duration": 12,
    "start_time": "2025-05-09T11:55:09.629Z"
   },
   {
    "duration": 63,
    "start_time": "2025-05-09T11:55:09.643Z"
   },
   {
    "duration": 12,
    "start_time": "2025-05-09T11:55:09.708Z"
   },
   {
    "duration": 139,
    "start_time": "2025-05-09T11:55:09.722Z"
   },
   {
    "duration": 956,
    "start_time": "2025-05-09T11:55:09.862Z"
   },
   {
    "duration": 222,
    "start_time": "2025-05-09T11:55:10.820Z"
   },
   {
    "duration": 612,
    "start_time": "2025-05-09T11:55:11.044Z"
   },
   {
    "duration": 99,
    "start_time": "2025-05-09T11:55:11.658Z"
   },
   {
    "duration": 53,
    "start_time": "2025-05-09T11:55:11.759Z"
   },
   {
    "duration": 351,
    "start_time": "2025-05-09T11:55:11.816Z"
   },
   {
    "duration": 62,
    "start_time": "2025-05-09T11:55:12.169Z"
   },
   {
    "duration": 298,
    "start_time": "2025-05-09T11:55:12.232Z"
   },
   {
    "duration": 46,
    "start_time": "2025-05-09T11:55:12.532Z"
   },
   {
    "duration": 671,
    "start_time": "2025-05-09T11:55:12.580Z"
   },
   {
    "duration": 609,
    "start_time": "2025-05-09T11:55:13.252Z"
   },
   {
    "duration": 732,
    "start_time": "2025-05-09T11:55:13.862Z"
   },
   {
    "duration": 200,
    "start_time": "2025-05-09T11:55:14.597Z"
   },
   {
    "duration": 39,
    "start_time": "2025-05-09T11:55:14.799Z"
   },
   {
    "duration": 4,
    "start_time": "2025-05-09T11:55:14.840Z"
   },
   {
    "duration": 53,
    "start_time": "2025-05-09T11:55:14.845Z"
   },
   {
    "duration": 25048,
    "start_time": "2025-05-09T11:55:14.901Z"
   },
   {
    "duration": 27,
    "start_time": "2025-05-09T11:55:39.951Z"
   },
   {
    "duration": 41,
    "start_time": "2025-05-09T11:55:39.982Z"
   },
   {
    "duration": 246,
    "start_time": "2025-05-09T11:55:40.027Z"
   },
   {
    "duration": 838,
    "start_time": "2025-05-09T11:55:40.275Z"
   },
   {
    "duration": 297,
    "start_time": "2025-05-09T11:55:41.115Z"
   },
   {
    "duration": 1069,
    "start_time": "2025-05-09T11:55:41.413Z"
   },
   {
    "duration": 324,
    "start_time": "2025-05-09T11:55:42.484Z"
   },
   {
    "duration": 156,
    "start_time": "2025-05-09T11:55:42.810Z"
   },
   {
    "duration": 73,
    "start_time": "2025-05-09T11:55:42.967Z"
   },
   {
    "duration": 76,
    "start_time": "2025-05-09T11:55:43.042Z"
   },
   {
    "duration": 125,
    "start_time": "2025-05-09T11:55:43.120Z"
   },
   {
    "duration": 219,
    "start_time": "2025-05-09T11:55:43.246Z"
   },
   {
    "duration": 12,
    "start_time": "2025-05-09T11:55:43.467Z"
   },
   {
    "duration": 63,
    "start_time": "2025-05-09T11:55:43.482Z"
   },
   {
    "duration": 4,
    "start_time": "2025-05-09T11:55:43.547Z"
   },
   {
    "duration": 111,
    "start_time": "2025-05-09T11:55:43.555Z"
   },
   {
    "duration": 291,
    "start_time": "2025-05-09T11:55:43.668Z"
   },
   {
    "duration": 182,
    "start_time": "2025-05-09T11:55:43.961Z"
   },
   {
    "duration": 360,
    "start_time": "2025-05-09T11:59:23.356Z"
   },
   {
    "duration": 211,
    "start_time": "2025-05-09T12:13:00.141Z"
   },
   {
    "duration": 257,
    "start_time": "2025-05-09T12:15:04.874Z"
   },
   {
    "duration": 271,
    "start_time": "2025-05-09T12:38:30.947Z"
   },
   {
    "duration": 249,
    "start_time": "2025-05-09T12:39:09.703Z"
   },
   {
    "duration": 694,
    "start_time": "2025-05-09T12:44:35.950Z"
   },
   {
    "duration": 1029,
    "start_time": "2025-05-09T12:44:52.642Z"
   },
   {
    "duration": 1050,
    "start_time": "2025-05-09T12:45:07.510Z"
   },
   {
    "duration": 1072,
    "start_time": "2025-05-09T12:46:21.360Z"
   },
   {
    "duration": 75,
    "start_time": "2025-05-09T12:50:28.658Z"
   },
   {
    "duration": 73,
    "start_time": "2025-05-09T12:50:43.757Z"
   },
   {
    "duration": 1222,
    "start_time": "2025-05-09T12:56:42.801Z"
   },
   {
    "duration": 1337,
    "start_time": "2025-05-09T12:58:11.599Z"
   },
   {
    "duration": 1532,
    "start_time": "2025-05-09T12:59:12.941Z"
   },
   {
    "duration": 1330,
    "start_time": "2025-05-09T12:59:40.278Z"
   },
   {
    "duration": 1318,
    "start_time": "2025-05-09T13:01:36.261Z"
   },
   {
    "duration": 1949,
    "start_time": "2025-05-09T13:01:37.581Z"
   },
   {
    "duration": 20,
    "start_time": "2025-05-09T13:01:39.532Z"
   },
   {
    "duration": 170,
    "start_time": "2025-05-09T13:01:39.554Z"
   },
   {
    "duration": 12,
    "start_time": "2025-05-09T13:01:39.727Z"
   },
   {
    "duration": 19,
    "start_time": "2025-05-09T13:01:39.740Z"
   },
   {
    "duration": 23,
    "start_time": "2025-05-09T13:01:39.761Z"
   },
   {
    "duration": 19,
    "start_time": "2025-05-09T13:01:39.785Z"
   },
   {
    "duration": 903,
    "start_time": "2025-05-09T13:01:39.805Z"
   },
   {
    "duration": 223,
    "start_time": "2025-05-09T13:01:40.709Z"
   },
   {
    "duration": 584,
    "start_time": "2025-05-09T13:01:40.933Z"
   },
   {
    "duration": 107,
    "start_time": "2025-05-09T13:01:41.518Z"
   },
   {
    "duration": 54,
    "start_time": "2025-05-09T13:01:41.626Z"
   },
   {
    "duration": 287,
    "start_time": "2025-05-09T13:01:41.684Z"
   },
   {
    "duration": 77,
    "start_time": "2025-05-09T13:01:41.975Z"
   },
   {
    "duration": 298,
    "start_time": "2025-05-09T13:01:42.054Z"
   },
   {
    "duration": 356,
    "start_time": "2025-05-09T13:01:42.353Z"
   },
   {
    "duration": 647,
    "start_time": "2025-05-09T13:01:42.710Z"
   },
   {
    "duration": 796,
    "start_time": "2025-05-09T13:01:43.358Z"
   },
   {
    "duration": 695,
    "start_time": "2025-05-09T13:01:44.155Z"
   },
   {
    "duration": 156,
    "start_time": "2025-05-09T13:01:44.852Z"
   },
   {
    "duration": 35,
    "start_time": "2025-05-09T13:01:45.009Z"
   },
   {
    "duration": 130,
    "start_time": "2025-05-09T13:01:45.045Z"
   },
   {
    "duration": 80,
    "start_time": "2025-05-09T13:01:45.177Z"
   },
   {
    "duration": 24788,
    "start_time": "2025-05-09T13:01:45.259Z"
   },
   {
    "duration": 39,
    "start_time": "2025-05-09T13:02:10.049Z"
   },
   {
    "duration": 6,
    "start_time": "2025-05-09T13:02:10.090Z"
   },
   {
    "duration": 173,
    "start_time": "2025-05-09T13:02:10.101Z"
   },
   {
    "duration": 846,
    "start_time": "2025-05-09T13:02:10.276Z"
   },
   {
    "duration": 238,
    "start_time": "2025-05-09T13:02:11.124Z"
   },
   {
    "duration": 1133,
    "start_time": "2025-05-09T13:02:11.364Z"
   },
   {
    "duration": 335,
    "start_time": "2025-05-09T13:02:12.500Z"
   },
   {
    "duration": 169,
    "start_time": "2025-05-09T13:02:12.836Z"
   },
   {
    "duration": 89,
    "start_time": "2025-05-09T13:02:13.006Z"
   },
   {
    "duration": 1476,
    "start_time": "2025-05-09T13:02:13.098Z"
   },
   {
    "duration": 0,
    "start_time": "2025-05-09T13:02:14.576Z"
   },
   {
    "duration": 0,
    "start_time": "2025-05-09T13:02:14.577Z"
   },
   {
    "duration": 0,
    "start_time": "2025-05-09T13:02:14.579Z"
   },
   {
    "duration": 0,
    "start_time": "2025-05-09T13:02:14.580Z"
   },
   {
    "duration": 1,
    "start_time": "2025-05-09T13:02:14.582Z"
   },
   {
    "duration": 0,
    "start_time": "2025-05-09T13:02:14.584Z"
   },
   {
    "duration": 0,
    "start_time": "2025-05-09T13:02:14.586Z"
   },
   {
    "duration": 0,
    "start_time": "2025-05-09T13:02:14.588Z"
   },
   {
    "duration": 1298,
    "start_time": "2025-05-09T13:02:55.428Z"
   },
   {
    "duration": 64,
    "start_time": "2025-05-09T13:05:03.897Z"
   },
   {
    "duration": 73,
    "start_time": "2025-05-09T13:05:44.068Z"
   },
   {
    "duration": 73,
    "start_time": "2025-05-09T13:05:51.531Z"
   },
   {
    "duration": 77,
    "start_time": "2025-05-09T13:06:58.125Z"
   },
   {
    "duration": 95,
    "start_time": "2025-05-09T13:07:04.974Z"
   },
   {
    "duration": 71,
    "start_time": "2025-05-09T13:07:20.852Z"
   },
   {
    "duration": 83,
    "start_time": "2025-05-09T13:07:31.234Z"
   },
   {
    "duration": 67,
    "start_time": "2025-05-09T13:12:36.122Z"
   },
   {
    "duration": 121,
    "start_time": "2025-05-09T13:37:36.540Z"
   },
   {
    "duration": 67,
    "start_time": "2025-05-09T13:38:24.167Z"
   },
   {
    "duration": 54,
    "start_time": "2025-05-09T13:39:46.770Z"
   },
   {
    "duration": 68,
    "start_time": "2025-05-09T13:40:55.370Z"
   },
   {
    "duration": 55,
    "start_time": "2025-05-09T13:41:22.147Z"
   },
   {
    "duration": 121,
    "start_time": "2025-05-09T13:44:42.933Z"
   },
   {
    "duration": 78,
    "start_time": "2025-05-09T13:48:30.884Z"
   },
   {
    "duration": 1296,
    "start_time": "2025-05-09T15:07:34.487Z"
   },
   {
    "duration": 1904,
    "start_time": "2025-05-09T15:07:35.785Z"
   },
   {
    "duration": 20,
    "start_time": "2025-05-09T15:07:37.691Z"
   },
   {
    "duration": 201,
    "start_time": "2025-05-09T15:07:37.713Z"
   },
   {
    "duration": 49,
    "start_time": "2025-05-09T15:07:37.916Z"
   },
   {
    "duration": 294,
    "start_time": "2025-05-09T15:07:37.966Z"
   },
   {
    "duration": 9,
    "start_time": "2025-05-09T15:07:38.262Z"
   },
   {
    "duration": 24,
    "start_time": "2025-05-09T15:07:38.272Z"
   },
   {
    "duration": 850,
    "start_time": "2025-05-09T15:07:38.297Z"
   },
   {
    "duration": 197,
    "start_time": "2025-05-09T15:07:39.148Z"
   },
   {
    "duration": 526,
    "start_time": "2025-05-09T15:07:39.347Z"
   },
   {
    "duration": 95,
    "start_time": "2025-05-09T15:07:39.875Z"
   },
   {
    "duration": 43,
    "start_time": "2025-05-09T15:07:39.972Z"
   },
   {
    "duration": 273,
    "start_time": "2025-05-09T15:07:40.018Z"
   },
   {
    "duration": 57,
    "start_time": "2025-05-09T15:07:40.293Z"
   },
   {
    "duration": 268,
    "start_time": "2025-05-09T15:07:40.351Z"
   },
   {
    "duration": 321,
    "start_time": "2025-05-09T15:07:40.621Z"
   },
   {
    "duration": 583,
    "start_time": "2025-05-09T15:07:40.943Z"
   },
   {
    "duration": 714,
    "start_time": "2025-05-09T15:07:41.528Z"
   },
   {
    "duration": 623,
    "start_time": "2025-05-09T15:07:42.244Z"
   },
   {
    "duration": 128,
    "start_time": "2025-05-09T15:07:42.869Z"
   },
   {
    "duration": 50,
    "start_time": "2025-05-09T15:07:42.999Z"
   },
   {
    "duration": 4,
    "start_time": "2025-05-09T15:07:43.051Z"
   },
   {
    "duration": 70,
    "start_time": "2025-05-09T15:07:43.056Z"
   },
   {
    "duration": 22978,
    "start_time": "2025-05-09T15:07:43.128Z"
   },
   {
    "duration": 34,
    "start_time": "2025-05-09T15:08:06.107Z"
   },
   {
    "duration": 55,
    "start_time": "2025-05-09T15:08:06.143Z"
   },
   {
    "duration": 176,
    "start_time": "2025-05-09T15:08:06.199Z"
   },
   {
    "duration": 755,
    "start_time": "2025-05-09T15:08:06.377Z"
   },
   {
    "duration": 215,
    "start_time": "2025-05-09T15:08:07.133Z"
   },
   {
    "duration": 1048,
    "start_time": "2025-05-09T15:08:07.349Z"
   },
   {
    "duration": 302,
    "start_time": "2025-05-09T15:08:08.399Z"
   },
   {
    "duration": 153,
    "start_time": "2025-05-09T15:08:08.703Z"
   },
   {
    "duration": 61,
    "start_time": "2025-05-09T15:08:08.858Z"
   },
   {
    "duration": 89,
    "start_time": "2025-05-09T15:08:08.921Z"
   },
   {
    "duration": 136,
    "start_time": "2025-05-09T15:08:09.012Z"
   },
   {
    "duration": 53,
    "start_time": "2025-05-09T15:08:09.150Z"
   },
   {
    "duration": 209,
    "start_time": "2025-05-09T15:08:09.205Z"
   },
   {
    "duration": 112,
    "start_time": "2025-05-09T15:08:09.416Z"
   },
   {
    "duration": 0,
    "start_time": "2025-05-09T15:08:09.530Z"
   },
   {
    "duration": 0,
    "start_time": "2025-05-09T15:08:09.532Z"
   },
   {
    "duration": 0,
    "start_time": "2025-05-09T15:08:09.536Z"
   },
   {
    "duration": 0,
    "start_time": "2025-05-09T15:08:09.537Z"
   },
   {
    "duration": 12,
    "start_time": "2025-05-09T15:17:55.999Z"
   },
   {
    "duration": 15,
    "start_time": "2025-05-09T15:18:17.650Z"
   },
   {
    "duration": 137,
    "start_time": "2025-05-09T15:39:29.152Z"
   },
   {
    "duration": 136,
    "start_time": "2025-05-09T15:42:28.196Z"
   },
   {
    "duration": 10,
    "start_time": "2025-05-09T17:01:28.183Z"
   },
   {
    "duration": 1225,
    "start_time": "2025-05-09T17:01:38.744Z"
   },
   {
    "duration": 2575,
    "start_time": "2025-05-09T17:01:39.971Z"
   },
   {
    "duration": 20,
    "start_time": "2025-05-09T17:01:42.548Z"
   },
   {
    "duration": 105,
    "start_time": "2025-05-09T17:01:42.570Z"
   },
   {
    "duration": 12,
    "start_time": "2025-05-09T17:01:42.678Z"
   },
   {
    "duration": 20,
    "start_time": "2025-05-09T17:01:42.691Z"
   },
   {
    "duration": 25,
    "start_time": "2025-05-09T17:01:42.712Z"
   },
   {
    "duration": 43,
    "start_time": "2025-05-09T17:01:42.738Z"
   },
   {
    "duration": 827,
    "start_time": "2025-05-09T17:01:42.782Z"
   },
   {
    "duration": 199,
    "start_time": "2025-05-09T17:01:43.611Z"
   },
   {
    "duration": 517,
    "start_time": "2025-05-09T17:01:43.812Z"
   },
   {
    "duration": 119,
    "start_time": "2025-05-09T17:01:44.331Z"
   },
   {
    "duration": 43,
    "start_time": "2025-05-09T17:01:44.452Z"
   },
   {
    "duration": 262,
    "start_time": "2025-05-09T17:01:44.499Z"
   },
   {
    "duration": 50,
    "start_time": "2025-05-09T17:01:44.762Z"
   },
   {
    "duration": 273,
    "start_time": "2025-05-09T17:01:44.813Z"
   },
   {
    "duration": 317,
    "start_time": "2025-05-09T17:01:45.088Z"
   },
   {
    "duration": 563,
    "start_time": "2025-05-09T17:01:45.406Z"
   },
   {
    "duration": 699,
    "start_time": "2025-05-09T17:01:45.970Z"
   },
   {
    "duration": 623,
    "start_time": "2025-05-09T17:01:46.671Z"
   },
   {
    "duration": 127,
    "start_time": "2025-05-09T17:01:47.296Z"
   },
   {
    "duration": 44,
    "start_time": "2025-05-09T17:01:47.424Z"
   },
   {
    "duration": 5,
    "start_time": "2025-05-09T17:01:47.469Z"
   },
   {
    "duration": 42,
    "start_time": "2025-05-09T17:01:47.475Z"
   },
   {
    "duration": 23028,
    "start_time": "2025-05-09T17:01:47.519Z"
   },
   {
    "duration": 24,
    "start_time": "2025-05-09T17:02:10.549Z"
   },
   {
    "duration": 4,
    "start_time": "2025-05-09T17:02:10.575Z"
   },
   {
    "duration": 178,
    "start_time": "2025-05-09T17:02:10.581Z"
   },
   {
    "duration": 744,
    "start_time": "2025-05-09T17:02:10.761Z"
   },
   {
    "duration": 225,
    "start_time": "2025-05-09T17:02:11.507Z"
   },
   {
    "duration": 1031,
    "start_time": "2025-05-09T17:02:11.734Z"
   },
   {
    "duration": 296,
    "start_time": "2025-05-09T17:02:12.768Z"
   },
   {
    "duration": 156,
    "start_time": "2025-05-09T17:02:13.066Z"
   },
   {
    "duration": 70,
    "start_time": "2025-05-09T17:02:13.224Z"
   },
   {
    "duration": 78,
    "start_time": "2025-05-09T17:02:13.296Z"
   },
   {
    "duration": 119,
    "start_time": "2025-05-09T17:02:13.376Z"
   },
   {
    "duration": 67,
    "start_time": "2025-05-09T17:02:13.497Z"
   },
   {
    "duration": 158,
    "start_time": "2025-05-09T17:02:13.566Z"
   },
   {
    "duration": 118,
    "start_time": "2025-05-09T17:02:13.725Z"
   },
   {
    "duration": 0,
    "start_time": "2025-05-09T17:02:13.844Z"
   },
   {
    "duration": 0,
    "start_time": "2025-05-09T17:02:13.845Z"
   },
   {
    "duration": 0,
    "start_time": "2025-05-09T17:02:13.846Z"
   },
   {
    "duration": 0,
    "start_time": "2025-05-09T17:02:13.847Z"
   },
   {
    "duration": 1190,
    "start_time": "2025-05-09T17:03:51.874Z"
   },
   {
    "duration": 1679,
    "start_time": "2025-05-09T17:03:53.065Z"
   },
   {
    "duration": 26,
    "start_time": "2025-05-09T17:03:54.746Z"
   },
   {
    "duration": 183,
    "start_time": "2025-05-09T17:03:54.774Z"
   },
   {
    "duration": 13,
    "start_time": "2025-05-09T17:03:54.958Z"
   },
   {
    "duration": 32,
    "start_time": "2025-05-09T17:03:54.973Z"
   },
   {
    "duration": 9,
    "start_time": "2025-05-09T17:03:55.006Z"
   },
   {
    "duration": 23,
    "start_time": "2025-05-09T17:03:55.017Z"
   },
   {
    "duration": 870,
    "start_time": "2025-05-09T17:03:55.042Z"
   },
   {
    "duration": 224,
    "start_time": "2025-05-09T17:03:55.915Z"
   },
   {
    "duration": 639,
    "start_time": "2025-05-09T17:03:56.140Z"
   },
   {
    "duration": 106,
    "start_time": "2025-05-09T17:03:56.780Z"
   },
   {
    "duration": 54,
    "start_time": "2025-05-09T17:03:56.888Z"
   },
   {
    "duration": 283,
    "start_time": "2025-05-09T17:03:56.944Z"
   },
   {
    "duration": 61,
    "start_time": "2025-05-09T17:03:57.229Z"
   },
   {
    "duration": 290,
    "start_time": "2025-05-09T17:03:57.292Z"
   },
   {
    "duration": 321,
    "start_time": "2025-05-09T17:03:57.584Z"
   },
   {
    "duration": 608,
    "start_time": "2025-05-09T17:03:57.907Z"
   },
   {
    "duration": 729,
    "start_time": "2025-05-09T17:03:58.517Z"
   },
   {
    "duration": 607,
    "start_time": "2025-05-09T17:03:59.248Z"
   },
   {
    "duration": 135,
    "start_time": "2025-05-09T17:03:59.857Z"
   },
   {
    "duration": 42,
    "start_time": "2025-05-09T17:03:59.994Z"
   },
   {
    "duration": 81,
    "start_time": "2025-05-09T17:04:00.038Z"
   },
   {
    "duration": 44,
    "start_time": "2025-05-09T17:04:00.121Z"
   },
   {
    "duration": 23557,
    "start_time": "2025-05-09T17:04:00.167Z"
   },
   {
    "duration": 24,
    "start_time": "2025-05-09T17:04:23.726Z"
   },
   {
    "duration": 15,
    "start_time": "2025-05-09T17:04:23.752Z"
   },
   {
    "duration": 171,
    "start_time": "2025-05-09T17:04:23.770Z"
   },
   {
    "duration": 780,
    "start_time": "2025-05-09T17:04:23.942Z"
   },
   {
    "duration": 219,
    "start_time": "2025-05-09T17:04:24.724Z"
   },
   {
    "duration": 1001,
    "start_time": "2025-05-09T17:04:24.944Z"
   },
   {
    "duration": 299,
    "start_time": "2025-05-09T17:04:25.947Z"
   },
   {
    "duration": 160,
    "start_time": "2025-05-09T17:04:26.248Z"
   },
   {
    "duration": 73,
    "start_time": "2025-05-09T17:04:26.409Z"
   },
   {
    "duration": 81,
    "start_time": "2025-05-09T17:04:26.483Z"
   },
   {
    "duration": 116,
    "start_time": "2025-05-09T17:04:26.566Z"
   },
   {
    "duration": 63,
    "start_time": "2025-05-09T17:04:26.683Z"
   },
   {
    "duration": 147,
    "start_time": "2025-05-09T17:04:26.748Z"
   },
   {
    "duration": 108,
    "start_time": "2025-05-09T17:04:26.896Z"
   },
   {
    "duration": 0,
    "start_time": "2025-05-09T17:04:27.006Z"
   },
   {
    "duration": 0,
    "start_time": "2025-05-09T17:04:27.007Z"
   },
   {
    "duration": 0,
    "start_time": "2025-05-09T17:04:27.008Z"
   },
   {
    "duration": 0,
    "start_time": "2025-05-09T17:04:27.009Z"
   },
   {
    "duration": 14,
    "start_time": "2025-05-09T17:05:15.523Z"
   },
   {
    "duration": 15,
    "start_time": "2025-05-09T17:05:22.935Z"
   },
   {
    "duration": 10,
    "start_time": "2025-05-09T17:05:26.332Z"
   },
   {
    "duration": 3,
    "start_time": "2025-05-09T17:05:52.328Z"
   },
   {
    "duration": 14,
    "start_time": "2025-05-09T17:07:38.881Z"
   },
   {
    "duration": 1261,
    "start_time": "2025-05-09T17:07:46.733Z"
   },
   {
    "duration": 1812,
    "start_time": "2025-05-09T17:07:47.996Z"
   },
   {
    "duration": 19,
    "start_time": "2025-05-09T17:07:49.810Z"
   },
   {
    "duration": 112,
    "start_time": "2025-05-09T17:07:49.831Z"
   },
   {
    "duration": 13,
    "start_time": "2025-05-09T17:07:49.945Z"
   },
   {
    "duration": 31,
    "start_time": "2025-05-09T17:07:49.960Z"
   },
   {
    "duration": 8,
    "start_time": "2025-05-09T17:07:49.993Z"
   },
   {
    "duration": 28,
    "start_time": "2025-05-09T17:07:50.003Z"
   },
   {
    "duration": 861,
    "start_time": "2025-05-09T17:07:50.033Z"
   },
   {
    "duration": 192,
    "start_time": "2025-05-09T17:07:50.896Z"
   },
   {
    "duration": 526,
    "start_time": "2025-05-09T17:07:51.090Z"
   },
   {
    "duration": 94,
    "start_time": "2025-05-09T17:07:51.618Z"
   },
   {
    "duration": 56,
    "start_time": "2025-05-09T17:07:51.714Z"
   },
   {
    "duration": 270,
    "start_time": "2025-05-09T17:07:51.774Z"
   },
   {
    "duration": 49,
    "start_time": "2025-05-09T17:07:52.046Z"
   },
   {
    "duration": 281,
    "start_time": "2025-05-09T17:07:52.096Z"
   },
   {
    "duration": 316,
    "start_time": "2025-05-09T17:07:52.379Z"
   },
   {
    "duration": 580,
    "start_time": "2025-05-09T17:07:52.697Z"
   },
   {
    "duration": 717,
    "start_time": "2025-05-09T17:07:53.280Z"
   },
   {
    "duration": 650,
    "start_time": "2025-05-09T17:07:53.999Z"
   },
   {
    "duration": 135,
    "start_time": "2025-05-09T17:07:54.652Z"
   },
   {
    "duration": 32,
    "start_time": "2025-05-09T17:07:54.790Z"
   },
   {
    "duration": 52,
    "start_time": "2025-05-09T17:07:54.824Z"
   },
   {
    "duration": 35,
    "start_time": "2025-05-09T17:07:54.878Z"
   },
   {
    "duration": 23107,
    "start_time": "2025-05-09T17:07:54.915Z"
   },
   {
    "duration": 28,
    "start_time": "2025-05-09T17:08:18.024Z"
   },
   {
    "duration": 4,
    "start_time": "2025-05-09T17:08:18.054Z"
   },
   {
    "duration": 170,
    "start_time": "2025-05-09T17:08:18.059Z"
   },
   {
    "duration": 756,
    "start_time": "2025-05-09T17:08:18.230Z"
   },
   {
    "duration": 229,
    "start_time": "2025-05-09T17:08:18.988Z"
   },
   {
    "duration": 990,
    "start_time": "2025-05-09T17:08:19.219Z"
   },
   {
    "duration": 311,
    "start_time": "2025-05-09T17:08:20.211Z"
   },
   {
    "duration": 157,
    "start_time": "2025-05-09T17:08:20.523Z"
   },
   {
    "duration": 71,
    "start_time": "2025-05-09T17:08:20.682Z"
   },
   {
    "duration": 67,
    "start_time": "2025-05-09T17:08:20.755Z"
   },
   {
    "duration": 144,
    "start_time": "2025-05-09T17:08:20.836Z"
   },
   {
    "duration": 61,
    "start_time": "2025-05-09T17:08:20.982Z"
   },
   {
    "duration": 143,
    "start_time": "2025-05-09T17:08:21.044Z"
   },
   {
    "duration": 113,
    "start_time": "2025-05-09T17:08:21.189Z"
   },
   {
    "duration": 0,
    "start_time": "2025-05-09T17:08:21.303Z"
   },
   {
    "duration": 0,
    "start_time": "2025-05-09T17:08:21.305Z"
   },
   {
    "duration": 0,
    "start_time": "2025-05-09T17:08:21.306Z"
   },
   {
    "duration": 0,
    "start_time": "2025-05-09T17:08:21.307Z"
   },
   {
    "duration": 11,
    "start_time": "2025-05-09T17:09:29.471Z"
   },
   {
    "duration": 1244,
    "start_time": "2025-05-09T17:10:45.917Z"
   },
   {
    "duration": 2099,
    "start_time": "2025-05-09T17:10:47.162Z"
   },
   {
    "duration": 21,
    "start_time": "2025-05-09T17:10:49.262Z"
   },
   {
    "duration": 113,
    "start_time": "2025-05-09T17:10:49.284Z"
   },
   {
    "duration": 14,
    "start_time": "2025-05-09T17:10:49.399Z"
   },
   {
    "duration": 34,
    "start_time": "2025-05-09T17:10:49.414Z"
   },
   {
    "duration": 9,
    "start_time": "2025-05-09T17:10:49.450Z"
   },
   {
    "duration": 11,
    "start_time": "2025-05-09T17:10:49.461Z"
   },
   {
    "duration": 863,
    "start_time": "2025-05-09T17:10:49.474Z"
   },
   {
    "duration": 200,
    "start_time": "2025-05-09T17:10:50.339Z"
   },
   {
    "duration": 529,
    "start_time": "2025-05-09T17:10:50.540Z"
   },
   {
    "duration": 108,
    "start_time": "2025-05-09T17:10:51.070Z"
   },
   {
    "duration": 44,
    "start_time": "2025-05-09T17:10:51.179Z"
   },
   {
    "duration": 250,
    "start_time": "2025-05-09T17:10:51.236Z"
   },
   {
    "duration": 58,
    "start_time": "2025-05-09T17:10:51.488Z"
   },
   {
    "duration": 273,
    "start_time": "2025-05-09T17:10:51.548Z"
   },
   {
    "duration": 316,
    "start_time": "2025-05-09T17:10:51.822Z"
   },
   {
    "duration": 578,
    "start_time": "2025-05-09T17:10:52.140Z"
   },
   {
    "duration": 712,
    "start_time": "2025-05-09T17:10:52.720Z"
   },
   {
    "duration": 618,
    "start_time": "2025-05-09T17:10:53.437Z"
   },
   {
    "duration": 135,
    "start_time": "2025-05-09T17:10:54.057Z"
   },
   {
    "duration": 101,
    "start_time": "2025-05-09T17:10:54.194Z"
   },
   {
    "duration": 4,
    "start_time": "2025-05-09T17:10:54.297Z"
   },
   {
    "duration": 29,
    "start_time": "2025-05-09T17:10:54.303Z"
   },
   {
    "duration": 23111,
    "start_time": "2025-05-09T17:10:54.334Z"
   },
   {
    "duration": 24,
    "start_time": "2025-05-09T17:11:17.447Z"
   },
   {
    "duration": 18,
    "start_time": "2025-05-09T17:11:17.473Z"
   },
   {
    "duration": 172,
    "start_time": "2025-05-09T17:11:17.493Z"
   },
   {
    "duration": 773,
    "start_time": "2025-05-09T17:11:17.668Z"
   },
   {
    "duration": 217,
    "start_time": "2025-05-09T17:11:18.443Z"
   },
   {
    "duration": 1016,
    "start_time": "2025-05-09T17:11:18.661Z"
   },
   {
    "duration": 298,
    "start_time": "2025-05-09T17:11:19.680Z"
   },
   {
    "duration": 158,
    "start_time": "2025-05-09T17:11:19.979Z"
   },
   {
    "duration": 65,
    "start_time": "2025-05-09T17:11:20.139Z"
   },
   {
    "duration": 125,
    "start_time": "2025-05-09T17:11:20.206Z"
   },
   {
    "duration": 57,
    "start_time": "2025-05-09T17:11:20.333Z"
   },
   {
    "duration": 156,
    "start_time": "2025-05-09T17:11:20.392Z"
   },
   {
    "duration": 114,
    "start_time": "2025-05-09T17:11:20.550Z"
   },
   {
    "duration": 0,
    "start_time": "2025-05-09T17:11:20.666Z"
   },
   {
    "duration": 0,
    "start_time": "2025-05-09T17:11:20.667Z"
   },
   {
    "duration": 0,
    "start_time": "2025-05-09T17:11:20.669Z"
   },
   {
    "duration": 0,
    "start_time": "2025-05-09T17:11:20.671Z"
   },
   {
    "duration": 66,
    "start_time": "2025-05-09T17:19:01.565Z"
   },
   {
    "duration": 137,
    "start_time": "2025-05-09T17:19:11.646Z"
   },
   {
    "duration": 11,
    "start_time": "2025-05-09T17:19:21.407Z"
   },
   {
    "duration": 65,
    "start_time": "2025-05-09T17:19:40.978Z"
   },
   {
    "duration": 60,
    "start_time": "2025-05-09T17:19:50.410Z"
   },
   {
    "duration": 61,
    "start_time": "2025-05-09T17:20:35.852Z"
   },
   {
    "duration": 3,
    "start_time": "2025-05-09T17:20:38.602Z"
   },
   {
    "duration": 14,
    "start_time": "2025-05-09T17:20:55.500Z"
   },
   {
    "duration": 4,
    "start_time": "2025-05-09T17:21:01.065Z"
   },
   {
    "duration": 1258,
    "start_time": "2025-05-09T17:21:08.408Z"
   },
   {
    "duration": 1804,
    "start_time": "2025-05-09T17:21:09.668Z"
   },
   {
    "duration": 21,
    "start_time": "2025-05-09T17:21:11.474Z"
   },
   {
    "duration": 108,
    "start_time": "2025-05-09T17:21:11.496Z"
   },
   {
    "duration": 12,
    "start_time": "2025-05-09T17:21:11.606Z"
   },
   {
    "duration": 34,
    "start_time": "2025-05-09T17:21:11.620Z"
   },
   {
    "duration": 12,
    "start_time": "2025-05-09T17:21:11.655Z"
   },
   {
    "duration": 12,
    "start_time": "2025-05-09T17:21:11.668Z"
   },
   {
    "duration": 866,
    "start_time": "2025-05-09T17:21:11.682Z"
   },
   {
    "duration": 199,
    "start_time": "2025-05-09T17:21:12.550Z"
   },
   {
    "duration": 525,
    "start_time": "2025-05-09T17:21:12.751Z"
   },
   {
    "duration": 98,
    "start_time": "2025-05-09T17:21:13.278Z"
   },
   {
    "duration": 42,
    "start_time": "2025-05-09T17:21:13.378Z"
   },
   {
    "duration": 250,
    "start_time": "2025-05-09T17:21:13.435Z"
   },
   {
    "duration": 63,
    "start_time": "2025-05-09T17:21:13.686Z"
   },
   {
    "duration": 271,
    "start_time": "2025-05-09T17:21:13.750Z"
   },
   {
    "duration": 313,
    "start_time": "2025-05-09T17:21:14.023Z"
   },
   {
    "duration": 587,
    "start_time": "2025-05-09T17:21:14.338Z"
   },
   {
    "duration": 713,
    "start_time": "2025-05-09T17:21:14.927Z"
   },
   {
    "duration": 621,
    "start_time": "2025-05-09T17:21:15.642Z"
   },
   {
    "duration": 126,
    "start_time": "2025-05-09T17:21:16.265Z"
   },
   {
    "duration": 44,
    "start_time": "2025-05-09T17:21:16.393Z"
   },
   {
    "duration": 3,
    "start_time": "2025-05-09T17:21:16.439Z"
   },
   {
    "duration": 43,
    "start_time": "2025-05-09T17:21:16.444Z"
   },
   {
    "duration": 23474,
    "start_time": "2025-05-09T17:21:16.489Z"
   },
   {
    "duration": 24,
    "start_time": "2025-05-09T17:21:39.964Z"
   },
   {
    "duration": 13,
    "start_time": "2025-05-09T17:21:39.989Z"
   },
   {
    "duration": 176,
    "start_time": "2025-05-09T17:21:40.003Z"
   },
   {
    "duration": 770,
    "start_time": "2025-05-09T17:21:40.180Z"
   },
   {
    "duration": 225,
    "start_time": "2025-05-09T17:21:40.951Z"
   },
   {
    "duration": 971,
    "start_time": "2025-05-09T17:21:41.178Z"
   },
   {
    "duration": 290,
    "start_time": "2025-05-09T17:21:42.150Z"
   },
   {
    "duration": 144,
    "start_time": "2025-05-09T17:21:42.442Z"
   },
   {
    "duration": 70,
    "start_time": "2025-05-09T17:21:42.588Z"
   },
   {
    "duration": 65,
    "start_time": "2025-05-09T17:21:42.659Z"
   },
   {
    "duration": 55,
    "start_time": "2025-05-09T17:21:42.739Z"
   },
   {
    "duration": 150,
    "start_time": "2025-05-09T17:21:42.796Z"
   },
   {
    "duration": 114,
    "start_time": "2025-05-09T17:21:42.948Z"
   },
   {
    "duration": 0,
    "start_time": "2025-05-09T17:21:43.064Z"
   },
   {
    "duration": 0,
    "start_time": "2025-05-09T17:21:43.066Z"
   },
   {
    "duration": 0,
    "start_time": "2025-05-09T17:21:43.068Z"
   },
   {
    "duration": 0,
    "start_time": "2025-05-09T17:21:43.070Z"
   },
   {
    "duration": 9,
    "start_time": "2025-05-09T17:21:53.794Z"
   },
   {
    "duration": 11,
    "start_time": "2025-05-09T17:46:49.636Z"
   },
   {
    "duration": 1242,
    "start_time": "2025-05-09T17:47:28.796Z"
   },
   {
    "duration": 2134,
    "start_time": "2025-05-09T17:47:30.040Z"
   },
   {
    "duration": 21,
    "start_time": "2025-05-09T17:47:32.175Z"
   },
   {
    "duration": 115,
    "start_time": "2025-05-09T17:47:32.197Z"
   },
   {
    "duration": 39,
    "start_time": "2025-05-09T17:47:32.314Z"
   },
   {
    "duration": 137,
    "start_time": "2025-05-09T17:47:32.355Z"
   },
   {
    "duration": 11,
    "start_time": "2025-05-09T17:47:32.494Z"
   },
   {
    "duration": 35,
    "start_time": "2025-05-09T17:47:32.507Z"
   },
   {
    "duration": 862,
    "start_time": "2025-05-09T17:47:32.544Z"
   },
   {
    "duration": 197,
    "start_time": "2025-05-09T17:47:33.408Z"
   },
   {
    "duration": 543,
    "start_time": "2025-05-09T17:47:33.607Z"
   },
   {
    "duration": 103,
    "start_time": "2025-05-09T17:47:34.151Z"
   },
   {
    "duration": 44,
    "start_time": "2025-05-09T17:47:34.256Z"
   },
   {
    "duration": 383,
    "start_time": "2025-05-09T17:47:34.303Z"
   },
   {
    "duration": 61,
    "start_time": "2025-05-09T17:47:34.688Z"
   },
   {
    "duration": 281,
    "start_time": "2025-05-09T17:47:34.750Z"
   },
   {
    "duration": 339,
    "start_time": "2025-05-09T17:47:35.036Z"
   },
   {
    "duration": 585,
    "start_time": "2025-05-09T17:47:35.377Z"
   },
   {
    "duration": 729,
    "start_time": "2025-05-09T17:47:35.964Z"
   },
   {
    "duration": 657,
    "start_time": "2025-05-09T17:47:36.694Z"
   },
   {
    "duration": 134,
    "start_time": "2025-05-09T17:47:37.353Z"
   },
   {
    "duration": 33,
    "start_time": "2025-05-09T17:47:37.489Z"
   },
   {
    "duration": 13,
    "start_time": "2025-05-09T17:47:37.523Z"
   },
   {
    "duration": 34,
    "start_time": "2025-05-09T17:47:37.538Z"
   },
   {
    "duration": 22854,
    "start_time": "2025-05-09T17:47:37.574Z"
   },
   {
    "duration": 26,
    "start_time": "2025-05-09T17:48:00.429Z"
   },
   {
    "duration": 4,
    "start_time": "2025-05-09T17:48:00.456Z"
   },
   {
    "duration": 189,
    "start_time": "2025-05-09T17:48:00.462Z"
   },
   {
    "duration": 757,
    "start_time": "2025-05-09T17:48:00.653Z"
   },
   {
    "duration": 232,
    "start_time": "2025-05-09T17:48:01.412Z"
   },
   {
    "duration": 1007,
    "start_time": "2025-05-09T17:48:01.646Z"
   },
   {
    "duration": 296,
    "start_time": "2025-05-09T17:48:02.655Z"
   },
   {
    "duration": 157,
    "start_time": "2025-05-09T17:48:02.952Z"
   },
   {
    "duration": 70,
    "start_time": "2025-05-09T17:48:03.111Z"
   },
   {
    "duration": 76,
    "start_time": "2025-05-09T17:48:03.183Z"
   },
   {
    "duration": 56,
    "start_time": "2025-05-09T17:48:03.261Z"
   },
   {
    "duration": 155,
    "start_time": "2025-05-09T17:48:03.319Z"
   },
   {
    "duration": 116,
    "start_time": "2025-05-09T17:48:03.477Z"
   },
   {
    "duration": 0,
    "start_time": "2025-05-09T17:48:03.595Z"
   },
   {
    "duration": 0,
    "start_time": "2025-05-09T17:48:03.597Z"
   },
   {
    "duration": 0,
    "start_time": "2025-05-09T17:48:03.599Z"
   },
   {
    "duration": 0,
    "start_time": "2025-05-09T17:48:03.600Z"
   },
   {
    "duration": 55,
    "start_time": "2025-05-09T17:50:36.169Z"
   },
   {
    "duration": 10,
    "start_time": "2025-05-09T17:52:24.183Z"
   },
   {
    "duration": 54,
    "start_time": "2025-05-09T17:55:07.202Z"
   },
   {
    "duration": 1233,
    "start_time": "2025-05-09T18:05:16.039Z"
   },
   {
    "duration": 1730,
    "start_time": "2025-05-09T18:05:17.274Z"
   },
   {
    "duration": 27,
    "start_time": "2025-05-09T18:05:19.006Z"
   },
   {
    "duration": 110,
    "start_time": "2025-05-09T18:05:19.034Z"
   },
   {
    "duration": 13,
    "start_time": "2025-05-09T18:05:19.147Z"
   },
   {
    "duration": 43,
    "start_time": "2025-05-09T18:05:19.162Z"
   },
   {
    "duration": 9,
    "start_time": "2025-05-09T18:05:19.207Z"
   },
   {
    "duration": 20,
    "start_time": "2025-05-09T18:05:19.217Z"
   },
   {
    "duration": 871,
    "start_time": "2025-05-09T18:05:19.239Z"
   },
   {
    "duration": 200,
    "start_time": "2025-05-09T18:05:20.112Z"
   },
   {
    "duration": 560,
    "start_time": "2025-05-09T18:05:20.314Z"
   },
   {
    "duration": 101,
    "start_time": "2025-05-09T18:05:20.876Z"
   },
   {
    "duration": 46,
    "start_time": "2025-05-09T18:05:20.978Z"
   },
   {
    "duration": 301,
    "start_time": "2025-05-09T18:05:21.038Z"
   },
   {
    "duration": 49,
    "start_time": "2025-05-09T18:05:21.341Z"
   },
   {
    "duration": 298,
    "start_time": "2025-05-09T18:05:21.392Z"
   },
   {
    "duration": 334,
    "start_time": "2025-05-09T18:05:21.692Z"
   },
   {
    "duration": 585,
    "start_time": "2025-05-09T18:05:22.027Z"
   },
   {
    "duration": 729,
    "start_time": "2025-05-09T18:05:22.614Z"
   },
   {
    "duration": 637,
    "start_time": "2025-05-09T18:05:23.345Z"
   },
   {
    "duration": 129,
    "start_time": "2025-05-09T18:05:23.984Z"
   },
   {
    "duration": 41,
    "start_time": "2025-05-09T18:05:24.115Z"
   },
   {
    "duration": 4,
    "start_time": "2025-05-09T18:05:24.158Z"
   },
   {
    "duration": 37,
    "start_time": "2025-05-09T18:05:24.163Z"
   },
   {
    "duration": 23238,
    "start_time": "2025-05-09T18:05:24.202Z"
   },
   {
    "duration": 23,
    "start_time": "2025-05-09T18:05:47.441Z"
   },
   {
    "duration": 27,
    "start_time": "2025-05-09T18:05:47.466Z"
   },
   {
    "duration": 153,
    "start_time": "2025-05-09T18:05:47.495Z"
   },
   {
    "duration": 753,
    "start_time": "2025-05-09T18:05:47.649Z"
   },
   {
    "duration": 215,
    "start_time": "2025-05-09T18:05:48.404Z"
   },
   {
    "duration": 1021,
    "start_time": "2025-05-09T18:05:48.620Z"
   },
   {
    "duration": 310,
    "start_time": "2025-05-09T18:05:49.643Z"
   },
   {
    "duration": 153,
    "start_time": "2025-05-09T18:05:49.954Z"
   },
   {
    "duration": 74,
    "start_time": "2025-05-09T18:05:50.108Z"
   },
   {
    "duration": 73,
    "start_time": "2025-05-09T18:05:50.184Z"
   },
   {
    "duration": 55,
    "start_time": "2025-05-09T18:05:50.259Z"
   },
   {
    "duration": 143,
    "start_time": "2025-05-09T18:05:50.316Z"
   },
   {
    "duration": 153,
    "start_time": "2025-05-09T18:05:50.461Z"
   },
   {
    "duration": 0,
    "start_time": "2025-05-09T18:05:50.615Z"
   },
   {
    "duration": 0,
    "start_time": "2025-05-09T18:05:50.616Z"
   },
   {
    "duration": 0,
    "start_time": "2025-05-09T18:05:50.617Z"
   },
   {
    "duration": 0,
    "start_time": "2025-05-09T18:05:50.619Z"
   },
   {
    "duration": 0,
    "start_time": "2025-05-09T18:05:50.636Z"
   },
   {
    "duration": 16,
    "start_time": "2025-05-09T18:11:50.027Z"
   },
   {
    "duration": 10,
    "start_time": "2025-05-09T18:13:42.255Z"
   },
   {
    "duration": 16,
    "start_time": "2025-05-09T18:13:50.617Z"
   },
   {
    "duration": 1230,
    "start_time": "2025-05-09T18:14:02.913Z"
   },
   {
    "duration": 1946,
    "start_time": "2025-05-09T18:14:04.145Z"
   },
   {
    "duration": 20,
    "start_time": "2025-05-09T18:14:06.093Z"
   },
   {
    "duration": 109,
    "start_time": "2025-05-09T18:14:06.115Z"
   },
   {
    "duration": 12,
    "start_time": "2025-05-09T18:14:06.227Z"
   },
   {
    "duration": 36,
    "start_time": "2025-05-09T18:14:06.241Z"
   },
   {
    "duration": 18,
    "start_time": "2025-05-09T18:14:06.279Z"
   },
   {
    "duration": 32,
    "start_time": "2025-05-09T18:14:06.299Z"
   },
   {
    "duration": 853,
    "start_time": "2025-05-09T18:14:06.333Z"
   },
   {
    "duration": 200,
    "start_time": "2025-05-09T18:14:07.188Z"
   },
   {
    "duration": 539,
    "start_time": "2025-05-09T18:14:07.390Z"
   },
   {
    "duration": 95,
    "start_time": "2025-05-09T18:14:07.931Z"
   },
   {
    "duration": 49,
    "start_time": "2025-05-09T18:14:08.027Z"
   },
   {
    "duration": 272,
    "start_time": "2025-05-09T18:14:08.079Z"
   },
   {
    "duration": 48,
    "start_time": "2025-05-09T18:14:08.353Z"
   },
   {
    "duration": 280,
    "start_time": "2025-05-09T18:14:08.403Z"
   },
   {
    "duration": 334,
    "start_time": "2025-05-09T18:14:08.685Z"
   },
   {
    "duration": 594,
    "start_time": "2025-05-09T18:14:09.024Z"
   },
   {
    "duration": 738,
    "start_time": "2025-05-09T18:14:09.620Z"
   },
   {
    "duration": 680,
    "start_time": "2025-05-09T18:14:10.360Z"
   },
   {
    "duration": 133,
    "start_time": "2025-05-09T18:14:11.042Z"
   },
   {
    "duration": 34,
    "start_time": "2025-05-09T18:14:11.176Z"
   },
   {
    "duration": 22,
    "start_time": "2025-05-09T18:14:11.211Z"
   },
   {
    "duration": 28,
    "start_time": "2025-05-09T18:14:11.235Z"
   },
   {
    "duration": 23230,
    "start_time": "2025-05-09T18:14:11.265Z"
   },
   {
    "duration": 40,
    "start_time": "2025-05-09T18:14:34.497Z"
   },
   {
    "duration": 5,
    "start_time": "2025-05-09T18:14:34.540Z"
   },
   {
    "duration": 163,
    "start_time": "2025-05-09T18:14:34.546Z"
   },
   {
    "duration": 740,
    "start_time": "2025-05-09T18:14:34.711Z"
   },
   {
    "duration": 221,
    "start_time": "2025-05-09T18:14:35.453Z"
   },
   {
    "duration": 1000,
    "start_time": "2025-05-09T18:14:35.677Z"
   },
   {
    "duration": 293,
    "start_time": "2025-05-09T18:14:36.679Z"
   },
   {
    "duration": 152,
    "start_time": "2025-05-09T18:14:36.974Z"
   },
   {
    "duration": 64,
    "start_time": "2025-05-09T18:14:37.136Z"
   },
   {
    "duration": 78,
    "start_time": "2025-05-09T18:14:37.202Z"
   },
   {
    "duration": 61,
    "start_time": "2025-05-09T18:14:37.282Z"
   },
   {
    "duration": 139,
    "start_time": "2025-05-09T18:14:37.344Z"
   },
   {
    "duration": 121,
    "start_time": "2025-05-09T18:14:37.484Z"
   },
   {
    "duration": 0,
    "start_time": "2025-05-09T18:14:37.607Z"
   },
   {
    "duration": 0,
    "start_time": "2025-05-09T18:14:37.608Z"
   },
   {
    "duration": 0,
    "start_time": "2025-05-09T18:14:37.609Z"
   },
   {
    "duration": 0,
    "start_time": "2025-05-09T18:14:37.610Z"
   },
   {
    "duration": 75,
    "start_time": "2025-05-09T18:15:42.350Z"
   },
   {
    "duration": 12,
    "start_time": "2025-05-09T18:17:33.899Z"
   },
   {
    "duration": 11,
    "start_time": "2025-05-09T18:18:27.083Z"
   },
   {
    "duration": 1473,
    "start_time": "2025-05-09T18:19:47.817Z"
   },
   {
    "duration": 1540,
    "start_time": "2025-05-09T18:19:49.291Z"
   },
   {
    "duration": 20,
    "start_time": "2025-05-09T18:19:50.833Z"
   },
   {
    "duration": 120,
    "start_time": "2025-05-09T18:19:50.854Z"
   },
   {
    "duration": 13,
    "start_time": "2025-05-09T18:19:50.976Z"
   },
   {
    "duration": 37,
    "start_time": "2025-05-09T18:19:50.990Z"
   },
   {
    "duration": 18,
    "start_time": "2025-05-09T18:19:51.029Z"
   },
   {
    "duration": 25,
    "start_time": "2025-05-09T18:19:51.049Z"
   },
   {
    "duration": 909,
    "start_time": "2025-05-09T18:19:51.076Z"
   },
   {
    "duration": 201,
    "start_time": "2025-05-09T18:19:51.986Z"
   },
   {
    "duration": 540,
    "start_time": "2025-05-09T18:19:52.189Z"
   },
   {
    "duration": 94,
    "start_time": "2025-05-09T18:19:52.731Z"
   },
   {
    "duration": 45,
    "start_time": "2025-05-09T18:19:52.837Z"
   },
   {
    "duration": 270,
    "start_time": "2025-05-09T18:19:52.885Z"
   },
   {
    "duration": 50,
    "start_time": "2025-05-09T18:19:53.156Z"
   },
   {
    "duration": 289,
    "start_time": "2025-05-09T18:19:53.208Z"
   },
   {
    "duration": 329,
    "start_time": "2025-05-09T18:19:53.499Z"
   },
   {
    "duration": 640,
    "start_time": "2025-05-09T18:19:53.830Z"
   },
   {
    "duration": 739,
    "start_time": "2025-05-09T18:19:54.472Z"
   },
   {
    "duration": 653,
    "start_time": "2025-05-09T18:19:55.213Z"
   },
   {
    "duration": 137,
    "start_time": "2025-05-09T18:19:55.868Z"
   },
   {
    "duration": 44,
    "start_time": "2025-05-09T18:19:56.007Z"
   },
   {
    "duration": 4,
    "start_time": "2025-05-09T18:19:56.053Z"
   },
   {
    "duration": 29,
    "start_time": "2025-05-09T18:19:56.059Z"
   },
   {
    "duration": 23626,
    "start_time": "2025-05-09T18:19:56.089Z"
   },
   {
    "duration": 32,
    "start_time": "2025-05-09T18:20:19.717Z"
   },
   {
    "duration": 5,
    "start_time": "2025-05-09T18:20:19.751Z"
   },
   {
    "duration": 169,
    "start_time": "2025-05-09T18:20:19.757Z"
   },
   {
    "duration": 754,
    "start_time": "2025-05-09T18:20:19.928Z"
   },
   {
    "duration": 214,
    "start_time": "2025-05-09T18:20:20.684Z"
   },
   {
    "duration": 1018,
    "start_time": "2025-05-09T18:20:20.899Z"
   },
   {
    "duration": 305,
    "start_time": "2025-05-09T18:20:21.918Z"
   },
   {
    "duration": 155,
    "start_time": "2025-05-09T18:20:22.225Z"
   },
   {
    "duration": 74,
    "start_time": "2025-05-09T18:20:22.382Z"
   },
   {
    "duration": 90,
    "start_time": "2025-05-09T18:20:22.457Z"
   },
   {
    "duration": 79,
    "start_time": "2025-05-09T18:20:22.548Z"
   },
   {
    "duration": 130,
    "start_time": "2025-05-09T18:20:22.629Z"
   },
   {
    "duration": 113,
    "start_time": "2025-05-09T18:20:22.761Z"
   },
   {
    "duration": 0,
    "start_time": "2025-05-09T18:20:22.876Z"
   },
   {
    "duration": 0,
    "start_time": "2025-05-09T18:20:22.877Z"
   },
   {
    "duration": 0,
    "start_time": "2025-05-09T18:20:22.878Z"
   },
   {
    "duration": 0,
    "start_time": "2025-05-09T18:20:22.879Z"
   },
   {
    "duration": 347,
    "start_time": "2025-05-09T18:31:01.609Z"
   },
   {
    "duration": 55,
    "start_time": "2025-05-09T18:31:57.226Z"
   },
   {
    "duration": 58,
    "start_time": "2025-05-09T18:32:05.691Z"
   },
   {
    "duration": 17,
    "start_time": "2025-05-09T18:40:48.063Z"
   },
   {
    "duration": 22,
    "start_time": "2025-05-09T18:41:00.635Z"
   },
   {
    "duration": 19,
    "start_time": "2025-05-09T18:41:31.288Z"
   },
   {
    "duration": 74,
    "start_time": "2025-05-09T18:42:40.790Z"
   },
   {
    "duration": 10,
    "start_time": "2025-05-09T18:43:01.617Z"
   },
   {
    "duration": 56,
    "start_time": "2025-05-09T18:45:00.360Z"
   },
   {
    "duration": 1221,
    "start_time": "2025-05-09T18:45:10.142Z"
   },
   {
    "duration": 1954,
    "start_time": "2025-05-09T18:45:11.365Z"
   },
   {
    "duration": 20,
    "start_time": "2025-05-09T18:45:13.321Z"
   },
   {
    "duration": 146,
    "start_time": "2025-05-09T18:45:13.342Z"
   },
   {
    "duration": 13,
    "start_time": "2025-05-09T18:45:13.490Z"
   },
   {
    "duration": 18,
    "start_time": "2025-05-09T18:45:13.505Z"
   },
   {
    "duration": 9,
    "start_time": "2025-05-09T18:45:13.536Z"
   },
   {
    "duration": 19,
    "start_time": "2025-05-09T18:45:13.546Z"
   },
   {
    "duration": 871,
    "start_time": "2025-05-09T18:45:13.567Z"
   },
   {
    "duration": 208,
    "start_time": "2025-05-09T18:45:14.440Z"
   },
   {
    "duration": 551,
    "start_time": "2025-05-09T18:45:14.650Z"
   },
   {
    "duration": 97,
    "start_time": "2025-05-09T18:45:15.204Z"
   },
   {
    "duration": 58,
    "start_time": "2025-05-09T18:45:15.303Z"
   },
   {
    "duration": 301,
    "start_time": "2025-05-09T18:45:15.366Z"
   },
   {
    "duration": 54,
    "start_time": "2025-05-09T18:45:15.669Z"
   },
   {
    "duration": 273,
    "start_time": "2025-05-09T18:45:15.737Z"
   },
   {
    "duration": 328,
    "start_time": "2025-05-09T18:45:16.012Z"
   },
   {
    "duration": 573,
    "start_time": "2025-05-09T18:45:16.341Z"
   },
   {
    "duration": 722,
    "start_time": "2025-05-09T18:45:16.917Z"
   },
   {
    "duration": 648,
    "start_time": "2025-05-09T18:45:17.640Z"
   },
   {
    "duration": 130,
    "start_time": "2025-05-09T18:45:18.290Z"
   },
   {
    "duration": 46,
    "start_time": "2025-05-09T18:45:18.422Z"
   },
   {
    "duration": 105,
    "start_time": "2025-05-09T18:45:18.470Z"
   },
   {
    "duration": 111,
    "start_time": "2025-05-09T18:45:18.577Z"
   },
   {
    "duration": 22446,
    "start_time": "2025-05-09T18:45:18.690Z"
   },
   {
    "duration": 26,
    "start_time": "2025-05-09T18:45:41.137Z"
   },
   {
    "duration": 5,
    "start_time": "2025-05-09T18:45:41.164Z"
   },
   {
    "duration": 172,
    "start_time": "2025-05-09T18:45:41.170Z"
   },
   {
    "duration": 735,
    "start_time": "2025-05-09T18:45:41.343Z"
   },
   {
    "duration": 214,
    "start_time": "2025-05-09T18:45:42.079Z"
   },
   {
    "duration": 978,
    "start_time": "2025-05-09T18:45:42.295Z"
   },
   {
    "duration": 291,
    "start_time": "2025-05-09T18:45:43.275Z"
   },
   {
    "duration": 156,
    "start_time": "2025-05-09T18:45:43.568Z"
   },
   {
    "duration": 66,
    "start_time": "2025-05-09T18:45:43.726Z"
   },
   {
    "duration": 79,
    "start_time": "2025-05-09T18:45:43.793Z"
   },
   {
    "duration": 63,
    "start_time": "2025-05-09T18:45:43.874Z"
   },
   {
    "duration": 142,
    "start_time": "2025-05-09T18:45:43.939Z"
   },
   {
    "duration": 111,
    "start_time": "2025-05-09T18:45:44.083Z"
   },
   {
    "duration": 0,
    "start_time": "2025-05-09T18:45:44.197Z"
   },
   {
    "duration": 1,
    "start_time": "2025-05-09T18:45:44.198Z"
   },
   {
    "duration": 0,
    "start_time": "2025-05-09T18:45:44.200Z"
   },
   {
    "duration": 0,
    "start_time": "2025-05-09T18:45:44.202Z"
   },
   {
    "duration": 49,
    "start_time": "2025-05-09T18:49:08.146Z"
   },
   {
    "duration": 9,
    "start_time": "2025-05-09T18:49:16.566Z"
   },
   {
    "duration": 56,
    "start_time": "2025-05-09T18:49:38.727Z"
   },
   {
    "duration": 58,
    "start_time": "2025-05-09T18:56:26.047Z"
   },
   {
    "duration": 55,
    "start_time": "2025-05-09T18:57:20.456Z"
   },
   {
    "duration": 1219,
    "start_time": "2025-05-09T18:57:41.554Z"
   },
   {
    "duration": 10,
    "start_time": "2025-05-09T18:58:06.365Z"
   },
   {
    "duration": 31,
    "start_time": "2025-05-09T19:00:47.955Z"
   },
   {
    "duration": 1256,
    "start_time": "2025-05-09T19:03:20.428Z"
   },
   {
    "duration": 1205,
    "start_time": "2025-05-09T19:04:16.676Z"
   },
   {
    "duration": 1993,
    "start_time": "2025-05-09T19:04:17.883Z"
   },
   {
    "duration": 19,
    "start_time": "2025-05-09T19:04:19.878Z"
   },
   {
    "duration": 106,
    "start_time": "2025-05-09T19:04:19.898Z"
   },
   {
    "duration": 13,
    "start_time": "2025-05-09T19:04:20.007Z"
   },
   {
    "duration": 19,
    "start_time": "2025-05-09T19:04:20.037Z"
   },
   {
    "duration": 28,
    "start_time": "2025-05-09T19:04:20.057Z"
   },
   {
    "duration": 25,
    "start_time": "2025-05-09T19:04:20.087Z"
   },
   {
    "duration": 846,
    "start_time": "2025-05-09T19:04:20.114Z"
   },
   {
    "duration": 195,
    "start_time": "2025-05-09T19:04:20.962Z"
   },
   {
    "duration": 526,
    "start_time": "2025-05-09T19:04:21.159Z"
   },
   {
    "duration": 101,
    "start_time": "2025-05-09T19:04:21.688Z"
   },
   {
    "duration": 51,
    "start_time": "2025-05-09T19:04:21.791Z"
   },
   {
    "duration": 269,
    "start_time": "2025-05-09T19:04:21.845Z"
   },
   {
    "duration": 57,
    "start_time": "2025-05-09T19:04:22.116Z"
   },
   {
    "duration": 270,
    "start_time": "2025-05-09T19:04:22.174Z"
   },
   {
    "duration": 317,
    "start_time": "2025-05-09T19:04:22.446Z"
   },
   {
    "duration": 584,
    "start_time": "2025-05-09T19:04:22.765Z"
   },
   {
    "duration": 719,
    "start_time": "2025-05-09T19:04:23.350Z"
   },
   {
    "duration": 649,
    "start_time": "2025-05-09T19:04:24.072Z"
   },
   {
    "duration": 129,
    "start_time": "2025-05-09T19:04:24.722Z"
   },
   {
    "duration": 32,
    "start_time": "2025-05-09T19:04:24.853Z"
   },
   {
    "duration": 4,
    "start_time": "2025-05-09T19:04:24.887Z"
   },
   {
    "duration": 46,
    "start_time": "2025-05-09T19:04:24.893Z"
   },
   {
    "duration": 22455,
    "start_time": "2025-05-09T19:04:24.941Z"
   },
   {
    "duration": 25,
    "start_time": "2025-05-09T19:04:47.398Z"
   },
   {
    "duration": 15,
    "start_time": "2025-05-09T19:04:47.425Z"
   },
   {
    "duration": 169,
    "start_time": "2025-05-09T19:04:47.441Z"
   },
   {
    "duration": 766,
    "start_time": "2025-05-09T19:04:47.613Z"
   },
   {
    "duration": 220,
    "start_time": "2025-05-09T19:04:48.381Z"
   },
   {
    "duration": 1026,
    "start_time": "2025-05-09T19:04:48.603Z"
   },
   {
    "duration": 307,
    "start_time": "2025-05-09T19:04:49.631Z"
   },
   {
    "duration": 157,
    "start_time": "2025-05-09T19:04:49.940Z"
   },
   {
    "duration": 72,
    "start_time": "2025-05-09T19:04:50.099Z"
   },
   {
    "duration": 81,
    "start_time": "2025-05-09T19:04:50.173Z"
   },
   {
    "duration": 27,
    "start_time": "2025-05-09T19:04:50.256Z"
   },
   {
    "duration": 1638,
    "start_time": "2025-05-09T19:04:50.285Z"
   },
   {
    "duration": 0,
    "start_time": "2025-05-09T19:04:51.926Z"
   },
   {
    "duration": 0,
    "start_time": "2025-05-09T19:04:51.928Z"
   },
   {
    "duration": 0,
    "start_time": "2025-05-09T19:04:51.929Z"
   },
   {
    "duration": 0,
    "start_time": "2025-05-09T19:04:51.931Z"
   },
   {
    "duration": 0,
    "start_time": "2025-05-09T19:04:51.933Z"
   },
   {
    "duration": 0,
    "start_time": "2025-05-09T19:04:51.934Z"
   },
   {
    "duration": 1183,
    "start_time": "2025-05-09T19:07:39.367Z"
   },
   {
    "duration": 1776,
    "start_time": "2025-05-09T19:07:40.552Z"
   },
   {
    "duration": 22,
    "start_time": "2025-05-09T19:07:42.329Z"
   },
   {
    "duration": 110,
    "start_time": "2025-05-09T19:07:42.353Z"
   },
   {
    "duration": 12,
    "start_time": "2025-05-09T19:07:42.465Z"
   },
   {
    "duration": 31,
    "start_time": "2025-05-09T19:07:42.478Z"
   },
   {
    "duration": 9,
    "start_time": "2025-05-09T19:07:42.510Z"
   },
   {
    "duration": 18,
    "start_time": "2025-05-09T19:07:42.520Z"
   },
   {
    "duration": 848,
    "start_time": "2025-05-09T19:07:42.540Z"
   },
   {
    "duration": 198,
    "start_time": "2025-05-09T19:07:43.391Z"
   },
   {
    "duration": 525,
    "start_time": "2025-05-09T19:07:43.590Z"
   },
   {
    "duration": 94,
    "start_time": "2025-05-09T19:07:44.117Z"
   },
   {
    "duration": 52,
    "start_time": "2025-05-09T19:07:44.213Z"
   },
   {
    "duration": 283,
    "start_time": "2025-05-09T19:07:44.267Z"
   },
   {
    "duration": 47,
    "start_time": "2025-05-09T19:07:44.551Z"
   },
   {
    "duration": 301,
    "start_time": "2025-05-09T19:07:44.600Z"
   },
   {
    "duration": 325,
    "start_time": "2025-05-09T19:07:44.902Z"
   },
   {
    "duration": 585,
    "start_time": "2025-05-09T19:07:45.228Z"
   },
   {
    "duration": 731,
    "start_time": "2025-05-09T19:07:45.815Z"
   },
   {
    "duration": 624,
    "start_time": "2025-05-09T19:07:46.547Z"
   },
   {
    "duration": 127,
    "start_time": "2025-05-09T19:07:47.173Z"
   },
   {
    "duration": 41,
    "start_time": "2025-05-09T19:07:47.302Z"
   },
   {
    "duration": 4,
    "start_time": "2025-05-09T19:07:47.345Z"
   },
   {
    "duration": 31,
    "start_time": "2025-05-09T19:07:47.351Z"
   },
   {
    "duration": 22877,
    "start_time": "2025-05-09T19:07:47.384Z"
   },
   {
    "duration": 25,
    "start_time": "2025-05-09T19:08:10.263Z"
   },
   {
    "duration": 16,
    "start_time": "2025-05-09T19:08:10.289Z"
   },
   {
    "duration": 170,
    "start_time": "2025-05-09T19:08:10.309Z"
   },
   {
    "duration": 757,
    "start_time": "2025-05-09T19:08:10.481Z"
   },
   {
    "duration": 215,
    "start_time": "2025-05-09T19:08:11.240Z"
   },
   {
    "duration": 996,
    "start_time": "2025-05-09T19:08:11.457Z"
   },
   {
    "duration": 303,
    "start_time": "2025-05-09T19:08:12.454Z"
   },
   {
    "duration": 156,
    "start_time": "2025-05-09T19:08:12.759Z"
   },
   {
    "duration": 67,
    "start_time": "2025-05-09T19:08:12.917Z"
   },
   {
    "duration": 89,
    "start_time": "2025-05-09T19:08:12.985Z"
   },
   {
    "duration": 71,
    "start_time": "2025-05-09T19:08:13.076Z"
   },
   {
    "duration": 142,
    "start_time": "2025-05-09T19:08:13.149Z"
   },
   {
    "duration": 164,
    "start_time": "2025-05-09T19:08:13.294Z"
   },
   {
    "duration": 0,
    "start_time": "2025-05-09T19:08:13.461Z"
   },
   {
    "duration": 0,
    "start_time": "2025-05-09T19:08:13.462Z"
   },
   {
    "duration": 0,
    "start_time": "2025-05-09T19:08:13.464Z"
   },
   {
    "duration": 0,
    "start_time": "2025-05-09T19:08:13.465Z"
   },
   {
    "duration": 1306,
    "start_time": "2025-05-09T19:13:11.380Z"
   },
   {
    "duration": 1571,
    "start_time": "2025-05-09T19:15:54.630Z"
   },
   {
    "duration": 16,
    "start_time": "2025-05-09T19:16:05.844Z"
   },
   {
    "duration": 13,
    "start_time": "2025-05-09T19:16:13.814Z"
   },
   {
    "duration": 1159,
    "start_time": "2025-05-09T19:16:21.701Z"
   },
   {
    "duration": 1745,
    "start_time": "2025-05-09T19:16:22.862Z"
   },
   {
    "duration": 19,
    "start_time": "2025-05-09T19:16:24.609Z"
   },
   {
    "duration": 157,
    "start_time": "2025-05-09T19:16:24.629Z"
   },
   {
    "duration": 13,
    "start_time": "2025-05-09T19:16:24.787Z"
   },
   {
    "duration": 34,
    "start_time": "2025-05-09T19:16:24.802Z"
   },
   {
    "duration": 8,
    "start_time": "2025-05-09T19:16:24.838Z"
   },
   {
    "duration": 22,
    "start_time": "2025-05-09T19:16:24.848Z"
   },
   {
    "duration": 867,
    "start_time": "2025-05-09T19:16:24.871Z"
   },
   {
    "duration": 206,
    "start_time": "2025-05-09T19:16:25.741Z"
   },
   {
    "duration": 532,
    "start_time": "2025-05-09T19:16:25.949Z"
   },
   {
    "duration": 99,
    "start_time": "2025-05-09T19:16:26.482Z"
   },
   {
    "duration": 56,
    "start_time": "2025-05-09T19:16:26.583Z"
   },
   {
    "duration": 308,
    "start_time": "2025-05-09T19:16:26.641Z"
   },
   {
    "duration": 49,
    "start_time": "2025-05-09T19:16:26.952Z"
   },
   {
    "duration": 281,
    "start_time": "2025-05-09T19:16:27.003Z"
   },
   {
    "duration": 333,
    "start_time": "2025-05-09T19:16:27.285Z"
   },
   {
    "duration": 597,
    "start_time": "2025-05-09T19:16:27.620Z"
   },
   {
    "duration": 738,
    "start_time": "2025-05-09T19:16:28.219Z"
   },
   {
    "duration": 659,
    "start_time": "2025-05-09T19:16:28.959Z"
   },
   {
    "duration": 137,
    "start_time": "2025-05-09T19:16:29.620Z"
   },
   {
    "duration": 33,
    "start_time": "2025-05-09T19:16:29.759Z"
   },
   {
    "duration": 4,
    "start_time": "2025-05-09T19:16:29.793Z"
   },
   {
    "duration": 45,
    "start_time": "2025-05-09T19:16:29.799Z"
   },
   {
    "duration": 22471,
    "start_time": "2025-05-09T19:16:29.846Z"
   },
   {
    "duration": 28,
    "start_time": "2025-05-09T19:16:52.319Z"
   },
   {
    "duration": 4,
    "start_time": "2025-05-09T19:16:52.349Z"
   },
   {
    "duration": 171,
    "start_time": "2025-05-09T19:16:52.357Z"
   },
   {
    "duration": 726,
    "start_time": "2025-05-09T19:16:52.530Z"
   },
   {
    "duration": 225,
    "start_time": "2025-05-09T19:16:53.257Z"
   },
   {
    "duration": 997,
    "start_time": "2025-05-09T19:16:53.484Z"
   },
   {
    "duration": 297,
    "start_time": "2025-05-09T19:16:54.482Z"
   },
   {
    "duration": 157,
    "start_time": "2025-05-09T19:16:54.780Z"
   },
   {
    "duration": 62,
    "start_time": "2025-05-09T19:16:54.938Z"
   },
   {
    "duration": 82,
    "start_time": "2025-05-09T19:16:55.002Z"
   },
   {
    "duration": 63,
    "start_time": "2025-05-09T19:16:55.086Z"
   },
   {
    "duration": 145,
    "start_time": "2025-05-09T19:16:55.150Z"
   },
   {
    "duration": 151,
    "start_time": "2025-05-09T19:16:55.297Z"
   },
   {
    "duration": 0,
    "start_time": "2025-05-09T19:16:55.449Z"
   },
   {
    "duration": 0,
    "start_time": "2025-05-09T19:16:55.450Z"
   },
   {
    "duration": 0,
    "start_time": "2025-05-09T19:16:55.452Z"
   },
   {
    "duration": 0,
    "start_time": "2025-05-09T19:16:55.453Z"
   },
   {
    "duration": 60,
    "start_time": "2025-05-09T19:18:18.919Z"
   },
   {
    "duration": 55,
    "start_time": "2025-05-09T19:19:46.234Z"
   },
   {
    "duration": 52,
    "start_time": "2025-05-09T19:20:03.303Z"
   },
   {
    "duration": 53,
    "start_time": "2025-05-09T19:20:11.220Z"
   },
   {
    "duration": 57,
    "start_time": "2025-05-09T19:32:23.664Z"
   },
   {
    "duration": 4,
    "start_time": "2025-05-09T19:32:28.863Z"
   },
   {
    "duration": 57,
    "start_time": "2025-05-09T19:39:59.592Z"
   },
   {
    "duration": 4,
    "start_time": "2025-05-09T19:40:01.832Z"
   },
   {
    "duration": 56,
    "start_time": "2025-05-09T19:46:16.440Z"
   },
   {
    "duration": 4,
    "start_time": "2025-05-09T19:46:19.959Z"
   },
   {
    "duration": 1267,
    "start_time": "2025-05-09T19:46:30.005Z"
   },
   {
    "duration": 1814,
    "start_time": "2025-05-09T19:46:31.274Z"
   },
   {
    "duration": 21,
    "start_time": "2025-05-09T19:46:33.089Z"
   },
   {
    "duration": 126,
    "start_time": "2025-05-09T19:46:33.111Z"
   },
   {
    "duration": 14,
    "start_time": "2025-05-09T19:46:33.240Z"
   },
   {
    "duration": 35,
    "start_time": "2025-05-09T19:46:33.256Z"
   },
   {
    "duration": 17,
    "start_time": "2025-05-09T19:46:33.293Z"
   },
   {
    "duration": 25,
    "start_time": "2025-05-09T19:46:33.312Z"
   },
   {
    "duration": 870,
    "start_time": "2025-05-09T19:46:33.339Z"
   },
   {
    "duration": 219,
    "start_time": "2025-05-09T19:46:34.210Z"
   },
   {
    "duration": 548,
    "start_time": "2025-05-09T19:46:34.431Z"
   },
   {
    "duration": 99,
    "start_time": "2025-05-09T19:46:34.981Z"
   },
   {
    "duration": 54,
    "start_time": "2025-05-09T19:46:35.082Z"
   },
   {
    "duration": 261,
    "start_time": "2025-05-09T19:46:35.139Z"
   },
   {
    "duration": 59,
    "start_time": "2025-05-09T19:46:35.401Z"
   },
   {
    "duration": 269,
    "start_time": "2025-05-09T19:46:35.462Z"
   },
   {
    "duration": 343,
    "start_time": "2025-05-09T19:46:35.733Z"
   },
   {
    "duration": 618,
    "start_time": "2025-05-09T19:46:36.078Z"
   },
   {
    "duration": 751,
    "start_time": "2025-05-09T19:46:36.698Z"
   },
   {
    "duration": 683,
    "start_time": "2025-05-09T19:46:37.451Z"
   },
   {
    "duration": 138,
    "start_time": "2025-05-09T19:46:38.137Z"
   },
   {
    "duration": 33,
    "start_time": "2025-05-09T19:46:38.276Z"
   },
   {
    "duration": 4,
    "start_time": "2025-05-09T19:46:38.310Z"
   },
   {
    "duration": 43,
    "start_time": "2025-05-09T19:46:38.316Z"
   },
   {
    "duration": 22685,
    "start_time": "2025-05-09T19:46:38.361Z"
   },
   {
    "duration": 26,
    "start_time": "2025-05-09T19:47:01.048Z"
   },
   {
    "duration": 9,
    "start_time": "2025-05-09T19:47:01.076Z"
   },
   {
    "duration": 175,
    "start_time": "2025-05-09T19:47:01.087Z"
   },
   {
    "duration": 763,
    "start_time": "2025-05-09T19:47:01.264Z"
   },
   {
    "duration": 224,
    "start_time": "2025-05-09T19:47:02.037Z"
   },
   {
    "duration": 998,
    "start_time": "2025-05-09T19:47:02.263Z"
   },
   {
    "duration": 307,
    "start_time": "2025-05-09T19:47:03.263Z"
   },
   {
    "duration": 158,
    "start_time": "2025-05-09T19:47:03.572Z"
   },
   {
    "duration": 67,
    "start_time": "2025-05-09T19:47:03.732Z"
   },
   {
    "duration": 79,
    "start_time": "2025-05-09T19:47:03.801Z"
   },
   {
    "duration": 64,
    "start_time": "2025-05-09T19:47:03.882Z"
   },
   {
    "duration": 145,
    "start_time": "2025-05-09T19:47:03.948Z"
   },
   {
    "duration": 153,
    "start_time": "2025-05-09T19:47:04.095Z"
   },
   {
    "duration": 0,
    "start_time": "2025-05-09T19:47:04.250Z"
   },
   {
    "duration": 1,
    "start_time": "2025-05-09T19:47:04.252Z"
   },
   {
    "duration": 0,
    "start_time": "2025-05-09T19:47:04.254Z"
   },
   {
    "duration": 0,
    "start_time": "2025-05-09T19:47:04.255Z"
   },
   {
    "duration": 10,
    "start_time": "2025-05-09T20:04:41.863Z"
   },
   {
    "duration": 1268,
    "start_time": "2025-05-09T20:10:50.070Z"
   },
   {
    "duration": 1174,
    "start_time": "2025-05-09T20:11:08.195Z"
   },
   {
    "duration": 2313,
    "start_time": "2025-05-09T20:11:09.371Z"
   },
   {
    "duration": 21,
    "start_time": "2025-05-09T20:11:11.686Z"
   },
   {
    "duration": 105,
    "start_time": "2025-05-09T20:11:11.709Z"
   },
   {
    "duration": 21,
    "start_time": "2025-05-09T20:11:11.816Z"
   },
   {
    "duration": 19,
    "start_time": "2025-05-09T20:11:11.839Z"
   },
   {
    "duration": 9,
    "start_time": "2025-05-09T20:11:11.860Z"
   },
   {
    "duration": 13,
    "start_time": "2025-05-09T20:11:11.871Z"
   },
   {
    "duration": 882,
    "start_time": "2025-05-09T20:11:11.886Z"
   },
   {
    "duration": 206,
    "start_time": "2025-05-09T20:11:12.770Z"
   },
   {
    "duration": 550,
    "start_time": "2025-05-09T20:11:12.978Z"
   },
   {
    "duration": 91,
    "start_time": "2025-05-09T20:11:13.529Z"
   },
   {
    "duration": 56,
    "start_time": "2025-05-09T20:11:13.622Z"
   },
   {
    "duration": 266,
    "start_time": "2025-05-09T20:11:13.679Z"
   },
   {
    "duration": 51,
    "start_time": "2025-05-09T20:11:13.946Z"
   },
   {
    "duration": 275,
    "start_time": "2025-05-09T20:11:13.998Z"
   },
   {
    "duration": 341,
    "start_time": "2025-05-09T20:11:14.275Z"
   },
   {
    "duration": 603,
    "start_time": "2025-05-09T20:11:14.618Z"
   },
   {
    "duration": 764,
    "start_time": "2025-05-09T20:11:15.222Z"
   },
   {
    "duration": 650,
    "start_time": "2025-05-09T20:11:15.987Z"
   },
   {
    "duration": 132,
    "start_time": "2025-05-09T20:11:16.639Z"
   },
   {
    "duration": 33,
    "start_time": "2025-05-09T20:11:16.773Z"
   },
   {
    "duration": 41,
    "start_time": "2025-05-09T20:11:16.808Z"
   },
   {
    "duration": 28,
    "start_time": "2025-05-09T20:11:16.850Z"
   },
   {
    "duration": 22791,
    "start_time": "2025-05-09T20:11:16.880Z"
   },
   {
    "duration": 25,
    "start_time": "2025-05-09T20:11:39.672Z"
   },
   {
    "duration": 61,
    "start_time": "2025-05-09T20:11:39.699Z"
   },
   {
    "duration": 146,
    "start_time": "2025-05-09T20:11:39.764Z"
   },
   {
    "duration": 729,
    "start_time": "2025-05-09T20:11:39.912Z"
   },
   {
    "duration": 216,
    "start_time": "2025-05-09T20:11:40.642Z"
   },
   {
    "duration": 1010,
    "start_time": "2025-05-09T20:11:40.859Z"
   },
   {
    "duration": 292,
    "start_time": "2025-05-09T20:11:41.870Z"
   },
   {
    "duration": 151,
    "start_time": "2025-05-09T20:11:42.164Z"
   },
   {
    "duration": 71,
    "start_time": "2025-05-09T20:11:42.317Z"
   },
   {
    "duration": 80,
    "start_time": "2025-05-09T20:11:42.389Z"
   },
   {
    "duration": 1371,
    "start_time": "2025-05-09T20:11:42.470Z"
   },
   {
    "duration": 0,
    "start_time": "2025-05-09T20:11:43.843Z"
   },
   {
    "duration": 0,
    "start_time": "2025-05-09T20:11:43.844Z"
   },
   {
    "duration": 0,
    "start_time": "2025-05-09T20:11:43.845Z"
   },
   {
    "duration": 0,
    "start_time": "2025-05-09T20:11:43.846Z"
   },
   {
    "duration": 0,
    "start_time": "2025-05-09T20:11:43.848Z"
   },
   {
    "duration": 0,
    "start_time": "2025-05-09T20:11:43.848Z"
   },
   {
    "duration": 1206,
    "start_time": "2025-05-09T20:13:24.068Z"
   },
   {
    "duration": 1453,
    "start_time": "2025-05-09T20:13:25.276Z"
   },
   {
    "duration": 20,
    "start_time": "2025-05-09T20:13:26.730Z"
   },
   {
    "duration": 142,
    "start_time": "2025-05-09T20:13:26.752Z"
   },
   {
    "duration": 13,
    "start_time": "2025-05-09T20:13:26.896Z"
   },
   {
    "duration": 72,
    "start_time": "2025-05-09T20:13:26.910Z"
   },
   {
    "duration": 65,
    "start_time": "2025-05-09T20:13:26.984Z"
   },
   {
    "duration": 14,
    "start_time": "2025-05-09T20:13:27.050Z"
   },
   {
    "duration": 882,
    "start_time": "2025-05-09T20:13:27.066Z"
   },
   {
    "duration": 207,
    "start_time": "2025-05-09T20:13:27.950Z"
   },
   {
    "duration": 534,
    "start_time": "2025-05-09T20:13:28.159Z"
   },
   {
    "duration": 100,
    "start_time": "2025-05-09T20:13:28.695Z"
   },
   {
    "duration": 52,
    "start_time": "2025-05-09T20:13:28.797Z"
   },
   {
    "duration": 301,
    "start_time": "2025-05-09T20:13:28.852Z"
   },
   {
    "duration": 51,
    "start_time": "2025-05-09T20:13:29.154Z"
   },
   {
    "duration": 280,
    "start_time": "2025-05-09T20:13:29.207Z"
   },
   {
    "duration": 355,
    "start_time": "2025-05-09T20:13:29.489Z"
   },
   {
    "duration": 706,
    "start_time": "2025-05-09T20:13:29.846Z"
   },
   {
    "duration": 749,
    "start_time": "2025-05-09T20:13:30.553Z"
   },
   {
    "duration": 665,
    "start_time": "2025-05-09T20:13:31.303Z"
   },
   {
    "duration": 133,
    "start_time": "2025-05-09T20:13:31.970Z"
   },
   {
    "duration": 43,
    "start_time": "2025-05-09T20:13:32.105Z"
   },
   {
    "duration": 5,
    "start_time": "2025-05-09T20:13:32.150Z"
   },
   {
    "duration": 33,
    "start_time": "2025-05-09T20:13:32.156Z"
   },
   {
    "duration": 23515,
    "start_time": "2025-05-09T20:13:32.191Z"
   },
   {
    "duration": 35,
    "start_time": "2025-05-09T20:13:55.708Z"
   },
   {
    "duration": 55,
    "start_time": "2025-05-09T20:13:55.745Z"
   },
   {
    "duration": 154,
    "start_time": "2025-05-09T20:13:55.802Z"
   },
   {
    "duration": 755,
    "start_time": "2025-05-09T20:13:55.958Z"
   },
   {
    "duration": 224,
    "start_time": "2025-05-09T20:13:56.714Z"
   },
   {
    "duration": 1071,
    "start_time": "2025-05-09T20:13:56.940Z"
   },
   {
    "duration": 301,
    "start_time": "2025-05-09T20:13:58.013Z"
   },
   {
    "duration": 161,
    "start_time": "2025-05-09T20:13:58.316Z"
   },
   {
    "duration": 72,
    "start_time": "2025-05-09T20:13:58.479Z"
   },
   {
    "duration": 66,
    "start_time": "2025-05-09T20:13:58.552Z"
   },
   {
    "duration": 1392,
    "start_time": "2025-05-09T20:13:58.619Z"
   },
   {
    "duration": 0,
    "start_time": "2025-05-09T20:14:00.013Z"
   },
   {
    "duration": 0,
    "start_time": "2025-05-09T20:14:00.015Z"
   },
   {
    "duration": 0,
    "start_time": "2025-05-09T20:14:00.016Z"
   },
   {
    "duration": 0,
    "start_time": "2025-05-09T20:14:00.018Z"
   },
   {
    "duration": 0,
    "start_time": "2025-05-09T20:14:00.019Z"
   },
   {
    "duration": 0,
    "start_time": "2025-05-09T20:14:00.020Z"
   },
   {
    "duration": 1223,
    "start_time": "2025-05-09T20:16:10.277Z"
   },
   {
    "duration": 1298,
    "start_time": "2025-05-09T20:16:37.642Z"
   },
   {
    "duration": 1403,
    "start_time": "2025-05-09T20:17:57.909Z"
   },
   {
    "duration": 1357,
    "start_time": "2025-05-09T20:18:45.646Z"
   },
   {
    "duration": 48,
    "start_time": "2025-05-09T20:19:18.568Z"
   },
   {
    "duration": 56,
    "start_time": "2025-05-09T20:19:30.107Z"
   },
   {
    "duration": 144,
    "start_time": "2025-05-09T20:19:57.132Z"
   },
   {
    "duration": 55,
    "start_time": "2025-05-09T20:21:44.638Z"
   },
   {
    "duration": 56,
    "start_time": "2025-05-09T20:22:31.219Z"
   },
   {
    "duration": 8,
    "start_time": "2025-05-09T20:30:33.637Z"
   },
   {
    "duration": 64,
    "start_time": "2025-05-09T20:33:25.389Z"
   },
   {
    "duration": 61,
    "start_time": "2025-05-09T20:33:45.790Z"
   },
   {
    "duration": 56,
    "start_time": "2025-05-09T20:34:41.775Z"
   },
   {
    "duration": 1175,
    "start_time": "2025-05-09T20:37:47.774Z"
   },
   {
    "duration": 1646,
    "start_time": "2025-05-09T20:37:48.952Z"
   },
   {
    "duration": 21,
    "start_time": "2025-05-09T20:37:50.600Z"
   },
   {
    "duration": 102,
    "start_time": "2025-05-09T20:37:50.623Z"
   },
   {
    "duration": 16,
    "start_time": "2025-05-09T20:37:50.727Z"
   },
   {
    "duration": 31,
    "start_time": "2025-05-09T20:37:50.745Z"
   },
   {
    "duration": 8,
    "start_time": "2025-05-09T20:37:50.778Z"
   },
   {
    "duration": 12,
    "start_time": "2025-05-09T20:37:50.787Z"
   },
   {
    "duration": 877,
    "start_time": "2025-05-09T20:37:50.800Z"
   },
   {
    "duration": 218,
    "start_time": "2025-05-09T20:37:51.680Z"
   },
   {
    "duration": 540,
    "start_time": "2025-05-09T20:37:51.900Z"
   },
   {
    "duration": 103,
    "start_time": "2025-05-09T20:37:52.442Z"
   },
   {
    "duration": 45,
    "start_time": "2025-05-09T20:37:52.547Z"
   },
   {
    "duration": 286,
    "start_time": "2025-05-09T20:37:52.594Z"
   },
   {
    "duration": 57,
    "start_time": "2025-05-09T20:37:52.882Z"
   },
   {
    "duration": 298,
    "start_time": "2025-05-09T20:37:52.940Z"
   },
   {
    "duration": 337,
    "start_time": "2025-05-09T20:37:53.240Z"
   },
   {
    "duration": 587,
    "start_time": "2025-05-09T20:37:53.579Z"
   },
   {
    "duration": 770,
    "start_time": "2025-05-09T20:37:54.168Z"
   },
   {
    "duration": 618,
    "start_time": "2025-05-09T20:37:54.940Z"
   },
   {
    "duration": 137,
    "start_time": "2025-05-09T20:37:55.559Z"
   },
   {
    "duration": 41,
    "start_time": "2025-05-09T20:37:55.697Z"
   },
   {
    "duration": 4,
    "start_time": "2025-05-09T20:37:55.740Z"
   },
   {
    "duration": 31,
    "start_time": "2025-05-09T20:37:55.745Z"
   },
   {
    "duration": 22790,
    "start_time": "2025-05-09T20:37:55.777Z"
   },
   {
    "duration": 24,
    "start_time": "2025-05-09T20:38:18.569Z"
   },
   {
    "duration": 18,
    "start_time": "2025-05-09T20:38:18.595Z"
   },
   {
    "duration": 165,
    "start_time": "2025-05-09T20:38:18.618Z"
   },
   {
    "duration": 769,
    "start_time": "2025-05-09T20:38:18.785Z"
   },
   {
    "duration": 219,
    "start_time": "2025-05-09T20:38:19.556Z"
   },
   {
    "duration": 1000,
    "start_time": "2025-05-09T20:38:19.777Z"
   },
   {
    "duration": 306,
    "start_time": "2025-05-09T20:38:20.779Z"
   },
   {
    "duration": 151,
    "start_time": "2025-05-09T20:38:21.087Z"
   },
   {
    "duration": 62,
    "start_time": "2025-05-09T20:38:21.240Z"
   },
   {
    "duration": 83,
    "start_time": "2025-05-09T20:38:21.303Z"
   },
   {
    "duration": 68,
    "start_time": "2025-05-09T20:38:21.388Z"
   },
   {
    "duration": 145,
    "start_time": "2025-05-09T20:38:21.457Z"
   },
   {
    "duration": 111,
    "start_time": "2025-05-09T20:38:21.604Z"
   },
   {
    "duration": 0,
    "start_time": "2025-05-09T20:38:21.717Z"
   },
   {
    "duration": 0,
    "start_time": "2025-05-09T20:38:21.718Z"
   },
   {
    "duration": 0,
    "start_time": "2025-05-09T20:38:21.719Z"
   },
   {
    "duration": 0,
    "start_time": "2025-05-09T20:38:21.720Z"
   },
   {
    "duration": 961,
    "start_time": "2025-05-09T20:40:18.359Z"
   },
   {
    "duration": 930,
    "start_time": "2025-05-09T20:41:06.306Z"
   },
   {
    "duration": 922,
    "start_time": "2025-05-09T20:43:25.969Z"
   },
   {
    "duration": 12,
    "start_time": "2025-05-09T20:44:40.862Z"
   },
   {
    "duration": 10,
    "start_time": "2025-05-09T20:44:56.333Z"
   },
   {
    "duration": 56,
    "start_time": "2025-05-09T20:47:35.641Z"
   },
   {
    "duration": 11,
    "start_time": "2025-05-09T20:51:13.687Z"
   },
   {
    "duration": 11,
    "start_time": "2025-05-09T20:51:53.309Z"
   },
   {
    "duration": 58,
    "start_time": "2025-05-09T20:53:15.622Z"
   },
   {
    "duration": 57,
    "start_time": "2025-05-09T20:54:43.686Z"
   },
   {
    "duration": 67,
    "start_time": "2025-05-09T20:54:58.934Z"
   },
   {
    "duration": 54,
    "start_time": "2025-05-09T20:58:18.544Z"
   },
   {
    "duration": 12,
    "start_time": "2025-05-09T20:58:29.084Z"
   },
   {
    "duration": 59,
    "start_time": "2025-05-09T21:01:56.370Z"
   },
   {
    "duration": 1156,
    "start_time": "2025-05-09T21:02:50.549Z"
   },
   {
    "duration": 1948,
    "start_time": "2025-05-09T21:02:51.707Z"
   },
   {
    "duration": 21,
    "start_time": "2025-05-09T21:02:53.657Z"
   },
   {
    "duration": 106,
    "start_time": "2025-05-09T21:02:53.679Z"
   },
   {
    "duration": 13,
    "start_time": "2025-05-09T21:02:53.787Z"
   },
   {
    "duration": 34,
    "start_time": "2025-05-09T21:02:53.802Z"
   },
   {
    "duration": 9,
    "start_time": "2025-05-09T21:02:53.838Z"
   },
   {
    "duration": 12,
    "start_time": "2025-05-09T21:02:53.848Z"
   },
   {
    "duration": 892,
    "start_time": "2025-05-09T21:02:53.861Z"
   },
   {
    "duration": 200,
    "start_time": "2025-05-09T21:02:54.755Z"
   },
   {
    "duration": 586,
    "start_time": "2025-05-09T21:02:54.956Z"
   },
   {
    "duration": 100,
    "start_time": "2025-05-09T21:02:55.544Z"
   },
   {
    "duration": 43,
    "start_time": "2025-05-09T21:02:55.646Z"
   },
   {
    "duration": 261,
    "start_time": "2025-05-09T21:02:55.693Z"
   },
   {
    "duration": 49,
    "start_time": "2025-05-09T21:02:55.955Z"
   },
   {
    "duration": 275,
    "start_time": "2025-05-09T21:02:56.005Z"
   },
   {
    "duration": 320,
    "start_time": "2025-05-09T21:02:56.282Z"
   },
   {
    "duration": 580,
    "start_time": "2025-05-09T21:02:56.604Z"
   },
   {
    "duration": 722,
    "start_time": "2025-05-09T21:02:57.186Z"
   },
   {
    "duration": 622,
    "start_time": "2025-05-09T21:02:57.910Z"
   },
   {
    "duration": 130,
    "start_time": "2025-05-09T21:02:58.536Z"
   },
   {
    "duration": 33,
    "start_time": "2025-05-09T21:02:58.668Z"
   },
   {
    "duration": 4,
    "start_time": "2025-05-09T21:02:58.702Z"
   },
   {
    "duration": 43,
    "start_time": "2025-05-09T21:02:58.708Z"
   },
   {
    "duration": 22563,
    "start_time": "2025-05-09T21:02:58.752Z"
   },
   {
    "duration": 32,
    "start_time": "2025-05-09T21:03:21.317Z"
   },
   {
    "duration": 11,
    "start_time": "2025-05-09T21:03:21.351Z"
   },
   {
    "duration": 162,
    "start_time": "2025-05-09T21:03:21.364Z"
   },
   {
    "duration": 731,
    "start_time": "2025-05-09T21:03:21.527Z"
   },
   {
    "duration": 218,
    "start_time": "2025-05-09T21:03:22.260Z"
   },
   {
    "duration": 965,
    "start_time": "2025-05-09T21:03:22.480Z"
   },
   {
    "duration": 308,
    "start_time": "2025-05-09T21:03:23.446Z"
   },
   {
    "duration": 155,
    "start_time": "2025-05-09T21:03:23.756Z"
   },
   {
    "duration": 72,
    "start_time": "2025-05-09T21:03:23.912Z"
   },
   {
    "duration": 79,
    "start_time": "2025-05-09T21:03:23.985Z"
   },
   {
    "duration": 54,
    "start_time": "2025-05-09T21:03:24.066Z"
   },
   {
    "duration": 117,
    "start_time": "2025-05-09T21:03:24.122Z"
   },
   {
    "duration": 0,
    "start_time": "2025-05-09T21:03:24.241Z"
   },
   {
    "duration": 0,
    "start_time": "2025-05-09T21:03:24.242Z"
   },
   {
    "duration": 0,
    "start_time": "2025-05-09T21:03:24.244Z"
   },
   {
    "duration": 0,
    "start_time": "2025-05-09T21:03:24.245Z"
   },
   {
    "duration": 10,
    "start_time": "2025-05-09T21:05:01.974Z"
   },
   {
    "duration": 12,
    "start_time": "2025-05-09T21:05:26.224Z"
   },
   {
    "duration": 11,
    "start_time": "2025-05-09T21:05:58.303Z"
   },
   {
    "duration": 10,
    "start_time": "2025-05-09T21:06:42.053Z"
   },
   {
    "duration": 10,
    "start_time": "2025-05-09T21:06:54.328Z"
   },
   {
    "duration": 55,
    "start_time": "2025-05-09T21:09:43.250Z"
   },
   {
    "duration": 135,
    "start_time": "2025-05-09T21:10:13.208Z"
   },
   {
    "duration": 10,
    "start_time": "2025-05-09T21:10:29.077Z"
   },
   {
    "duration": 59,
    "start_time": "2025-05-09T21:11:58.792Z"
   },
   {
    "duration": 73,
    "start_time": "2025-05-09T21:14:37.163Z"
   },
   {
    "duration": 77,
    "start_time": "2025-05-09T21:15:05.947Z"
   },
   {
    "duration": 76,
    "start_time": "2025-05-09T21:23:31.086Z"
   },
   {
    "duration": 64,
    "start_time": "2025-05-09T21:33:34.009Z"
   },
   {
    "duration": 56,
    "start_time": "2025-05-09T21:38:25.818Z"
   },
   {
    "duration": 54,
    "start_time": "2025-05-09T21:40:02.022Z"
   },
   {
    "duration": 11,
    "start_time": "2025-05-09T21:46:56.200Z"
   },
   {
    "duration": 12,
    "start_time": "2025-05-09T21:47:23.350Z"
   },
   {
    "duration": 1269,
    "start_time": "2025-05-09T21:52:14.548Z"
   },
   {
    "duration": 2020,
    "start_time": "2025-05-09T21:52:15.820Z"
   },
   {
    "duration": 25,
    "start_time": "2025-05-09T21:52:17.842Z"
   },
   {
    "duration": 117,
    "start_time": "2025-05-09T21:52:17.869Z"
   },
   {
    "duration": 13,
    "start_time": "2025-05-09T21:52:17.988Z"
   },
   {
    "duration": 46,
    "start_time": "2025-05-09T21:52:18.002Z"
   },
   {
    "duration": 9,
    "start_time": "2025-05-09T21:52:18.051Z"
   },
   {
    "duration": 12,
    "start_time": "2025-05-09T21:52:18.062Z"
   },
   {
    "duration": 921,
    "start_time": "2025-05-09T21:52:18.076Z"
   },
   {
    "duration": 228,
    "start_time": "2025-05-09T21:52:19.000Z"
   },
   {
    "duration": 566,
    "start_time": "2025-05-09T21:52:19.236Z"
   },
   {
    "duration": 99,
    "start_time": "2025-05-09T21:52:19.804Z"
   },
   {
    "duration": 57,
    "start_time": "2025-05-09T21:52:19.905Z"
   },
   {
    "duration": 281,
    "start_time": "2025-05-09T21:52:19.966Z"
   },
   {
    "duration": 54,
    "start_time": "2025-05-09T21:52:20.249Z"
   },
   {
    "duration": 299,
    "start_time": "2025-05-09T21:52:20.304Z"
   },
   {
    "duration": 333,
    "start_time": "2025-05-09T21:52:20.606Z"
   },
   {
    "duration": 635,
    "start_time": "2025-05-09T21:52:20.941Z"
   },
   {
    "duration": 777,
    "start_time": "2025-05-09T21:52:21.578Z"
   },
   {
    "duration": 680,
    "start_time": "2025-05-09T21:52:22.357Z"
   },
   {
    "duration": 144,
    "start_time": "2025-05-09T21:52:23.039Z"
   },
   {
    "duration": 32,
    "start_time": "2025-05-09T21:52:23.185Z"
   },
   {
    "duration": 44,
    "start_time": "2025-05-09T21:52:23.219Z"
   },
   {
    "duration": 40,
    "start_time": "2025-05-09T21:52:23.265Z"
   },
   {
    "duration": 23812,
    "start_time": "2025-05-09T21:52:23.307Z"
   },
   {
    "duration": 35,
    "start_time": "2025-05-09T21:52:47.121Z"
   },
   {
    "duration": 4,
    "start_time": "2025-05-09T21:52:47.158Z"
   },
   {
    "duration": 169,
    "start_time": "2025-05-09T21:52:47.163Z"
   },
   {
    "duration": 772,
    "start_time": "2025-05-09T21:52:47.337Z"
   },
   {
    "duration": 236,
    "start_time": "2025-05-09T21:52:48.111Z"
   },
   {
    "duration": 1048,
    "start_time": "2025-05-09T21:52:48.349Z"
   },
   {
    "duration": 316,
    "start_time": "2025-05-09T21:52:49.398Z"
   },
   {
    "duration": 168,
    "start_time": "2025-05-09T21:52:49.716Z"
   },
   {
    "duration": 74,
    "start_time": "2025-05-09T21:52:49.885Z"
   },
   {
    "duration": 82,
    "start_time": "2025-05-09T21:52:49.960Z"
   },
   {
    "duration": 56,
    "start_time": "2025-05-09T21:52:50.044Z"
   },
   {
    "duration": 149,
    "start_time": "2025-05-09T21:52:50.102Z"
   },
   {
    "duration": 117,
    "start_time": "2025-05-09T21:52:50.252Z"
   },
   {
    "duration": 0,
    "start_time": "2025-05-09T21:52:50.371Z"
   },
   {
    "duration": 0,
    "start_time": "2025-05-09T21:52:50.372Z"
   },
   {
    "duration": 0,
    "start_time": "2025-05-09T21:52:50.373Z"
   },
   {
    "duration": 0,
    "start_time": "2025-05-09T21:52:50.374Z"
   },
   {
    "duration": 16,
    "start_time": "2025-05-09T21:53:44.513Z"
   },
   {
    "duration": 5,
    "start_time": "2025-05-09T21:53:54.466Z"
   },
   {
    "duration": 1265,
    "start_time": "2025-05-09T21:54:03.011Z"
   },
   {
    "duration": 2406,
    "start_time": "2025-05-09T21:54:04.278Z"
   },
   {
    "duration": 21,
    "start_time": "2025-05-09T21:54:06.685Z"
   },
   {
    "duration": 121,
    "start_time": "2025-05-09T21:54:06.708Z"
   },
   {
    "duration": 22,
    "start_time": "2025-05-09T21:54:06.836Z"
   },
   {
    "duration": 20,
    "start_time": "2025-05-09T21:54:06.860Z"
   },
   {
    "duration": 22,
    "start_time": "2025-05-09T21:54:06.882Z"
   },
   {
    "duration": 14,
    "start_time": "2025-05-09T21:54:06.906Z"
   },
   {
    "duration": 929,
    "start_time": "2025-05-09T21:54:06.922Z"
   },
   {
    "duration": 226,
    "start_time": "2025-05-09T21:54:07.853Z"
   },
   {
    "duration": 570,
    "start_time": "2025-05-09T21:54:08.080Z"
   },
   {
    "duration": 107,
    "start_time": "2025-05-09T21:54:08.652Z"
   },
   {
    "duration": 46,
    "start_time": "2025-05-09T21:54:08.761Z"
   },
   {
    "duration": 304,
    "start_time": "2025-05-09T21:54:08.810Z"
   },
   {
    "duration": 58,
    "start_time": "2025-05-09T21:54:09.116Z"
   },
   {
    "duration": 298,
    "start_time": "2025-05-09T21:54:09.176Z"
   },
   {
    "duration": 353,
    "start_time": "2025-05-09T21:54:09.475Z"
   },
   {
    "duration": 619,
    "start_time": "2025-05-09T21:54:09.830Z"
   },
   {
    "duration": 793,
    "start_time": "2025-05-09T21:54:10.451Z"
   },
   {
    "duration": 697,
    "start_time": "2025-05-09T21:54:11.247Z"
   },
   {
    "duration": 141,
    "start_time": "2025-05-09T21:54:11.946Z"
   },
   {
    "duration": 55,
    "start_time": "2025-05-09T21:54:12.089Z"
   },
   {
    "duration": 4,
    "start_time": "2025-05-09T21:54:12.146Z"
   },
   {
    "duration": 36,
    "start_time": "2025-05-09T21:54:12.152Z"
   },
   {
    "duration": 23553,
    "start_time": "2025-05-09T21:54:12.189Z"
   },
   {
    "duration": 26,
    "start_time": "2025-05-09T21:54:35.743Z"
   },
   {
    "duration": 25,
    "start_time": "2025-05-09T21:54:35.770Z"
   },
   {
    "duration": 174,
    "start_time": "2025-05-09T21:54:35.797Z"
   },
   {
    "duration": 798,
    "start_time": "2025-05-09T21:54:35.973Z"
   },
   {
    "duration": 235,
    "start_time": "2025-05-09T21:54:36.773Z"
   },
   {
    "duration": 1088,
    "start_time": "2025-05-09T21:54:37.009Z"
   },
   {
    "duration": 323,
    "start_time": "2025-05-09T21:54:38.098Z"
   },
   {
    "duration": 160,
    "start_time": "2025-05-09T21:54:38.422Z"
   },
   {
    "duration": 72,
    "start_time": "2025-05-09T21:54:38.584Z"
   },
   {
    "duration": 79,
    "start_time": "2025-05-09T21:54:38.658Z"
   },
   {
    "duration": 58,
    "start_time": "2025-05-09T21:54:38.739Z"
   },
   {
    "duration": 149,
    "start_time": "2025-05-09T21:54:38.799Z"
   },
   {
    "duration": 17,
    "start_time": "2025-05-09T21:54:38.951Z"
   },
   {
    "duration": 6,
    "start_time": "2025-05-09T21:54:38.969Z"
   },
   {
    "duration": 110,
    "start_time": "2025-05-09T21:54:38.977Z"
   },
   {
    "duration": 263,
    "start_time": "2025-05-09T21:54:39.092Z"
   },
   {
    "duration": 169,
    "start_time": "2025-05-09T21:54:39.357Z"
   }
  ],
  "colab": {
   "provenance": []
  },
  "kernelspec": {
   "display_name": "Python 3 (ipykernel)",
   "language": "python",
   "name": "python3"
  },
  "language_info": {
   "codemirror_mode": {
    "name": "ipython",
    "version": 3
   },
   "file_extension": ".py",
   "mimetype": "text/x-python",
   "name": "python",
   "nbconvert_exporter": "python",
   "pygments_lexer": "ipython3",
   "version": "3.9.7"
  },
  "toc": {
   "base_numbering": 1,
   "nav_menu": {},
   "number_sections": true,
   "sideBar": true,
   "skip_h1_title": true,
   "title_cell": "Table of Contents",
   "title_sidebar": "Contents",
   "toc_cell": false,
   "toc_position": {},
   "toc_section_display": true,
   "toc_window_display": false
  }
 },
 "nbformat": 4,
 "nbformat_minor": 1
}
