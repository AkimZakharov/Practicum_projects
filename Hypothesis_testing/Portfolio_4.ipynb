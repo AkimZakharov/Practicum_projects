{
 "cells": [
  {
   "cell_type": "markdown",
   "id": "_E41Wr5fqnFT",
   "metadata": {
    "id": "_E41Wr5fqnFT"
   },
   "source": [
    "# Часть 1. Проверка гипотезы в Python и составление аналитической записки"
   ]
  },
  {
   "cell_type": "markdown",
   "id": "Z5_6nf-FrY7o",
   "metadata": {
    "id": "Z5_6nf-FrY7o"
   },
   "source": [
    "Вы предобработали данные в SQL, и теперь они готовы для проверки гипотезы в Python. Загрузите данные пользователей из Москвы и Санкт-Петербурга c суммой часов их активности из файла yandex_knigi_data.csv. Если работаете локально, скачать файл можно по ссылке.\n",
    "\n",
    "Проверьте наличие дубликатов в идентификаторах пользователей. Сравните размеры групп, их статистики и распределение.\n",
    "\n",
    "Напомним, как выглядит гипотеза: пользователи из Москвы проводят в среднем больше времени за чтением и прослушиванием книг в приложении, чем пользователи из Москвы. Попробуйте статистически это доказать, используя одностороннюю проверку гипотезы с двумя выборками:\n",
    "\n",
    "Нулевая гипотеза $H_0: \\mu_{\\text{СПб}} \\leq \\mu_{\\text{Москва}}$ <br> Среднее время активности пользователей в Санкт-Петербурге не больше, чем в Москве.\n",
    "\n",
    "Альтернативная гипотеза $H_1: \\mu_{\\text{СПб}} > \\mu_{\\text{Москва}}$ <br> Среднее время активности пользователей в Санкт-Петербурге больше, и это различие статистически значимо.\n",
    "\n",
    "По результатам анализа данных подготовьте аналитическую записку, в которой опишите:\n",
    "\n",
    "Выбранный тип t-теста и уровень статистической значимости.\n",
    "\n",
    "Результат теста, или p-value.\n",
    "\n",
    "Вывод на основе полученного p-value, то есть интерпретацию результатов.\n",
    "\n",
    "Одну или две возможные причины, объясняющие полученные результаты."
   ]
  },
  {
   "cell_type": "markdown",
   "id": "e06910dd",
   "metadata": {
    "id": "e06910dd"
   },
   "source": [
    "## Разработка A/B-тестирования и анализ результатов\n",
    "\n",
    "- Автор: Захаров А.С.\n",
    "- Дата: 20.04.2025"
   ]
  },
  {
   "cell_type": "markdown",
   "id": "4149134c",
   "metadata": {
    "id": "4149134c"
   },
   "source": [
    "## Цели и задачи проекта\n",
    "\n",
    "<font color='#777778'>Цель проекта, проверить гипотезу, что пользователи из Санкт-Петербурга проводят в среднем больше времени за чтением и прослушиванием книг в приложении, чем пользователи из Москвы. </font>"
   ]
  },
  {
   "cell_type": "markdown",
   "id": "728986ea",
   "metadata": {
    "id": "728986ea"
   },
   "source": [
    "## Описание данных\n",
    "\n",
    "<font color='#777778'>Данные содержат информацию о пользователях из Москвы и Санкт-Петербурга c их активностью (суммой часов чтения и прослушивания книг в приложении Яндекс Книги). </font>"
   ]
  },
  {
   "cell_type": "markdown",
   "id": "4fecaf95",
   "metadata": {
    "id": "4fecaf95"
   },
   "source": [
    "## Содержимое проекта\n",
    "\n",
    "<font color='#777778'>Основные шаги проекта:\n",
    "1. Загрузка данных и знакомство с ними.\n",
    "    \n",
    "   1.1 Проверка на наличие дубликатов.\n",
    "    \n",
    "   1.2 Сравнение размеров групп и их статистик.\n",
    "    \n",
    "   1.3 Проверка распределения данных.\n",
    "\n",
    "2. Проверка  гипотезы в Pyton/\n",
    "3. Аналитическая записка.</font>\n",
    "\n",
    "---"
   ]
  },
  {
   "cell_type": "markdown",
   "id": "6f7d21d6",
   "metadata": {
    "id": "6f7d21d6"
   },
   "source": [
    "## 1. Загрузка данных и знакомство с ними\n",
    "\n",
    "Загрузите данные пользователей из Москвы и Санкт-Петербурга c их активностью (суммой часов чтения и прослушивания) из файла `/datasets/yandex_knigi_data.csv`."
   ]
  },
  {
   "cell_type": "code",
   "execution_count": 1,
   "id": "05faf34b",
   "metadata": {
    "id": "05faf34b"
   },
   "outputs": [],
   "source": [
    "import pandas as pd "
   ]
  },
  {
   "cell_type": "code",
   "execution_count": 2,
   "id": "ce87c1db",
   "metadata": {
    "id": "ce87c1db"
   },
   "outputs": [],
   "source": [
    "# Загрузка датафрейма\n",
    "df = pd.read_csv('https://code.s3.yandex.net/datasets/yandex_knigi_data.csv')"
   ]
  },
  {
   "cell_type": "code",
   "execution_count": 3,
   "id": "f68a7419",
   "metadata": {
    "id": "f68a7419"
   },
   "outputs": [
    {
     "data": {
      "text/html": [
       "<div>\n",
       "<style scoped>\n",
       "    .dataframe tbody tr th:only-of-type {\n",
       "        vertical-align: middle;\n",
       "    }\n",
       "\n",
       "    .dataframe tbody tr th {\n",
       "        vertical-align: top;\n",
       "    }\n",
       "\n",
       "    .dataframe thead th {\n",
       "        text-align: right;\n",
       "    }\n",
       "</style>\n",
       "<table border=\"1\" class=\"dataframe\">\n",
       "  <thead>\n",
       "    <tr style=\"text-align: right;\">\n",
       "      <th></th>\n",
       "      <th>Unnamed: 0</th>\n",
       "      <th>city</th>\n",
       "      <th>puid</th>\n",
       "      <th>hours</th>\n",
       "    </tr>\n",
       "  </thead>\n",
       "  <tbody>\n",
       "    <tr>\n",
       "      <th>0</th>\n",
       "      <td>0</td>\n",
       "      <td>Москва</td>\n",
       "      <td>9668</td>\n",
       "      <td>26.167776</td>\n",
       "    </tr>\n",
       "    <tr>\n",
       "      <th>1</th>\n",
       "      <td>1</td>\n",
       "      <td>Москва</td>\n",
       "      <td>16598</td>\n",
       "      <td>82.111217</td>\n",
       "    </tr>\n",
       "    <tr>\n",
       "      <th>2</th>\n",
       "      <td>2</td>\n",
       "      <td>Москва</td>\n",
       "      <td>80401</td>\n",
       "      <td>4.656906</td>\n",
       "    </tr>\n",
       "    <tr>\n",
       "      <th>3</th>\n",
       "      <td>3</td>\n",
       "      <td>Москва</td>\n",
       "      <td>140205</td>\n",
       "      <td>1.840556</td>\n",
       "    </tr>\n",
       "    <tr>\n",
       "      <th>4</th>\n",
       "      <td>4</td>\n",
       "      <td>Москва</td>\n",
       "      <td>248755</td>\n",
       "      <td>151.326434</td>\n",
       "    </tr>\n",
       "  </tbody>\n",
       "</table>\n",
       "</div>"
      ],
      "text/plain": [
       "   Unnamed: 0    city    puid       hours\n",
       "0           0  Москва    9668   26.167776\n",
       "1           1  Москва   16598   82.111217\n",
       "2           2  Москва   80401    4.656906\n",
       "3           3  Москва  140205    1.840556\n",
       "4           4  Москва  248755  151.326434"
      ]
     },
     "metadata": {},
     "output_type": "display_data"
    }
   ],
   "source": [
    "# Просмотр первых строк датафрейма\n",
    "display(df.head(5))"
   ]
  },
  {
   "cell_type": "code",
   "execution_count": 4,
   "id": "8ade1571",
   "metadata": {},
   "outputs": [
    {
     "name": "stdout",
     "output_type": "stream",
     "text": [
      "Общее количество дубликатов по пользователю: 488\n"
     ]
    }
   ],
   "source": [
    "# Проверка дубликатов по идентификаторам пользователей и городам \n",
    "duplicates_by_user = df[df.duplicated(subset=['puid'], keep=False)]\n",
    "\n",
    "# Вывод результатов\n",
    "print(f\"Общее количество дубликатов по пользователю: {len(duplicates_by_user)}\")\n"
   ]
  },
  {
   "cell_type": "code",
   "execution_count": 5,
   "id": "2e2b86dd",
   "metadata": {},
   "outputs": [
    {
     "name": "stdout",
     "output_type": "stream",
     "text": [
      "Общее количество дубликатов по городу и пользователю: 0\n"
     ]
    }
   ],
   "source": [
    "# Проверка дубликатов по идентификаторам пользователей и городам \n",
    "duplicates_by_user = df[df.duplicated(subset=['city', 'puid'], keep=False)]\n",
    "\n",
    "# Вывод результатов\n",
    "print(f\"Общее количество дубликатов по городу и пользователю: {len(duplicates_by_user)}\")"
   ]
  },
  {
   "cell_type": "code",
   "execution_count": 6,
   "id": "e6842d45",
   "metadata": {},
   "outputs": [],
   "source": [
    "# Фильтрация данных для пользователей из Москвы\n",
    "moscow = df[df['city'] == 'Москва']\n",
    "\n",
    "# Фильтрация данных для пользователей из Санкт-Петербурга\n",
    "spb = df[df['city'] == 'Санкт-Петербург']"
   ]
  },
  {
   "cell_type": "code",
   "execution_count": 7,
   "id": "115b3344",
   "metadata": {
    "scrolled": false
   },
   "outputs": [
    {
     "name": "stdout",
     "output_type": "stream",
     "text": [
      "Количество пользователей в Москве: 6234\n",
      "Количество пользователей в Санкт-Петербурге: 2550\n",
      "Статистики для пользователей в Москве:\n",
      "count    6234.000000\n",
      "mean       10.881092\n",
      "std        36.851683\n",
      "min         0.000018\n",
      "25%         0.059903\n",
      "50%         0.924498\n",
      "75%         5.939972\n",
      "max       857.209373\n",
      "Name: hours, dtype: float64\n",
      "Статистики для пользователей в Санкт-Петербурге:\n",
      "count    2550.000000\n",
      "mean       11.592691\n",
      "std        39.704993\n",
      "min         0.000025\n",
      "25%         0.080002\n",
      "50%         0.984781\n",
      "75%         6.509072\n",
      "max       978.764775\n",
      "Name: hours, dtype: float64\n"
     ]
    }
   ],
   "source": [
    "# Проверка количества пользователей в каждой группе\n",
    "print(f\"Количество пользователей в Москве: {len(moscow)}\")\n",
    "print(f\"Количество пользователей в Санкт-Петербурге: {len(spb)}\")\n",
    "\n",
    "# Вывод статистики по столбцу 'hours' для Москвы\n",
    "print(\"Статистики для пользователей в Москве:\")\n",
    "print(moscow['hours'].describe())\n",
    "\n",
    "# Вывод статистики по столбцу 'hours' для Санкт-Петербурга\n",
    "print(\"Статистики для пользователей в Санкт-Петербурге:\")\n",
    "print(spb['hours'].describe())"
   ]
  },
  {
   "cell_type": "markdown",
   "id": "254d56bb",
   "metadata": {},
   "source": [
    "<font color='#777778'>Обе группы демонстрируют очень схожие распределения активности с незначительными отличиями.\n",
    "Хотя среднее время активности немного выше в Санкт-Петербурге, разница может быть незначима из-за большого разброса в данных.\n",
    "Максимальные значения указывают на наличие выбросов, которые могут искажать анализ среднего значения. Размеры групп отличаются - Москва: 6234 пользователей, Санкт-Петербург: 2550 пользователей.\n",
    "Группа в Москве почти в 2.5 раза больше."
   ]
  },
  {
   "cell_type": "code",
   "execution_count": 8,
   "id": "29a55f5f",
   "metadata": {},
   "outputs": [],
   "source": [
    "import matplotlib.pyplot as plt"
   ]
  },
  {
   "cell_type": "code",
   "execution_count": 9,
   "id": "44560ed4",
   "metadata": {},
   "outputs": [
    {
     "data": {
      "image/png": "[encoded data removed]",
      "text/plain": [
       "<Figure size 720x432 with 1 Axes>"
      ]
     },
     "metadata": {
      "needs_background": "light"
     },
     "output_type": "display_data"
    },
    {
     "data": {
      "image/png": "[encoded data removed]",
      "text/plain": [
       "<Figure size 720x432 with 1 Axes>"
      ]
     },
     "metadata": {
      "needs_background": "light"
     },
     "output_type": "display_data"
    }
   ],
   "source": [
    "# Построение гистограммы по столбцу 'hours' для Москвы\n",
    "plt.figure(figsize=(10, 6))\n",
    "plt.hist(\n",
    "    moscow['hours'], bins=50, alpha=0.7, color='blue', edgecolor='black'\n",
    ")\n",
    "plt.title('Распределение активности пользователей в Москве', fontsize=16)\n",
    "plt.xlabel('Сумма часов активности', fontsize=14)\n",
    "plt.ylabel('Количество пользователей', fontsize=14)\n",
    "plt.grid(alpha=0.4)\n",
    "plt.show()\n",
    "\n",
    "# Построение гистограммы по столбцу 'hours' для Санкт-Петербурга\n",
    "plt.figure(figsize=(10, 6))\n",
    "plt.hist(\n",
    "    spb['hours'], bins=50, alpha=0.7, color='orange', edgecolor='black'\n",
    ")\n",
    "plt.title('Распределение активности пользователей в Санкт-Петербурге', fontsize=16)\n",
    "plt.xlabel('Сумма часов активности', fontsize=14)\n",
    "plt.ylabel('Количество пользователей', fontsize=14)\n",
    "plt.grid(alpha=0.4)\n",
    "plt.show()"
   ]
  },
  {
   "cell_type": "code",
   "execution_count": 10,
   "id": "a7d2f6b2",
   "metadata": {
    "scrolled": true
   },
   "outputs": [
    {
     "data": {
      "image/png": "[encoded data removed]",
      "text/plain": [
       "<Figure size 720x432 with 1 Axes>"
      ]
     },
     "metadata": {
      "needs_background": "light"
     },
     "output_type": "display_data"
    }
   ],
   "source": [
    "import seaborn as sns\n",
    "\n",
    "# Построение \"коробки с усами\"\n",
    "plt.figure(figsize=(10, 6))\n",
    "sns.boxplot(x='city', y='hours', data=df, palette={'Москва': 'blue', 'Санкт-Петербург': 'orange'})\n",
    "\n",
    "# Настройка графика \n",
    "plt.title('Распределение активности пользователей', fontsize=16)\n",
    "plt.xlabel('Город', fontsize=14)\n",
    "plt.ylabel('Сумма часов активности', fontsize=14)\n",
    "plt.grid(axis='y', alpha=0.4)\n",
    "plt.show()"
   ]
  },
  {
   "cell_type": "markdown",
   "id": "1fa57eea",
   "metadata": {},
   "source": [
    "<font color='#777778'>Как видно на графике, в данных с суммой активности присутствую выбросы, которые могут искажать анализ. Следует их исключить."
   ]
  },
  {
   "cell_type": "code",
   "execution_count": 11,
   "id": "fa491e62",
   "metadata": {},
   "outputs": [],
   "source": [
    "# Очистка датафрейм от выбросов\n",
    "df = df[df['hours'] <= df['hours'].quantile(0.99)]"
   ]
  },
  {
   "cell_type": "code",
   "execution_count": 12,
   "id": "10df603d",
   "metadata": {},
   "outputs": [],
   "source": [
    "# Фильтрация данных для пользователей из Москвы\n",
    "moscow = df[df['city'] == 'Москва']\n",
    "\n",
    "# Фильтрация данных для пользователей из Санкт-Петербурга\n",
    "spb = df[df['city'] == 'Санкт-Петербург']"
   ]
  },
  {
   "cell_type": "code",
   "execution_count": 13,
   "id": "4c81c9c4",
   "metadata": {
    "scrolled": true
   },
   "outputs": [
    {
     "data": {
      "image/png": "[encoded data removed]",
      "text/plain": [
       "<Figure size 720x432 with 1 Axes>"
      ]
     },
     "metadata": {
      "needs_background": "light"
     },
     "output_type": "display_data"
    },
    {
     "data": {
      "image/png": "[encoded data removed]",
      "text/plain": [
       "<Figure size 720x432 with 1 Axes>"
      ]
     },
     "metadata": {
      "needs_background": "light"
     },
     "output_type": "display_data"
    }
   ],
   "source": [
    "import matplotlib.pyplot as plt\n",
    "\n",
    "# Построение гистограммы по столбцу 'hours' для Москвы\n",
    "plt.figure(figsize=(10, 6))\n",
    "plt.hist(\n",
    "    moscow['hours'], bins=30, alpha=0.7, color='blue', edgecolor='black'\n",
    ")\n",
    "plt.title('Распределение активности пользователей в Москве', fontsize=16)\n",
    "plt.xlabel('Сумма часов активности', fontsize=14)\n",
    "plt.ylabel('Количество пользователей', fontsize=14)\n",
    "plt.grid(alpha=0.4)\n",
    "plt.show()\n",
    "\n",
    "# Построение гистограммы по столбцу 'hours' для Санкт-Петербурга\n",
    "plt.figure(figsize=(10, 6))\n",
    "plt.hist(\n",
    "    spb['hours'], bins=50, alpha=0.7, color='orange', edgecolor='black'\n",
    ")\n",
    "plt.title('Распределение активности пользователей в Санкт-Петербурге', fontsize=16)\n",
    "plt.xlabel('Сумма часов активности', fontsize=14)\n",
    "plt.ylabel('Количество пользователей', fontsize=14)\n",
    "plt.grid(alpha=0.4)\n",
    "plt.show()\n"
   ]
  },
  {
   "cell_type": "code",
   "execution_count": 14,
   "id": "2ab11a36",
   "metadata": {},
   "outputs": [
    {
     "data": {
      "image/png": "[encoded data removed]",
      "text/plain": [
       "<Figure size 720x432 with 1 Axes>"
      ]
     },
     "metadata": {
      "needs_background": "light"
     },
     "output_type": "display_data"
    }
   ],
   "source": [
    "import seaborn as sns\n",
    "\n",
    "# Построение \"коробки с усами\" без выбросов\n",
    "plt.figure(figsize=(10, 6))\n",
    "sns.boxplot(x='city', y='hours', data=df, palette={'Москва': 'blue', 'Санкт-Петербург': 'orange'})\n",
    "\n",
    "# Настройка графика\n",
    "plt.title('Распределение активности пользователей', fontsize=16)\n",
    "plt.xlabel('Город', fontsize=14)\n",
    "plt.ylabel('Сумма часов активности', fontsize=14)\n",
    "plt.grid(axis='y', alpha=0.4)\n",
    "plt.show()"
   ]
  },
  {
   "cell_type": "markdown",
   "id": "48581523",
   "metadata": {},
   "source": [
    "<font color='#777778'> Согласно графиков, данные для Москвы и Санкт-Петербурга имеют левостороннее распределение и длинные правосторонние хвосты."
   ]
  },
  {
   "cell_type": "markdown",
   "id": "956e82e2",
   "metadata": {
    "id": "956e82e2"
   },
   "source": [
    "## 2. Проверка гипотезы в Python\n",
    "\n",
    "Гипотеза звучит так: пользователи из Санкт-Петербурга проводят в среднем больше времени за чтением и прослушиванием книг в приложении, чем пользователи из Москвы. Попробуйте статистически это доказать, используя одностороннюю проверку гипотезы с двумя выборками:\n",
    "\n",
    "- Нулевая гипотеза H₀: Средняя активность пользователей в Санкт-Петербурге не больше, чем в Москве.\n",
    "\n",
    "- Альтернативная гипотеза H₁: Средняя активность пользователей в Санкт-Петербурге больше, и это различие статистически значимо."
   ]
  },
  {
   "cell_type": "markdown",
   "id": "d919ea93",
   "metadata": {},
   "source": [
    "<font color='#777778'> Для проверки гипотезы оптимальным выбором является U-тест Манна-Уитни, т.к. проверяет различие между распределениями двух независимых выборок, не требует нормального распределения и устойчив к выбросам."
   ]
  },
  {
   "cell_type": "code",
   "execution_count": 15,
   "id": "67956690",
   "metadata": {
    "id": "67956690",
    "scrolled": true
   },
   "outputs": [
    {
     "name": "stdout",
     "output_type": "stream",
     "text": [
      "P-value: 0.0824\n",
      "Не отклоняем нулевую гипотезу: среднее время активности пользователей в Санкт-Петербурге не превышает Москву.\n"
     ]
    }
   ],
   "source": [
    "from scipy.stats import mannwhitneyu\n",
    "\n",
    "u_stat, p_value = mannwhitneyu(spb['hours'], moscow['hours'], alternative='greater')\n",
    "\n",
    "print(f\"P-value: {p_value:.4f}\")\n",
    "if p_value < 0.05:\n",
    "    print(\"Отклоняем нулевую гипотезу: среднее время активности пользователей в Санкт-Петербурге статистически значимо больше.\")\n",
    "else:\n",
    "    print(\"Не отклоняем нулевую гипотезу: среднее время активности пользователей в Санкт-Петербурге не превышает Москву.\")"
   ]
  },
  {
   "cell_type": "markdown",
   "id": "6953e84c",
   "metadata": {
    "id": "6953e84c"
   },
   "source": [
    "## 3. Аналитическая записка\n",
    "По результатам анализа данных подготовьте аналитическую записку, в которой опишете:\n",
    "\n",
    "- Выбранный тип t-теста и уровень статистической значимости.\n",
    "\n",
    "- Результат теста, или p-value.\n",
    "\n",
    "- Вывод на основе полученного p-value, то есть интерпретацию результатов.\n",
    "\n",
    "- Одну или две возможные причины, объясняющие полученные результаты.\n",
    "\n"
   ]
  },
  {
   "cell_type": "markdown",
   "id": "hc1d6jVISegz",
   "metadata": {
    "id": "hc1d6jVISegz"
   },
   "source": [
    "<font color='#777778'>Мы использовали U-тест Манна-Уитни для двух независимых выборок, так как анализируем время активности пользователей из двух разных групп: Москва и Санкт-Петербург, распределение данных не является нормальным, и имеются выбросы в данных. Проверка гипотезы была односторонней, так как предполагалось, что пользователи Санкт-Петербурга проводят больше времени за чтением и прослушиванием книг. Уровень статистической значимости был установлен на 0.05, что является стандартным значением в статистических анализах.\n",
    "\n",
    "P-value равно 0.0824, что выше уровня значимости (0.05), поэтому мы не отклоняем нулевую гипотезу. Это означает, что среднее время активности пользователей в Санкт-Петербурге не статистически значимо превышает время активности пользователей в Москве.\n",
    "\n",
    "Результаты t-теста показывают, что разница в средних значениях времени активности между группами не подтверждается статистически. \n",
    "\n",
    "Возможно, пользователи в обоих городах проявляют одинаковый интерес к чтению и прослушиванию книг, что отражается в схожих данных."
   ]
  },
  {
   "cell_type": "markdown",
   "id": "NqOUIYhbrIfC",
   "metadata": {
    "id": "NqOUIYhbrIfC"
   },
   "source": [
    "# Часть 2. Анализ результатов A/B-тестирования"
   ]
  },
  {
   "cell_type": "markdown",
   "id": "tDwMKFNGsClr",
   "metadata": {
    "id": "tDwMKFNGsClr"
   },
   "source": [
    "Теперь вам нужно проанализировать другие данные. Представьте, что к вам обратились представители интернет-магазина BitMotion Kit, в котором продаются геймифицированные товары для тех, кто ведёт здоровый образ жизни. У него есть своя целевая аудитория, даже появились хиты продаж: эспандер со счётчиком и напоминанием, так и подстольный велотренажёр с Bluetooth.\n",
    "\n",
    "В будущем компания хочет расширить ассортимент товаров. Но перед этим нужно решить одну проблему. Интерфейс онлайн-магазина слишком сложен для пользователей — об этом говорят отзывы.\n",
    "\n",
    "Чтобы привлечь новых клиентов и увеличить число продаж, владельцы магазина разработали новую версию сайта и протестировали его на части пользователей. По задумке, это решение доказуемо повысит количество пользователей, которые совершат покупку.\n",
    "\n",
    "Ваша задача — провести оценку результатов A/B-теста. В вашем распоряжении:\n",
    "\n",
    "* данные о действиях пользователей и распределении их на группы,\n",
    "\n",
    "* техническое задание.\n",
    "\n",
    "Оцените корректность проведения теста и проанализируйте его результаты."
   ]
  },
  {
   "cell_type": "markdown",
   "id": "UNXAAyF5r9Rk",
   "metadata": {
    "id": "UNXAAyF5r9Rk"
   },
   "source": [
    "## 1. Опишите цели исследования.\n",
    "\n"
   ]
  },
  {
   "cell_type": "markdown",
   "id": "kHx-51yES8bd",
   "metadata": {
    "id": "kHx-51yES8bd"
   },
   "source": [
    "<font color='#777778'> Цель исследования: оценить, повысит ли новая версия сайта онлайн-магазина BitMotion Kit количество пользователей, которые совершат покупку."
   ]
  },
  {
   "cell_type": "markdown",
   "id": "_CZryx2OsH-s",
   "metadata": {
    "id": "_CZryx2OsH-s"
   },
   "source": [
    "## 2. Загрузите данные, оцените их целостность.\n"
   ]
  },
  {
   "cell_type": "code",
   "execution_count": 16,
   "id": "DjFcJbeGsTIg",
   "metadata": {
    "id": "DjFcJbeGsTIg"
   },
   "outputs": [],
   "source": [
    "#Загрузка данных\n",
    "participants = pd.read_csv('https://code.s3.yandex.net/datasets/ab_test_participants.csv')\n",
    "events = pd.read_csv('https://code.s3.yandex.net/datasets/ab_test_events.zip',\n",
    "                     parse_dates=['event_dt'], low_memory=False)"
   ]
  },
  {
   "cell_type": "code",
   "execution_count": 17,
   "id": "119eaa94",
   "metadata": {
    "scrolled": false
   },
   "outputs": [
    {
     "data": {
      "text/html": [
       "<div>\n",
       "<style scoped>\n",
       "    .dataframe tbody tr th:only-of-type {\n",
       "        vertical-align: middle;\n",
       "    }\n",
       "\n",
       "    .dataframe tbody tr th {\n",
       "        vertical-align: top;\n",
       "    }\n",
       "\n",
       "    .dataframe thead th {\n",
       "        text-align: right;\n",
       "    }\n",
       "</style>\n",
       "<table border=\"1\" class=\"dataframe\">\n",
       "  <thead>\n",
       "    <tr style=\"text-align: right;\">\n",
       "      <th></th>\n",
       "      <th>user_id</th>\n",
       "      <th>group</th>\n",
       "      <th>ab_test</th>\n",
       "      <th>device</th>\n",
       "    </tr>\n",
       "  </thead>\n",
       "  <tbody>\n",
       "    <tr>\n",
       "      <th>0</th>\n",
       "      <td>0002CE61FF2C4011</td>\n",
       "      <td>B</td>\n",
       "      <td>interface_eu_test</td>\n",
       "      <td>Mac</td>\n",
       "    </tr>\n",
       "    <tr>\n",
       "      <th>1</th>\n",
       "      <td>001064FEAAB631A1</td>\n",
       "      <td>B</td>\n",
       "      <td>recommender_system_test</td>\n",
       "      <td>Android</td>\n",
       "    </tr>\n",
       "    <tr>\n",
       "      <th>2</th>\n",
       "      <td>001064FEAAB631A1</td>\n",
       "      <td>A</td>\n",
       "      <td>interface_eu_test</td>\n",
       "      <td>Android</td>\n",
       "    </tr>\n",
       "    <tr>\n",
       "      <th>3</th>\n",
       "      <td>0010A1C096941592</td>\n",
       "      <td>A</td>\n",
       "      <td>recommender_system_test</td>\n",
       "      <td>Android</td>\n",
       "    </tr>\n",
       "    <tr>\n",
       "      <th>4</th>\n",
       "      <td>001E72F50D1C48FA</td>\n",
       "      <td>A</td>\n",
       "      <td>interface_eu_test</td>\n",
       "      <td>Mac</td>\n",
       "    </tr>\n",
       "  </tbody>\n",
       "</table>\n",
       "</div>"
      ],
      "text/plain": [
       "            user_id group                  ab_test   device\n",
       "0  0002CE61FF2C4011     B        interface_eu_test      Mac\n",
       "1  001064FEAAB631A1     B  recommender_system_test  Android\n",
       "2  001064FEAAB631A1     A        interface_eu_test  Android\n",
       "3  0010A1C096941592     A  recommender_system_test  Android\n",
       "4  001E72F50D1C48FA     A        interface_eu_test      Mac"
      ]
     },
     "metadata": {},
     "output_type": "display_data"
    }
   ],
   "source": [
    "# Просмотр первых строк датафрейма\n",
    "display(participants.head(5))"
   ]
  },
  {
   "cell_type": "code",
   "execution_count": 18,
   "id": "c61bc435",
   "metadata": {
    "scrolled": false
   },
   "outputs": [
    {
     "data": {
      "text/html": [
       "<div>\n",
       "<style scoped>\n",
       "    .dataframe tbody tr th:only-of-type {\n",
       "        vertical-align: middle;\n",
       "    }\n",
       "\n",
       "    .dataframe tbody tr th {\n",
       "        vertical-align: top;\n",
       "    }\n",
       "\n",
       "    .dataframe thead th {\n",
       "        text-align: right;\n",
       "    }\n",
       "</style>\n",
       "<table border=\"1\" class=\"dataframe\">\n",
       "  <thead>\n",
       "    <tr style=\"text-align: right;\">\n",
       "      <th></th>\n",
       "      <th>user_id</th>\n",
       "      <th>event_dt</th>\n",
       "      <th>event_name</th>\n",
       "      <th>details</th>\n",
       "    </tr>\n",
       "  </thead>\n",
       "  <tbody>\n",
       "    <tr>\n",
       "      <th>0</th>\n",
       "      <td>GLOBAL</td>\n",
       "      <td>2020-12-01 00:00:00</td>\n",
       "      <td>End of Black Friday Ads Campaign</td>\n",
       "      <td>ZONE_CODE15</td>\n",
       "    </tr>\n",
       "    <tr>\n",
       "      <th>1</th>\n",
       "      <td>CCBE9E7E99F94A08</td>\n",
       "      <td>2020-12-01 00:00:11</td>\n",
       "      <td>registration</td>\n",
       "      <td>0.0</td>\n",
       "    </tr>\n",
       "    <tr>\n",
       "      <th>2</th>\n",
       "      <td>GLOBAL</td>\n",
       "      <td>2020-12-01 00:00:25</td>\n",
       "      <td>product_page</td>\n",
       "      <td>NaN</td>\n",
       "    </tr>\n",
       "    <tr>\n",
       "      <th>3</th>\n",
       "      <td>CCBE9E7E99F94A08</td>\n",
       "      <td>2020-12-01 00:00:33</td>\n",
       "      <td>login</td>\n",
       "      <td>NaN</td>\n",
       "    </tr>\n",
       "    <tr>\n",
       "      <th>4</th>\n",
       "      <td>CCBE9E7E99F94A08</td>\n",
       "      <td>2020-12-01 00:00:52</td>\n",
       "      <td>product_page</td>\n",
       "      <td>NaN</td>\n",
       "    </tr>\n",
       "  </tbody>\n",
       "</table>\n",
       "</div>"
      ],
      "text/plain": [
       "            user_id            event_dt                        event_name  \\\n",
       "0            GLOBAL 2020-12-01 00:00:00  End of Black Friday Ads Campaign   \n",
       "1  CCBE9E7E99F94A08 2020-12-01 00:00:11                      registration   \n",
       "2            GLOBAL 2020-12-01 00:00:25                      product_page   \n",
       "3  CCBE9E7E99F94A08 2020-12-01 00:00:33                             login   \n",
       "4  CCBE9E7E99F94A08 2020-12-01 00:00:52                      product_page   \n",
       "\n",
       "       details  \n",
       "0  ZONE_CODE15  \n",
       "1          0.0  \n",
       "2          NaN  \n",
       "3          NaN  \n",
       "4          NaN  "
      ]
     },
     "metadata": {},
     "output_type": "display_data"
    }
   ],
   "source": [
    "# Просмотр первых строк датафрейма\n",
    "display(events.head(5))"
   ]
  },
  {
   "cell_type": "code",
   "execution_count": 19,
   "id": "ac8a51e5",
   "metadata": {},
   "outputs": [
    {
     "name": "stdout",
     "output_type": "stream",
     "text": [
      "Пропущенные значения в participants:\n",
      "user_id    0\n",
      "group      0\n",
      "ab_test    0\n",
      "device     0\n",
      "dtype: int64\n",
      "Пропущенные значения в events:\n",
      "user_id            0\n",
      "event_dt           0\n",
      "event_name         0\n",
      "details       538264\n",
      "dtype: int64\n"
     ]
    }
   ],
   "source": [
    "print(\"Пропущенные значения в participants:\")\n",
    "print(participants.isnull().sum())\n",
    "\n",
    "print(\"Пропущенные значения в events:\")\n",
    "print(events.isnull().sum())\n"
   ]
  },
  {
   "cell_type": "markdown",
   "id": "9938b212",
   "metadata": {},
   "source": [
    "<font color='#777778'>Пропущенные значения встречаются только в столбце 'details' с дополнительными данные о событии, что не оказывает влияния на проведение данного A/B теста."
   ]
  },
  {
   "cell_type": "code",
   "execution_count": 20,
   "id": "2f9bfd7b",
   "metadata": {
    "scrolled": true
   },
   "outputs": [
    {
     "name": "stdout",
     "output_type": "stream",
     "text": [
      "Количество дубликатов в participants: 0\n",
      "Количество дубликатов в events: 36318\n"
     ]
    }
   ],
   "source": [
    "print(f\"Количество дубликатов в participants: {participants.duplicated().sum()}\")\n",
    "print(f\"Количество дубликатов в events: {events.duplicated().sum()}\")"
   ]
  },
  {
   "cell_type": "code",
   "execution_count": 21,
   "id": "18f43187",
   "metadata": {
    "scrolled": true
   },
   "outputs": [
    {
     "name": "stdout",
     "output_type": "stream",
     "text": [
      "Количество дубликатов в столбце 'user_id': 643102\n",
      "Количество дубликатов в столбце 'event_dt': 180713\n",
      "Количество дубликатов в столбце 'event_name': 787278\n",
      "Количество дубликатов в столбце 'details': 787116\n"
     ]
    }
   ],
   "source": [
    "# Посчитаем дубликаты по каждому столбцу\n",
    "duplicate_counts = {col: events.duplicated(subset=[col]).sum() for col in events.columns}\n",
    "\n",
    "# Выведем результаты\n",
    "for col, count in duplicate_counts.items():\n",
    "    print(f\"Количество дубликатов в столбце '{col}': {count}\")\n"
   ]
  },
  {
   "cell_type": "code",
   "execution_count": 22,
   "id": "eb02fb05",
   "metadata": {},
   "outputs": [
    {
     "name": "stdout",
     "output_type": "stream",
     "text": [
      "Удалено 36318 полных дубликатов (4.61% от общего числа строк).\n"
     ]
    }
   ],
   "source": [
    "# Удаляем полные дубликаты\n",
    "events_clean = events.drop_duplicates()\n",
    "\n",
    "# Проверяем количество удалённых строк\n",
    "duplicates = len(events) - len(events_clean)\n",
    "\n",
    "# Вычисляем процент удалённых строк\n",
    "percent = (duplicates / len(events)) * 100\n",
    "\n",
    "# Вывод результата\n",
    "print(f\"Удалено {duplicates} полных дубликатов ({percent:.2f}% от общего числа строк).\")"
   ]
  },
  {
   "cell_type": "markdown",
   "id": "d228e742",
   "metadata": {},
   "source": [
    "<font color='#777778'>Дубликаты встречаются только в датафрейме events, что логично, т.к. один пользователь может совершать несколько событий в разные временные промежутки. Полные дубликаты в событиях исключены"
   ]
  },
  {
   "cell_type": "markdown",
   "id": "659c31c2",
   "metadata": {},
   "source": [
    "<font color='#777778'>Пропущенные значения встречаются только в столбце 'details' с дополнительными данные о событии, что не оказывает влияния на проведение данного A/B теста."
   ]
  },
  {
   "cell_type": "markdown",
   "id": "CnzA-efasUrk",
   "metadata": {
    "id": "CnzA-efasUrk"
   },
   "source": [
    "## 3. По таблице `ab_test_participants` оцените корректность проведения теста:\n",
    "\n",
    "   3\\.1 Выделите пользователей, участвующих в тесте, и проверьте:\n",
    "\n",
    "   - соответствие требованиям технического задания,\n",
    "\n",
    "   - равномерность распределения пользователей по группам теста,\n",
    "\n",
    "   - отсутствие пересечений с конкурирующим тестом (нет пользователей, участвующих одновременно в двух тестовых группах)."
   ]
  },
  {
   "cell_type": "code",
   "execution_count": 23,
   "id": "3a7162bb",
   "metadata": {
    "id": "aNa3zHrKslEN"
   },
   "outputs": [
    {
     "data": {
      "text/html": [
       "<div>\n",
       "<style scoped>\n",
       "    .dataframe tbody tr th:only-of-type {\n",
       "        vertical-align: middle;\n",
       "    }\n",
       "\n",
       "    .dataframe tbody tr th {\n",
       "        vertical-align: top;\n",
       "    }\n",
       "\n",
       "    .dataframe thead th {\n",
       "        text-align: right;\n",
       "    }\n",
       "</style>\n",
       "<table border=\"1\" class=\"dataframe\">\n",
       "  <thead>\n",
       "    <tr style=\"text-align: right;\">\n",
       "      <th></th>\n",
       "      <th>user_id</th>\n",
       "      <th>group</th>\n",
       "      <th>ab_test</th>\n",
       "      <th>device</th>\n",
       "    </tr>\n",
       "  </thead>\n",
       "  <tbody>\n",
       "    <tr>\n",
       "      <th>0</th>\n",
       "      <td>0002CE61FF2C4011</td>\n",
       "      <td>B</td>\n",
       "      <td>interface_eu_test</td>\n",
       "      <td>Mac</td>\n",
       "    </tr>\n",
       "    <tr>\n",
       "      <th>2</th>\n",
       "      <td>001064FEAAB631A1</td>\n",
       "      <td>A</td>\n",
       "      <td>interface_eu_test</td>\n",
       "      <td>Android</td>\n",
       "    </tr>\n",
       "    <tr>\n",
       "      <th>4</th>\n",
       "      <td>001E72F50D1C48FA</td>\n",
       "      <td>A</td>\n",
       "      <td>interface_eu_test</td>\n",
       "      <td>Mac</td>\n",
       "    </tr>\n",
       "    <tr>\n",
       "      <th>5</th>\n",
       "      <td>002412F1EB3F6E38</td>\n",
       "      <td>B</td>\n",
       "      <td>interface_eu_test</td>\n",
       "      <td>Mac</td>\n",
       "    </tr>\n",
       "    <tr>\n",
       "      <th>6</th>\n",
       "      <td>002540BE89C930FB</td>\n",
       "      <td>B</td>\n",
       "      <td>interface_eu_test</td>\n",
       "      <td>Android</td>\n",
       "    </tr>\n",
       "    <tr>\n",
       "      <th>7</th>\n",
       "      <td>0031F1B5E9FBF708</td>\n",
       "      <td>A</td>\n",
       "      <td>interface_eu_test</td>\n",
       "      <td>Android</td>\n",
       "    </tr>\n",
       "    <tr>\n",
       "      <th>8</th>\n",
       "      <td>003346BB64227D0C</td>\n",
       "      <td>B</td>\n",
       "      <td>interface_eu_test</td>\n",
       "      <td>Android</td>\n",
       "    </tr>\n",
       "    <tr>\n",
       "      <th>10</th>\n",
       "      <td>00341D8401F0F665</td>\n",
       "      <td>B</td>\n",
       "      <td>interface_eu_test</td>\n",
       "      <td>iPhone</td>\n",
       "    </tr>\n",
       "    <tr>\n",
       "      <th>11</th>\n",
       "      <td>0036BE15EE4D319D</td>\n",
       "      <td>A</td>\n",
       "      <td>interface_eu_test</td>\n",
       "      <td>PC</td>\n",
       "    </tr>\n",
       "    <tr>\n",
       "      <th>13</th>\n",
       "      <td>003F86A34B575D27</td>\n",
       "      <td>A</td>\n",
       "      <td>interface_eu_test</td>\n",
       "      <td>Android</td>\n",
       "    </tr>\n",
       "  </tbody>\n",
       "</table>\n",
       "</div>"
      ],
      "text/plain": [
       "             user_id group            ab_test   device\n",
       "0   0002CE61FF2C4011     B  interface_eu_test      Mac\n",
       "2   001064FEAAB631A1     A  interface_eu_test  Android\n",
       "4   001E72F50D1C48FA     A  interface_eu_test      Mac\n",
       "5   002412F1EB3F6E38     B  interface_eu_test      Mac\n",
       "6   002540BE89C930FB     B  interface_eu_test  Android\n",
       "7   0031F1B5E9FBF708     A  interface_eu_test  Android\n",
       "8   003346BB64227D0C     B  interface_eu_test  Android\n",
       "10  00341D8401F0F665     B  interface_eu_test   iPhone\n",
       "11  0036BE15EE4D319D     A  interface_eu_test       PC\n",
       "13  003F86A34B575D27     A  interface_eu_test  Android"
      ]
     },
     "metadata": {},
     "output_type": "display_data"
    }
   ],
   "source": [
    "# Фильтрация пользователей, участвующих в тесте interface_eu_test\n",
    "test_participants = participants[participants['ab_test'] == 'interface_eu_test']\n",
    "display(test_participants.head(10))"
   ]
  },
  {
   "cell_type": "code",
   "execution_count": 24,
   "id": "38db3bef",
   "metadata": {
    "scrolled": false
   },
   "outputs": [
    {
     "name": "stdout",
     "output_type": "stream",
     "text": [
      "B    5467\n",
      "A    5383\n",
      "Name: group, dtype: int64\n"
     ]
    }
   ],
   "source": [
    "#Проверка, что пользователи разделены на две группы\n",
    "print(test_participants['group'].value_counts())"
   ]
  },
  {
   "cell_type": "markdown",
   "id": "e38fb589",
   "metadata": {},
   "source": [
    "<font color='#777778'> Можно сделать вывод, что в данных присутствуют только тестируемые группы А и В."
   ]
  },
  {
   "cell_type": "code",
   "execution_count": 25,
   "id": "6668b88c",
   "metadata": {
    "scrolled": false
   },
   "outputs": [
    {
     "name": "stdout",
     "output_type": "stream",
     "text": [
      "Распределение по группам (%):\n",
      "B    50.387097\n",
      "A    49.612903\n",
      "Name: group, dtype: float64\n"
     ]
    }
   ],
   "source": [
    "#Проверка распределения по группам\n",
    "group_sizes = test_participants['group'].value_counts(normalize=True) * 100\n",
    "print(\"Распределение по группам (%):\")\n",
    "print(group_sizes)"
   ]
  },
  {
   "cell_type": "markdown",
   "id": "260ede3c",
   "metadata": {},
   "source": [
    "<font color='#777778'> Разница распределения посетителей между группами составляет 0.77%. Это означает, что группы распределены равномерно."
   ]
  },
  {
   "cell_type": "code",
   "execution_count": 26,
   "id": "6a09e19c",
   "metadata": {},
   "outputs": [
    {
     "name": "stdout",
     "output_type": "stream",
     "text": [
      "Количество пользователей, одновременно находящихся в группах A и B: 0\n"
     ]
    }
   ],
   "source": [
    "# Проверка пользователей, которые присутствуют одновременно в группах A и B\n",
    "duplicate_users = test_participants.groupby('user_id')['group'].nunique()\n",
    "overlap_users = duplicate_users[duplicate_users > 1]\n",
    "\n",
    "# Вывод результатов\n",
    "print(f\"Количество пользователей, одновременно находящихся в группах A и B: {len(overlap_users)}\")\n",
    "if len(overlap_users) > 0:\n",
    "    print(\"Примеры пользователей с пересечением групп:\")\n",
    "    print(overlap_users.head())\n"
   ]
  },
  {
   "cell_type": "markdown",
   "id": "06e6a3a3",
   "metadata": {},
   "source": [
    "<font color='#777778'> Пересечений пользователей в группах не обнаружено, что говорит о независимости выборок."
   ]
  },
  {
   "cell_type": "code",
   "execution_count": 27,
   "id": "1fad282c",
   "metadata": {},
   "outputs": [
    {
     "name": "stdout",
     "output_type": "stream",
     "text": [
      "Удалено 116 пользователей, попавших в группу B в двух тестах сразу.\n"
     ]
    }
   ],
   "source": [
    "# Фильтрация пользователей, попавших в группы B\n",
    "group_B_users = participants[participants['group'] == 'B']\n",
    "\n",
    "# Проверка, есть ли пользователи, участвующие в двух тестах одновременно\n",
    "duplicate_B_users = group_B_users[group_B_users.duplicated(subset=['user_id'], keep=False)]\n",
    "\n",
    "# Исключение этих пользователей из test_participants\n",
    "test_participants_clean = test_participants[~test_participants['user_id'].isin(duplicate_B_users['user_id'])]\n",
    "\n",
    "# Проверяем, сколько пользователей было удалено\n",
    "removed_users = len(test_participants) - len(test_participants_clean)\n",
    "print(f\"Удалено {removed_users} пользователей, попавших в группу B в двух тестах сразу.\")\n"
   ]
  },
  {
   "cell_type": "markdown",
   "id": "GjulgSrlsqUU",
   "metadata": {
    "id": "GjulgSrlsqUU"
   },
   "source": [
    "3\\.2 Проанализируйте данные о пользовательской активности по таблице `ab_test_events`:\n",
    "\n",
    "- оставьте только события, связанные с участвующими в изучаемом тесте пользователями;"
   ]
  },
  {
   "cell_type": "code",
   "execution_count": 28,
   "id": "QMt0Ybo_swDK",
   "metadata": {
    "id": "QMt0Ybo_swDK",
    "scrolled": true
   },
   "outputs": [
    {
     "data": {
      "text/html": [
       "<div>\n",
       "<style scoped>\n",
       "    .dataframe tbody tr th:only-of-type {\n",
       "        vertical-align: middle;\n",
       "    }\n",
       "\n",
       "    .dataframe tbody tr th {\n",
       "        vertical-align: top;\n",
       "    }\n",
       "\n",
       "    .dataframe thead th {\n",
       "        text-align: right;\n",
       "    }\n",
       "</style>\n",
       "<table border=\"1\" class=\"dataframe\">\n",
       "  <thead>\n",
       "    <tr style=\"text-align: right;\">\n",
       "      <th></th>\n",
       "      <th>user_id</th>\n",
       "      <th>event_dt</th>\n",
       "      <th>event_name</th>\n",
       "      <th>details</th>\n",
       "    </tr>\n",
       "  </thead>\n",
       "  <tbody>\n",
       "    <tr>\n",
       "      <th>72920</th>\n",
       "      <td>B1D88FBD4BA58E1B</td>\n",
       "      <td>2020-12-23 23:44:47</td>\n",
       "      <td>registration</td>\n",
       "      <td>0.0</td>\n",
       "    </tr>\n",
       "    <tr>\n",
       "      <th>72921</th>\n",
       "      <td>B1D88FBD4BA58E1B</td>\n",
       "      <td>2020-12-23 23:50:45</td>\n",
       "      <td>login</td>\n",
       "      <td>NaN</td>\n",
       "    </tr>\n",
       "    <tr>\n",
       "      <th>72922</th>\n",
       "      <td>B1D88FBD4BA58E1B</td>\n",
       "      <td>2020-12-23 23:51:28</td>\n",
       "      <td>product_page</td>\n",
       "      <td>NaN</td>\n",
       "    </tr>\n",
       "    <tr>\n",
       "      <th>72923</th>\n",
       "      <td>38CA3A3C4FE3FEFD</td>\n",
       "      <td>2020-12-23 23:47:47</td>\n",
       "      <td>login</td>\n",
       "      <td>NaN</td>\n",
       "    </tr>\n",
       "    <tr>\n",
       "      <th>72924</th>\n",
       "      <td>38CA3A3C4FE3FEFD</td>\n",
       "      <td>2020-12-23 23:47:47</td>\n",
       "      <td>registration</td>\n",
       "      <td>-1.71</td>\n",
       "    </tr>\n",
       "    <tr>\n",
       "      <th>72925</th>\n",
       "      <td>38CA3A3C4FE3FEFD</td>\n",
       "      <td>2020-12-23 23:48:53</td>\n",
       "      <td>login</td>\n",
       "      <td>NaN</td>\n",
       "    </tr>\n",
       "    <tr>\n",
       "      <th>72926</th>\n",
       "      <td>38CA3A3C4FE3FEFD</td>\n",
       "      <td>2020-12-23 23:48:55</td>\n",
       "      <td>product_page</td>\n",
       "      <td>NaN</td>\n",
       "    </tr>\n",
       "    <tr>\n",
       "      <th>72927</th>\n",
       "      <td>38CA3A3C4FE3FEFD</td>\n",
       "      <td>2020-12-24 05:48:54</td>\n",
       "      <td>product_cart</td>\n",
       "      <td>NaN</td>\n",
       "    </tr>\n",
       "    <tr>\n",
       "      <th>72928</th>\n",
       "      <td>38CA3A3C4FE3FEFD</td>\n",
       "      <td>2020-12-24 05:49:55</td>\n",
       "      <td>product_page</td>\n",
       "      <td>NaN</td>\n",
       "    </tr>\n",
       "    <tr>\n",
       "      <th>72929</th>\n",
       "      <td>38CA3A3C4FE3FEFD</td>\n",
       "      <td>2020-12-24 05:51:23</td>\n",
       "      <td>product_cart</td>\n",
       "      <td>NaN</td>\n",
       "    </tr>\n",
       "    <tr>\n",
       "      <th>72930</th>\n",
       "      <td>16CCB1C8C4DCF1AF</td>\n",
       "      <td>2020-12-23 23:50:29</td>\n",
       "      <td>registration</td>\n",
       "      <td>0.0</td>\n",
       "    </tr>\n",
       "    <tr>\n",
       "      <th>72931</th>\n",
       "      <td>16CCB1C8C4DCF1AF</td>\n",
       "      <td>2020-12-23 23:55:52</td>\n",
       "      <td>login</td>\n",
       "      <td>NaN</td>\n",
       "    </tr>\n",
       "    <tr>\n",
       "      <th>72932</th>\n",
       "      <td>2DDC948BD76ABC57</td>\n",
       "      <td>2020-12-24 21:57:10</td>\n",
       "      <td>registration</td>\n",
       "      <td>-4.29</td>\n",
       "    </tr>\n",
       "    <tr>\n",
       "      <th>72933</th>\n",
       "      <td>2DDC948BD76ABC57</td>\n",
       "      <td>2020-12-24 21:58:49</td>\n",
       "      <td>login</td>\n",
       "      <td>NaN</td>\n",
       "    </tr>\n",
       "    <tr>\n",
       "      <th>72934</th>\n",
       "      <td>2DDC948BD76ABC57</td>\n",
       "      <td>2020-12-24 22:00:40</td>\n",
       "      <td>product_page</td>\n",
       "      <td>NaN</td>\n",
       "    </tr>\n",
       "  </tbody>\n",
       "</table>\n",
       "</div>"
      ],
      "text/plain": [
       "                user_id            event_dt    event_name details\n",
       "72920  B1D88FBD4BA58E1B 2020-12-23 23:44:47  registration     0.0\n",
       "72921  B1D88FBD4BA58E1B 2020-12-23 23:50:45         login     NaN\n",
       "72922  B1D88FBD4BA58E1B 2020-12-23 23:51:28  product_page     NaN\n",
       "72923  38CA3A3C4FE3FEFD 2020-12-23 23:47:47         login     NaN\n",
       "72924  38CA3A3C4FE3FEFD 2020-12-23 23:47:47  registration   -1.71\n",
       "72925  38CA3A3C4FE3FEFD 2020-12-23 23:48:53         login     NaN\n",
       "72926  38CA3A3C4FE3FEFD 2020-12-23 23:48:55  product_page     NaN\n",
       "72927  38CA3A3C4FE3FEFD 2020-12-24 05:48:54  product_cart     NaN\n",
       "72928  38CA3A3C4FE3FEFD 2020-12-24 05:49:55  product_page     NaN\n",
       "72929  38CA3A3C4FE3FEFD 2020-12-24 05:51:23  product_cart     NaN\n",
       "72930  16CCB1C8C4DCF1AF 2020-12-23 23:50:29  registration     0.0\n",
       "72931  16CCB1C8C4DCF1AF 2020-12-23 23:55:52         login     NaN\n",
       "72932  2DDC948BD76ABC57 2020-12-24 21:57:10  registration   -4.29\n",
       "72933  2DDC948BD76ABC57 2020-12-24 21:58:49         login     NaN\n",
       "72934  2DDC948BD76ABC57 2020-12-24 22:00:40  product_page     NaN"
      ]
     },
     "metadata": {},
     "output_type": "display_data"
    }
   ],
   "source": [
    "# Объединение с таблицей с информацией по событиям \n",
    "filtered_events = events_clean.merge(test_participants_clean[['user_id']], on='user_id', how='inner')\n",
    "\n",
    "# Просмотр датафрейма\n",
    "display(filtered_events.tail(15))"
   ]
  },
  {
   "cell_type": "markdown",
   "id": "fBZ4DC2xswZJ",
   "metadata": {
    "id": "fBZ4DC2xswZJ"
   },
   "source": [
    "- определите горизонт анализа: рассчитайте время (лайфтайм) совершения события пользователем после регистрации и оставьте только те события, которые были выполнены в течение первых семи дней с момента регистрации;"
   ]
  },
  {
   "cell_type": "code",
   "execution_count": 29,
   "id": "ec770e8a",
   "metadata": {
    "id": "sES4-dKts0Yb"
   },
   "outputs": [],
   "source": [
    "# Выделение событий регистрации пользователей\n",
    "registration_events = filtered_events[filtered_events['event_name'] == 'registration'][['user_id', 'event_dt']]\n",
    "registration_events = registration_events.rename(columns={'event_dt': 'registration_dt'})"
   ]
  },
  {
   "cell_type": "code",
   "execution_count": 30,
   "id": "8a4c7ab8",
   "metadata": {
    "id": "sES4-dKts0Yb"
   },
   "outputs": [],
   "source": [
    "# Объединением данных регистрации с основными событиями\n",
    "filtered_events = filtered_events.merge(registration_events, on='user_id', how='left')\n",
    "\n",
    "# Расчёт времени совершения события от регистрации до события\n",
    "filtered_events['lifetime_days'] = (pd.to_datetime(filtered_events['event_dt']) - pd.to_datetime(filtered_events['registration_dt'])).dt.days\n",
    "\n",
    "# Фильтрация событий, произошедших в течение первых семи дней с момента регистрации\n",
    "filtered_events_within_seven_days = filtered_events[filtered_events['lifetime_days'] <= 6]"
   ]
  },
  {
   "cell_type": "code",
   "execution_count": 31,
   "id": "sES4-dKts0Yb",
   "metadata": {
    "id": "sES4-dKts0Yb",
    "scrolled": false
   },
   "outputs": [
    {
     "data": {
      "text/html": [
       "<div>\n",
       "<style scoped>\n",
       "    .dataframe tbody tr th:only-of-type {\n",
       "        vertical-align: middle;\n",
       "    }\n",
       "\n",
       "    .dataframe tbody tr th {\n",
       "        vertical-align: top;\n",
       "    }\n",
       "\n",
       "    .dataframe thead th {\n",
       "        text-align: right;\n",
       "    }\n",
       "</style>\n",
       "<table border=\"1\" class=\"dataframe\">\n",
       "  <thead>\n",
       "    <tr style=\"text-align: right;\">\n",
       "      <th></th>\n",
       "      <th>user_id</th>\n",
       "      <th>event_dt</th>\n",
       "      <th>event_name</th>\n",
       "      <th>details</th>\n",
       "      <th>lifetime_days</th>\n",
       "    </tr>\n",
       "  </thead>\n",
       "  <tbody>\n",
       "    <tr>\n",
       "      <th>0</th>\n",
       "      <td>5F506CEBEDC05D30</td>\n",
       "      <td>2020-12-06 14:10:01</td>\n",
       "      <td>registration</td>\n",
       "      <td>0.0</td>\n",
       "      <td>0</td>\n",
       "    </tr>\n",
       "    <tr>\n",
       "      <th>1</th>\n",
       "      <td>5F506CEBEDC05D30</td>\n",
       "      <td>2020-12-07 01:25:14</td>\n",
       "      <td>login</td>\n",
       "      <td>NaN</td>\n",
       "      <td>0</td>\n",
       "    </tr>\n",
       "    <tr>\n",
       "      <th>2</th>\n",
       "      <td>5F506CEBEDC05D30</td>\n",
       "      <td>2020-12-07 01:25:47</td>\n",
       "      <td>login</td>\n",
       "      <td>NaN</td>\n",
       "      <td>0</td>\n",
       "    </tr>\n",
       "    <tr>\n",
       "      <th>3</th>\n",
       "      <td>5F506CEBEDC05D30</td>\n",
       "      <td>2020-12-09 12:40:49</td>\n",
       "      <td>login</td>\n",
       "      <td>NaN</td>\n",
       "      <td>2</td>\n",
       "    </tr>\n",
       "    <tr>\n",
       "      <th>4</th>\n",
       "      <td>5F506CEBEDC05D30</td>\n",
       "      <td>2020-12-09 12:40:49</td>\n",
       "      <td>product_page</td>\n",
       "      <td>NaN</td>\n",
       "      <td>2</td>\n",
       "    </tr>\n",
       "    <tr>\n",
       "      <th>5</th>\n",
       "      <td>5F506CEBEDC05D30</td>\n",
       "      <td>2020-12-10 23:18:00</td>\n",
       "      <td>product_page</td>\n",
       "      <td>NaN</td>\n",
       "      <td>4</td>\n",
       "    </tr>\n",
       "    <tr>\n",
       "      <th>6</th>\n",
       "      <td>51278A006E918D97</td>\n",
       "      <td>2020-12-06 14:37:25</td>\n",
       "      <td>registration</td>\n",
       "      <td>-3.8</td>\n",
       "      <td>0</td>\n",
       "    </tr>\n",
       "    <tr>\n",
       "      <th>7</th>\n",
       "      <td>51278A006E918D97</td>\n",
       "      <td>2020-12-07 01:49:18</td>\n",
       "      <td>login</td>\n",
       "      <td>NaN</td>\n",
       "      <td>0</td>\n",
       "    </tr>\n",
       "    <tr>\n",
       "      <th>8</th>\n",
       "      <td>51278A006E918D97</td>\n",
       "      <td>2020-12-07 01:49:19</td>\n",
       "      <td>login</td>\n",
       "      <td>NaN</td>\n",
       "      <td>0</td>\n",
       "    </tr>\n",
       "    <tr>\n",
       "      <th>9</th>\n",
       "      <td>51278A006E918D97</td>\n",
       "      <td>2020-12-09 02:12:06</td>\n",
       "      <td>product_cart</td>\n",
       "      <td>NaN</td>\n",
       "      <td>2</td>\n",
       "    </tr>\n",
       "    <tr>\n",
       "      <th>10</th>\n",
       "      <td>51278A006E918D97</td>\n",
       "      <td>2020-12-09 02:13:52</td>\n",
       "      <td>product_cart</td>\n",
       "      <td>NaN</td>\n",
       "      <td>2</td>\n",
       "    </tr>\n",
       "    <tr>\n",
       "      <th>11</th>\n",
       "      <td>A0C1E8EFAD874D8B</td>\n",
       "      <td>2020-12-06 17:20:22</td>\n",
       "      <td>registration</td>\n",
       "      <td>-3.32</td>\n",
       "      <td>0</td>\n",
       "    </tr>\n",
       "    <tr>\n",
       "      <th>12</th>\n",
       "      <td>A0C1E8EFAD874D8B</td>\n",
       "      <td>2020-12-07 07:32:43</td>\n",
       "      <td>login</td>\n",
       "      <td>NaN</td>\n",
       "      <td>0</td>\n",
       "    </tr>\n",
       "    <tr>\n",
       "      <th>14</th>\n",
       "      <td>275A8D6254ACF530</td>\n",
       "      <td>2020-12-06 19:36:54</td>\n",
       "      <td>registration</td>\n",
       "      <td>-0.48</td>\n",
       "      <td>0</td>\n",
       "    </tr>\n",
       "    <tr>\n",
       "      <th>15</th>\n",
       "      <td>275A8D6254ACF530</td>\n",
       "      <td>2020-12-07 10:52:49</td>\n",
       "      <td>login</td>\n",
       "      <td>NaN</td>\n",
       "      <td>0</td>\n",
       "    </tr>\n",
       "  </tbody>\n",
       "</table>\n",
       "</div>"
      ],
      "text/plain": [
       "             user_id            event_dt    event_name details  lifetime_days\n",
       "0   5F506CEBEDC05D30 2020-12-06 14:10:01  registration     0.0              0\n",
       "1   5F506CEBEDC05D30 2020-12-07 01:25:14         login     NaN              0\n",
       "2   5F506CEBEDC05D30 2020-12-07 01:25:47         login     NaN              0\n",
       "3   5F506CEBEDC05D30 2020-12-09 12:40:49         login     NaN              2\n",
       "4   5F506CEBEDC05D30 2020-12-09 12:40:49  product_page     NaN              2\n",
       "5   5F506CEBEDC05D30 2020-12-10 23:18:00  product_page     NaN              4\n",
       "6   51278A006E918D97 2020-12-06 14:37:25  registration    -3.8              0\n",
       "7   51278A006E918D97 2020-12-07 01:49:18         login     NaN              0\n",
       "8   51278A006E918D97 2020-12-07 01:49:19         login     NaN              0\n",
       "9   51278A006E918D97 2020-12-09 02:12:06  product_cart     NaN              2\n",
       "10  51278A006E918D97 2020-12-09 02:13:52  product_cart     NaN              2\n",
       "11  A0C1E8EFAD874D8B 2020-12-06 17:20:22  registration   -3.32              0\n",
       "12  A0C1E8EFAD874D8B 2020-12-07 07:32:43         login     NaN              0\n",
       "14  275A8D6254ACF530 2020-12-06 19:36:54  registration   -0.48              0\n",
       "15  275A8D6254ACF530 2020-12-07 10:52:49         login     NaN              0"
      ]
     },
     "metadata": {},
     "output_type": "display_data"
    }
   ],
   "source": [
    "# Исключение лишних столбцов\n",
    "filtered_events_within_seven_days = filtered_events_within_seven_days[['user_id', 'event_dt', 'event_name', 'details', 'lifetime_days']]\n",
    "\n",
    "# Вывод результата для проверки\n",
    "display(filtered_events_within_seven_days.head(15))"
   ]
  },
  {
   "cell_type": "markdown",
   "id": "7cf1df48",
   "metadata": {},
   "source": [
    "Оцените достаточность выборки для получения статистически значимых результатов A/B-теста. Заданные параметры:\n",
    "\n",
    "- базовый показатель конверсии — 30%,\n",
    "\n",
    "- мощность теста — 80%,\n",
    "\n",
    "- достоверность теста — 95%."
   ]
  },
  {
   "cell_type": "code",
   "execution_count": 32,
   "id": "7d97b466",
   "metadata": {
    "scrolled": true
   },
   "outputs": [
    {
     "name": "stdout",
     "output_type": "stream",
     "text": [
      "Необходимый размер выборки для каждой группы: 3763\n"
     ]
    }
   ],
   "source": [
    "from statsmodels.stats.power import NormalIndPower\n",
    "import math\n",
    "\n",
    "# Задание параметры\n",
    "alpha = 0.05  # Уровень значимости (достоверность 95%)\n",
    "power = 0.8  # Мощность теста\n",
    "baseline_conversion = 0.30  # Базовая конверсия (30%)\n",
    "mde = 0.03  # Минимальный детектируемый эффект (3%)\n",
    "\n",
    "# Расчёт конверсии\n",
    "p1 = baseline_conversion\n",
    "p2 = baseline_conversion + mde\n",
    "\n",
    "# Средняя конверсия между двумя группами\n",
    "p = (p1 + p2) / 2\n",
    "\n",
    "# Размер эффекта\n",
    "effect_size = abs(p1 - p2) / math.sqrt(p * (1 - p))\n",
    "\n",
    "# Инициализируем анализатор мощности\n",
    "power_analysis = NormalIndPower()\n",
    "\n",
    "# Расчёт размера выборки\n",
    "sample_size = power_analysis.solve_power(\n",
    "    effect_size=effect_size,\n",
    "    power=power,\n",
    "    alpha=alpha,\n",
    "    ratio=1  # Равномерное распределение выборок\n",
    ")\n",
    "\n",
    "print(f\"Необходимый размер выборки для каждой группы: {int(sample_size)}\")\n"
   ]
  },
  {
   "cell_type": "markdown",
   "id": "56e9c86b",
   "metadata": {},
   "source": [
    "<font color='#777778'> Размер выборки для каждой группы достаточен для получения статистически значимых результатов (группа А - 5383 посетителя, группа В - 5467 посетителя)."
   ]
  },
  {
   "cell_type": "markdown",
   "id": "SadyUDgZs0t3",
   "metadata": {
    "id": "SadyUDgZs0t3"
   },
   "source": [
    "- рассчитайте для каждой группы количество посетителей, сделавших покупку, и общее количество посетителей."
   ]
  },
  {
   "cell_type": "code",
   "execution_count": 33,
   "id": "38dab8ce",
   "metadata": {},
   "outputs": [
    {
     "name": "stdout",
     "output_type": "stream",
     "text": [
      "  group  Visitors  Buyers  Conversion\n",
      "0     A      5383    1766        32.8\n",
      "1     B      5467    1931        35.3\n"
     ]
    }
   ],
   "source": [
    "# Объединение данных участников теста и событий\n",
    "merged_data = events.merge(test_participants[['user_id', 'group']], on='user_id', how='inner')\n",
    "\n",
    "# Расчёт общего количества уникальных посетителей для каждой группы\n",
    "total_visitors = merged_data.groupby('group')['user_id'].nunique()\n",
    "\n",
    "# Расчёт количества покупателей для каждой группы\n",
    "buyers = merged_data[merged_data['event_name'] == 'purchase'].groupby('group')['user_id'].nunique()\n",
    "\n",
    "# Создание итоговой таблицы\n",
    "summary = pd.DataFrame(\n",
    "    {'Visitors': total_visitors,\n",
    "    'Buyers': buyers}).reset_index()\n",
    "\n",
    "# Расчёт конверсии\n",
    "summary['Conversion'] = round((summary['Buyers'] / summary['Visitors']) * 100, 1)\n",
    "\n",
    "# Просмотр результата\n",
    "print(summary)\n"
   ]
  },
  {
   "cell_type": "markdown",
   "id": "sh1JpGvAs5E3",
   "metadata": {
    "id": "sh1JpGvAs5E3"
   },
   "source": [
    "- сделайте предварительный общий вывод об изменении пользовательской активности в тестовой группе по сравнению с контрольной."
   ]
  },
  {
   "cell_type": "markdown",
   "id": "d095d5fd",
   "metadata": {
    "id": "hHTHPkJYs8mE"
   },
   "source": [
    "<font color='#777778'>\n",
    "В тестовой группе B было 5467 посетителей, что немного больше, чем 5383 в контрольной группе A.    \n",
    "Тестовая группа B привлекла 1931 покупателя, в то время как контрольная группа A — 1766 покупателей.\n",
    "Количество пользователей, сделавших покупку, выше в тестовой группе, что подтверждает рост активности.\n",
    "\n",
    "    \n",
    "В тестовой группе B конверсия составляет 35.3%, что выше, чем 32.8% в контрольной группе A.\n",
    "Это свидетельствует о положительном изменении активности пользователей, участвующих в тесте. \n",
    "Заметно, что фактический прирост конверсии в 2,5% не соответствует запланированному приросту в 3%, поэтому эффект от изменений есть, но недостаточно высокий."
   ]
  },
  {
   "cell_type": "markdown",
   "id": "IKZ1Oo3Ws919",
   "metadata": {
    "id": "IKZ1Oo3Ws919"
   },
   "source": [
    "## 4. Проведите оценку результатов A/B-тестирования:"
   ]
  },
  {
   "cell_type": "markdown",
   "id": "dcUdBSmvtC-E",
   "metadata": {
    "id": "dcUdBSmvtC-E"
   },
   "source": [
    "- Проверьте изменение конверсии подходящим статистическим тестом, учитывая все этапы проверки гипотез."
   ]
  },
  {
   "cell_type": "markdown",
   "id": "9a5fa4c2",
   "metadata": {},
   "source": [
    "<font color='#777778'>Для проверки влияния нового интерфейса на конверсию пользователей в покупателей мы определим нулевую и альтернативную гипотезы:\n",
    "\n",
    "Нулевая гипотеза: Конверсия в группе B не превышает конверсию в группе A или разница составляет менее 3 процентных пунктов.\n",
    "\n",
    "Альтернативная гипотеза: Конверсия в группе B значимо выше, чем в группе A, минимум на 3 процентных пункта."
   ]
  },
  {
   "cell_type": "code",
   "execution_count": 34,
   "id": "b1dc56cf",
   "metadata": {
    "id": "l_KOziBQtL3t"
   },
   "outputs": [],
   "source": [
    "from statsmodels.stats.proportion import proportions_ztest"
   ]
  },
  {
   "cell_type": "code",
   "execution_count": 35,
   "id": "cfbba81d",
   "metadata": {
    "id": "l_KOziBQtL3t"
   },
   "outputs": [],
   "source": [
    "# Извлекаем данные, ставим группу B на первое место\n",
    "counts = summary.set_index(\"group\").loc[['B', 'A'], \"Buyers\"].values  # Количество покупателей\n",
    "nobs = summary.set_index(\"group\").loc[['B', 'A'], \"Visitors\"].values  # Количество посетителей"
   ]
  },
  {
   "cell_type": "code",
   "execution_count": 36,
   "id": "16fbb5df",
   "metadata": {
    "id": "l_KOziBQtL3t"
   },
   "outputs": [],
   "source": [
    "# Проведение Z-теста с односторонней альтернативной гипотезой\n",
    "z_stat, p_value = proportions_ztest(counts, nobs, alternative='larger')"
   ]
  },
  {
   "cell_type": "code",
   "execution_count": 37,
   "id": "l_KOziBQtL3t",
   "metadata": {
    "id": "l_KOziBQtL3t"
   },
   "outputs": [
    {
     "name": "stdout",
     "output_type": "stream",
     "text": [
      "P-значение: 0.00287\n",
      "Результаты теста статистически значимы: конверсии между группами различаются.\n"
     ]
    }
   ],
   "source": [
    "# Вывод результатов\n",
    "print(f\"P-значение: {p_value:.5f}\")\n",
    "\n",
    "if p_value < 0.05:\n",
    "    print(\"Результаты теста статистически значимы: конверсии между группами различаются.\")\n",
    "else:\n",
    "    print(\"Результаты теста не статистически значимы: конверсии между группами не различаются.\")"
   ]
  },
  {
   "cell_type": "markdown",
   "id": "9jkyKOjgtGoc",
   "metadata": {
    "id": "9jkyKOjgtGoc"
   },
   "source": [
    "- Опишите выводы по проведённой оценке результатов A/B-тестирования. Что можно сказать про результаты A/B-тестирования? Был ли достигнут ожидаемый эффект в изменении конверсии?"
   ]
  },
  {
   "cell_type": "markdown",
   "id": "npoPPSKytKvR",
   "metadata": {
    "id": "npoPPSKytKvR"
   },
   "source": [
    "<font color='#777778'>\n",
    "Конверсия в тестовой группе (B) выше, чем в контрольной (A):\n",
    "\n",
    "Группа A: конверсия 32.8% (1766 покупателей из 5383 посетителей).\n",
    "\n",
    "Группа B: конверсия 35.3% (1931 покупатель из 5467 посетителей).\n",
    "\n",
    "Разница составляет +2.5 процентных пункта, что указывает на положительное влияние тестируемого изменения.\n",
    "\n",
    "Ожидался рост конверсии минимум на 3 процентных пункта, а фактически наблюдается увеличение на 2.5 процентных пункта.\n",
    "\n",
    "Несмотря на небольшое недостижение целевого прироста, эффект всё же существенный и статистически значимый.\n",
    "\n",
    "Рекомендации:\n",
    "\n",
    "Так как тест показал положительное влияние на конверсию, можно рассмотреть возможность масштабирования изменений."
   ]
  }
 ],
 "metadata": {
  "ExecuteTimeLog": [
   {
    "duration": 433,
    "start_time": "2025-04-17T16:56:18.913Z"
   },
   {
    "duration": 358,
    "start_time": "2025-04-17T16:56:19.716Z"
   },
   {
    "duration": 16,
    "start_time": "2025-04-17T16:56:45.158Z"
   },
   {
    "duration": 13,
    "start_time": "2025-04-17T17:01:17.585Z"
   },
   {
    "duration": 7,
    "start_time": "2025-04-17T17:03:05.491Z"
   },
   {
    "duration": 744,
    "start_time": "2025-04-17T17:07:05.021Z"
   },
   {
    "duration": 398,
    "start_time": "2025-04-17T17:09:31.747Z"
   },
   {
    "duration": 66,
    "start_time": "2025-04-17T17:09:32.148Z"
   },
   {
    "duration": 18,
    "start_time": "2025-04-17T17:09:32.215Z"
   },
   {
    "duration": 7,
    "start_time": "2025-04-17T17:09:32.235Z"
   },
   {
    "duration": 13,
    "start_time": "2025-04-17T17:09:32.245Z"
   },
   {
    "duration": 547,
    "start_time": "2025-04-17T17:09:32.260Z"
   },
   {
    "duration": 525,
    "start_time": "2025-04-17T17:10:31.296Z"
   },
   {
    "duration": 123,
    "start_time": "2025-04-17T17:12:20.066Z"
   },
   {
    "duration": 119,
    "start_time": "2025-04-17T17:12:35.628Z"
   },
   {
    "duration": 9,
    "start_time": "2025-04-17T17:39:33.190Z"
   },
   {
    "duration": 407,
    "start_time": "2025-04-18T05:17:52.390Z"
   },
   {
    "duration": 96,
    "start_time": "2025-04-18T05:17:52.799Z"
   },
   {
    "duration": 16,
    "start_time": "2025-04-18T05:17:52.897Z"
   },
   {
    "duration": 14,
    "start_time": "2025-04-18T05:17:52.915Z"
   },
   {
    "duration": 499,
    "start_time": "2025-04-18T05:17:52.931Z"
   },
   {
    "duration": 0,
    "start_time": "2025-04-18T05:17:53.431Z"
   },
   {
    "duration": 0,
    "start_time": "2025-04-18T05:17:53.433Z"
   },
   {
    "duration": 10,
    "start_time": "2025-04-18T05:18:06.011Z"
   },
   {
    "duration": 9,
    "start_time": "2025-04-18T05:18:25.493Z"
   },
   {
    "duration": 7,
    "start_time": "2025-04-18T05:18:35.970Z"
   },
   {
    "duration": 408,
    "start_time": "2025-04-19T12:29:54.732Z"
   },
   {
    "duration": 64,
    "start_time": "2025-04-19T12:29:55.142Z"
   },
   {
    "duration": 19,
    "start_time": "2025-04-19T12:29:55.209Z"
   },
   {
    "duration": 10,
    "start_time": "2025-04-19T12:29:55.230Z"
   },
   {
    "duration": 518,
    "start_time": "2025-04-19T12:29:55.242Z"
   },
   {
    "duration": 0,
    "start_time": "2025-04-19T12:29:55.762Z"
   },
   {
    "duration": 0,
    "start_time": "2025-04-19T12:29:55.764Z"
   },
   {
    "duration": 8,
    "start_time": "2025-04-19T12:31:29.785Z"
   },
   {
    "duration": 9,
    "start_time": "2025-04-19T12:31:48.476Z"
   },
   {
    "duration": 548,
    "start_time": "2025-04-19T12:32:16.096Z"
   },
   {
    "duration": 11,
    "start_time": "2025-04-19T12:45:02.275Z"
   },
   {
    "duration": 18,
    "start_time": "2025-04-19T12:46:01.268Z"
   },
   {
    "duration": 6,
    "start_time": "2025-04-19T12:51:59.105Z"
   },
   {
    "duration": 6,
    "start_time": "2025-04-19T12:52:33.705Z"
   },
   {
    "duration": 6,
    "start_time": "2025-04-19T12:54:01.919Z"
   },
   {
    "duration": 305,
    "start_time": "2025-04-19T13:00:36.599Z"
   },
   {
    "duration": 16,
    "start_time": "2025-04-19T13:02:17.230Z"
   },
   {
    "duration": 16,
    "start_time": "2025-04-19T13:02:24.481Z"
   },
   {
    "duration": 275,
    "start_time": "2025-04-19T13:02:32.782Z"
   },
   {
    "duration": 326,
    "start_time": "2025-04-19T13:03:45.081Z"
   },
   {
    "duration": 234,
    "start_time": "2025-04-19T13:10:19.275Z"
   },
   {
    "duration": 142,
    "start_time": "2025-04-19T13:10:40.262Z"
   },
   {
    "duration": 498,
    "start_time": "2025-04-19T13:20:36.461Z"
   },
   {
    "duration": 7,
    "start_time": "2025-04-19T13:21:20.046Z"
   },
   {
    "duration": 379,
    "start_time": "2025-04-19T13:47:18.828Z"
   },
   {
    "duration": 574,
    "start_time": "2025-04-19T13:47:25.854Z"
   },
   {
    "duration": 1424,
    "start_time": "2025-04-19T13:47:34.597Z"
   },
   {
    "duration": 486,
    "start_time": "2025-04-19T13:47:49.540Z"
   },
   {
    "duration": 583,
    "start_time": "2025-04-19T13:48:13.470Z"
   },
   {
    "duration": 156,
    "start_time": "2025-04-19T13:48:50.265Z"
   },
   {
    "duration": 418,
    "start_time": "2025-04-19T13:49:35.648Z"
   },
   {
    "duration": 386,
    "start_time": "2025-04-19T16:03:35.378Z"
   },
   {
    "duration": 420,
    "start_time": "2025-04-19T16:03:53.666Z"
   },
   {
    "duration": 160,
    "start_time": "2025-04-19T16:03:57.917Z"
   },
   {
    "duration": 160,
    "start_time": "2025-04-19T16:07:24.859Z"
   },
   {
    "duration": 277,
    "start_time": "2025-04-19T16:07:39.724Z"
   },
   {
    "duration": 1836,
    "start_time": "2025-04-19T16:14:17.733Z"
   },
   {
    "duration": 9,
    "start_time": "2025-04-19T16:21:59.475Z"
   },
   {
    "duration": 9,
    "start_time": "2025-04-19T16:23:39.604Z"
   },
   {
    "duration": 466,
    "start_time": "2025-04-20T06:33:42.749Z"
   },
   {
    "duration": 77,
    "start_time": "2025-04-20T06:33:43.219Z"
   },
   {
    "duration": 16,
    "start_time": "2025-04-20T06:33:43.297Z"
   },
   {
    "duration": 7,
    "start_time": "2025-04-20T06:33:43.314Z"
   },
   {
    "duration": 41,
    "start_time": "2025-04-20T06:33:43.323Z"
   },
   {
    "duration": 866,
    "start_time": "2025-04-20T06:33:43.365Z"
   },
   {
    "duration": 765,
    "start_time": "2025-04-20T06:33:44.233Z"
   },
   {
    "duration": 8,
    "start_time": "2025-04-20T06:33:45.000Z"
   },
   {
    "duration": 106,
    "start_time": "2025-04-20T06:33:45.012Z"
   },
   {
    "duration": 0,
    "start_time": "2025-04-20T06:33:45.120Z"
   },
   {
    "duration": 0,
    "start_time": "2025-04-20T06:33:45.121Z"
   },
   {
    "duration": 59,
    "start_time": "2025-04-20T06:35:28.656Z"
   },
   {
    "duration": 76,
    "start_time": "2025-04-20T06:35:44.521Z"
   },
   {
    "duration": 57,
    "start_time": "2025-04-20T06:35:51.348Z"
   },
   {
    "duration": 8,
    "start_time": "2025-04-20T06:36:15.293Z"
   },
   {
    "duration": 9,
    "start_time": "2025-04-20T06:36:31.183Z"
   },
   {
    "duration": 11,
    "start_time": "2025-04-20T06:37:26.983Z"
   },
   {
    "duration": 16,
    "start_time": "2025-04-20T06:46:13.574Z"
   },
   {
    "duration": 111,
    "start_time": "2025-04-20T06:56:35.548Z"
   },
   {
    "duration": 12,
    "start_time": "2025-04-20T06:59:43.603Z"
   },
   {
    "duration": 11,
    "start_time": "2025-04-20T07:00:14.824Z"
   },
   {
    "duration": 9,
    "start_time": "2025-04-20T07:00:17.122Z"
   },
   {
    "duration": 388,
    "start_time": "2025-04-20T07:00:27.719Z"
   },
   {
    "duration": 54,
    "start_time": "2025-04-20T07:00:28.109Z"
   },
   {
    "duration": 20,
    "start_time": "2025-04-20T07:00:28.165Z"
   },
   {
    "duration": 39,
    "start_time": "2025-04-20T07:00:28.187Z"
   },
   {
    "duration": 61,
    "start_time": "2025-04-20T07:00:28.229Z"
   },
   {
    "duration": 704,
    "start_time": "2025-04-20T07:00:28.293Z"
   },
   {
    "duration": 729,
    "start_time": "2025-04-20T07:00:28.999Z"
   },
   {
    "duration": 6,
    "start_time": "2025-04-20T07:00:29.729Z"
   },
   {
    "duration": 15,
    "start_time": "2025-04-20T07:00:29.737Z"
   },
   {
    "duration": 0,
    "start_time": "2025-04-20T07:00:29.772Z"
   },
   {
    "duration": 0,
    "start_time": "2025-04-20T07:00:29.773Z"
   },
   {
    "duration": 0,
    "start_time": "2025-04-20T07:00:29.774Z"
   },
   {
    "duration": 0,
    "start_time": "2025-04-20T07:00:29.776Z"
   },
   {
    "duration": 0,
    "start_time": "2025-04-20T07:00:29.777Z"
   },
   {
    "duration": 0,
    "start_time": "2025-04-20T07:00:29.778Z"
   },
   {
    "duration": 0,
    "start_time": "2025-04-20T07:00:29.779Z"
   },
   {
    "duration": 1613,
    "start_time": "2025-04-20T07:01:15.378Z"
   },
   {
    "duration": 8,
    "start_time": "2025-04-20T07:01:17.290Z"
   },
   {
    "duration": 9,
    "start_time": "2025-04-20T07:01:18.334Z"
   },
   {
    "duration": 424,
    "start_time": "2025-04-20T07:01:59.986Z"
   },
   {
    "duration": 64,
    "start_time": "2025-04-20T07:02:00.413Z"
   },
   {
    "duration": 16,
    "start_time": "2025-04-20T07:02:00.479Z"
   },
   {
    "duration": 237,
    "start_time": "2025-04-20T07:02:00.496Z"
   },
   {
    "duration": 158,
    "start_time": "2025-04-20T07:02:00.736Z"
   },
   {
    "duration": 736,
    "start_time": "2025-04-20T07:02:00.896Z"
   },
   {
    "duration": 725,
    "start_time": "2025-04-20T07:02:01.634Z"
   },
   {
    "duration": 16,
    "start_time": "2025-04-20T07:02:02.361Z"
   },
   {
    "duration": 1678,
    "start_time": "2025-04-20T07:02:02.378Z"
   },
   {
    "duration": 15,
    "start_time": "2025-04-20T07:02:04.061Z"
   },
   {
    "duration": 48,
    "start_time": "2025-04-20T07:02:04.078Z"
   },
   {
    "duration": 61,
    "start_time": "2025-04-20T07:02:04.128Z"
   },
   {
    "duration": 5,
    "start_time": "2025-04-20T07:02:04.191Z"
   },
   {
    "duration": 35,
    "start_time": "2025-04-20T07:02:04.199Z"
   },
   {
    "duration": 51,
    "start_time": "2025-04-20T07:02:04.235Z"
   },
   {
    "duration": 115,
    "start_time": "2025-04-20T07:02:04.288Z"
   },
   {
    "duration": 11,
    "start_time": "2025-04-20T07:05:31.026Z"
   },
   {
    "duration": 16,
    "start_time": "2025-04-20T07:07:00.346Z"
   },
   {
    "duration": 10,
    "start_time": "2025-04-20T07:07:21.707Z"
   },
   {
    "duration": 436,
    "start_time": "2025-04-20T07:09:41.881Z"
   },
   {
    "duration": 65,
    "start_time": "2025-04-20T07:09:42.319Z"
   },
   {
    "duration": 15,
    "start_time": "2025-04-20T07:09:42.385Z"
   },
   {
    "duration": 9,
    "start_time": "2025-04-20T07:09:42.402Z"
   },
   {
    "duration": 25,
    "start_time": "2025-04-20T07:09:42.414Z"
   },
   {
    "duration": 777,
    "start_time": "2025-04-20T07:09:42.441Z"
   },
   {
    "duration": 792,
    "start_time": "2025-04-20T07:09:43.220Z"
   },
   {
    "duration": 7,
    "start_time": "2025-04-20T07:09:44.013Z"
   },
   {
    "duration": 1634,
    "start_time": "2025-04-20T07:09:44.021Z"
   },
   {
    "duration": 17,
    "start_time": "2025-04-20T07:09:45.657Z"
   },
   {
    "duration": 45,
    "start_time": "2025-04-20T07:09:45.677Z"
   },
   {
    "duration": 75,
    "start_time": "2025-04-20T07:09:45.723Z"
   },
   {
    "duration": 6,
    "start_time": "2025-04-20T07:09:45.799Z"
   },
   {
    "duration": 14,
    "start_time": "2025-04-20T07:09:45.807Z"
   },
   {
    "duration": 51,
    "start_time": "2025-04-20T07:09:45.822Z"
   },
   {
    "duration": 112,
    "start_time": "2025-04-20T07:09:45.875Z"
   },
   {
    "duration": 11,
    "start_time": "2025-04-20T07:15:17.148Z"
   },
   {
    "duration": 105,
    "start_time": "2025-04-20T07:17:15.242Z"
   },
   {
    "duration": 79,
    "start_time": "2025-04-20T07:17:41.774Z"
   },
   {
    "duration": 78,
    "start_time": "2025-04-20T07:24:04.158Z"
   },
   {
    "duration": 311,
    "start_time": "2025-04-20T07:24:16.836Z"
   },
   {
    "duration": 76,
    "start_time": "2025-04-20T07:25:19.619Z"
   },
   {
    "duration": 65,
    "start_time": "2025-04-20T07:25:43.023Z"
   },
   {
    "duration": 1280,
    "start_time": "2025-04-20T07:26:11.023Z"
   },
   {
    "duration": 70,
    "start_time": "2025-04-20T07:26:33.303Z"
   },
   {
    "duration": 1701,
    "start_time": "2025-04-20T07:26:50.493Z"
   },
   {
    "duration": 75,
    "start_time": "2025-04-20T07:27:22.077Z"
   },
   {
    "duration": 75,
    "start_time": "2025-04-20T07:27:31.144Z"
   },
   {
    "duration": 18,
    "start_time": "2025-04-20T07:27:46.333Z"
   },
   {
    "duration": 102,
    "start_time": "2025-04-20T07:28:05.074Z"
   },
   {
    "duration": 1286,
    "start_time": "2025-04-20T07:28:42.503Z"
   },
   {
    "duration": 38,
    "start_time": "2025-04-20T07:29:07.539Z"
   },
   {
    "duration": 20,
    "start_time": "2025-04-20T07:29:10.810Z"
   },
   {
    "duration": 399,
    "start_time": "2025-04-20T07:29:23.719Z"
   },
   {
    "duration": 66,
    "start_time": "2025-04-20T07:29:24.121Z"
   },
   {
    "duration": 41,
    "start_time": "2025-04-20T07:29:24.190Z"
   },
   {
    "duration": 10,
    "start_time": "2025-04-20T07:29:24.233Z"
   },
   {
    "duration": 27,
    "start_time": "2025-04-20T07:29:24.246Z"
   },
   {
    "duration": 706,
    "start_time": "2025-04-20T07:29:24.274Z"
   },
   {
    "duration": 702,
    "start_time": "2025-04-20T07:29:24.981Z"
   },
   {
    "duration": 7,
    "start_time": "2025-04-20T07:29:25.686Z"
   },
   {
    "duration": 1713,
    "start_time": "2025-04-20T07:29:25.695Z"
   },
   {
    "duration": 9,
    "start_time": "2025-04-20T07:29:27.410Z"
   },
   {
    "duration": 47,
    "start_time": "2025-04-20T07:29:27.421Z"
   },
   {
    "duration": 100,
    "start_time": "2025-04-20T07:29:27.470Z"
   },
   {
    "duration": 54,
    "start_time": "2025-04-20T07:29:27.572Z"
   },
   {
    "duration": 30,
    "start_time": "2025-04-20T07:29:27.628Z"
   },
   {
    "duration": 25,
    "start_time": "2025-04-20T07:29:27.660Z"
   },
   {
    "duration": 96,
    "start_time": "2025-04-20T07:29:27.687Z"
   },
   {
    "duration": 266,
    "start_time": "2025-04-20T07:29:27.785Z"
   },
   {
    "duration": 1565,
    "start_time": "2025-04-20T07:29:39.673Z"
   },
   {
    "duration": 79,
    "start_time": "2025-04-20T07:29:47.749Z"
   },
   {
    "duration": 1749,
    "start_time": "2025-04-20T07:48:01.861Z"
   },
   {
    "duration": 86,
    "start_time": "2025-04-20T07:48:09.807Z"
   },
   {
    "duration": 1588,
    "start_time": "2025-04-20T07:49:55.087Z"
   },
   {
    "duration": 80,
    "start_time": "2025-04-20T07:50:12.393Z"
   },
   {
    "duration": 1462,
    "start_time": "2025-04-20T07:50:28.021Z"
   },
   {
    "duration": 85,
    "start_time": "2025-04-20T07:50:45.591Z"
   },
   {
    "duration": 1880,
    "start_time": "2025-04-20T07:51:07.110Z"
   },
   {
    "duration": 86,
    "start_time": "2025-04-20T07:52:06.551Z"
   },
   {
    "duration": 49,
    "start_time": "2025-04-20T15:13:07.913Z"
   },
   {
    "duration": 377,
    "start_time": "2025-04-20T15:13:19.627Z"
   },
   {
    "duration": 70,
    "start_time": "2025-04-20T15:13:20.006Z"
   },
   {
    "duration": 20,
    "start_time": "2025-04-20T15:13:20.078Z"
   },
   {
    "duration": 25,
    "start_time": "2025-04-20T15:13:20.099Z"
   },
   {
    "duration": 32,
    "start_time": "2025-04-20T15:13:20.127Z"
   },
   {
    "duration": 833,
    "start_time": "2025-04-20T15:13:20.161Z"
   },
   {
    "duration": 413,
    "start_time": "2025-04-20T15:13:32.858Z"
   },
   {
    "duration": 39,
    "start_time": "2025-04-20T15:13:33.273Z"
   },
   {
    "duration": 51,
    "start_time": "2025-04-20T15:13:33.314Z"
   },
   {
    "duration": 8,
    "start_time": "2025-04-20T15:13:33.372Z"
   },
   {
    "duration": 13,
    "start_time": "2025-04-20T15:13:33.383Z"
   },
   {
    "duration": 643,
    "start_time": "2025-04-20T15:13:33.398Z"
   },
   {
    "duration": 670,
    "start_time": "2025-04-20T15:13:34.043Z"
   },
   {
    "duration": 6,
    "start_time": "2025-04-20T15:13:34.715Z"
   },
   {
    "duration": 1489,
    "start_time": "2025-04-20T15:13:34.723Z"
   },
   {
    "duration": 8,
    "start_time": "2025-04-20T15:13:36.213Z"
   },
   {
    "duration": 26,
    "start_time": "2025-04-20T15:13:36.222Z"
   },
   {
    "duration": 76,
    "start_time": "2025-04-20T15:13:36.249Z"
   },
   {
    "duration": 5,
    "start_time": "2025-04-20T15:13:36.326Z"
   },
   {
    "duration": 16,
    "start_time": "2025-04-20T15:13:36.334Z"
   },
   {
    "duration": 21,
    "start_time": "2025-04-20T15:13:36.352Z"
   },
   {
    "duration": 94,
    "start_time": "2025-04-20T15:13:36.377Z"
   },
   {
    "duration": 52,
    "start_time": "2025-04-20T15:13:36.473Z"
   },
   {
    "duration": 1406,
    "start_time": "2025-04-20T15:15:09.834Z"
   },
   {
    "duration": 82,
    "start_time": "2025-04-20T15:16:06.655Z"
   },
   {
    "duration": 1541,
    "start_time": "2025-04-20T15:16:35.633Z"
   },
   {
    "duration": 68,
    "start_time": "2025-04-20T15:17:00.583Z"
   },
   {
    "duration": 1832,
    "start_time": "2025-04-20T15:17:16.690Z"
   },
   {
    "duration": 68,
    "start_time": "2025-04-20T15:19:37.112Z"
   },
   {
    "duration": 1508,
    "start_time": "2025-04-20T15:20:29.014Z"
   },
   {
    "duration": 28,
    "start_time": "2025-04-20T15:20:37.341Z"
   },
   {
    "duration": 20,
    "start_time": "2025-04-20T15:22:20.018Z"
   },
   {
    "duration": 22,
    "start_time": "2025-04-20T15:22:24.849Z"
   },
   {
    "duration": 20,
    "start_time": "2025-04-20T15:23:23.773Z"
   },
   {
    "duration": 3,
    "start_time": "2025-04-20T15:23:52.199Z"
   },
   {
    "duration": 79,
    "start_time": "2025-04-20T15:24:54.390Z"
   },
   {
    "duration": 3,
    "start_time": "2025-04-20T15:25:16.388Z"
   },
   {
    "duration": 67,
    "start_time": "2025-04-20T15:30:53.239Z"
   },
   {
    "duration": 1332,
    "start_time": "2025-04-20T15:30:59.741Z"
   },
   {
    "duration": 78,
    "start_time": "2025-04-20T15:31:05.318Z"
   },
   {
    "duration": 124,
    "start_time": "2025-04-20T15:31:08.124Z"
   },
   {
    "duration": 1243,
    "start_time": "2025-04-20T15:31:29.795Z"
   },
   {
    "duration": 70,
    "start_time": "2025-04-20T15:32:03.329Z"
   },
   {
    "duration": 1728,
    "start_time": "2025-04-20T15:32:24.451Z"
   },
   {
    "duration": 75,
    "start_time": "2025-04-20T15:32:43.990Z"
   },
   {
    "duration": 1684,
    "start_time": "2025-04-20T15:32:59.438Z"
   },
   {
    "duration": 152,
    "start_time": "2025-04-20T15:33:30.526Z"
   },
   {
    "duration": 2034,
    "start_time": "2025-04-20T15:33:35.051Z"
   },
   {
    "duration": 69,
    "start_time": "2025-04-20T15:34:16.896Z"
   },
   {
    "duration": 1259,
    "start_time": "2025-04-20T15:34:19.978Z"
   },
   {
    "duration": 35,
    "start_time": "2025-04-20T15:35:00.873Z"
   },
   {
    "duration": 36,
    "start_time": "2025-04-20T15:35:04.717Z"
   },
   {
    "duration": 99,
    "start_time": "2025-04-20T15:35:07.075Z"
   },
   {
    "duration": 40,
    "start_time": "2025-04-20T15:43:23.966Z"
   },
   {
    "duration": 44,
    "start_time": "2025-04-20T15:45:25.683Z"
   },
   {
    "duration": 393,
    "start_time": "2025-04-20T16:08:11.467Z"
   },
   {
    "duration": 52,
    "start_time": "2025-04-20T16:08:11.862Z"
   },
   {
    "duration": 13,
    "start_time": "2025-04-20T16:08:11.916Z"
   },
   {
    "duration": 8,
    "start_time": "2025-04-20T16:08:11.931Z"
   },
   {
    "duration": 18,
    "start_time": "2025-04-20T16:08:11.941Z"
   },
   {
    "duration": 592,
    "start_time": "2025-04-20T16:08:11.960Z"
   },
   {
    "duration": 630,
    "start_time": "2025-04-20T16:08:12.554Z"
   },
   {
    "duration": 6,
    "start_time": "2025-04-20T16:08:13.186Z"
   },
   {
    "duration": 1367,
    "start_time": "2025-04-20T16:08:13.193Z"
   },
   {
    "duration": 9,
    "start_time": "2025-04-20T16:08:14.562Z"
   },
   {
    "duration": 22,
    "start_time": "2025-04-20T16:08:14.572Z"
   },
   {
    "duration": 53,
    "start_time": "2025-04-20T16:08:14.595Z"
   },
   {
    "duration": 5,
    "start_time": "2025-04-20T16:08:14.650Z"
   },
   {
    "duration": 23,
    "start_time": "2025-04-20T16:08:14.657Z"
   },
   {
    "duration": 12,
    "start_time": "2025-04-20T16:08:14.681Z"
   },
   {
    "duration": 80,
    "start_time": "2025-04-20T16:08:14.695Z"
   },
   {
    "duration": 1449,
    "start_time": "2025-04-20T16:08:14.776Z"
   },
   {
    "duration": 414,
    "start_time": "2025-04-21T08:16:02.593Z"
   },
   {
    "duration": 88,
    "start_time": "2025-04-21T08:16:03.009Z"
   },
   {
    "duration": 18,
    "start_time": "2025-04-21T08:16:03.099Z"
   },
   {
    "duration": 35,
    "start_time": "2025-04-21T08:16:03.120Z"
   },
   {
    "duration": 17,
    "start_time": "2025-04-21T08:16:03.158Z"
   },
   {
    "duration": 902,
    "start_time": "2025-04-21T08:16:03.177Z"
   },
   {
    "duration": 729,
    "start_time": "2025-04-21T08:16:04.082Z"
   },
   {
    "duration": 7,
    "start_time": "2025-04-21T08:16:04.814Z"
   },
   {
    "duration": 1560,
    "start_time": "2025-04-21T08:16:04.823Z"
   },
   {
    "duration": 10,
    "start_time": "2025-04-21T08:16:06.386Z"
   },
   {
    "duration": 48,
    "start_time": "2025-04-21T08:16:06.398Z"
   },
   {
    "duration": 99,
    "start_time": "2025-04-21T08:16:06.448Z"
   },
   {
    "duration": 6,
    "start_time": "2025-04-21T08:16:06.549Z"
   },
   {
    "duration": 62,
    "start_time": "2025-04-21T08:16:06.556Z"
   },
   {
    "duration": 24,
    "start_time": "2025-04-21T08:16:06.619Z"
   },
   {
    "duration": 99,
    "start_time": "2025-04-21T08:16:06.645Z"
   },
   {
    "duration": 1404,
    "start_time": "2025-04-21T08:16:06.746Z"
   },
   {
    "duration": 199,
    "start_time": "2025-04-21T08:18:03.592Z"
   },
   {
    "duration": 1488,
    "start_time": "2025-04-21T08:18:15.438Z"
   },
   {
    "duration": 142,
    "start_time": "2025-04-21T09:42:47.782Z"
   },
   {
    "duration": 1962,
    "start_time": "2025-04-21T09:43:05.764Z"
   },
   {
    "duration": 85,
    "start_time": "2025-04-21T09:50:19.080Z"
   },
   {
    "duration": 1708,
    "start_time": "2025-04-21T09:50:32.074Z"
   },
   {
    "duration": 90,
    "start_time": "2025-04-21T09:50:40.523Z"
   },
   {
    "duration": 26,
    "start_time": "2025-04-21T10:04:08.719Z"
   },
   {
    "duration": 13,
    "start_time": "2025-04-21T10:04:54.042Z"
   },
   {
    "duration": 18,
    "start_time": "2025-04-21T10:05:53.770Z"
   },
   {
    "duration": 38,
    "start_time": "2025-04-21T11:45:30.711Z"
   },
   {
    "duration": 387,
    "start_time": "2025-04-21T12:04:34.407Z"
   },
   {
    "duration": 228,
    "start_time": "2025-04-21T12:04:34.797Z"
   },
   {
    "duration": 16,
    "start_time": "2025-04-21T12:04:35.026Z"
   },
   {
    "duration": 16,
    "start_time": "2025-04-21T12:04:35.045Z"
   },
   {
    "duration": 15,
    "start_time": "2025-04-21T12:04:35.063Z"
   },
   {
    "duration": 700,
    "start_time": "2025-04-21T12:04:35.080Z"
   },
   {
    "duration": 693,
    "start_time": "2025-04-21T12:04:35.783Z"
   },
   {
    "duration": 8,
    "start_time": "2025-04-21T12:04:36.478Z"
   },
   {
    "duration": 481,
    "start_time": "2025-04-21T12:04:36.488Z"
   },
   {
    "duration": 7,
    "start_time": "2025-04-21T12:04:36.972Z"
   },
   {
    "duration": 1588,
    "start_time": "2025-04-21T12:04:36.981Z"
   },
   {
    "duration": 9,
    "start_time": "2025-04-21T12:04:38.570Z"
   },
   {
    "duration": 21,
    "start_time": "2025-04-21T12:04:38.581Z"
   },
   {
    "duration": 95,
    "start_time": "2025-04-21T12:04:38.604Z"
   },
   {
    "duration": 6,
    "start_time": "2025-04-21T12:04:38.701Z"
   },
   {
    "duration": 8,
    "start_time": "2025-04-21T12:04:38.709Z"
   },
   {
    "duration": 32,
    "start_time": "2025-04-21T12:04:38.719Z"
   },
   {
    "duration": 192,
    "start_time": "2025-04-21T12:04:38.753Z"
   },
   {
    "duration": 179,
    "start_time": "2025-04-21T12:04:38.947Z"
   },
   {
    "duration": 21,
    "start_time": "2025-04-21T12:04:39.128Z"
   },
   {
    "duration": 121,
    "start_time": "2025-04-21T12:04:39.151Z"
   },
   {
    "duration": 1458,
    "start_time": "2025-04-21T12:05:30.125Z"
   },
   {
    "duration": 1091,
    "start_time": "2025-04-21T12:05:39.871Z"
   },
   {
    "duration": 422,
    "start_time": "2025-04-21T12:05:47.060Z"
   },
   {
    "duration": 59,
    "start_time": "2025-04-21T12:05:47.484Z"
   },
   {
    "duration": 13,
    "start_time": "2025-04-21T12:05:47.545Z"
   },
   {
    "duration": 8,
    "start_time": "2025-04-21T12:05:47.560Z"
   },
   {
    "duration": 15,
    "start_time": "2025-04-21T12:05:47.570Z"
   },
   {
    "duration": 644,
    "start_time": "2025-04-21T12:05:47.586Z"
   },
   {
    "duration": 687,
    "start_time": "2025-04-21T12:05:48.231Z"
   },
   {
    "duration": 8,
    "start_time": "2025-04-21T12:05:48.920Z"
   },
   {
    "duration": 456,
    "start_time": "2025-04-21T12:05:48.929Z"
   },
   {
    "duration": 7,
    "start_time": "2025-04-21T12:05:49.387Z"
   },
   {
    "duration": 1740,
    "start_time": "2025-04-21T12:05:49.395Z"
   },
   {
    "duration": 9,
    "start_time": "2025-04-21T12:05:51.137Z"
   },
   {
    "duration": 20,
    "start_time": "2025-04-21T12:05:51.148Z"
   },
   {
    "duration": 80,
    "start_time": "2025-04-21T12:05:51.170Z"
   },
   {
    "duration": 29,
    "start_time": "2025-04-21T12:05:51.251Z"
   },
   {
    "duration": 146,
    "start_time": "2025-04-21T12:05:51.282Z"
   },
   {
    "duration": 19,
    "start_time": "2025-04-21T12:05:51.430Z"
   },
   {
    "duration": 202,
    "start_time": "2025-04-21T12:05:51.451Z"
   },
   {
    "duration": 163,
    "start_time": "2025-04-21T12:05:51.655Z"
   },
   {
    "duration": 19,
    "start_time": "2025-04-21T12:05:51.820Z"
   },
   {
    "duration": 150,
    "start_time": "2025-04-21T12:05:51.841Z"
   },
   {
    "duration": 427,
    "start_time": "2025-04-21T12:06:19.758Z"
   },
   {
    "duration": 59,
    "start_time": "2025-04-21T12:06:20.187Z"
   },
   {
    "duration": 15,
    "start_time": "2025-04-21T12:06:20.248Z"
   },
   {
    "duration": 11,
    "start_time": "2025-04-21T12:06:20.265Z"
   },
   {
    "duration": 26,
    "start_time": "2025-04-21T12:06:20.279Z"
   },
   {
    "duration": 697,
    "start_time": "2025-04-21T12:06:20.307Z"
   },
   {
    "duration": 691,
    "start_time": "2025-04-21T12:06:21.006Z"
   },
   {
    "duration": 8,
    "start_time": "2025-04-21T12:06:21.699Z"
   },
   {
    "duration": 420,
    "start_time": "2025-04-21T12:06:21.708Z"
   },
   {
    "duration": 6,
    "start_time": "2025-04-21T12:06:22.130Z"
   },
   {
    "duration": 1453,
    "start_time": "2025-04-21T12:06:22.137Z"
   },
   {
    "duration": 8,
    "start_time": "2025-04-21T12:06:23.592Z"
   },
   {
    "duration": 15,
    "start_time": "2025-04-21T12:06:23.602Z"
   },
   {
    "duration": 109,
    "start_time": "2025-04-21T12:06:23.620Z"
   },
   {
    "duration": 7,
    "start_time": "2025-04-21T12:06:23.730Z"
   },
   {
    "duration": 10,
    "start_time": "2025-04-21T12:06:23.739Z"
   },
   {
    "duration": 13,
    "start_time": "2025-04-21T12:06:23.751Z"
   },
   {
    "duration": 210,
    "start_time": "2025-04-21T12:06:23.766Z"
   },
   {
    "duration": 169,
    "start_time": "2025-04-21T12:06:23.978Z"
   },
   {
    "duration": 28,
    "start_time": "2025-04-21T12:06:24.148Z"
   },
   {
    "duration": 111,
    "start_time": "2025-04-21T12:06:24.178Z"
   },
   {
    "duration": 2348,
    "start_time": "2025-04-21T12:35:11.297Z"
   },
   {
    "duration": 412,
    "start_time": "2025-04-21T12:35:13.998Z"
   },
   {
    "duration": 450,
    "start_time": "2025-04-21T12:35:35.447Z"
   },
   {
    "duration": 48,
    "start_time": "2025-04-21T12:35:35.899Z"
   },
   {
    "duration": 61,
    "start_time": "2025-04-21T12:35:35.949Z"
   },
   {
    "duration": 27,
    "start_time": "2025-04-21T12:35:36.012Z"
   },
   {
    "duration": 16,
    "start_time": "2025-04-21T12:35:36.042Z"
   },
   {
    "duration": 684,
    "start_time": "2025-04-21T12:35:36.059Z"
   },
   {
    "duration": 687,
    "start_time": "2025-04-21T12:35:36.745Z"
   },
   {
    "duration": 7,
    "start_time": "2025-04-21T12:35:37.434Z"
   },
   {
    "duration": 423,
    "start_time": "2025-04-21T12:35:37.442Z"
   },
   {
    "duration": 6,
    "start_time": "2025-04-21T12:35:37.866Z"
   },
   {
    "duration": 1447,
    "start_time": "2025-04-21T12:35:37.873Z"
   },
   {
    "duration": 8,
    "start_time": "2025-04-21T12:35:39.322Z"
   },
   {
    "duration": 152,
    "start_time": "2025-04-21T12:35:39.332Z"
   },
   {
    "duration": 52,
    "start_time": "2025-04-21T12:35:39.486Z"
   },
   {
    "duration": 6,
    "start_time": "2025-04-21T12:35:39.539Z"
   },
   {
    "duration": 7,
    "start_time": "2025-04-21T12:35:39.546Z"
   },
   {
    "duration": 17,
    "start_time": "2025-04-21T12:35:39.555Z"
   },
   {
    "duration": 193,
    "start_time": "2025-04-21T12:35:39.573Z"
   },
   {
    "duration": 155,
    "start_time": "2025-04-21T12:35:39.768Z"
   },
   {
    "duration": 19,
    "start_time": "2025-04-21T12:35:39.925Z"
   },
   {
    "duration": 120,
    "start_time": "2025-04-21T12:35:39.945Z"
   },
   {
    "duration": 5,
    "start_time": "2025-04-21T12:35:59.901Z"
   },
   {
    "duration": 399,
    "start_time": "2025-04-21T12:36:00.937Z"
   },
   {
    "duration": 390,
    "start_time": "2025-04-21T12:36:34.690Z"
   },
   {
    "duration": 139,
    "start_time": "2025-04-21T12:36:46.991Z"
   },
   {
    "duration": 5,
    "start_time": "2025-04-21T12:37:10.638Z"
   },
   {
    "duration": 358,
    "start_time": "2025-04-21T12:37:10.995Z"
   },
   {
    "duration": 150,
    "start_time": "2025-04-21T12:37:11.457Z"
   },
   {
    "duration": 444,
    "start_time": "2025-04-21T12:37:36.328Z"
   },
   {
    "duration": 85,
    "start_time": "2025-04-21T12:37:36.774Z"
   },
   {
    "duration": 14,
    "start_time": "2025-04-21T12:37:36.861Z"
   },
   {
    "duration": 7,
    "start_time": "2025-04-21T12:37:36.877Z"
   },
   {
    "duration": 15,
    "start_time": "2025-04-21T12:37:36.885Z"
   },
   {
    "duration": 671,
    "start_time": "2025-04-21T12:37:36.902Z"
   },
   {
    "duration": 645,
    "start_time": "2025-04-21T12:37:37.575Z"
   },
   {
    "duration": 7,
    "start_time": "2025-04-21T12:37:38.222Z"
   },
   {
    "duration": 374,
    "start_time": "2025-04-21T12:37:38.230Z"
   },
   {
    "duration": 162,
    "start_time": "2025-04-21T12:37:38.606Z"
   },
   {
    "duration": 5,
    "start_time": "2025-04-21T12:37:38.770Z"
   },
   {
    "duration": 1395,
    "start_time": "2025-04-21T12:37:38.777Z"
   },
   {
    "duration": 9,
    "start_time": "2025-04-21T12:37:40.173Z"
   },
   {
    "duration": 21,
    "start_time": "2025-04-21T12:37:40.184Z"
   },
   {
    "duration": 57,
    "start_time": "2025-04-21T12:37:40.206Z"
   },
   {
    "duration": 4,
    "start_time": "2025-04-21T12:37:40.265Z"
   },
   {
    "duration": 16,
    "start_time": "2025-04-21T12:37:40.271Z"
   },
   {
    "duration": 17,
    "start_time": "2025-04-21T12:37:40.289Z"
   },
   {
    "duration": 187,
    "start_time": "2025-04-21T12:37:40.308Z"
   },
   {
    "duration": 164,
    "start_time": "2025-04-21T12:37:40.496Z"
   },
   {
    "duration": 20,
    "start_time": "2025-04-21T12:37:40.662Z"
   },
   {
    "duration": 143,
    "start_time": "2025-04-21T12:37:40.683Z"
   },
   {
    "duration": 444,
    "start_time": "2025-04-21T12:41:01.731Z"
   },
   {
    "duration": 48,
    "start_time": "2025-04-21T12:41:02.178Z"
   },
   {
    "duration": 19,
    "start_time": "2025-04-21T12:41:02.228Z"
   },
   {
    "duration": 15,
    "start_time": "2025-04-21T12:41:02.249Z"
   },
   {
    "duration": 23,
    "start_time": "2025-04-21T12:41:02.267Z"
   },
   {
    "duration": 729,
    "start_time": "2025-04-21T12:41:02.293Z"
   },
   {
    "duration": 724,
    "start_time": "2025-04-21T12:41:03.024Z"
   },
   {
    "duration": 12,
    "start_time": "2025-04-21T12:41:03.750Z"
   },
   {
    "duration": 13,
    "start_time": "2025-04-21T12:41:03.764Z"
   },
   {
    "duration": 441,
    "start_time": "2025-04-21T12:41:03.779Z"
   },
   {
    "duration": 171,
    "start_time": "2025-04-21T12:41:04.222Z"
   },
   {
    "duration": 6,
    "start_time": "2025-04-21T12:41:04.394Z"
   },
   {
    "duration": 1720,
    "start_time": "2025-04-21T12:41:04.402Z"
   },
   {
    "duration": 10,
    "start_time": "2025-04-21T12:41:06.124Z"
   },
   {
    "duration": 52,
    "start_time": "2025-04-21T12:41:06.135Z"
   },
   {
    "duration": 87,
    "start_time": "2025-04-21T12:41:06.189Z"
   },
   {
    "duration": 6,
    "start_time": "2025-04-21T12:41:06.278Z"
   },
   {
    "duration": 25,
    "start_time": "2025-04-21T12:41:06.285Z"
   },
   {
    "duration": 52,
    "start_time": "2025-04-21T12:41:06.312Z"
   },
   {
    "duration": 208,
    "start_time": "2025-04-21T12:41:06.366Z"
   },
   {
    "duration": 172,
    "start_time": "2025-04-21T12:41:06.575Z"
   },
   {
    "duration": 27,
    "start_time": "2025-04-21T12:41:06.748Z"
   },
   {
    "duration": 119,
    "start_time": "2025-04-21T12:41:06.777Z"
   },
   {
    "duration": 13,
    "start_time": "2025-04-21T13:47:15.820Z"
   },
   {
    "duration": 16,
    "start_time": "2025-04-21T13:50:14.621Z"
   },
   {
    "duration": 420,
    "start_time": "2025-04-21T13:51:45.396Z"
   },
   {
    "duration": 98,
    "start_time": "2025-04-21T13:51:45.818Z"
   },
   {
    "duration": 15,
    "start_time": "2025-04-21T13:51:45.918Z"
   },
   {
    "duration": 8,
    "start_time": "2025-04-21T13:51:45.935Z"
   },
   {
    "duration": 15,
    "start_time": "2025-04-21T13:51:45.946Z"
   },
   {
    "duration": 646,
    "start_time": "2025-04-21T13:51:45.962Z"
   },
   {
    "duration": 712,
    "start_time": "2025-04-21T13:51:46.610Z"
   },
   {
    "duration": 7,
    "start_time": "2025-04-21T13:51:47.323Z"
   },
   {
    "duration": 9,
    "start_time": "2025-04-21T13:51:47.331Z"
   },
   {
    "duration": 420,
    "start_time": "2025-04-21T13:51:47.342Z"
   },
   {
    "duration": 165,
    "start_time": "2025-04-21T13:51:47.764Z"
   },
   {
    "duration": 6,
    "start_time": "2025-04-21T13:51:47.930Z"
   },
   {
    "duration": 1446,
    "start_time": "2025-04-21T13:51:47.937Z"
   },
   {
    "duration": 7,
    "start_time": "2025-04-21T13:51:49.386Z"
   },
   {
    "duration": 9,
    "start_time": "2025-04-21T13:51:49.394Z"
   },
   {
    "duration": 56,
    "start_time": "2025-04-21T13:51:49.404Z"
   },
   {
    "duration": 6,
    "start_time": "2025-04-21T13:51:49.462Z"
   },
   {
    "duration": 6,
    "start_time": "2025-04-21T13:51:49.470Z"
   },
   {
    "duration": 12,
    "start_time": "2025-04-21T13:51:49.478Z"
   },
   {
    "duration": 215,
    "start_time": "2025-04-21T13:51:49.492Z"
   },
   {
    "duration": 155,
    "start_time": "2025-04-21T13:51:49.709Z"
   },
   {
    "duration": 17,
    "start_time": "2025-04-21T13:51:49.866Z"
   },
   {
    "duration": 114,
    "start_time": "2025-04-21T13:51:49.884Z"
   },
   {
    "duration": 53,
    "start_time": "2025-04-21T17:33:26.514Z"
   },
   {
    "duration": 441,
    "start_time": "2025-04-21T17:33:34.302Z"
   },
   {
    "duration": 60,
    "start_time": "2025-04-21T17:33:34.745Z"
   },
   {
    "duration": 16,
    "start_time": "2025-04-21T17:33:34.808Z"
   },
   {
    "duration": 23,
    "start_time": "2025-04-21T17:33:34.826Z"
   },
   {
    "duration": 47,
    "start_time": "2025-04-21T17:33:34.851Z"
   },
   {
    "duration": 895,
    "start_time": "2025-04-21T17:33:34.899Z"
   },
   {
    "duration": 418,
    "start_time": "2025-04-21T17:33:46.301Z"
   },
   {
    "duration": 52,
    "start_time": "2025-04-21T17:33:46.721Z"
   },
   {
    "duration": 17,
    "start_time": "2025-04-21T17:33:46.775Z"
   },
   {
    "duration": 8,
    "start_time": "2025-04-21T17:33:46.795Z"
   },
   {
    "duration": 35,
    "start_time": "2025-04-21T17:33:46.805Z"
   },
   {
    "duration": 694,
    "start_time": "2025-04-21T17:33:46.841Z"
   },
   {
    "duration": 721,
    "start_time": "2025-04-21T17:33:47.538Z"
   },
   {
    "duration": 7,
    "start_time": "2025-04-21T17:33:48.261Z"
   },
   {
    "duration": 12,
    "start_time": "2025-04-21T17:33:48.270Z"
   },
   {
    "duration": 466,
    "start_time": "2025-04-21T17:33:48.285Z"
   },
   {
    "duration": 185,
    "start_time": "2025-04-21T17:33:48.753Z"
   },
   {
    "duration": 7,
    "start_time": "2025-04-21T17:33:48.940Z"
   },
   {
    "duration": 1671,
    "start_time": "2025-04-21T17:33:48.948Z"
   },
   {
    "duration": 9,
    "start_time": "2025-04-21T17:33:50.620Z"
   },
   {
    "duration": 17,
    "start_time": "2025-04-21T17:33:50.630Z"
   },
   {
    "duration": 54,
    "start_time": "2025-04-21T17:33:50.649Z"
   },
   {
    "duration": 6,
    "start_time": "2025-04-21T17:33:50.705Z"
   },
   {
    "duration": 20,
    "start_time": "2025-04-21T17:33:50.713Z"
   },
   {
    "duration": 27,
    "start_time": "2025-04-21T17:33:50.738Z"
   },
   {
    "duration": 225,
    "start_time": "2025-04-21T17:33:50.767Z"
   },
   {
    "duration": 173,
    "start_time": "2025-04-21T17:33:50.994Z"
   },
   {
    "duration": 18,
    "start_time": "2025-04-21T17:33:51.169Z"
   },
   {
    "duration": 122,
    "start_time": "2025-04-21T17:33:51.189Z"
   },
   {
    "duration": 408,
    "start_time": "2025-04-21T17:34:11.783Z"
   },
   {
    "duration": 57,
    "start_time": "2025-04-21T17:34:12.193Z"
   },
   {
    "duration": 17,
    "start_time": "2025-04-21T17:34:12.252Z"
   },
   {
    "duration": 12,
    "start_time": "2025-04-21T17:34:12.271Z"
   },
   {
    "duration": 19,
    "start_time": "2025-04-21T17:34:12.286Z"
   },
   {
    "duration": 771,
    "start_time": "2025-04-21T17:34:12.307Z"
   },
   {
    "duration": 751,
    "start_time": "2025-04-21T17:34:13.080Z"
   },
   {
    "duration": 12,
    "start_time": "2025-04-21T17:34:13.832Z"
   },
   {
    "duration": 14,
    "start_time": "2025-04-21T17:34:13.845Z"
   },
   {
    "duration": 451,
    "start_time": "2025-04-21T17:34:13.861Z"
   },
   {
    "duration": 180,
    "start_time": "2025-04-21T17:34:14.314Z"
   },
   {
    "duration": 6,
    "start_time": "2025-04-21T17:34:14.496Z"
   },
   {
    "duration": 1605,
    "start_time": "2025-04-21T17:34:14.504Z"
   },
   {
    "duration": 10,
    "start_time": "2025-04-21T17:34:16.111Z"
   },
   {
    "duration": 57,
    "start_time": "2025-04-21T17:34:16.122Z"
   },
   {
    "duration": 84,
    "start_time": "2025-04-21T17:34:16.180Z"
   },
   {
    "duration": 6,
    "start_time": "2025-04-21T17:34:16.265Z"
   },
   {
    "duration": 28,
    "start_time": "2025-04-21T17:34:16.273Z"
   },
   {
    "duration": 39,
    "start_time": "2025-04-21T17:34:16.303Z"
   },
   {
    "duration": 219,
    "start_time": "2025-04-21T17:34:16.344Z"
   },
   {
    "duration": 169,
    "start_time": "2025-04-21T17:34:16.565Z"
   },
   {
    "duration": 19,
    "start_time": "2025-04-21T17:34:16.738Z"
   },
   {
    "duration": 130,
    "start_time": "2025-04-21T17:34:16.759Z"
   },
   {
    "duration": 218,
    "start_time": "2025-04-21T17:44:31.521Z"
   },
   {
    "duration": 1176,
    "start_time": "2025-04-21T17:44:44.882Z"
   },
   {
    "duration": 234,
    "start_time": "2025-04-21T17:45:17.554Z"
   },
   {
    "duration": 101,
    "start_time": "2025-04-21T17:45:30.952Z"
   },
   {
    "duration": 6,
    "start_time": "2025-04-21T17:53:31.558Z"
   },
   {
    "duration": 20,
    "start_time": "2025-04-21T17:53:50.972Z"
   },
   {
    "duration": 7,
    "start_time": "2025-04-21T17:54:04.375Z"
   },
   {
    "duration": 15,
    "start_time": "2025-04-21T18:14:45.861Z"
   },
   {
    "duration": 423,
    "start_time": "2025-04-21T18:17:25.762Z"
   },
   {
    "duration": 88,
    "start_time": "2025-04-21T18:17:26.187Z"
   },
   {
    "duration": 16,
    "start_time": "2025-04-21T18:17:26.277Z"
   },
   {
    "duration": 37,
    "start_time": "2025-04-21T18:17:26.296Z"
   },
   {
    "duration": 60,
    "start_time": "2025-04-21T18:17:26.335Z"
   },
   {
    "duration": 706,
    "start_time": "2025-04-21T18:17:26.397Z"
   },
   {
    "duration": 757,
    "start_time": "2025-04-21T18:17:27.104Z"
   },
   {
    "duration": 8,
    "start_time": "2025-04-21T18:17:27.862Z"
   },
   {
    "duration": 20,
    "start_time": "2025-04-21T18:17:27.871Z"
   },
   {
    "duration": 475,
    "start_time": "2025-04-21T18:17:27.894Z"
   },
   {
    "duration": 180,
    "start_time": "2025-04-21T18:17:28.371Z"
   },
   {
    "duration": 7,
    "start_time": "2025-04-21T18:17:28.552Z"
   },
   {
    "duration": 1615,
    "start_time": "2025-04-21T18:17:28.560Z"
   },
   {
    "duration": 9,
    "start_time": "2025-04-21T18:17:30.176Z"
   },
   {
    "duration": 50,
    "start_time": "2025-04-21T18:17:30.187Z"
   },
   {
    "duration": 113,
    "start_time": "2025-04-21T18:17:30.239Z"
   },
   {
    "duration": 6,
    "start_time": "2025-04-21T18:17:30.354Z"
   },
   {
    "duration": 42,
    "start_time": "2025-04-21T18:17:30.361Z"
   },
   {
    "duration": 65,
    "start_time": "2025-04-21T18:17:30.405Z"
   },
   {
    "duration": 236,
    "start_time": "2025-04-21T18:17:30.471Z"
   },
   {
    "duration": 74,
    "start_time": "2025-04-21T18:17:30.709Z"
   },
   {
    "duration": 0,
    "start_time": "2025-04-21T18:17:30.784Z"
   },
   {
    "duration": 162,
    "start_time": "2025-04-21T18:18:03.172Z"
   },
   {
    "duration": 20,
    "start_time": "2025-04-21T18:18:08.171Z"
   },
   {
    "duration": 106,
    "start_time": "2025-04-21T18:19:16.113Z"
   },
   {
    "duration": 12,
    "start_time": "2025-04-21T18:20:12.941Z"
   },
   {
    "duration": 18,
    "start_time": "2025-04-21T18:20:23.387Z"
   },
   {
    "duration": 264,
    "start_time": "2025-04-21T18:21:25.310Z"
   },
   {
    "duration": 248,
    "start_time": "2025-04-21T18:23:36.760Z"
   },
   {
    "duration": 233,
    "start_time": "2025-04-21T18:24:11.061Z"
   },
   {
    "duration": 10,
    "start_time": "2025-04-21T18:27:03.292Z"
   },
   {
    "duration": 12,
    "start_time": "2025-04-21T18:27:17.128Z"
   },
   {
    "duration": 7,
    "start_time": "2025-04-21T18:27:34.856Z"
   },
   {
    "duration": 438,
    "start_time": "2025-04-22T05:20:52.013Z"
   },
   {
    "duration": 67,
    "start_time": "2025-04-22T05:20:52.453Z"
   },
   {
    "duration": 17,
    "start_time": "2025-04-22T05:20:52.522Z"
   },
   {
    "duration": 29,
    "start_time": "2025-04-22T05:20:52.541Z"
   },
   {
    "duration": 42,
    "start_time": "2025-04-22T05:20:52.573Z"
   },
   {
    "duration": 882,
    "start_time": "2025-04-22T05:20:52.617Z"
   },
   {
    "duration": 694,
    "start_time": "2025-04-22T05:20:53.501Z"
   },
   {
    "duration": 6,
    "start_time": "2025-04-22T05:20:54.197Z"
   },
   {
    "duration": 6,
    "start_time": "2025-04-22T05:20:54.205Z"
   },
   {
    "duration": 449,
    "start_time": "2025-04-22T10:11:13.075Z"
   },
   {
    "duration": 179,
    "start_time": "2025-04-22T10:11:13.526Z"
   },
   {
    "duration": 18,
    "start_time": "2025-04-22T10:11:13.707Z"
   },
   {
    "duration": 7,
    "start_time": "2025-04-22T10:11:13.728Z"
   },
   {
    "duration": 18,
    "start_time": "2025-04-22T10:11:13.739Z"
   },
   {
    "duration": 825,
    "start_time": "2025-04-22T10:11:13.758Z"
   },
   {
    "duration": 804,
    "start_time": "2025-04-22T10:11:14.584Z"
   },
   {
    "duration": 8,
    "start_time": "2025-04-22T10:11:15.389Z"
   },
   {
    "duration": 25,
    "start_time": "2025-04-22T10:11:15.398Z"
   },
   {
    "duration": 541,
    "start_time": "2025-04-22T10:11:15.425Z"
   },
   {
    "duration": 207,
    "start_time": "2025-04-22T10:11:15.968Z"
   },
   {
    "duration": 7,
    "start_time": "2025-04-22T10:11:16.177Z"
   },
   {
    "duration": 2423,
    "start_time": "2025-04-22T10:11:16.185Z"
   },
   {
    "duration": 10,
    "start_time": "2025-04-22T10:11:18.611Z"
   },
   {
    "duration": 13,
    "start_time": "2025-04-22T10:11:18.622Z"
   },
   {
    "duration": 88,
    "start_time": "2025-04-22T10:11:18.637Z"
   },
   {
    "duration": 87,
    "start_time": "2025-04-22T10:11:18.727Z"
   },
   {
    "duration": 81,
    "start_time": "2025-04-22T10:11:18.816Z"
   },
   {
    "duration": 14,
    "start_time": "2025-04-22T10:11:18.899Z"
   },
   {
    "duration": 213,
    "start_time": "2025-04-22T10:11:18.915Z"
   },
   {
    "duration": 191,
    "start_time": "2025-04-22T10:11:19.130Z"
   },
   {
    "duration": 19,
    "start_time": "2025-04-22T10:11:19.322Z"
   },
   {
    "duration": 270,
    "start_time": "2025-04-22T10:11:19.343Z"
   },
   {
    "duration": 10,
    "start_time": "2025-04-22T10:11:19.615Z"
   },
   {
    "duration": 370,
    "start_time": "2025-04-23T12:12:25.323Z"
   },
   {
    "duration": 64,
    "start_time": "2025-04-23T12:12:25.695Z"
   },
   {
    "duration": 14,
    "start_time": "2025-04-23T12:12:25.761Z"
   },
   {
    "duration": 6,
    "start_time": "2025-04-23T12:12:25.777Z"
   },
   {
    "duration": 14,
    "start_time": "2025-04-23T12:12:25.786Z"
   },
   {
    "duration": 794,
    "start_time": "2025-04-23T12:12:25.801Z"
   },
   {
    "duration": 665,
    "start_time": "2025-04-23T12:12:26.596Z"
   },
   {
    "duration": 10,
    "start_time": "2025-04-23T12:12:27.263Z"
   },
   {
    "duration": 5,
    "start_time": "2025-04-23T12:12:27.275Z"
   },
   {
    "duration": 392,
    "start_time": "2025-04-23T12:12:27.281Z"
   },
   {
    "duration": 170,
    "start_time": "2025-04-23T12:12:27.675Z"
   },
   {
    "duration": 5,
    "start_time": "2025-04-23T12:12:27.847Z"
   },
   {
    "duration": 1745,
    "start_time": "2025-04-23T12:12:27.853Z"
   },
   {
    "duration": 8,
    "start_time": "2025-04-23T12:12:29.601Z"
   },
   {
    "duration": 14,
    "start_time": "2025-04-23T12:12:29.610Z"
   },
   {
    "duration": 241,
    "start_time": "2025-04-23T12:12:29.626Z"
   },
   {
    "duration": 5,
    "start_time": "2025-04-23T12:12:29.868Z"
   },
   {
    "duration": 5,
    "start_time": "2025-04-23T12:12:29.875Z"
   },
   {
    "duration": 13,
    "start_time": "2025-04-23T12:12:29.882Z"
   },
   {
    "duration": 184,
    "start_time": "2025-04-23T12:12:29.896Z"
   },
   {
    "duration": 72,
    "start_time": "2025-04-23T12:12:30.082Z"
   },
   {
    "duration": 30,
    "start_time": "2025-04-23T12:12:30.156Z"
   },
   {
    "duration": 219,
    "start_time": "2025-04-23T12:12:30.188Z"
   },
   {
    "duration": 9,
    "start_time": "2025-04-23T12:12:30.409Z"
   },
   {
    "duration": 1744,
    "start_time": "2025-04-23T13:06:23.145Z"
   },
   {
    "duration": 89,
    "start_time": "2025-04-23T13:06:29.158Z"
   },
   {
    "duration": 5,
    "start_time": "2025-04-23T14:08:17.314Z"
   },
   {
    "duration": 88,
    "start_time": "2025-04-23T14:50:41.801Z"
   },
   {
    "duration": 409,
    "start_time": "2025-04-23T15:36:31.870Z"
   },
   {
    "duration": 56,
    "start_time": "2025-04-23T15:36:32.280Z"
   },
   {
    "duration": 14,
    "start_time": "2025-04-23T15:36:32.337Z"
   },
   {
    "duration": 6,
    "start_time": "2025-04-23T15:36:32.353Z"
   },
   {
    "duration": 13,
    "start_time": "2025-04-23T15:36:32.360Z"
   },
   {
    "duration": 639,
    "start_time": "2025-04-23T15:36:32.375Z"
   },
   {
    "duration": 647,
    "start_time": "2025-04-23T15:36:33.016Z"
   },
   {
    "duration": 8,
    "start_time": "2025-04-23T15:36:33.665Z"
   },
   {
    "duration": 17,
    "start_time": "2025-04-23T15:36:33.675Z"
   },
   {
    "duration": 380,
    "start_time": "2025-04-23T15:36:33.694Z"
   },
   {
    "duration": 163,
    "start_time": "2025-04-23T15:36:34.076Z"
   },
   {
    "duration": 75,
    "start_time": "2025-04-23T15:36:34.241Z"
   },
   {
    "duration": 0,
    "start_time": "2025-04-23T15:36:34.318Z"
   },
   {
    "duration": 0,
    "start_time": "2025-04-23T15:36:34.319Z"
   },
   {
    "duration": 0,
    "start_time": "2025-04-23T15:36:34.320Z"
   },
   {
    "duration": 0,
    "start_time": "2025-04-23T15:36:34.321Z"
   },
   {
    "duration": 0,
    "start_time": "2025-04-23T15:36:34.322Z"
   },
   {
    "duration": 0,
    "start_time": "2025-04-23T15:36:34.324Z"
   },
   {
    "duration": 0,
    "start_time": "2025-04-23T15:36:34.325Z"
   },
   {
    "duration": 0,
    "start_time": "2025-04-23T15:36:34.326Z"
   },
   {
    "duration": 0,
    "start_time": "2025-04-23T15:36:34.327Z"
   },
   {
    "duration": 0,
    "start_time": "2025-04-23T15:36:34.328Z"
   },
   {
    "duration": 0,
    "start_time": "2025-04-23T15:36:34.329Z"
   },
   {
    "duration": 0,
    "start_time": "2025-04-23T15:36:34.330Z"
   },
   {
    "duration": 0,
    "start_time": "2025-04-23T15:36:34.331Z"
   },
   {
    "duration": 397,
    "start_time": "2025-04-23T15:36:46.229Z"
   },
   {
    "duration": 63,
    "start_time": "2025-04-23T15:36:46.628Z"
   },
   {
    "duration": 16,
    "start_time": "2025-04-23T15:36:46.693Z"
   },
   {
    "duration": 7,
    "start_time": "2025-04-23T15:36:46.710Z"
   },
   {
    "duration": 20,
    "start_time": "2025-04-23T15:36:46.718Z"
   },
   {
    "duration": 609,
    "start_time": "2025-04-23T15:36:46.739Z"
   },
   {
    "duration": 654,
    "start_time": "2025-04-23T15:36:47.349Z"
   },
   {
    "duration": 5,
    "start_time": "2025-04-23T15:36:48.005Z"
   },
   {
    "duration": 13,
    "start_time": "2025-04-23T15:36:48.012Z"
   },
   {
    "duration": 396,
    "start_time": "2025-04-23T15:36:48.027Z"
   },
   {
    "duration": 158,
    "start_time": "2025-04-23T15:36:48.425Z"
   },
   {
    "duration": 6,
    "start_time": "2025-04-23T15:36:48.584Z"
   },
   {
    "duration": 1467,
    "start_time": "2025-04-23T15:36:48.591Z"
   },
   {
    "duration": 17,
    "start_time": "2025-04-23T15:36:50.060Z"
   },
   {
    "duration": 13,
    "start_time": "2025-04-23T15:36:50.079Z"
   },
   {
    "duration": 73,
    "start_time": "2025-04-23T15:36:50.094Z"
   },
   {
    "duration": 5,
    "start_time": "2025-04-23T15:36:50.169Z"
   },
   {
    "duration": 45,
    "start_time": "2025-04-23T15:36:50.175Z"
   },
   {
    "duration": 18,
    "start_time": "2025-04-23T15:36:50.221Z"
   },
   {
    "duration": 190,
    "start_time": "2025-04-23T15:36:50.241Z"
   },
   {
    "duration": 162,
    "start_time": "2025-04-23T15:36:50.433Z"
   },
   {
    "duration": 16,
    "start_time": "2025-04-23T15:36:50.597Z"
   },
   {
    "duration": 229,
    "start_time": "2025-04-23T15:36:50.615Z"
   },
   {
    "duration": 8,
    "start_time": "2025-04-23T15:36:50.846Z"
   },
   {
    "duration": 7,
    "start_time": "2025-04-23T16:15:41.675Z"
   },
   {
    "duration": 12,
    "start_time": "2025-04-23T16:15:43.623Z"
   },
   {
    "duration": 120,
    "start_time": "2025-04-23T16:28:19.738Z"
   },
   {
    "duration": 365,
    "start_time": "2025-04-23T16:28:32.315Z"
   },
   {
    "duration": 7,
    "start_time": "2025-04-23T16:28:41.467Z"
   },
   {
    "duration": 353,
    "start_time": "2025-04-23T17:28:12.785Z"
   },
   {
    "duration": 440,
    "start_time": "2025-04-24T13:01:54.059Z"
   },
   {
    "duration": 107,
    "start_time": "2025-04-24T13:01:54.501Z"
   },
   {
    "duration": 17,
    "start_time": "2025-04-24T13:01:54.610Z"
   },
   {
    "duration": 9,
    "start_time": "2025-04-24T13:01:54.630Z"
   },
   {
    "duration": 6,
    "start_time": "2025-04-24T13:01:54.641Z"
   },
   {
    "duration": 22,
    "start_time": "2025-04-24T13:01:54.649Z"
   },
   {
    "duration": 267,
    "start_time": "2025-04-24T13:01:54.675Z"
   },
   {
    "duration": 488,
    "start_time": "2025-04-24T13:01:54.945Z"
   },
   {
    "duration": 858,
    "start_time": "2025-04-24T13:01:55.435Z"
   },
   {
    "duration": 7,
    "start_time": "2025-04-24T13:01:56.296Z"
   },
   {
    "duration": 18,
    "start_time": "2025-04-24T13:01:56.305Z"
   },
   {
    "duration": 484,
    "start_time": "2025-04-24T13:01:56.325Z"
   },
   {
    "duration": 190,
    "start_time": "2025-04-24T13:01:56.811Z"
   },
   {
    "duration": 7,
    "start_time": "2025-04-24T13:01:57.004Z"
   },
   {
    "duration": 1629,
    "start_time": "2025-04-24T13:01:57.013Z"
   },
   {
    "duration": 9,
    "start_time": "2025-04-24T13:01:58.644Z"
   },
   {
    "duration": 44,
    "start_time": "2025-04-24T13:01:58.663Z"
   },
   {
    "duration": 177,
    "start_time": "2025-04-24T13:01:58.709Z"
   },
   {
    "duration": 377,
    "start_time": "2025-04-24T13:01:58.888Z"
   },
   {
    "duration": 394,
    "start_time": "2025-04-24T13:01:59.266Z"
   },
   {
    "duration": 147,
    "start_time": "2025-04-24T13:01:59.663Z"
   },
   {
    "duration": 11,
    "start_time": "2025-04-24T13:01:59.811Z"
   },
   {
    "duration": 32,
    "start_time": "2025-04-24T13:01:59.823Z"
   },
   {
    "duration": 34,
    "start_time": "2025-04-24T13:01:59.857Z"
   },
   {
    "duration": 65,
    "start_time": "2025-04-24T13:01:59.893Z"
   },
   {
    "duration": 35,
    "start_time": "2025-04-24T13:01:59.960Z"
   },
   {
    "duration": 275,
    "start_time": "2025-04-24T13:01:59.997Z"
   },
   {
    "duration": 18,
    "start_time": "2025-04-24T13:02:00.277Z"
   },
   {
    "duration": 188,
    "start_time": "2025-04-24T13:02:00.297Z"
   },
   {
    "duration": 16,
    "start_time": "2025-04-24T13:02:36.641Z"
   },
   {
    "duration": 27,
    "start_time": "2025-04-24T13:02:49.992Z"
   },
   {
    "duration": 18,
    "start_time": "2025-04-24T13:02:57.733Z"
   },
   {
    "duration": 26,
    "start_time": "2025-04-24T13:03:05.110Z"
   },
   {
    "duration": 385,
    "start_time": "2025-04-25T05:18:25.758Z"
   },
   {
    "duration": 46,
    "start_time": "2025-04-25T05:18:26.145Z"
   },
   {
    "duration": 14,
    "start_time": "2025-04-25T05:18:26.192Z"
   },
   {
    "duration": 10,
    "start_time": "2025-04-25T05:18:26.207Z"
   },
   {
    "duration": 11,
    "start_time": "2025-04-25T05:18:26.219Z"
   },
   {
    "duration": 14,
    "start_time": "2025-04-25T05:18:26.232Z"
   },
   {
    "duration": 458,
    "start_time": "2025-04-25T05:18:26.248Z"
   },
   {
    "duration": 443,
    "start_time": "2025-04-25T05:18:26.708Z"
   },
   {
    "duration": 719,
    "start_time": "2025-04-25T05:18:27.153Z"
   },
   {
    "duration": 7,
    "start_time": "2025-04-25T05:18:27.874Z"
   },
   {
    "duration": 129,
    "start_time": "2025-04-25T05:18:27.883Z"
   },
   {
    "duration": 469,
    "start_time": "2025-04-25T05:18:28.013Z"
   },
   {
    "duration": 172,
    "start_time": "2025-04-25T05:18:28.484Z"
   },
   {
    "duration": 6,
    "start_time": "2025-04-25T05:18:28.659Z"
   },
   {
    "duration": 1816,
    "start_time": "2025-04-25T05:18:28.666Z"
   },
   {
    "duration": 9,
    "start_time": "2025-04-25T05:18:30.484Z"
   },
   {
    "duration": 19,
    "start_time": "2025-04-25T05:18:30.494Z"
   },
   {
    "duration": 142,
    "start_time": "2025-04-25T05:18:30.515Z"
   },
   {
    "duration": 328,
    "start_time": "2025-04-25T05:18:30.659Z"
   },
   {
    "duration": 332,
    "start_time": "2025-04-25T05:18:30.988Z"
   },
   {
    "duration": 106,
    "start_time": "2025-04-25T05:18:31.321Z"
   },
   {
    "duration": 11,
    "start_time": "2025-04-25T05:18:31.429Z"
   },
   {
    "duration": 20,
    "start_time": "2025-04-25T05:18:31.442Z"
   },
   {
    "duration": 23,
    "start_time": "2025-04-25T05:18:31.463Z"
   },
   {
    "duration": 13,
    "start_time": "2025-04-25T05:18:31.488Z"
   },
   {
    "duration": 11,
    "start_time": "2025-04-25T05:18:31.503Z"
   },
   {
    "duration": 203,
    "start_time": "2025-04-25T05:18:31.516Z"
   },
   {
    "duration": 15,
    "start_time": "2025-04-25T05:18:31.721Z"
   },
   {
    "duration": 76,
    "start_time": "2025-04-25T05:18:31.738Z"
   },
   {
    "duration": 14,
    "start_time": "2025-04-25T05:18:31.816Z"
   },
   {
    "duration": 173,
    "start_time": "2025-04-25T05:18:31.831Z"
   },
   {
    "duration": 227,
    "start_time": "2025-04-25T05:18:32.006Z"
   },
   {
    "duration": 6,
    "start_time": "2025-04-25T05:18:32.235Z"
   },
   {
    "duration": 28,
    "start_time": "2025-04-25T05:18:32.243Z"
   },
   {
    "duration": 26,
    "start_time": "2025-04-25T05:18:32.273Z"
   },
   {
    "duration": 19,
    "start_time": "2025-04-25T05:18:32.301Z"
   },
   {
    "duration": 7,
    "start_time": "2025-04-25T05:35:45.663Z"
   },
   {
    "duration": 6,
    "start_time": "2025-04-25T05:35:47.784Z"
   },
   {
    "duration": 393,
    "start_time": "2025-04-25T12:00:49.193Z"
   },
   {
    "duration": 374,
    "start_time": "2025-04-25T12:01:24.900Z"
   },
   {
    "duration": 354,
    "start_time": "2025-04-25T12:01:45.116Z"
   },
   {
    "duration": 437,
    "start_time": "2025-04-25T12:02:09.317Z"
   },
   {
    "duration": 54,
    "start_time": "2025-04-25T12:02:09.756Z"
   },
   {
    "duration": 17,
    "start_time": "2025-04-25T12:02:09.812Z"
   },
   {
    "duration": 72,
    "start_time": "2025-04-25T12:02:09.831Z"
   },
   {
    "duration": 7,
    "start_time": "2025-04-25T12:02:09.905Z"
   },
   {
    "duration": 11,
    "start_time": "2025-04-25T12:02:09.914Z"
   },
   {
    "duration": 26,
    "start_time": "2025-04-25T12:02:09.927Z"
   },
   {
    "duration": 261,
    "start_time": "2025-04-25T12:02:09.955Z"
   },
   {
    "duration": 477,
    "start_time": "2025-04-25T12:02:10.218Z"
   },
   {
    "duration": 749,
    "start_time": "2025-04-25T12:02:10.697Z"
   },
   {
    "duration": 9,
    "start_time": "2025-04-25T12:02:11.448Z"
   },
   {
    "duration": 12,
    "start_time": "2025-04-25T12:02:11.459Z"
   },
   {
    "duration": 561,
    "start_time": "2025-04-25T12:02:11.473Z"
   },
   {
    "duration": 189,
    "start_time": "2025-04-25T12:02:12.037Z"
   },
   {
    "duration": 6,
    "start_time": "2025-04-25T12:02:12.228Z"
   },
   {
    "duration": 1568,
    "start_time": "2025-04-25T12:02:12.236Z"
   },
   {
    "duration": 9,
    "start_time": "2025-04-25T12:02:13.806Z"
   },
   {
    "duration": 73,
    "start_time": "2025-04-25T12:02:13.817Z"
   },
   {
    "duration": 121,
    "start_time": "2025-04-25T12:02:13.892Z"
   },
   {
    "duration": 389,
    "start_time": "2025-04-25T12:02:14.015Z"
   },
   {
    "duration": 383,
    "start_time": "2025-04-25T12:02:14.405Z"
   },
   {
    "duration": 523,
    "start_time": "2025-04-25T12:02:14.790Z"
   },
   {
    "duration": 0,
    "start_time": "2025-04-25T12:02:15.314Z"
   },
   {
    "duration": 1,
    "start_time": "2025-04-25T12:02:15.315Z"
   },
   {
    "duration": 0,
    "start_time": "2025-04-25T12:02:15.317Z"
   },
   {
    "duration": 0,
    "start_time": "2025-04-25T12:02:15.318Z"
   },
   {
    "duration": 0,
    "start_time": "2025-04-25T12:02:15.319Z"
   },
   {
    "duration": 0,
    "start_time": "2025-04-25T12:02:15.320Z"
   },
   {
    "duration": 0,
    "start_time": "2025-04-25T12:02:15.321Z"
   },
   {
    "duration": 0,
    "start_time": "2025-04-25T12:02:15.323Z"
   },
   {
    "duration": 0,
    "start_time": "2025-04-25T12:02:15.324Z"
   },
   {
    "duration": 0,
    "start_time": "2025-04-25T12:02:15.325Z"
   },
   {
    "duration": 1,
    "start_time": "2025-04-25T12:02:15.326Z"
   },
   {
    "duration": 0,
    "start_time": "2025-04-25T12:02:15.327Z"
   },
   {
    "duration": 0,
    "start_time": "2025-04-25T12:02:15.328Z"
   },
   {
    "duration": 0,
    "start_time": "2025-04-25T12:02:15.329Z"
   },
   {
    "duration": 0,
    "start_time": "2025-04-25T12:02:15.331Z"
   },
   {
    "duration": 309,
    "start_time": "2025-04-25T12:06:11.254Z"
   },
   {
    "duration": 621,
    "start_time": "2025-04-25T12:09:41.485Z"
   },
   {
    "duration": 462,
    "start_time": "2025-04-25T12:09:49.678Z"
   },
   {
    "duration": 68,
    "start_time": "2025-04-25T12:09:50.142Z"
   },
   {
    "duration": 21,
    "start_time": "2025-04-25T12:09:50.212Z"
   },
   {
    "duration": 86,
    "start_time": "2025-04-25T12:09:50.236Z"
   },
   {
    "duration": 8,
    "start_time": "2025-04-25T12:09:50.324Z"
   },
   {
    "duration": 20,
    "start_time": "2025-04-25T12:09:50.334Z"
   },
   {
    "duration": 30,
    "start_time": "2025-04-25T12:09:50.355Z"
   },
   {
    "duration": 283,
    "start_time": "2025-04-25T12:09:50.387Z"
   },
   {
    "duration": 455,
    "start_time": "2025-04-25T12:09:50.672Z"
   },
   {
    "duration": 726,
    "start_time": "2025-04-25T12:09:51.129Z"
   },
   {
    "duration": 8,
    "start_time": "2025-04-25T12:09:51.858Z"
   },
   {
    "duration": 96,
    "start_time": "2025-04-25T12:09:51.868Z"
   },
   {
    "duration": 449,
    "start_time": "2025-04-25T12:09:51.966Z"
   },
   {
    "duration": 185,
    "start_time": "2025-04-25T12:09:52.417Z"
   },
   {
    "duration": 6,
    "start_time": "2025-04-25T12:09:52.604Z"
   },
   {
    "duration": 1705,
    "start_time": "2025-04-25T12:09:52.612Z"
   },
   {
    "duration": 10,
    "start_time": "2025-04-25T12:09:54.320Z"
   },
   {
    "duration": 14,
    "start_time": "2025-04-25T12:09:54.332Z"
   },
   {
    "duration": 140,
    "start_time": "2025-04-25T12:09:54.349Z"
   },
   {
    "duration": 366,
    "start_time": "2025-04-25T12:09:54.492Z"
   },
   {
    "duration": 364,
    "start_time": "2025-04-25T12:09:54.859Z"
   },
   {
    "duration": 753,
    "start_time": "2025-04-25T12:09:55.225Z"
   },
   {
    "duration": 12,
    "start_time": "2025-04-25T12:09:55.980Z"
   },
   {
    "duration": 7,
    "start_time": "2025-04-25T12:09:56.004Z"
   },
   {
    "duration": 28,
    "start_time": "2025-04-25T12:09:56.012Z"
   },
   {
    "duration": 17,
    "start_time": "2025-04-25T12:09:56.041Z"
   },
   {
    "duration": 4,
    "start_time": "2025-04-25T12:09:56.060Z"
   },
   {
    "duration": 166,
    "start_time": "2025-04-25T12:09:56.068Z"
   },
   {
    "duration": 14,
    "start_time": "2025-04-25T12:09:56.236Z"
   },
   {
    "duration": 147,
    "start_time": "2025-04-25T12:09:56.252Z"
   },
   {
    "duration": 14,
    "start_time": "2025-04-25T12:09:56.401Z"
   },
   {
    "duration": 35,
    "start_time": "2025-04-25T12:09:56.417Z"
   },
   {
    "duration": 189,
    "start_time": "2025-04-25T12:09:56.454Z"
   },
   {
    "duration": 29,
    "start_time": "2025-04-25T12:09:56.645Z"
   },
   {
    "duration": 8,
    "start_time": "2025-04-25T12:09:56.675Z"
   },
   {
    "duration": 18,
    "start_time": "2025-04-25T12:09:56.684Z"
   },
   {
    "duration": 17,
    "start_time": "2025-04-25T12:09:56.705Z"
   },
   {
    "duration": 668,
    "start_time": "2025-04-25T12:10:32.620Z"
   },
   {
    "duration": 336,
    "start_time": "2025-04-25T12:11:00.968Z"
   },
   {
    "duration": 471,
    "start_time": "2025-04-25T12:11:08.396Z"
   },
   {
    "duration": 63,
    "start_time": "2025-04-25T12:11:08.869Z"
   },
   {
    "duration": 16,
    "start_time": "2025-04-25T12:11:08.934Z"
   },
   {
    "duration": 6,
    "start_time": "2025-04-25T12:11:08.952Z"
   },
   {
    "duration": 13,
    "start_time": "2025-04-25T12:11:08.961Z"
   },
   {
    "duration": 23,
    "start_time": "2025-04-25T12:11:08.976Z"
   },
   {
    "duration": 16,
    "start_time": "2025-04-25T12:11:09.001Z"
   },
   {
    "duration": 267,
    "start_time": "2025-04-25T12:11:09.019Z"
   },
   {
    "duration": 470,
    "start_time": "2025-04-25T12:11:09.287Z"
   },
   {
    "duration": 741,
    "start_time": "2025-04-25T12:11:09.758Z"
   },
   {
    "duration": 8,
    "start_time": "2025-04-25T12:11:10.500Z"
   },
   {
    "duration": 118,
    "start_time": "2025-04-25T12:11:10.509Z"
   },
   {
    "duration": 479,
    "start_time": "2025-04-25T12:11:10.629Z"
   },
   {
    "duration": 184,
    "start_time": "2025-04-25T12:11:11.112Z"
   },
   {
    "duration": 13,
    "start_time": "2025-04-25T12:11:11.298Z"
   },
   {
    "duration": 1561,
    "start_time": "2025-04-25T12:11:11.319Z"
   },
   {
    "duration": 9,
    "start_time": "2025-04-25T12:11:12.882Z"
   },
   {
    "duration": 12,
    "start_time": "2025-04-25T12:11:12.906Z"
   },
   {
    "duration": 130,
    "start_time": "2025-04-25T12:11:12.920Z"
   },
   {
    "duration": 385,
    "start_time": "2025-04-25T12:11:13.051Z"
   },
   {
    "duration": 373,
    "start_time": "2025-04-25T12:11:13.437Z"
   },
   {
    "duration": 373,
    "start_time": "2025-04-25T12:11:13.814Z"
   },
   {
    "duration": 26,
    "start_time": "2025-04-25T12:11:14.189Z"
   },
   {
    "duration": 111,
    "start_time": "2025-04-25T12:11:14.217Z"
   },
   {
    "duration": 18,
    "start_time": "2025-04-25T12:11:14.329Z"
   },
   {
    "duration": 20,
    "start_time": "2025-04-25T12:11:14.348Z"
   },
   {
    "duration": 5,
    "start_time": "2025-04-25T12:11:14.369Z"
   },
   {
    "duration": 193,
    "start_time": "2025-04-25T12:11:14.376Z"
   },
   {
    "duration": 16,
    "start_time": "2025-04-25T12:11:14.570Z"
   },
   {
    "duration": 189,
    "start_time": "2025-04-25T12:11:14.588Z"
   },
   {
    "duration": 14,
    "start_time": "2025-04-25T12:11:14.778Z"
   },
   {
    "duration": 81,
    "start_time": "2025-04-25T12:11:14.793Z"
   },
   {
    "duration": 242,
    "start_time": "2025-04-25T12:11:14.876Z"
   },
   {
    "duration": 7,
    "start_time": "2025-04-25T12:11:15.120Z"
   },
   {
    "duration": 41,
    "start_time": "2025-04-25T12:11:15.129Z"
   },
   {
    "duration": 110,
    "start_time": "2025-04-25T12:11:15.172Z"
   },
   {
    "duration": 33,
    "start_time": "2025-04-25T12:11:15.284Z"
   },
   {
    "duration": 51,
    "start_time": "2025-04-25T17:16:30.419Z"
   },
   {
    "duration": 443,
    "start_time": "2025-04-25T17:16:42.050Z"
   },
   {
    "duration": 180,
    "start_time": "2025-04-25T17:16:42.495Z"
   },
   {
    "duration": 15,
    "start_time": "2025-04-25T17:16:42.676Z"
   },
   {
    "duration": 6,
    "start_time": "2025-04-25T17:16:42.693Z"
   },
   {
    "duration": 6,
    "start_time": "2025-04-25T17:16:42.700Z"
   },
   {
    "duration": 7,
    "start_time": "2025-04-25T17:16:42.708Z"
   },
   {
    "duration": 10,
    "start_time": "2025-04-25T17:16:42.717Z"
   },
   {
    "duration": 447,
    "start_time": "2025-04-25T17:16:42.729Z"
   },
   {
    "duration": 436,
    "start_time": "2025-04-25T17:16:43.179Z"
   },
   {
    "duration": 677,
    "start_time": "2025-04-25T17:16:43.618Z"
   },
   {
    "duration": 7,
    "start_time": "2025-04-25T17:16:44.297Z"
   },
   {
    "duration": 24,
    "start_time": "2025-04-25T17:16:44.306Z"
   },
   {
    "duration": 432,
    "start_time": "2025-04-25T17:16:44.332Z"
   },
   {
    "duration": 168,
    "start_time": "2025-04-25T17:16:44.766Z"
   },
   {
    "duration": 6,
    "start_time": "2025-04-25T17:16:44.936Z"
   },
   {
    "duration": 2172,
    "start_time": "2025-04-25T17:16:44.944Z"
   },
   {
    "duration": 9,
    "start_time": "2025-04-25T17:16:47.118Z"
   },
   {
    "duration": 10,
    "start_time": "2025-04-25T17:16:47.128Z"
   },
   {
    "duration": 130,
    "start_time": "2025-04-25T17:16:47.140Z"
   },
   {
    "duration": 356,
    "start_time": "2025-04-25T17:16:47.272Z"
   },
   {
    "duration": 314,
    "start_time": "2025-04-25T17:16:47.630Z"
   },
   {
    "duration": 430,
    "start_time": "2025-04-25T17:16:47.946Z"
   },
   {
    "duration": 0,
    "start_time": "2025-04-25T17:16:48.378Z"
   },
   {
    "duration": 0,
    "start_time": "2025-04-25T17:16:48.380Z"
   },
   {
    "duration": 0,
    "start_time": "2025-04-25T17:16:48.381Z"
   },
   {
    "duration": 0,
    "start_time": "2025-04-25T17:16:48.382Z"
   },
   {
    "duration": 0,
    "start_time": "2025-04-25T17:16:48.383Z"
   },
   {
    "duration": 0,
    "start_time": "2025-04-25T17:16:48.384Z"
   },
   {
    "duration": 0,
    "start_time": "2025-04-25T17:16:48.385Z"
   },
   {
    "duration": 0,
    "start_time": "2025-04-25T17:16:48.386Z"
   },
   {
    "duration": 0,
    "start_time": "2025-04-25T17:16:48.387Z"
   },
   {
    "duration": 0,
    "start_time": "2025-04-25T17:16:48.388Z"
   },
   {
    "duration": 0,
    "start_time": "2025-04-25T17:16:48.389Z"
   },
   {
    "duration": 0,
    "start_time": "2025-04-25T17:16:48.390Z"
   },
   {
    "duration": 0,
    "start_time": "2025-04-25T17:16:48.391Z"
   },
   {
    "duration": 0,
    "start_time": "2025-04-25T17:16:48.392Z"
   },
   {
    "duration": 0,
    "start_time": "2025-04-25T17:16:48.393Z"
   },
   {
    "duration": 408,
    "start_time": "2025-04-25T17:17:19.586Z"
   },
   {
    "duration": 134,
    "start_time": "2025-04-25T17:17:19.996Z"
   },
   {
    "duration": 15,
    "start_time": "2025-04-25T17:17:20.132Z"
   },
   {
    "duration": 6,
    "start_time": "2025-04-25T17:17:20.149Z"
   },
   {
    "duration": 6,
    "start_time": "2025-04-25T17:17:20.156Z"
   },
   {
    "duration": 6,
    "start_time": "2025-04-25T17:17:20.163Z"
   },
   {
    "duration": 11,
    "start_time": "2025-04-25T17:17:20.171Z"
   },
   {
    "duration": 246,
    "start_time": "2025-04-25T17:17:20.184Z"
   },
   {
    "duration": 431,
    "start_time": "2025-04-25T17:17:20.432Z"
   },
   {
    "duration": 701,
    "start_time": "2025-04-25T17:17:20.865Z"
   },
   {
    "duration": 7,
    "start_time": "2025-04-25T17:17:21.568Z"
   },
   {
    "duration": 17,
    "start_time": "2025-04-25T17:17:21.576Z"
   },
   {
    "duration": 553,
    "start_time": "2025-04-25T17:17:21.595Z"
   },
   {
    "duration": 175,
    "start_time": "2025-04-25T17:17:22.150Z"
   },
   {
    "duration": 5,
    "start_time": "2025-04-25T17:17:22.327Z"
   },
   {
    "duration": 1515,
    "start_time": "2025-04-25T17:17:22.334Z"
   },
   {
    "duration": 13,
    "start_time": "2025-04-25T17:17:23.851Z"
   },
   {
    "duration": 15,
    "start_time": "2025-04-25T17:17:23.866Z"
   },
   {
    "duration": 124,
    "start_time": "2025-04-25T17:17:23.883Z"
   },
   {
    "duration": 366,
    "start_time": "2025-04-25T17:17:24.009Z"
   },
   {
    "duration": 351,
    "start_time": "2025-04-25T17:17:24.377Z"
   },
   {
    "duration": 389,
    "start_time": "2025-04-25T17:17:24.729Z"
   },
   {
    "duration": 11,
    "start_time": "2025-04-25T17:17:25.120Z"
   },
   {
    "duration": 5,
    "start_time": "2025-04-25T17:17:25.132Z"
   },
   {
    "duration": 26,
    "start_time": "2025-04-25T17:17:25.139Z"
   },
   {
    "duration": 29,
    "start_time": "2025-04-25T17:17:25.167Z"
   },
   {
    "duration": 7,
    "start_time": "2025-04-25T17:17:25.199Z"
   },
   {
    "duration": 217,
    "start_time": "2025-04-25T17:17:25.210Z"
   },
   {
    "duration": 15,
    "start_time": "2025-04-25T17:17:25.429Z"
   },
   {
    "duration": 143,
    "start_time": "2025-04-25T17:17:25.445Z"
   },
   {
    "duration": 14,
    "start_time": "2025-04-25T17:17:25.590Z"
   },
   {
    "duration": 26,
    "start_time": "2025-04-25T17:17:25.605Z"
   },
   {
    "duration": 241,
    "start_time": "2025-04-25T17:17:25.633Z"
   },
   {
    "duration": 6,
    "start_time": "2025-04-25T17:17:25.876Z"
   },
   {
    "duration": 36,
    "start_time": "2025-04-25T17:17:25.884Z"
   },
   {
    "duration": 10,
    "start_time": "2025-04-25T17:17:25.921Z"
   },
   {
    "duration": 18,
    "start_time": "2025-04-25T17:17:25.933Z"
   },
   {
    "duration": 385,
    "start_time": "2025-04-25T17:19:50.316Z"
   },
   {
    "duration": 76,
    "start_time": "2025-04-25T17:19:50.703Z"
   },
   {
    "duration": 15,
    "start_time": "2025-04-25T17:19:50.780Z"
   },
   {
    "duration": 6,
    "start_time": "2025-04-25T17:19:50.797Z"
   },
   {
    "duration": 7,
    "start_time": "2025-04-25T17:19:50.805Z"
   },
   {
    "duration": 18,
    "start_time": "2025-04-25T17:19:50.814Z"
   },
   {
    "duration": 36,
    "start_time": "2025-04-25T17:19:50.834Z"
   },
   {
    "duration": 249,
    "start_time": "2025-04-25T17:19:50.872Z"
   },
   {
    "duration": 434,
    "start_time": "2025-04-25T17:19:51.123Z"
   },
   {
    "duration": 683,
    "start_time": "2025-04-25T17:19:51.562Z"
   },
   {
    "duration": 16,
    "start_time": "2025-04-25T17:19:52.246Z"
   },
   {
    "duration": 35,
    "start_time": "2025-04-25T17:19:52.264Z"
   },
   {
    "duration": 438,
    "start_time": "2025-04-25T17:19:52.301Z"
   },
   {
    "duration": 173,
    "start_time": "2025-04-25T17:19:52.742Z"
   },
   {
    "duration": 5,
    "start_time": "2025-04-25T17:19:52.917Z"
   },
   {
    "duration": 1553,
    "start_time": "2025-04-25T17:19:52.924Z"
   },
   {
    "duration": 10,
    "start_time": "2025-04-25T17:19:54.479Z"
   },
   {
    "duration": 10,
    "start_time": "2025-04-25T17:19:54.491Z"
   },
   {
    "duration": 141,
    "start_time": "2025-04-25T17:19:54.503Z"
   },
   {
    "duration": 368,
    "start_time": "2025-04-25T17:19:54.645Z"
   },
   {
    "duration": 366,
    "start_time": "2025-04-25T17:19:55.015Z"
   },
   {
    "duration": 364,
    "start_time": "2025-04-25T17:19:55.383Z"
   },
   {
    "duration": 19,
    "start_time": "2025-04-25T17:19:55.749Z"
   },
   {
    "duration": 19,
    "start_time": "2025-04-25T17:19:55.770Z"
   },
   {
    "duration": 7,
    "start_time": "2025-04-25T17:19:55.791Z"
   },
   {
    "duration": 13,
    "start_time": "2025-04-25T17:19:55.800Z"
   },
   {
    "duration": 5,
    "start_time": "2025-04-25T17:19:55.814Z"
   },
   {
    "duration": 201,
    "start_time": "2025-04-25T17:19:55.821Z"
   },
   {
    "duration": 14,
    "start_time": "2025-04-25T17:19:56.023Z"
   },
   {
    "duration": 180,
    "start_time": "2025-04-25T17:19:56.039Z"
   },
   {
    "duration": 13,
    "start_time": "2025-04-25T17:19:56.221Z"
   },
   {
    "duration": 31,
    "start_time": "2025-04-25T17:19:56.236Z"
   },
   {
    "duration": 227,
    "start_time": "2025-04-25T17:19:56.269Z"
   },
   {
    "duration": 7,
    "start_time": "2025-04-25T17:19:56.498Z"
   },
   {
    "duration": 3,
    "start_time": "2025-04-25T17:19:56.506Z"
   },
   {
    "duration": 10,
    "start_time": "2025-04-25T17:19:56.510Z"
   },
   {
    "duration": 6,
    "start_time": "2025-04-25T17:19:56.522Z"
   },
   {
    "duration": 432,
    "start_time": "2025-04-25T17:42:43.859Z"
   },
   {
    "duration": 72,
    "start_time": "2025-04-25T17:42:44.294Z"
   },
   {
    "duration": 16,
    "start_time": "2025-04-25T17:42:44.367Z"
   },
   {
    "duration": 6,
    "start_time": "2025-04-25T17:42:44.384Z"
   },
   {
    "duration": 6,
    "start_time": "2025-04-25T17:42:44.393Z"
   },
   {
    "duration": 15,
    "start_time": "2025-04-25T17:42:44.400Z"
   },
   {
    "duration": 23,
    "start_time": "2025-04-25T17:42:44.416Z"
   },
   {
    "duration": 252,
    "start_time": "2025-04-25T17:42:44.440Z"
   },
   {
    "duration": 452,
    "start_time": "2025-04-25T17:42:44.694Z"
   },
   {
    "duration": 683,
    "start_time": "2025-04-25T17:42:45.147Z"
   },
   {
    "duration": 7,
    "start_time": "2025-04-25T17:42:45.832Z"
   },
   {
    "duration": 23,
    "start_time": "2025-04-25T17:42:45.841Z"
   },
   {
    "duration": 454,
    "start_time": "2025-04-25T17:42:45.866Z"
   },
   {
    "duration": 167,
    "start_time": "2025-04-25T17:42:46.323Z"
   },
   {
    "duration": 6,
    "start_time": "2025-04-25T17:42:46.491Z"
   },
   {
    "duration": 1575,
    "start_time": "2025-04-25T17:42:46.499Z"
   },
   {
    "duration": 9,
    "start_time": "2025-04-25T17:42:48.076Z"
   },
   {
    "duration": 15,
    "start_time": "2025-04-25T17:42:48.086Z"
   },
   {
    "duration": 127,
    "start_time": "2025-04-25T17:42:48.103Z"
   },
   {
    "duration": 343,
    "start_time": "2025-04-25T17:42:48.231Z"
   },
   {
    "duration": 353,
    "start_time": "2025-04-25T17:42:48.576Z"
   },
   {
    "duration": 365,
    "start_time": "2025-04-25T17:42:48.931Z"
   },
   {
    "duration": 11,
    "start_time": "2025-04-25T17:42:49.298Z"
   },
   {
    "duration": 5,
    "start_time": "2025-04-25T17:42:49.311Z"
   },
   {
    "duration": 7,
    "start_time": "2025-04-25T17:42:49.318Z"
   },
   {
    "duration": 38,
    "start_time": "2025-04-25T17:42:49.327Z"
   },
   {
    "duration": 10,
    "start_time": "2025-04-25T17:42:49.367Z"
   },
   {
    "duration": 117,
    "start_time": "2025-04-25T17:42:49.379Z"
   },
   {
    "duration": 0,
    "start_time": "2025-04-25T17:42:49.498Z"
   },
   {
    "duration": 0,
    "start_time": "2025-04-25T17:42:49.499Z"
   },
   {
    "duration": 0,
    "start_time": "2025-04-25T17:42:49.501Z"
   },
   {
    "duration": 0,
    "start_time": "2025-04-25T17:42:49.502Z"
   },
   {
    "duration": 0,
    "start_time": "2025-04-25T17:42:49.503Z"
   },
   {
    "duration": 0,
    "start_time": "2025-04-25T17:42:49.504Z"
   },
   {
    "duration": 0,
    "start_time": "2025-04-25T17:42:49.506Z"
   },
   {
    "duration": 0,
    "start_time": "2025-04-25T17:42:49.507Z"
   },
   {
    "duration": 0,
    "start_time": "2025-04-25T17:42:49.508Z"
   },
   {
    "duration": 9,
    "start_time": "2025-04-25T17:47:55.164Z"
   },
   {
    "duration": 394,
    "start_time": "2025-04-25T17:48:06.598Z"
   },
   {
    "duration": 67,
    "start_time": "2025-04-25T17:48:06.994Z"
   },
   {
    "duration": 16,
    "start_time": "2025-04-25T17:48:07.063Z"
   },
   {
    "duration": 34,
    "start_time": "2025-04-25T17:48:07.081Z"
   },
   {
    "duration": 18,
    "start_time": "2025-04-25T17:48:07.118Z"
   },
   {
    "duration": 21,
    "start_time": "2025-04-25T17:48:07.139Z"
   },
   {
    "duration": 45,
    "start_time": "2025-04-25T17:48:07.162Z"
   },
   {
    "duration": 281,
    "start_time": "2025-04-25T17:48:07.209Z"
   },
   {
    "duration": 453,
    "start_time": "2025-04-25T17:48:07.491Z"
   },
   {
    "duration": 689,
    "start_time": "2025-04-25T17:48:07.946Z"
   },
   {
    "duration": 6,
    "start_time": "2025-04-25T17:48:08.637Z"
   },
   {
    "duration": 6,
    "start_time": "2025-04-25T17:48:08.645Z"
   },
   {
    "duration": 448,
    "start_time": "2025-04-25T17:48:08.663Z"
   },
   {
    "duration": 212,
    "start_time": "2025-04-25T17:48:09.114Z"
   },
   {
    "duration": 6,
    "start_time": "2025-04-25T17:48:09.329Z"
   },
   {
    "duration": 1634,
    "start_time": "2025-04-25T17:48:09.338Z"
   },
   {
    "duration": 9,
    "start_time": "2025-04-25T17:48:10.974Z"
   },
   {
    "duration": 11,
    "start_time": "2025-04-25T17:48:10.985Z"
   },
   {
    "duration": 130,
    "start_time": "2025-04-25T17:48:10.998Z"
   },
   {
    "duration": 368,
    "start_time": "2025-04-25T17:48:11.130Z"
   },
   {
    "duration": 355,
    "start_time": "2025-04-25T17:48:11.500Z"
   },
   {
    "duration": 369,
    "start_time": "2025-04-25T17:48:11.856Z"
   },
   {
    "duration": 12,
    "start_time": "2025-04-25T17:48:12.226Z"
   },
   {
    "duration": 6,
    "start_time": "2025-04-25T17:48:12.239Z"
   },
   {
    "duration": 7,
    "start_time": "2025-04-25T17:48:12.262Z"
   },
   {
    "duration": 12,
    "start_time": "2025-04-25T17:48:12.271Z"
   },
   {
    "duration": 10,
    "start_time": "2025-04-25T17:48:12.285Z"
   },
   {
    "duration": 200,
    "start_time": "2025-04-25T17:48:12.296Z"
   },
   {
    "duration": 14,
    "start_time": "2025-04-25T17:48:12.497Z"
   },
   {
    "duration": 140,
    "start_time": "2025-04-25T17:48:12.512Z"
   },
   {
    "duration": 14,
    "start_time": "2025-04-25T17:48:12.653Z"
   },
   {
    "duration": 19,
    "start_time": "2025-04-25T17:48:12.668Z"
   },
   {
    "duration": 228,
    "start_time": "2025-04-25T17:48:12.688Z"
   },
   {
    "duration": 7,
    "start_time": "2025-04-25T17:48:12.917Z"
   },
   {
    "duration": 7,
    "start_time": "2025-04-25T17:48:12.925Z"
   },
   {
    "duration": 6,
    "start_time": "2025-04-25T17:48:12.933Z"
   },
   {
    "duration": 4,
    "start_time": "2025-04-25T17:48:12.940Z"
   },
   {
    "duration": 394,
    "start_time": "2025-04-25T18:02:28.711Z"
   },
   {
    "duration": 94,
    "start_time": "2025-04-25T18:02:29.107Z"
   },
   {
    "duration": 17,
    "start_time": "2025-04-25T18:02:29.203Z"
   },
   {
    "duration": 12,
    "start_time": "2025-04-25T18:02:29.222Z"
   },
   {
    "duration": 24,
    "start_time": "2025-04-25T18:02:29.237Z"
   },
   {
    "duration": 7,
    "start_time": "2025-04-25T18:02:29.264Z"
   },
   {
    "duration": 14,
    "start_time": "2025-04-25T18:02:29.272Z"
   },
   {
    "duration": 268,
    "start_time": "2025-04-25T18:02:29.288Z"
   },
   {
    "duration": 439,
    "start_time": "2025-04-25T18:02:29.558Z"
   },
   {
    "duration": 649,
    "start_time": "2025-04-25T18:02:29.998Z"
   },
   {
    "duration": 6,
    "start_time": "2025-04-25T18:02:30.649Z"
   },
   {
    "duration": 19,
    "start_time": "2025-04-25T18:02:30.656Z"
   },
   {
    "duration": 452,
    "start_time": "2025-04-25T18:02:30.677Z"
   },
   {
    "duration": 172,
    "start_time": "2025-04-25T18:02:31.132Z"
   },
   {
    "duration": 6,
    "start_time": "2025-04-25T18:02:31.306Z"
   },
   {
    "duration": 1880,
    "start_time": "2025-04-25T18:02:31.313Z"
   },
   {
    "duration": 9,
    "start_time": "2025-04-25T18:02:33.195Z"
   },
   {
    "duration": 30,
    "start_time": "2025-04-25T18:02:33.206Z"
   },
   {
    "duration": 115,
    "start_time": "2025-04-25T18:02:33.238Z"
   },
   {
    "duration": 348,
    "start_time": "2025-04-25T18:02:33.354Z"
   },
   {
    "duration": 347,
    "start_time": "2025-04-25T18:02:33.704Z"
   },
   {
    "duration": 355,
    "start_time": "2025-04-25T18:02:34.053Z"
   },
   {
    "duration": 11,
    "start_time": "2025-04-25T18:02:34.410Z"
   },
   {
    "duration": 10,
    "start_time": "2025-04-25T18:02:34.422Z"
   },
   {
    "duration": 11,
    "start_time": "2025-04-25T18:02:34.433Z"
   },
   {
    "duration": 38,
    "start_time": "2025-04-25T18:02:34.446Z"
   },
   {
    "duration": 10,
    "start_time": "2025-04-25T18:02:34.486Z"
   },
   {
    "duration": 194,
    "start_time": "2025-04-25T18:02:34.497Z"
   },
   {
    "duration": 14,
    "start_time": "2025-04-25T18:02:34.692Z"
   },
   {
    "duration": 140,
    "start_time": "2025-04-25T18:02:34.708Z"
   },
   {
    "duration": 17,
    "start_time": "2025-04-25T18:02:34.850Z"
   },
   {
    "duration": 38,
    "start_time": "2025-04-25T18:02:34.869Z"
   },
   {
    "duration": 234,
    "start_time": "2025-04-25T18:02:34.909Z"
   },
   {
    "duration": 7,
    "start_time": "2025-04-25T18:02:35.146Z"
   },
   {
    "duration": 34,
    "start_time": "2025-04-25T18:02:35.162Z"
   },
   {
    "duration": 22,
    "start_time": "2025-04-25T18:02:35.198Z"
   },
   {
    "duration": 45,
    "start_time": "2025-04-25T18:02:35.222Z"
   },
   {
    "duration": 226,
    "start_time": "2025-04-25T18:12:04.912Z"
   },
   {
    "duration": 93,
    "start_time": "2025-04-25T18:12:47.480Z"
   },
   {
    "duration": 194,
    "start_time": "2025-04-25T18:15:53.237Z"
   },
   {
    "duration": 221,
    "start_time": "2025-04-25T18:16:01.437Z"
   },
   {
    "duration": 406,
    "start_time": "2025-04-26T08:24:45.709Z"
   },
   {
    "duration": 54,
    "start_time": "2025-04-26T08:24:46.118Z"
   },
   {
    "duration": 16,
    "start_time": "2025-04-26T08:24:46.174Z"
   },
   {
    "duration": 126,
    "start_time": "2025-04-26T08:24:46.192Z"
   },
   {
    "duration": 9,
    "start_time": "2025-04-26T08:24:46.321Z"
   },
   {
    "duration": 21,
    "start_time": "2025-04-26T08:24:46.331Z"
   },
   {
    "duration": 17,
    "start_time": "2025-04-26T08:24:46.353Z"
   },
   {
    "duration": 466,
    "start_time": "2025-04-26T08:24:46.372Z"
   },
   {
    "duration": 459,
    "start_time": "2025-04-26T08:24:46.840Z"
   },
   {
    "duration": 750,
    "start_time": "2025-04-26T08:24:47.300Z"
   },
   {
    "duration": 13,
    "start_time": "2025-04-26T08:24:48.052Z"
   },
   {
    "duration": 12,
    "start_time": "2025-04-26T08:24:48.067Z"
   },
   {
    "duration": 466,
    "start_time": "2025-04-26T08:24:48.081Z"
   },
   {
    "duration": 182,
    "start_time": "2025-04-26T08:24:48.550Z"
   },
   {
    "duration": 6,
    "start_time": "2025-04-26T08:24:48.733Z"
   },
   {
    "duration": 1938,
    "start_time": "2025-04-26T08:24:48.741Z"
   },
   {
    "duration": 9,
    "start_time": "2025-04-26T08:24:50.681Z"
   },
   {
    "duration": 73,
    "start_time": "2025-04-26T08:24:50.692Z"
   },
   {
    "duration": 267,
    "start_time": "2025-04-26T08:24:50.767Z"
   },
   {
    "duration": 363,
    "start_time": "2025-04-26T08:24:51.036Z"
   },
   {
    "duration": 344,
    "start_time": "2025-04-26T08:24:51.401Z"
   },
   {
    "duration": 377,
    "start_time": "2025-04-26T08:24:51.747Z"
   },
   {
    "duration": 10,
    "start_time": "2025-04-26T08:24:52.126Z"
   },
   {
    "duration": 25,
    "start_time": "2025-04-26T08:24:52.138Z"
   },
   {
    "duration": 172,
    "start_time": "2025-04-26T08:24:52.165Z"
   },
   {
    "duration": 40,
    "start_time": "2025-04-26T08:24:52.339Z"
   },
   {
    "duration": 55,
    "start_time": "2025-04-26T08:24:52.381Z"
   },
   {
    "duration": 214,
    "start_time": "2025-04-26T08:24:52.438Z"
   },
   {
    "duration": 16,
    "start_time": "2025-04-26T08:24:52.653Z"
   },
   {
    "duration": 91,
    "start_time": "2025-04-26T08:24:52.670Z"
   },
   {
    "duration": 14,
    "start_time": "2025-04-26T08:24:52.763Z"
   },
   {
    "duration": 171,
    "start_time": "2025-04-26T08:24:52.779Z"
   },
   {
    "duration": 256,
    "start_time": "2025-04-26T08:24:52.952Z"
   },
   {
    "duration": 6,
    "start_time": "2025-04-26T08:24:53.210Z"
   },
   {
    "duration": 18,
    "start_time": "2025-04-26T08:24:53.218Z"
   },
   {
    "duration": 16,
    "start_time": "2025-04-26T08:24:53.238Z"
   },
   {
    "duration": 12,
    "start_time": "2025-04-26T08:24:53.256Z"
   },
   {
    "duration": 419,
    "start_time": "2025-04-26T09:01:04.392Z"
   },
   {
    "duration": 171,
    "start_time": "2025-04-26T09:01:04.813Z"
   },
   {
    "duration": 16,
    "start_time": "2025-04-26T09:01:04.986Z"
   },
   {
    "duration": 67,
    "start_time": "2025-04-26T09:01:05.005Z"
   },
   {
    "duration": 39,
    "start_time": "2025-04-26T09:01:05.074Z"
   },
   {
    "duration": 106,
    "start_time": "2025-04-26T09:01:05.114Z"
   },
   {
    "duration": 97,
    "start_time": "2025-04-26T09:01:05.222Z"
   },
   {
    "duration": 326,
    "start_time": "2025-04-26T09:01:05.321Z"
   },
   {
    "duration": 451,
    "start_time": "2025-04-26T09:01:05.649Z"
   },
   {
    "duration": 757,
    "start_time": "2025-04-26T09:01:06.104Z"
   },
   {
    "duration": 7,
    "start_time": "2025-04-26T09:01:06.863Z"
   },
   {
    "duration": 115,
    "start_time": "2025-04-26T09:01:06.872Z"
   },
   {
    "duration": 646,
    "start_time": "2025-04-26T09:01:06.989Z"
   },
   {
    "duration": 170,
    "start_time": "2025-04-26T09:01:07.637Z"
   },
   {
    "duration": 5,
    "start_time": "2025-04-26T09:01:07.809Z"
   },
   {
    "duration": 1622,
    "start_time": "2025-04-26T09:01:07.815Z"
   },
   {
    "duration": 9,
    "start_time": "2025-04-26T09:01:09.439Z"
   },
   {
    "duration": 17,
    "start_time": "2025-04-26T09:01:09.450Z"
   },
   {
    "duration": 129,
    "start_time": "2025-04-26T09:01:09.470Z"
   },
   {
    "duration": 389,
    "start_time": "2025-04-26T09:01:09.601Z"
   },
   {
    "duration": 408,
    "start_time": "2025-04-26T09:01:09.992Z"
   },
   {
    "duration": 418,
    "start_time": "2025-04-26T09:01:10.402Z"
   },
   {
    "duration": 13,
    "start_time": "2025-04-26T09:01:10.822Z"
   },
   {
    "duration": 217,
    "start_time": "2025-04-26T09:01:10.838Z"
   },
   {
    "duration": 15,
    "start_time": "2025-04-26T09:01:11.057Z"
   },
   {
    "duration": 22,
    "start_time": "2025-04-26T09:01:11.074Z"
   },
   {
    "duration": 14,
    "start_time": "2025-04-26T09:01:11.099Z"
   },
   {
    "duration": 301,
    "start_time": "2025-04-26T09:01:11.118Z"
   },
   {
    "duration": 17,
    "start_time": "2025-04-26T09:01:11.422Z"
   },
   {
    "duration": 151,
    "start_time": "2025-04-26T09:01:11.441Z"
   },
   {
    "duration": 15,
    "start_time": "2025-04-26T09:01:11.594Z"
   },
   {
    "duration": 26,
    "start_time": "2025-04-26T09:01:11.611Z"
   },
   {
    "duration": 260,
    "start_time": "2025-04-26T09:01:11.639Z"
   },
   {
    "duration": 7,
    "start_time": "2025-04-26T09:01:11.902Z"
   },
   {
    "duration": 226,
    "start_time": "2025-04-26T09:01:11.911Z"
   },
   {
    "duration": 0,
    "start_time": "2025-04-26T09:01:12.139Z"
   },
   {
    "duration": 0,
    "start_time": "2025-04-26T09:01:12.140Z"
   },
   {
    "duration": 7,
    "start_time": "2025-04-26T09:01:33.643Z"
   },
   {
    "duration": 3,
    "start_time": "2025-04-26T09:01:41.637Z"
   },
   {
    "duration": 4,
    "start_time": "2025-04-26T09:01:43.815Z"
   },
   {
    "duration": 392,
    "start_time": "2025-04-27T09:10:54.422Z"
   },
   {
    "duration": 91,
    "start_time": "2025-04-27T09:10:54.816Z"
   },
   {
    "duration": 17,
    "start_time": "2025-04-27T09:10:54.909Z"
   },
   {
    "duration": 16,
    "start_time": "2025-04-27T09:10:54.928Z"
   },
   {
    "duration": 8,
    "start_time": "2025-04-27T09:10:54.946Z"
   },
   {
    "duration": 10,
    "start_time": "2025-04-27T09:10:54.956Z"
   },
   {
    "duration": 13,
    "start_time": "2025-04-27T09:10:54.967Z"
   },
   {
    "duration": 448,
    "start_time": "2025-04-27T09:10:54.982Z"
   },
   {
    "duration": 476,
    "start_time": "2025-04-27T09:10:55.432Z"
   },
   {
    "duration": 672,
    "start_time": "2025-04-27T09:10:55.911Z"
   },
   {
    "duration": 7,
    "start_time": "2025-04-27T09:10:56.585Z"
   },
   {
    "duration": 25,
    "start_time": "2025-04-27T09:10:56.593Z"
   },
   {
    "duration": 448,
    "start_time": "2025-04-27T09:10:56.619Z"
   },
   {
    "duration": 170,
    "start_time": "2025-04-27T09:10:57.069Z"
   },
   {
    "duration": 6,
    "start_time": "2025-04-27T09:10:57.241Z"
   },
   {
    "duration": 1718,
    "start_time": "2025-04-27T09:10:57.249Z"
   },
   {
    "duration": 8,
    "start_time": "2025-04-27T09:10:58.969Z"
   },
   {
    "duration": 8,
    "start_time": "2025-04-27T09:10:58.979Z"
   },
   {
    "duration": 137,
    "start_time": "2025-04-27T09:10:58.988Z"
   },
   {
    "duration": 312,
    "start_time": "2025-04-27T09:10:59.127Z"
   },
   {
    "duration": 308,
    "start_time": "2025-04-27T09:10:59.441Z"
   },
   {
    "duration": 322,
    "start_time": "2025-04-27T09:10:59.750Z"
   },
   {
    "duration": 11,
    "start_time": "2025-04-27T09:11:00.074Z"
   },
   {
    "duration": 47,
    "start_time": "2025-04-27T09:11:00.086Z"
   },
   {
    "duration": 20,
    "start_time": "2025-04-27T09:11:00.135Z"
   },
   {
    "duration": 24,
    "start_time": "2025-04-27T09:11:00.156Z"
   },
   {
    "duration": 68,
    "start_time": "2025-04-27T09:11:00.182Z"
   },
   {
    "duration": 174,
    "start_time": "2025-04-27T09:11:00.253Z"
   },
   {
    "duration": 13,
    "start_time": "2025-04-27T09:11:00.429Z"
   },
   {
    "duration": 84,
    "start_time": "2025-04-27T09:11:00.444Z"
   },
   {
    "duration": 16,
    "start_time": "2025-04-27T09:11:00.531Z"
   },
   {
    "duration": 74,
    "start_time": "2025-04-27T09:11:00.549Z"
   },
   {
    "duration": 202,
    "start_time": "2025-04-27T09:11:00.625Z"
   },
   {
    "duration": 6,
    "start_time": "2025-04-27T09:11:00.828Z"
   },
   {
    "duration": 22,
    "start_time": "2025-04-27T09:11:00.836Z"
   },
   {
    "duration": 16,
    "start_time": "2025-04-27T09:11:00.859Z"
   },
   {
    "duration": 21,
    "start_time": "2025-04-27T09:11:00.877Z"
   },
   {
    "duration": 13,
    "start_time": "2025-04-27T09:52:03.204Z"
   },
   {
    "duration": 88,
    "start_time": "2025-04-27T09:53:04.418Z"
   },
   {
    "duration": 11,
    "start_time": "2025-04-27T09:53:19.633Z"
   },
   {
    "duration": 429,
    "start_time": "2025-04-27T09:58:06.346Z"
   },
   {
    "duration": 71,
    "start_time": "2025-04-27T09:58:06.777Z"
   },
   {
    "duration": 16,
    "start_time": "2025-04-27T09:58:06.849Z"
   },
   {
    "duration": 6,
    "start_time": "2025-04-27T09:58:06.867Z"
   },
   {
    "duration": 17,
    "start_time": "2025-04-27T09:58:06.874Z"
   },
   {
    "duration": 54,
    "start_time": "2025-04-27T09:58:06.893Z"
   },
   {
    "duration": 12,
    "start_time": "2025-04-27T09:58:06.949Z"
   },
   {
    "duration": 435,
    "start_time": "2025-04-27T09:58:06.962Z"
   },
   {
    "duration": 444,
    "start_time": "2025-04-27T09:58:07.398Z"
   },
   {
    "duration": 697,
    "start_time": "2025-04-27T09:58:07.844Z"
   },
   {
    "duration": 7,
    "start_time": "2025-04-27T09:58:08.543Z"
   },
   {
    "duration": 15,
    "start_time": "2025-04-27T09:58:08.552Z"
   },
   {
    "duration": 443,
    "start_time": "2025-04-27T09:58:08.568Z"
   },
   {
    "duration": 172,
    "start_time": "2025-04-27T09:58:09.013Z"
   },
   {
    "duration": 12,
    "start_time": "2025-04-27T09:58:09.187Z"
   },
   {
    "duration": 1574,
    "start_time": "2025-04-27T09:58:09.200Z"
   },
   {
    "duration": 9,
    "start_time": "2025-04-27T09:58:10.775Z"
   },
   {
    "duration": 12,
    "start_time": "2025-04-27T09:58:10.785Z"
   },
   {
    "duration": 129,
    "start_time": "2025-04-27T09:58:10.799Z"
   },
   {
    "duration": 343,
    "start_time": "2025-04-27T09:58:10.930Z"
   },
   {
    "duration": 355,
    "start_time": "2025-04-27T09:58:11.275Z"
   },
   {
    "duration": 376,
    "start_time": "2025-04-27T09:58:11.631Z"
   },
   {
    "duration": 11,
    "start_time": "2025-04-27T09:58:12.009Z"
   },
   {
    "duration": 24,
    "start_time": "2025-04-27T09:58:12.021Z"
   },
   {
    "duration": 20,
    "start_time": "2025-04-27T09:58:12.047Z"
   },
   {
    "duration": 44,
    "start_time": "2025-04-27T09:58:12.068Z"
   },
   {
    "duration": 15,
    "start_time": "2025-04-27T09:58:12.114Z"
   },
   {
    "duration": 204,
    "start_time": "2025-04-27T09:58:12.132Z"
   },
   {
    "duration": 14,
    "start_time": "2025-04-27T09:58:12.338Z"
   },
   {
    "duration": 156,
    "start_time": "2025-04-27T09:58:12.363Z"
   },
   {
    "duration": 13,
    "start_time": "2025-04-27T09:58:12.521Z"
   },
   {
    "duration": 41,
    "start_time": "2025-04-27T09:58:12.536Z"
   },
   {
    "duration": 232,
    "start_time": "2025-04-27T09:58:12.579Z"
   },
   {
    "duration": 7,
    "start_time": "2025-04-27T09:58:12.813Z"
   },
   {
    "duration": 13,
    "start_time": "2025-04-27T09:58:12.821Z"
   },
   {
    "duration": 5,
    "start_time": "2025-04-27T09:58:12.836Z"
   },
   {
    "duration": 17,
    "start_time": "2025-04-27T09:58:12.842Z"
   }
  ],
  "colab": {
   "provenance": [],
   "toc_visible": true
  },
  "kernelspec": {
   "display_name": "Python 3 (ipykernel)",
   "language": "python",
   "name": "python3"
  },
  "language_info": {
   "codemirror_mode": {
    "name": "ipython",
    "version": 3
   },
   "file_extension": ".py",
   "mimetype": "text/x-python",
   "name": "python",
   "nbconvert_exporter": "python",
   "pygments_lexer": "ipython3",
   "version": "3.9.7"
  },
  "toc": {
   "base_numbering": 1,
   "nav_menu": {},
   "number_sections": true,
   "sideBar": true,
   "skip_h1_title": true,
   "title_cell": "Table of Contents",
   "title_sidebar": "Contents",
   "toc_cell": false,
   "toc_position": {},
   "toc_section_display": true,
   "toc_window_display": false
  }
 },
 "nbformat": 4,
 "nbformat_minor": 5
}
